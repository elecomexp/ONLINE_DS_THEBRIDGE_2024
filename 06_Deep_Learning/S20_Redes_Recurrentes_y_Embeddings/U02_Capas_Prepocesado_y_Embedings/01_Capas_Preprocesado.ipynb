{
  "cells": [
    {
      "cell_type": "markdown",
      "metadata": {
        "id": "rz-Nmm6ukHaA"
      },
      "source": [
        "![imagen](data/foto1.png)"
      ]
    },
    {
      "cell_type": "markdown",
      "metadata": {
        "id": "LORptjAQkHaB"
      },
      "source": [
        "### CAPAS DE PREPROCESADO DE KERAS"
      ]
    },
    {
      "cell_type": "markdown",
      "metadata": {
        "id": "x8LtIhgukHaB"
      },
      "source": [
        "Igual que sklearn tenemos sus \"transformers\" y difernentes funciones para poder procesar los datos, para luego, si queremos incluirlos en un pipeline, en Keras existen \"capas\" de preprocesamiento que podemos incluir en el modelo de forma análoga"
      ]
    },
    {
      "cell_type": "markdown",
      "metadata": {
        "id": "bPtuW9ftkHaB"
      },
      "source": [
        "### El problema y el dataset"
      ]
    },
    {
      "cell_type": "markdown",
      "metadata": {
        "id": "67wZ3fCFkHaC"
      },
      "source": [
        "En este caso nuestro problema será clasificar una serie de fármacos a partir de features numéricas y features de texto, que tendremos que convertir para poder utilizar."
      ]
    },
    {
      "cell_type": "markdown",
      "metadata": {
        "id": "YDOLSlPNkHaC"
      },
      "source": [
        "Vamos a trabajar con un dataset que hemos empleado antes con reviews de medicinas, pero en el que no utilizamos los campos de texto. Sobre él vamos a hacer el preprocesado usando esas capas equivalentes a lo que ya hemos empleado con sklearn. Eso nos permitirá introducir las capas de Embedding y de ahí a revisar un ejemplo de clasificación con texto en lenguaje natural que ahora haremos con modelos DL."
      ]
    },
    {
      "cell_type": "markdown",
      "metadata": {
        "id": "x9GCwcI_kHaC"
      },
      "source": [
        "Primero, las importaciones y cargar el dataset, y echar un \"vistazo\":"
      ]
    },
    {
      "cell_type": "code",
      "execution_count": 1,
      "metadata": {
        "id": "wvfwwsYCkHaC"
      },
      "outputs": [],
      "source": [
        "import numpy as np\n",
        "import pandas as pd\n",
        "import random as rm\n",
        "import re\n",
        "import tensorflow as tf\n",
        "\n",
        "from sklearn.metrics import classification_report\n",
        "from sklearn.model_selection import train_test_split\n"
      ]
    },
    {
      "cell_type": "code",
      "execution_count": 2,
      "metadata": {
        "colab": {
          "base_uri": "https://localhost:8080/",
          "height": 293
        },
        "id": "9-_Ypv0QkHaD",
        "outputId": "0bbe290a-f00f-4d43-bfcb-c0dee87bb8be"
      },
      "outputs": [
        {
          "data": {
            "application/vnd.google.colaboratory.intrinsic+json": {
              "summary": "{\n  \"name\": \"df\",\n  \"rows\": 3107,\n  \"fields\": [\n    {\n      \"column\": \"urlDrugName\",\n      \"properties\": {\n        \"dtype\": \"category\",\n        \"num_unique_values\": 502,\n        \"samples\": [\n          \"avapro\",\n          \"lipitor\",\n          \"noroxin\"\n        ],\n        \"semantic_type\": \"\",\n        \"description\": \"\"\n      }\n    },\n    {\n      \"column\": \"rating\",\n      \"properties\": {\n        \"dtype\": \"number\",\n        \"std\": 2,\n        \"min\": 1,\n        \"max\": 10,\n        \"num_unique_values\": 10,\n        \"samples\": [\n          6,\n          1,\n          9\n        ],\n        \"semantic_type\": \"\",\n        \"description\": \"\"\n      }\n    },\n    {\n      \"column\": \"effectiveness\",\n      \"properties\": {\n        \"dtype\": \"category\",\n        \"num_unique_values\": 5,\n        \"samples\": [\n          \"Marginally Effective\",\n          \"Moderately Effective\",\n          \"Ineffective\"\n        ],\n        \"semantic_type\": \"\",\n        \"description\": \"\"\n      }\n    },\n    {\n      \"column\": \"sideEffects\",\n      \"properties\": {\n        \"dtype\": \"category\",\n        \"num_unique_values\": 5,\n        \"samples\": [\n          \"Severe Side Effects\",\n          \"Moderate Side Effects\",\n          \"No Side Effects\"\n        ],\n        \"semantic_type\": \"\",\n        \"description\": \"\"\n      }\n    },\n    {\n      \"column\": \"condition\",\n      \"properties\": {\n        \"dtype\": \"category\",\n        \"num_unique_values\": 1426,\n        \"samples\": [\n          \"rosacea\",\n          \"allergy to trauma to the face.\",\n          \"asthma - repeated chest infections\"\n        ],\n        \"semantic_type\": \"\",\n        \"description\": \"\"\n      }\n    },\n    {\n      \"column\": \"benefitsReview\",\n      \"properties\": {\n        \"dtype\": \"string\",\n        \"num_unique_values\": 3031,\n        \"samples\": [\n          \"Zovirax is a highly effective treatment of cold sores.  I take it in significantly higher dosages than the package indicates and 70% of the time, the cold sore diseappear within a day.\",\n          \"resolved depression within one week. I was told it did not work that fast, but I know it did. It is\",\n          \"Candida rashes did not disappear. I was doing an anti-candida diet at the same time. i.e cutting out sugars, refined carbs etc. and taking oregano oil, probiotics, pau d'arco tea, caprylic acid. Cream did not work any better than ti tree oil.\"\n        ],\n        \"semantic_type\": \"\",\n        \"description\": \"\"\n      }\n    },\n    {\n      \"column\": \"sideEffectsReview\",\n      \"properties\": {\n        \"dtype\": \"string\",\n        \"num_unique_values\": 2813,\n        \"samples\": [\n          \"Positive side effects: see above\",\n          \"The main side effect is dizziness.  For example just sitting and then the room begins to spin.  This only began to happen when I started the medication.  Also I would not advise stopping the medication all of a sudden.  When this happened I began to have terrible headaches, became very dizzy and moody even more so than when I began the medication.\",\n          \"Severe cramping, headaches, incredible nausea, muscle cramps, vomiting blood (not once but on 2 occasions due to doctor's orders).  I now am facing something wrong with my digestive tract and no doctor has been able to figure out what is wrong.  Since this is the area where the medication was injected, and only there, I believe that the byetta is the perfect suspect.  Now, if I could only find a doctor that will listen to me.  The count is 5 and still increasing.  Recently, I lost 4 pounds in 3 days!!!!  This is not normal!\"\n        ],\n        \"semantic_type\": \"\",\n        \"description\": \"\"\n      }\n    },\n    {\n      \"column\": \"commentsReview\",\n      \"properties\": {\n        \"dtype\": \"string\",\n        \"num_unique_values\": 3046,\n        \"samples\": [\n          \"Treatment entails applying one patch per week.\",\n          \"Couldn't focus ,stay on task, due to this  caused lack of motivation. Tried Ritalin, and others . They did not work. Went on 1 yr ago. Maintaining same daily dosage.\",\n          \"I spent years shuttling between SSRI's, which I know know were the key element in tipping me into mania several times. After the psychiatrist determined the problem was BiPolar 2, the first treatment she considered was Lamictal. I did get some headaches at first, and unfortunately, at some point the effects were negated by the addition of Adderal. Once the Adderal was stopped, it was all good again. I would recommend this drug to anyone, with the proviso that if the SJS rash shows up, you must stop it immediately. Despite that, I really feel it is worth trying.\"\n        ],\n        \"semantic_type\": \"\",\n        \"description\": \"\"\n      }\n    },\n    {\n      \"column\": \"Sales\",\n      \"properties\": {\n        \"dtype\": \"number\",\n        \"std\": 260653,\n        \"min\": 55,\n        \"max\": 2100431,\n        \"num_unique_values\": 3106,\n        \"samples\": [\n          712369,\n          696811,\n          1014117\n        ],\n        \"semantic_type\": \"\",\n        \"description\": \"\"\n      }\n    },\n    {\n      \"column\": \"Production\",\n      \"properties\": {\n        \"dtype\": \"number\",\n        \"std\": 267.6719266144859,\n        \"min\": 20.0,\n        \"max\": 2300.0,\n        \"num_unique_values\": 983,\n        \"samples\": [\n          950.0,\n          850.0,\n          495.0\n        ],\n        \"semantic_type\": \"\",\n        \"description\": \"\"\n      }\n    }\n  ]\n}",
              "type": "dataframe",
              "variable_name": "df"
            },
            "text/html": [
              "\n",
              "  <div id=\"df-ef46e086-d742-498b-b9ce-8fba4698ca36\" class=\"colab-df-container\">\n",
              "    <div>\n",
              "<style scoped>\n",
              "    .dataframe tbody tr th:only-of-type {\n",
              "        vertical-align: middle;\n",
              "    }\n",
              "\n",
              "    .dataframe tbody tr th {\n",
              "        vertical-align: top;\n",
              "    }\n",
              "\n",
              "    .dataframe thead th {\n",
              "        text-align: right;\n",
              "    }\n",
              "</style>\n",
              "<table border=\"1\" class=\"dataframe\">\n",
              "  <thead>\n",
              "    <tr style=\"text-align: right;\">\n",
              "      <th></th>\n",
              "      <th>urlDrugName</th>\n",
              "      <th>rating</th>\n",
              "      <th>effectiveness</th>\n",
              "      <th>sideEffects</th>\n",
              "      <th>condition</th>\n",
              "      <th>benefitsReview</th>\n",
              "      <th>sideEffectsReview</th>\n",
              "      <th>commentsReview</th>\n",
              "      <th>Sales</th>\n",
              "      <th>Production</th>\n",
              "    </tr>\n",
              "  </thead>\n",
              "  <tbody>\n",
              "    <tr>\n",
              "      <th>0</th>\n",
              "      <td>enalapril</td>\n",
              "      <td>4</td>\n",
              "      <td>Highly Effective</td>\n",
              "      <td>Mild Side Effects</td>\n",
              "      <td>management of congestive heart failure</td>\n",
              "      <td>slowed the progression of left ventricular dys...</td>\n",
              "      <td>cough, hypotension , proteinuria, impotence , ...</td>\n",
              "      <td>monitor blood pressure , weight and asses for ...</td>\n",
              "      <td>318440</td>\n",
              "      <td>398.0</td>\n",
              "    </tr>\n",
              "    <tr>\n",
              "      <th>1</th>\n",
              "      <td>ortho-tri-cyclen</td>\n",
              "      <td>1</td>\n",
              "      <td>Highly Effective</td>\n",
              "      <td>Severe Side Effects</td>\n",
              "      <td>birth prevention</td>\n",
              "      <td>Although this type of birth control has more c...</td>\n",
              "      <td>Heavy Cycle, Cramps, Hot Flashes, Fatigue, Lon...</td>\n",
              "      <td>I Hate This Birth Control, I Would Not Suggest...</td>\n",
              "      <td>888949</td>\n",
              "      <td>909.0</td>\n",
              "    </tr>\n",
              "    <tr>\n",
              "      <th>2</th>\n",
              "      <td>ponstel</td>\n",
              "      <td>10</td>\n",
              "      <td>Highly Effective</td>\n",
              "      <td>No Side Effects</td>\n",
              "      <td>menstrual cramps</td>\n",
              "      <td>I was used to having cramps so badly that they...</td>\n",
              "      <td>Heavier bleeding and clotting than normal.</td>\n",
              "      <td>I took 2 pills at the onset of my menstrual cr...</td>\n",
              "      <td>264077</td>\n",
              "      <td>465.0</td>\n",
              "    </tr>\n",
              "    <tr>\n",
              "      <th>3</th>\n",
              "      <td>prilosec</td>\n",
              "      <td>3</td>\n",
              "      <td>Marginally Effective</td>\n",
              "      <td>Mild Side Effects</td>\n",
              "      <td>acid reflux</td>\n",
              "      <td>The acid reflux went away for a few months aft...</td>\n",
              "      <td>Constipation, dry mouth and some mild dizzines...</td>\n",
              "      <td>I was given Prilosec prescription at a dose of...</td>\n",
              "      <td>542110</td>\n",
              "      <td>602.0</td>\n",
              "    </tr>\n",
              "    <tr>\n",
              "      <th>4</th>\n",
              "      <td>lyrica</td>\n",
              "      <td>2</td>\n",
              "      <td>Marginally Effective</td>\n",
              "      <td>Severe Side Effects</td>\n",
              "      <td>fibromyalgia</td>\n",
              "      <td>I think that the Lyrica was starting to help w...</td>\n",
              "      <td>I felt extremely drugged and dopey.  Could not...</td>\n",
              "      <td>See above</td>\n",
              "      <td>83761</td>\n",
              "      <td>124.0</td>\n",
              "    </tr>\n",
              "  </tbody>\n",
              "</table>\n",
              "</div>\n",
              "    <div class=\"colab-df-buttons\">\n",
              "\n",
              "  <div class=\"colab-df-container\">\n",
              "    <button class=\"colab-df-convert\" onclick=\"convertToInteractive('df-ef46e086-d742-498b-b9ce-8fba4698ca36')\"\n",
              "            title=\"Convert this dataframe to an interactive table.\"\n",
              "            style=\"display:none;\">\n",
              "\n",
              "  <svg xmlns=\"http://www.w3.org/2000/svg\" height=\"24px\" viewBox=\"0 -960 960 960\">\n",
              "    <path d=\"M120-120v-720h720v720H120Zm60-500h600v-160H180v160Zm220 220h160v-160H400v160Zm0 220h160v-160H400v160ZM180-400h160v-160H180v160Zm440 0h160v-160H620v160ZM180-180h160v-160H180v160Zm440 0h160v-160H620v160Z\"/>\n",
              "  </svg>\n",
              "    </button>\n",
              "\n",
              "  <style>\n",
              "    .colab-df-container {\n",
              "      display:flex;\n",
              "      gap: 12px;\n",
              "    }\n",
              "\n",
              "    .colab-df-convert {\n",
              "      background-color: #E8F0FE;\n",
              "      border: none;\n",
              "      border-radius: 50%;\n",
              "      cursor: pointer;\n",
              "      display: none;\n",
              "      fill: #1967D2;\n",
              "      height: 32px;\n",
              "      padding: 0 0 0 0;\n",
              "      width: 32px;\n",
              "    }\n",
              "\n",
              "    .colab-df-convert:hover {\n",
              "      background-color: #E2EBFA;\n",
              "      box-shadow: 0px 1px 2px rgba(60, 64, 67, 0.3), 0px 1px 3px 1px rgba(60, 64, 67, 0.15);\n",
              "      fill: #174EA6;\n",
              "    }\n",
              "\n",
              "    .colab-df-buttons div {\n",
              "      margin-bottom: 4px;\n",
              "    }\n",
              "\n",
              "    [theme=dark] .colab-df-convert {\n",
              "      background-color: #3B4455;\n",
              "      fill: #D2E3FC;\n",
              "    }\n",
              "\n",
              "    [theme=dark] .colab-df-convert:hover {\n",
              "      background-color: #434B5C;\n",
              "      box-shadow: 0px 1px 3px 1px rgba(0, 0, 0, 0.15);\n",
              "      filter: drop-shadow(0px 1px 2px rgba(0, 0, 0, 0.3));\n",
              "      fill: #FFFFFF;\n",
              "    }\n",
              "  </style>\n",
              "\n",
              "    <script>\n",
              "      const buttonEl =\n",
              "        document.querySelector('#df-ef46e086-d742-498b-b9ce-8fba4698ca36 button.colab-df-convert');\n",
              "      buttonEl.style.display =\n",
              "        google.colab.kernel.accessAllowed ? 'block' : 'none';\n",
              "\n",
              "      async function convertToInteractive(key) {\n",
              "        const element = document.querySelector('#df-ef46e086-d742-498b-b9ce-8fba4698ca36');\n",
              "        const dataTable =\n",
              "          await google.colab.kernel.invokeFunction('convertToInteractive',\n",
              "                                                    [key], {});\n",
              "        if (!dataTable) return;\n",
              "\n",
              "        const docLinkHtml = 'Like what you see? Visit the ' +\n",
              "          '<a target=\"_blank\" href=https://colab.research.google.com/notebooks/data_table.ipynb>data table notebook</a>'\n",
              "          + ' to learn more about interactive tables.';\n",
              "        element.innerHTML = '';\n",
              "        dataTable['output_type'] = 'display_data';\n",
              "        await google.colab.output.renderOutput(dataTable, element);\n",
              "        const docLink = document.createElement('div');\n",
              "        docLink.innerHTML = docLinkHtml;\n",
              "        element.appendChild(docLink);\n",
              "      }\n",
              "    </script>\n",
              "  </div>\n",
              "\n",
              "\n",
              "<div id=\"df-3c02e749-6ac1-4583-9a1e-22cdf4d8bebc\">\n",
              "  <button class=\"colab-df-quickchart\" onclick=\"quickchart('df-3c02e749-6ac1-4583-9a1e-22cdf4d8bebc')\"\n",
              "            title=\"Suggest charts\"\n",
              "            style=\"display:none;\">\n",
              "\n",
              "<svg xmlns=\"http://www.w3.org/2000/svg\" height=\"24px\"viewBox=\"0 0 24 24\"\n",
              "     width=\"24px\">\n",
              "    <g>\n",
              "        <path d=\"M19 3H5c-1.1 0-2 .9-2 2v14c0 1.1.9 2 2 2h14c1.1 0 2-.9 2-2V5c0-1.1-.9-2-2-2zM9 17H7v-7h2v7zm4 0h-2V7h2v10zm4 0h-2v-4h2v4z\"/>\n",
              "    </g>\n",
              "</svg>\n",
              "  </button>\n",
              "\n",
              "<style>\n",
              "  .colab-df-quickchart {\n",
              "      --bg-color: #E8F0FE;\n",
              "      --fill-color: #1967D2;\n",
              "      --hover-bg-color: #E2EBFA;\n",
              "      --hover-fill-color: #174EA6;\n",
              "      --disabled-fill-color: #AAA;\n",
              "      --disabled-bg-color: #DDD;\n",
              "  }\n",
              "\n",
              "  [theme=dark] .colab-df-quickchart {\n",
              "      --bg-color: #3B4455;\n",
              "      --fill-color: #D2E3FC;\n",
              "      --hover-bg-color: #434B5C;\n",
              "      --hover-fill-color: #FFFFFF;\n",
              "      --disabled-bg-color: #3B4455;\n",
              "      --disabled-fill-color: #666;\n",
              "  }\n",
              "\n",
              "  .colab-df-quickchart {\n",
              "    background-color: var(--bg-color);\n",
              "    border: none;\n",
              "    border-radius: 50%;\n",
              "    cursor: pointer;\n",
              "    display: none;\n",
              "    fill: var(--fill-color);\n",
              "    height: 32px;\n",
              "    padding: 0;\n",
              "    width: 32px;\n",
              "  }\n",
              "\n",
              "  .colab-df-quickchart:hover {\n",
              "    background-color: var(--hover-bg-color);\n",
              "    box-shadow: 0 1px 2px rgba(60, 64, 67, 0.3), 0 1px 3px 1px rgba(60, 64, 67, 0.15);\n",
              "    fill: var(--button-hover-fill-color);\n",
              "  }\n",
              "\n",
              "  .colab-df-quickchart-complete:disabled,\n",
              "  .colab-df-quickchart-complete:disabled:hover {\n",
              "    background-color: var(--disabled-bg-color);\n",
              "    fill: var(--disabled-fill-color);\n",
              "    box-shadow: none;\n",
              "  }\n",
              "\n",
              "  .colab-df-spinner {\n",
              "    border: 2px solid var(--fill-color);\n",
              "    border-color: transparent;\n",
              "    border-bottom-color: var(--fill-color);\n",
              "    animation:\n",
              "      spin 1s steps(1) infinite;\n",
              "  }\n",
              "\n",
              "  @keyframes spin {\n",
              "    0% {\n",
              "      border-color: transparent;\n",
              "      border-bottom-color: var(--fill-color);\n",
              "      border-left-color: var(--fill-color);\n",
              "    }\n",
              "    20% {\n",
              "      border-color: transparent;\n",
              "      border-left-color: var(--fill-color);\n",
              "      border-top-color: var(--fill-color);\n",
              "    }\n",
              "    30% {\n",
              "      border-color: transparent;\n",
              "      border-left-color: var(--fill-color);\n",
              "      border-top-color: var(--fill-color);\n",
              "      border-right-color: var(--fill-color);\n",
              "    }\n",
              "    40% {\n",
              "      border-color: transparent;\n",
              "      border-right-color: var(--fill-color);\n",
              "      border-top-color: var(--fill-color);\n",
              "    }\n",
              "    60% {\n",
              "      border-color: transparent;\n",
              "      border-right-color: var(--fill-color);\n",
              "    }\n",
              "    80% {\n",
              "      border-color: transparent;\n",
              "      border-right-color: var(--fill-color);\n",
              "      border-bottom-color: var(--fill-color);\n",
              "    }\n",
              "    90% {\n",
              "      border-color: transparent;\n",
              "      border-bottom-color: var(--fill-color);\n",
              "    }\n",
              "  }\n",
              "</style>\n",
              "\n",
              "  <script>\n",
              "    async function quickchart(key) {\n",
              "      const quickchartButtonEl =\n",
              "        document.querySelector('#' + key + ' button');\n",
              "      quickchartButtonEl.disabled = true;  // To prevent multiple clicks.\n",
              "      quickchartButtonEl.classList.add('colab-df-spinner');\n",
              "      try {\n",
              "        const charts = await google.colab.kernel.invokeFunction(\n",
              "            'suggestCharts', [key], {});\n",
              "      } catch (error) {\n",
              "        console.error('Error during call to suggestCharts:', error);\n",
              "      }\n",
              "      quickchartButtonEl.classList.remove('colab-df-spinner');\n",
              "      quickchartButtonEl.classList.add('colab-df-quickchart-complete');\n",
              "    }\n",
              "    (() => {\n",
              "      let quickchartButtonEl =\n",
              "        document.querySelector('#df-3c02e749-6ac1-4583-9a1e-22cdf4d8bebc button');\n",
              "      quickchartButtonEl.style.display =\n",
              "        google.colab.kernel.accessAllowed ? 'block' : 'none';\n",
              "    })();\n",
              "  </script>\n",
              "</div>\n",
              "\n",
              "    </div>\n",
              "  </div>\n"
            ],
            "text/plain": [
              "        urlDrugName  rating         effectiveness          sideEffects  \\\n",
              "0         enalapril       4      Highly Effective    Mild Side Effects   \n",
              "1  ortho-tri-cyclen       1      Highly Effective  Severe Side Effects   \n",
              "2           ponstel      10      Highly Effective      No Side Effects   \n",
              "3          prilosec       3  Marginally Effective    Mild Side Effects   \n",
              "4            lyrica       2  Marginally Effective  Severe Side Effects   \n",
              "\n",
              "                                condition  \\\n",
              "0  management of congestive heart failure   \n",
              "1                        birth prevention   \n",
              "2                        menstrual cramps   \n",
              "3                             acid reflux   \n",
              "4                            fibromyalgia   \n",
              "\n",
              "                                      benefitsReview  \\\n",
              "0  slowed the progression of left ventricular dys...   \n",
              "1  Although this type of birth control has more c...   \n",
              "2  I was used to having cramps so badly that they...   \n",
              "3  The acid reflux went away for a few months aft...   \n",
              "4  I think that the Lyrica was starting to help w...   \n",
              "\n",
              "                                   sideEffectsReview  \\\n",
              "0  cough, hypotension , proteinuria, impotence , ...   \n",
              "1  Heavy Cycle, Cramps, Hot Flashes, Fatigue, Lon...   \n",
              "2         Heavier bleeding and clotting than normal.   \n",
              "3  Constipation, dry mouth and some mild dizzines...   \n",
              "4  I felt extremely drugged and dopey.  Could not...   \n",
              "\n",
              "                                      commentsReview   Sales  Production  \n",
              "0  monitor blood pressure , weight and asses for ...  318440       398.0  \n",
              "1  I Hate This Birth Control, I Would Not Suggest...  888949       909.0  \n",
              "2  I took 2 pills at the onset of my menstrual cr...  264077       465.0  \n",
              "3  I was given Prilosec prescription at a dose of...  542110       602.0  \n",
              "4                                          See above   83761       124.0  "
            ]
          },
          "execution_count": 2,
          "metadata": {},
          "output_type": "execute_result"
        }
      ],
      "source": [
        "df = pd.read_csv(\"./data/pharma_full.csv\")\n",
        "df.head()"
      ]
    },
    {
      "cell_type": "code",
      "execution_count": 3,
      "metadata": {
        "colab": {
          "base_uri": "https://localhost:8080/"
        },
        "id": "tsgKnoXSkHaD",
        "outputId": "1c50e0ef-4d28-4ded-8e09-d131e0b881b9",
        "scrolled": true
      },
      "outputs": [
        {
          "name": "stdout",
          "output_type": "stream",
          "text": [
            "<class 'pandas.core.frame.DataFrame'>\n",
            "RangeIndex: 3107 entries, 0 to 3106\n",
            "Data columns (total 10 columns):\n",
            " #   Column             Non-Null Count  Dtype  \n",
            "---  ------             --------------  -----  \n",
            " 0   urlDrugName        3107 non-null   object \n",
            " 1   rating             3107 non-null   int64  \n",
            " 2   effectiveness      3107 non-null   object \n",
            " 3   sideEffects        3107 non-null   object \n",
            " 4   condition          3106 non-null   object \n",
            " 5   benefitsReview     3089 non-null   object \n",
            " 6   sideEffectsReview  3032 non-null   object \n",
            " 7   commentsReview     3095 non-null   object \n",
            " 8   Sales              3107 non-null   int64  \n",
            " 9   Production         3107 non-null   float64\n",
            "dtypes: float64(1), int64(2), object(7)\n",
            "memory usage: 242.9+ KB\n"
          ]
        }
      ],
      "source": [
        "df.info()"
      ]
    },
    {
      "cell_type": "markdown",
      "metadata": {
        "id": "si_TBOULkHaE"
      },
      "source": [
        "Las prepararemos un poco para que podamos emplear todos los tipos de capas"
      ]
    },
    {
      "cell_type": "markdown",
      "metadata": {
        "id": "dUMZPgBVkHaE"
      },
      "source": [
        "Los missings seguiremos tratándolos, por ahora, a parte"
      ]
    },
    {
      "cell_type": "code",
      "execution_count": 4,
      "metadata": {
        "id": "E-Zb9NUPkHaE"
      },
      "outputs": [],
      "source": [
        "df_clean = df.fillna(\"No Value\")"
      ]
    },
    {
      "cell_type": "code",
      "execution_count": 5,
      "metadata": {
        "colab": {
          "base_uri": "https://localhost:8080/"
        },
        "id": "p3hv4I18kHaE",
        "outputId": "749739e8-af52-4bad-da66-91d4048a65be",
        "scrolled": true
      },
      "outputs": [
        {
          "name": "stdout",
          "output_type": "stream",
          "text": [
            "<class 'pandas.core.frame.DataFrame'>\n",
            "RangeIndex: 3107 entries, 0 to 3106\n",
            "Data columns (total 10 columns):\n",
            " #   Column             Non-Null Count  Dtype  \n",
            "---  ------             --------------  -----  \n",
            " 0   urlDrugName        3107 non-null   object \n",
            " 1   rating             3107 non-null   int64  \n",
            " 2   effectiveness      3107 non-null   object \n",
            " 3   sideEffects        3107 non-null   object \n",
            " 4   condition          3107 non-null   object \n",
            " 5   benefitsReview     3107 non-null   object \n",
            " 6   sideEffectsReview  3107 non-null   object \n",
            " 7   commentsReview     3107 non-null   object \n",
            " 8   Sales              3107 non-null   int64  \n",
            " 9   Production         3107 non-null   float64\n",
            "dtypes: float64(1), int64(2), object(7)\n",
            "memory usage: 242.9+ KB\n"
          ]
        }
      ],
      "source": [
        "df_clean.info()"
      ]
    },
    {
      "cell_type": "markdown",
      "metadata": {
        "id": "wEEsjCcHkHaE"
      },
      "source": [
        "Claramente el target es \"rating\""
      ]
    },
    {
      "cell_type": "code",
      "execution_count": 6,
      "metadata": {
        "id": "RuuoKOU_kHaE"
      },
      "outputs": [],
      "source": [
        "target = \"rating\""
      ]
    },
    {
      "cell_type": "markdown",
      "metadata": {
        "id": "n0tqkfIdkHaE"
      },
      "source": [
        "### Split train/test"
      ]
    },
    {
      "cell_type": "code",
      "execution_count": 7,
      "metadata": {
        "id": "p8o5CDwKkHaF"
      },
      "outputs": [],
      "source": [
        "train_set, test_set  = train_test_split(df_clean, test_size= 0.2, random_state= 42)"
      ]
    },
    {
      "cell_type": "code",
      "execution_count": 8,
      "metadata": {
        "colab": {
          "base_uri": "https://localhost:8080/"
        },
        "id": "OY9DTaM5kHaF",
        "outputId": "baa92a4b-ae67-419d-c159-fb97bf1f5ab8"
      },
      "outputs": [
        {
          "data": {
            "text/plain": [
              "(2485, 10)"
            ]
          },
          "execution_count": 8,
          "metadata": {},
          "output_type": "execute_result"
        }
      ],
      "source": [
        "train_set.shape"
      ]
    },
    {
      "cell_type": "code",
      "execution_count": 9,
      "metadata": {
        "colab": {
          "base_uri": "https://localhost:8080/"
        },
        "id": "KsAGFYpdkHaF",
        "outputId": "a8e62ba2-116d-410c-b9e9-e2d4f675d536"
      },
      "outputs": [
        {
          "data": {
            "text/plain": [
              "(622, 10)"
            ]
          },
          "execution_count": 9,
          "metadata": {},
          "output_type": "execute_result"
        }
      ],
      "source": [
        "test_set.shape"
      ]
    },
    {
      "cell_type": "markdown",
      "metadata": {
        "id": "YOFjJ9SqkHaF"
      },
      "source": [
        "### MiniEda"
      ]
    },
    {
      "cell_type": "markdown",
      "metadata": {
        "id": "KOvj_bKQkHaF"
      },
      "source": [
        "Del miniEDA sólo vamos a hacer el análisis del target, nos vamos a quedar y a tratar todas las variables como features."
      ]
    },
    {
      "cell_type": "code",
      "execution_count": 10,
      "metadata": {
        "colab": {
          "base_uri": "https://localhost:8080/",
          "height": 429
        },
        "id": "wyFUtuJwkHaF",
        "outputId": "b7a15769-fd83-4c7f-a3c2-421be40cda08"
      },
      "outputs": [
        {
          "data": {
            "text/html": [
              "<div>\n",
              "<style scoped>\n",
              "    .dataframe tbody tr th:only-of-type {\n",
              "        vertical-align: middle;\n",
              "    }\n",
              "\n",
              "    .dataframe tbody tr th {\n",
              "        vertical-align: top;\n",
              "    }\n",
              "\n",
              "    .dataframe thead th {\n",
              "        text-align: right;\n",
              "    }\n",
              "</style>\n",
              "<table border=\"1\" class=\"dataframe\">\n",
              "  <thead>\n",
              "    <tr style=\"text-align: right;\">\n",
              "      <th></th>\n",
              "      <th>count</th>\n",
              "    </tr>\n",
              "    <tr>\n",
              "      <th>rating</th>\n",
              "      <th></th>\n",
              "    </tr>\n",
              "  </thead>\n",
              "  <tbody>\n",
              "    <tr>\n",
              "      <th>10</th>\n",
              "      <td>591</td>\n",
              "    </tr>\n",
              "    <tr>\n",
              "      <th>8</th>\n",
              "      <td>464</td>\n",
              "    </tr>\n",
              "    <tr>\n",
              "      <th>9</th>\n",
              "      <td>370</td>\n",
              "    </tr>\n",
              "    <tr>\n",
              "      <th>7</th>\n",
              "      <td>267</td>\n",
              "    </tr>\n",
              "    <tr>\n",
              "      <th>1</th>\n",
              "      <td>243</td>\n",
              "    </tr>\n",
              "    <tr>\n",
              "      <th>5</th>\n",
              "      <td>132</td>\n",
              "    </tr>\n",
              "    <tr>\n",
              "      <th>3</th>\n",
              "      <td>123</td>\n",
              "    </tr>\n",
              "    <tr>\n",
              "      <th>6</th>\n",
              "      <td>119</td>\n",
              "    </tr>\n",
              "    <tr>\n",
              "      <th>4</th>\n",
              "      <td>89</td>\n",
              "    </tr>\n",
              "    <tr>\n",
              "      <th>2</th>\n",
              "      <td>87</td>\n",
              "    </tr>\n",
              "  </tbody>\n",
              "</table>\n",
              "</div><br><label><b>dtype:</b> int64</label>"
            ],
            "text/plain": [
              "rating\n",
              "10    591\n",
              "8     464\n",
              "9     370\n",
              "7     267\n",
              "1     243\n",
              "5     132\n",
              "3     123\n",
              "6     119\n",
              "4      89\n",
              "2      87\n",
              "Name: count, dtype: int64"
            ]
          },
          "execution_count": 10,
          "metadata": {},
          "output_type": "execute_result"
        }
      ],
      "source": [
        "train_set[target].value_counts()"
      ]
    },
    {
      "cell_type": "markdown",
      "metadata": {
        "id": "qCJ_jrkAkHaG"
      },
      "source": [
        "Es un dataset desbalanceado en el target. Luego veremos como equilibrarlo dentro de lo posible sin aplicar SMOTE ni undersampling (con campos con texto además tiene aún menos utilidad, en general)"
      ]
    },
    {
      "cell_type": "markdown",
      "metadata": {
        "id": "anmGtRKIkHaG"
      },
      "source": [
        "Como ya sabrás a keras le gusta que las clases empiecen en cero así que lo tratamos rápido:"
      ]
    },
    {
      "cell_type": "code",
      "execution_count": 11,
      "metadata": {
        "id": "v1OrkdVwkHaG"
      },
      "outputs": [],
      "source": [
        "train_set[target] = train_set[target]-1\n",
        "test_set[target] = test_set[target] - 1"
      ]
    },
    {
      "cell_type": "markdown",
      "metadata": {
        "id": "SenH60TkkHaG"
      },
      "source": [
        "### Tratamiento de Features"
      ]
    },
    {
      "cell_type": "markdown",
      "metadata": {
        "id": "P6ZuopQAkHaG"
      },
      "source": [
        "Vamos a hacer lo siguiente:  \n",
        "1- Crear features nuevas (conteos de palabras por campo de texto libre)  \n",
        "2- Escalado de las features numéricas  \n",
        "3- Conversión de las categóricas  \n",
        "4- Vectorización de las features de texto  "
      ]
    },
    {
      "cell_type": "markdown",
      "metadata": {
        "id": "d9E_iacPkHaG"
      },
      "source": [
        "#### #1 Creación de features nuevas"
      ]
    },
    {
      "cell_type": "markdown",
      "metadata": {
        "id": "vvioGoxjkHaH"
      },
      "source": [
        "Existen varios campos con texto libre y en breve los vectorizaremos pero antes puede ser interesante crear una serie de features nuevas que cuenten el número aproximado de palabras que hay en cada uno de esos campos. Estos campos son básicamente lo que tienen en su nombre la palabra \"Review\""
      ]
    },
    {
      "cell_type": "code",
      "execution_count": 12,
      "metadata": {
        "id": "7swwlzvZkHaH"
      },
      "outputs": [],
      "source": [
        "for col in [col for col in train_set.columns if \"Review\" in col]:\n",
        "    train_set[col + \"_wc\"] = train_set[col].apply(lambda value: len(value.split()))\n",
        "    test_set[col + \"_wc\"] = test_set[col].apply(lambda value: len(value.split()))\n"
      ]
    },
    {
      "cell_type": "code",
      "execution_count": 13,
      "metadata": {
        "colab": {
          "base_uri": "https://localhost:8080/",
          "height": 929
        },
        "id": "SBpgkrrWkHaH",
        "outputId": "2c7af2da-7e67-4725-de0e-534e0102ffec"
      },
      "outputs": [
        {
          "data": {
            "application/vnd.google.colaboratory.intrinsic+json": {
              "summary": "{\n  \"name\": \"train_set\",\n  \"rows\": 2485,\n  \"fields\": [\n    {\n      \"column\": \"urlDrugName\",\n      \"properties\": {\n        \"dtype\": \"category\",\n        \"num_unique_values\": 463,\n        \"samples\": [\n          \"baciim\",\n          \"tequin\",\n          \"oxycodone\"\n        ],\n        \"semantic_type\": \"\",\n        \"description\": \"\"\n      }\n    },\n    {\n      \"column\": \"rating\",\n      \"properties\": {\n        \"dtype\": \"number\",\n        \"std\": 2,\n        \"min\": 0,\n        \"max\": 9,\n        \"num_unique_values\": 10,\n        \"samples\": [\n          4,\n          7,\n          1\n        ],\n        \"semantic_type\": \"\",\n        \"description\": \"\"\n      }\n    },\n    {\n      \"column\": \"effectiveness\",\n      \"properties\": {\n        \"dtype\": \"category\",\n        \"num_unique_values\": 5,\n        \"samples\": [\n          \"Moderately Effective\",\n          \"Marginally Effective\",\n          \"Considerably Effective\"\n        ],\n        \"semantic_type\": \"\",\n        \"description\": \"\"\n      }\n    },\n    {\n      \"column\": \"sideEffects\",\n      \"properties\": {\n        \"dtype\": \"category\",\n        \"num_unique_values\": 5,\n        \"samples\": [\n          \"Mild Side Effects\",\n          \"Extremely Severe Side Effects\",\n          \"Severe Side Effects\"\n        ],\n        \"semantic_type\": \"\",\n        \"description\": \"\"\n      }\n    },\n    {\n      \"column\": \"condition\",\n      \"properties\": {\n        \"dtype\": \"category\",\n        \"num_unique_values\": 1203,\n        \"samples\": [\n          \"oral infection\",\n          \"sinus allergy\",\n          \"inflammation of throat during bacteria bronchitis\"\n        ],\n        \"semantic_type\": \"\",\n        \"description\": \"\"\n      }\n    },\n    {\n      \"column\": \"benefitsReview\",\n      \"properties\": {\n        \"dtype\": \"string\",\n        \"num_unique_values\": 2433,\n        \"samples\": [\n          \"It helped with depression and suicidal thoughts.  I was able to sleep better and deal with anxiety and stress better.\",\n          \"The Differin did seem to help clear up the occasional blemishes I would get. made a slight improvement in the size of blackheads on my nose and cheeks but didn't aleviate them entirely.\",\n          \"Having taken a four other drugs for depression over the last 15 years (all of the SSRI category) or so, and I can say without doubt that this drug was amazing as removing my depression, as well as substantially reducing remaining anxiety left over.\"\n        ],\n        \"semantic_type\": \"\",\n        \"description\": \"\"\n      }\n    },\n    {\n      \"column\": \"sideEffectsReview\",\n      \"properties\": {\n        \"dtype\": \"string\",\n        \"num_unique_values\": 2268,\n        \"samples\": [\n          \"If I miss a pill r two, my acidic sensitivity is much greater than it was before I started to take to medication at all.\",\n          \"The only side effect I have is IF i skip a night it seems that my problem is much worse.\",\n          \"slight headache\"\n        ],\n        \"semantic_type\": \"\",\n        \"description\": \"\"\n      }\n    },\n    {\n      \"column\": \"commentsReview\",\n      \"properties\": {\n        \"dtype\": \"string\",\n        \"num_unique_values\": 2449,\n        \"samples\": [\n          \"one shot every 4 months,it's fairly painless...\\r\\r\\nit's a great form of contraceptive.\\r\\r\\nbecause it basically makes you abstinent..the side effects just aren't worth it.\",\n          \"I started with half a 10mg pill a day. It was the increased to a full 10mg a day.  I then went to a 10mg and a half pill a day. Then went to 20mg a day.\\r\\r\\nI then went off Paxil entirely. My blood pressure went down and I lost a good anount of wieght but not all that I had gained. I did have some very high axiety at first but then it subsided.\",\n          \"Originally I started taking it to see if it would have any positive effect on the number and size of brain lesions I had. I had experienced an increasing inability to handle job stress, was losing my concentration abilities and was becoming increasingly forgetful. I believe it did have some positive effect in reducing the size and number of brain lesions, but not to the effect of improving my cognitive thinking ability to the extent I could return to work. Two years later, my doctor wanted me to increase the dosage to reduce my cholesterol levels.  Shortly after increasing my dosage, I started to experience chronic pain in my arms.  I finally did some research and discovered muscle pain to be a \\\"side effect\\\" when taking statin drugs.  When I stopped taking Lovastatin, the pain went away after a few months.\"\n        ],\n        \"semantic_type\": \"\",\n        \"description\": \"\"\n      }\n    },\n    {\n      \"column\": \"Sales\",\n      \"properties\": {\n        \"dtype\": \"number\",\n        \"std\": 258599,\n        \"min\": 55,\n        \"max\": 2100431,\n        \"num_unique_values\": 2484,\n        \"samples\": [\n          411292,\n          499092,\n          602786\n        ],\n        \"semantic_type\": \"\",\n        \"description\": \"\"\n      }\n    },\n    {\n      \"column\": \"Production\",\n      \"properties\": {\n        \"dtype\": \"number\",\n        \"std\": 265.8257203851115,\n        \"min\": 20.0,\n        \"max\": 2300.0,\n        \"num_unique_values\": 913,\n        \"samples\": [\n          276.0,\n          1055.0,\n          641.0\n        ],\n        \"semantic_type\": \"\",\n        \"description\": \"\"\n      }\n    },\n    {\n      \"column\": \"benefitsReview_wc\",\n      \"properties\": {\n        \"dtype\": \"number\",\n        \"std\": 34,\n        \"min\": 1,\n        \"max\": 385,\n        \"num_unique_values\": 158,\n        \"samples\": [\n          77,\n          68,\n          131\n        ],\n        \"semantic_type\": \"\",\n        \"description\": \"\"\n      }\n    },\n    {\n      \"column\": \"sideEffectsReview_wc\",\n      \"properties\": {\n        \"dtype\": \"number\",\n        \"std\": 36,\n        \"min\": 1,\n        \"max\": 478,\n        \"num_unique_values\": 175,\n        \"samples\": [\n          308,\n          138,\n          65\n        ],\n        \"semantic_type\": \"\",\n        \"description\": \"\"\n      }\n    },\n    {\n      \"column\": \"commentsReview_wc\",\n      \"properties\": {\n        \"dtype\": \"number\",\n        \"std\": 50,\n        \"min\": 1,\n        \"max\": 740,\n        \"num_unique_values\": 217,\n        \"samples\": [\n          254,\n          215,\n          90\n        ],\n        \"semantic_type\": \"\",\n        \"description\": \"\"\n      }\n    }\n  ]\n}",
              "type": "dataframe",
              "variable_name": "train_set"
            },
            "text/html": [
              "\n",
              "  <div id=\"df-a71fbf94-e072-4690-9d54-0d94b4c2fde4\" class=\"colab-df-container\">\n",
              "    <div>\n",
              "<style scoped>\n",
              "    .dataframe tbody tr th:only-of-type {\n",
              "        vertical-align: middle;\n",
              "    }\n",
              "\n",
              "    .dataframe tbody tr th {\n",
              "        vertical-align: top;\n",
              "    }\n",
              "\n",
              "    .dataframe thead th {\n",
              "        text-align: right;\n",
              "    }\n",
              "</style>\n",
              "<table border=\"1\" class=\"dataframe\">\n",
              "  <thead>\n",
              "    <tr style=\"text-align: right;\">\n",
              "      <th></th>\n",
              "      <th>urlDrugName</th>\n",
              "      <th>rating</th>\n",
              "      <th>effectiveness</th>\n",
              "      <th>sideEffects</th>\n",
              "      <th>condition</th>\n",
              "      <th>benefitsReview</th>\n",
              "      <th>sideEffectsReview</th>\n",
              "      <th>commentsReview</th>\n",
              "      <th>Sales</th>\n",
              "      <th>Production</th>\n",
              "      <th>benefitsReview_wc</th>\n",
              "      <th>sideEffectsReview_wc</th>\n",
              "      <th>commentsReview_wc</th>\n",
              "    </tr>\n",
              "  </thead>\n",
              "  <tbody>\n",
              "    <tr>\n",
              "      <th>2686</th>\n",
              "      <td>zoloft</td>\n",
              "      <td>9</td>\n",
              "      <td>Highly Effective</td>\n",
              "      <td>No Side Effects</td>\n",
              "      <td>anxiety</td>\n",
              "      <td>becoming a normal functioning individual. it h...</td>\n",
              "      <td>I had no real side effects unless you consider...</td>\n",
              "      <td>taken once daily.</td>\n",
              "      <td>135166</td>\n",
              "      <td>335.0</td>\n",
              "      <td>62</td>\n",
              "      <td>15</td>\n",
              "      <td>3</td>\n",
              "    </tr>\n",
              "    <tr>\n",
              "      <th>1192</th>\n",
              "      <td>adipex-p</td>\n",
              "      <td>9</td>\n",
              "      <td>Highly Effective</td>\n",
              "      <td>Mild Side Effects</td>\n",
              "      <td>to lose 30 pounds</td>\n",
              "      <td>When BMI rating is over 27 its time to get tha...</td>\n",
              "      <td>jittery.. sometimes euphoric.. tired but cant ...</td>\n",
              "      <td>last results 3 months on adipex-p lost 30 poun...</td>\n",
              "      <td>739564</td>\n",
              "      <td>939.0</td>\n",
              "      <td>163</td>\n",
              "      <td>10</td>\n",
              "      <td>248</td>\n",
              "    </tr>\n",
              "    <tr>\n",
              "      <th>2738</th>\n",
              "      <td>tri-luma</td>\n",
              "      <td>7</td>\n",
              "      <td>Moderately Effective</td>\n",
              "      <td>Severe Side Effects</td>\n",
              "      <td>hyperpigmentation</td>\n",
              "      <td>lightening of acne scars</td>\n",
              "      <td>redness, dryness, breakdown of skin</td>\n",
              "      <td>this topical compound was used to reduce hyper...</td>\n",
              "      <td>683247</td>\n",
              "      <td>843.0</td>\n",
              "      <td>4</td>\n",
              "      <td>5</td>\n",
              "      <td>42</td>\n",
              "    </tr>\n",
              "    <tr>\n",
              "      <th>2780</th>\n",
              "      <td>yasmin</td>\n",
              "      <td>2</td>\n",
              "      <td>Highly Effective</td>\n",
              "      <td>Moderate Side Effects</td>\n",
              "      <td>birth control</td>\n",
              "      <td>There was no chance of pregancy because i lost...</td>\n",
              "      <td>no libido what so ever. My breasts hurt like n...</td>\n",
              "      <td>I was given this to prevent pregnancy and i am...</td>\n",
              "      <td>222295</td>\n",
              "      <td>282.0</td>\n",
              "      <td>22</td>\n",
              "      <td>50</td>\n",
              "      <td>27</td>\n",
              "    </tr>\n",
              "    <tr>\n",
              "      <th>1735</th>\n",
              "      <td>requip</td>\n",
              "      <td>7</td>\n",
              "      <td>Considerably Effective</td>\n",
              "      <td>No Side Effects</td>\n",
              "      <td>restless leg syndrome</td>\n",
              "      <td>I took this medication to treat restless leg s...</td>\n",
              "      <td>I did need to take more as time went on, and I...</td>\n",
              "      <td>I took one milligram at night to treat the sym...</td>\n",
              "      <td>344748</td>\n",
              "      <td>505.0</td>\n",
              "      <td>93</td>\n",
              "      <td>69</td>\n",
              "      <td>106</td>\n",
              "    </tr>\n",
              "    <tr>\n",
              "      <th>...</th>\n",
              "      <td>...</td>\n",
              "      <td>...</td>\n",
              "      <td>...</td>\n",
              "      <td>...</td>\n",
              "      <td>...</td>\n",
              "      <td>...</td>\n",
              "      <td>...</td>\n",
              "      <td>...</td>\n",
              "      <td>...</td>\n",
              "      <td>...</td>\n",
              "      <td>...</td>\n",
              "      <td>...</td>\n",
              "      <td>...</td>\n",
              "    </tr>\n",
              "    <tr>\n",
              "      <th>3092</th>\n",
              "      <td>zyrtec</td>\n",
              "      <td>9</td>\n",
              "      <td>Highly Effective</td>\n",
              "      <td>Mild Side Effects</td>\n",
              "      <td>atopic eczema</td>\n",
              "      <td>The drug was very effective in counteracting s...</td>\n",
              "      <td>I felt slightly tired after taking Zyrtec. How...</td>\n",
              "      <td>This is a non-prescription drug and I took it ...</td>\n",
              "      <td>156028</td>\n",
              "      <td>356.0</td>\n",
              "      <td>74</td>\n",
              "      <td>54</td>\n",
              "      <td>51</td>\n",
              "    </tr>\n",
              "    <tr>\n",
              "      <th>1095</th>\n",
              "      <td>neurontin</td>\n",
              "      <td>0</td>\n",
              "      <td>Ineffective</td>\n",
              "      <td>Severe Side Effects</td>\n",
              "      <td>all over and various type pain</td>\n",
              "      <td>No Value</td>\n",
              "      <td>Nausea, extreme sleepiness,severe headache, ji...</td>\n",
              "      <td>Day one I felt negative side effects after tak...</td>\n",
              "      <td>317886</td>\n",
              "      <td>337.0</td>\n",
              "      <td>2</td>\n",
              "      <td>10</td>\n",
              "      <td>120</td>\n",
              "    </tr>\n",
              "    <tr>\n",
              "      <th>1130</th>\n",
              "      <td>wellbutrin</td>\n",
              "      <td>6</td>\n",
              "      <td>Moderately Effective</td>\n",
              "      <td>Mild Side Effects</td>\n",
              "      <td>depression</td>\n",
              "      <td>I experienced less depression, increased libid...</td>\n",
              "      <td>I have a dry mouth and eyes. Drug has decrease...</td>\n",
              "      <td>Prescribed at 300 mg per day, have taken as mu...</td>\n",
              "      <td>556187</td>\n",
              "      <td>696.0</td>\n",
              "      <td>15</td>\n",
              "      <td>15</td>\n",
              "      <td>24</td>\n",
              "    </tr>\n",
              "    <tr>\n",
              "      <th>1294</th>\n",
              "      <td>wellbutrin</td>\n",
              "      <td>2</td>\n",
              "      <td>Considerably Effective</td>\n",
              "      <td>Moderate Side Effects</td>\n",
              "      <td>stop smoking</td>\n",
              "      <td>The treatment was effective in reducing my \"ap...</td>\n",
              "      <td>After a while, I began to notice that NOTHING ...</td>\n",
              "      <td>I was taking the Bupropion as an aide to break...</td>\n",
              "      <td>728338</td>\n",
              "      <td>789.0</td>\n",
              "      <td>44</td>\n",
              "      <td>105</td>\n",
              "      <td>92</td>\n",
              "    </tr>\n",
              "    <tr>\n",
              "      <th>860</th>\n",
              "      <td>accutane</td>\n",
              "      <td>4</td>\n",
              "      <td>Highly Effective</td>\n",
              "      <td>Extremely Severe Side Effects</td>\n",
              "      <td>cystic acne</td>\n",
              "      <td>The drug cleared my skin and even reduced some...</td>\n",
              "      <td>severe sexual side effects began about 2 month...</td>\n",
              "      <td>treatment began with two 40mg tablets twice a ...</td>\n",
              "      <td>154819</td>\n",
              "      <td>255.0</td>\n",
              "      <td>24</td>\n",
              "      <td>70</td>\n",
              "      <td>145</td>\n",
              "    </tr>\n",
              "  </tbody>\n",
              "</table>\n",
              "<p>2485 rows × 13 columns</p>\n",
              "</div>\n",
              "    <div class=\"colab-df-buttons\">\n",
              "\n",
              "  <div class=\"colab-df-container\">\n",
              "    <button class=\"colab-df-convert\" onclick=\"convertToInteractive('df-a71fbf94-e072-4690-9d54-0d94b4c2fde4')\"\n",
              "            title=\"Convert this dataframe to an interactive table.\"\n",
              "            style=\"display:none;\">\n",
              "\n",
              "  <svg xmlns=\"http://www.w3.org/2000/svg\" height=\"24px\" viewBox=\"0 -960 960 960\">\n",
              "    <path d=\"M120-120v-720h720v720H120Zm60-500h600v-160H180v160Zm220 220h160v-160H400v160Zm0 220h160v-160H400v160ZM180-400h160v-160H180v160Zm440 0h160v-160H620v160ZM180-180h160v-160H180v160Zm440 0h160v-160H620v160Z\"/>\n",
              "  </svg>\n",
              "    </button>\n",
              "\n",
              "  <style>\n",
              "    .colab-df-container {\n",
              "      display:flex;\n",
              "      gap: 12px;\n",
              "    }\n",
              "\n",
              "    .colab-df-convert {\n",
              "      background-color: #E8F0FE;\n",
              "      border: none;\n",
              "      border-radius: 50%;\n",
              "      cursor: pointer;\n",
              "      display: none;\n",
              "      fill: #1967D2;\n",
              "      height: 32px;\n",
              "      padding: 0 0 0 0;\n",
              "      width: 32px;\n",
              "    }\n",
              "\n",
              "    .colab-df-convert:hover {\n",
              "      background-color: #E2EBFA;\n",
              "      box-shadow: 0px 1px 2px rgba(60, 64, 67, 0.3), 0px 1px 3px 1px rgba(60, 64, 67, 0.15);\n",
              "      fill: #174EA6;\n",
              "    }\n",
              "\n",
              "    .colab-df-buttons div {\n",
              "      margin-bottom: 4px;\n",
              "    }\n",
              "\n",
              "    [theme=dark] .colab-df-convert {\n",
              "      background-color: #3B4455;\n",
              "      fill: #D2E3FC;\n",
              "    }\n",
              "\n",
              "    [theme=dark] .colab-df-convert:hover {\n",
              "      background-color: #434B5C;\n",
              "      box-shadow: 0px 1px 3px 1px rgba(0, 0, 0, 0.15);\n",
              "      filter: drop-shadow(0px 1px 2px rgba(0, 0, 0, 0.3));\n",
              "      fill: #FFFFFF;\n",
              "    }\n",
              "  </style>\n",
              "\n",
              "    <script>\n",
              "      const buttonEl =\n",
              "        document.querySelector('#df-a71fbf94-e072-4690-9d54-0d94b4c2fde4 button.colab-df-convert');\n",
              "      buttonEl.style.display =\n",
              "        google.colab.kernel.accessAllowed ? 'block' : 'none';\n",
              "\n",
              "      async function convertToInteractive(key) {\n",
              "        const element = document.querySelector('#df-a71fbf94-e072-4690-9d54-0d94b4c2fde4');\n",
              "        const dataTable =\n",
              "          await google.colab.kernel.invokeFunction('convertToInteractive',\n",
              "                                                    [key], {});\n",
              "        if (!dataTable) return;\n",
              "\n",
              "        const docLinkHtml = 'Like what you see? Visit the ' +\n",
              "          '<a target=\"_blank\" href=https://colab.research.google.com/notebooks/data_table.ipynb>data table notebook</a>'\n",
              "          + ' to learn more about interactive tables.';\n",
              "        element.innerHTML = '';\n",
              "        dataTable['output_type'] = 'display_data';\n",
              "        await google.colab.output.renderOutput(dataTable, element);\n",
              "        const docLink = document.createElement('div');\n",
              "        docLink.innerHTML = docLinkHtml;\n",
              "        element.appendChild(docLink);\n",
              "      }\n",
              "    </script>\n",
              "  </div>\n",
              "\n",
              "\n",
              "<div id=\"df-91380e8a-b5b6-4d30-b735-e4562c1c305d\">\n",
              "  <button class=\"colab-df-quickchart\" onclick=\"quickchart('df-91380e8a-b5b6-4d30-b735-e4562c1c305d')\"\n",
              "            title=\"Suggest charts\"\n",
              "            style=\"display:none;\">\n",
              "\n",
              "<svg xmlns=\"http://www.w3.org/2000/svg\" height=\"24px\"viewBox=\"0 0 24 24\"\n",
              "     width=\"24px\">\n",
              "    <g>\n",
              "        <path d=\"M19 3H5c-1.1 0-2 .9-2 2v14c0 1.1.9 2 2 2h14c1.1 0 2-.9 2-2V5c0-1.1-.9-2-2-2zM9 17H7v-7h2v7zm4 0h-2V7h2v10zm4 0h-2v-4h2v4z\"/>\n",
              "    </g>\n",
              "</svg>\n",
              "  </button>\n",
              "\n",
              "<style>\n",
              "  .colab-df-quickchart {\n",
              "      --bg-color: #E8F0FE;\n",
              "      --fill-color: #1967D2;\n",
              "      --hover-bg-color: #E2EBFA;\n",
              "      --hover-fill-color: #174EA6;\n",
              "      --disabled-fill-color: #AAA;\n",
              "      --disabled-bg-color: #DDD;\n",
              "  }\n",
              "\n",
              "  [theme=dark] .colab-df-quickchart {\n",
              "      --bg-color: #3B4455;\n",
              "      --fill-color: #D2E3FC;\n",
              "      --hover-bg-color: #434B5C;\n",
              "      --hover-fill-color: #FFFFFF;\n",
              "      --disabled-bg-color: #3B4455;\n",
              "      --disabled-fill-color: #666;\n",
              "  }\n",
              "\n",
              "  .colab-df-quickchart {\n",
              "    background-color: var(--bg-color);\n",
              "    border: none;\n",
              "    border-radius: 50%;\n",
              "    cursor: pointer;\n",
              "    display: none;\n",
              "    fill: var(--fill-color);\n",
              "    height: 32px;\n",
              "    padding: 0;\n",
              "    width: 32px;\n",
              "  }\n",
              "\n",
              "  .colab-df-quickchart:hover {\n",
              "    background-color: var(--hover-bg-color);\n",
              "    box-shadow: 0 1px 2px rgba(60, 64, 67, 0.3), 0 1px 3px 1px rgba(60, 64, 67, 0.15);\n",
              "    fill: var(--button-hover-fill-color);\n",
              "  }\n",
              "\n",
              "  .colab-df-quickchart-complete:disabled,\n",
              "  .colab-df-quickchart-complete:disabled:hover {\n",
              "    background-color: var(--disabled-bg-color);\n",
              "    fill: var(--disabled-fill-color);\n",
              "    box-shadow: none;\n",
              "  }\n",
              "\n",
              "  .colab-df-spinner {\n",
              "    border: 2px solid var(--fill-color);\n",
              "    border-color: transparent;\n",
              "    border-bottom-color: var(--fill-color);\n",
              "    animation:\n",
              "      spin 1s steps(1) infinite;\n",
              "  }\n",
              "\n",
              "  @keyframes spin {\n",
              "    0% {\n",
              "      border-color: transparent;\n",
              "      border-bottom-color: var(--fill-color);\n",
              "      border-left-color: var(--fill-color);\n",
              "    }\n",
              "    20% {\n",
              "      border-color: transparent;\n",
              "      border-left-color: var(--fill-color);\n",
              "      border-top-color: var(--fill-color);\n",
              "    }\n",
              "    30% {\n",
              "      border-color: transparent;\n",
              "      border-left-color: var(--fill-color);\n",
              "      border-top-color: var(--fill-color);\n",
              "      border-right-color: var(--fill-color);\n",
              "    }\n",
              "    40% {\n",
              "      border-color: transparent;\n",
              "      border-right-color: var(--fill-color);\n",
              "      border-top-color: var(--fill-color);\n",
              "    }\n",
              "    60% {\n",
              "      border-color: transparent;\n",
              "      border-right-color: var(--fill-color);\n",
              "    }\n",
              "    80% {\n",
              "      border-color: transparent;\n",
              "      border-right-color: var(--fill-color);\n",
              "      border-bottom-color: var(--fill-color);\n",
              "    }\n",
              "    90% {\n",
              "      border-color: transparent;\n",
              "      border-bottom-color: var(--fill-color);\n",
              "    }\n",
              "  }\n",
              "</style>\n",
              "\n",
              "  <script>\n",
              "    async function quickchart(key) {\n",
              "      const quickchartButtonEl =\n",
              "        document.querySelector('#' + key + ' button');\n",
              "      quickchartButtonEl.disabled = true;  // To prevent multiple clicks.\n",
              "      quickchartButtonEl.classList.add('colab-df-spinner');\n",
              "      try {\n",
              "        const charts = await google.colab.kernel.invokeFunction(\n",
              "            'suggestCharts', [key], {});\n",
              "      } catch (error) {\n",
              "        console.error('Error during call to suggestCharts:', error);\n",
              "      }\n",
              "      quickchartButtonEl.classList.remove('colab-df-spinner');\n",
              "      quickchartButtonEl.classList.add('colab-df-quickchart-complete');\n",
              "    }\n",
              "    (() => {\n",
              "      let quickchartButtonEl =\n",
              "        document.querySelector('#df-91380e8a-b5b6-4d30-b735-e4562c1c305d button');\n",
              "      quickchartButtonEl.style.display =\n",
              "        google.colab.kernel.accessAllowed ? 'block' : 'none';\n",
              "    })();\n",
              "  </script>\n",
              "</div>\n",
              "\n",
              "  <div id=\"id_aeb092f6-9ad0-4c6b-8acc-055a37bb4a2d\">\n",
              "    <style>\n",
              "      .colab-df-generate {\n",
              "        background-color: #E8F0FE;\n",
              "        border: none;\n",
              "        border-radius: 50%;\n",
              "        cursor: pointer;\n",
              "        display: none;\n",
              "        fill: #1967D2;\n",
              "        height: 32px;\n",
              "        padding: 0 0 0 0;\n",
              "        width: 32px;\n",
              "      }\n",
              "\n",
              "      .colab-df-generate:hover {\n",
              "        background-color: #E2EBFA;\n",
              "        box-shadow: 0px 1px 2px rgba(60, 64, 67, 0.3), 0px 1px 3px 1px rgba(60, 64, 67, 0.15);\n",
              "        fill: #174EA6;\n",
              "      }\n",
              "\n",
              "      [theme=dark] .colab-df-generate {\n",
              "        background-color: #3B4455;\n",
              "        fill: #D2E3FC;\n",
              "      }\n",
              "\n",
              "      [theme=dark] .colab-df-generate:hover {\n",
              "        background-color: #434B5C;\n",
              "        box-shadow: 0px 1px 3px 1px rgba(0, 0, 0, 0.15);\n",
              "        filter: drop-shadow(0px 1px 2px rgba(0, 0, 0, 0.3));\n",
              "        fill: #FFFFFF;\n",
              "      }\n",
              "    </style>\n",
              "    <button class=\"colab-df-generate\" onclick=\"generateWithVariable('train_set')\"\n",
              "            title=\"Generate code using this dataframe.\"\n",
              "            style=\"display:none;\">\n",
              "\n",
              "  <svg xmlns=\"http://www.w3.org/2000/svg\" height=\"24px\"viewBox=\"0 0 24 24\"\n",
              "       width=\"24px\">\n",
              "    <path d=\"M7,19H8.4L18.45,9,17,7.55,7,17.6ZM5,21V16.75L18.45,3.32a2,2,0,0,1,2.83,0l1.4,1.43a1.91,1.91,0,0,1,.58,1.4,1.91,1.91,0,0,1-.58,1.4L9.25,21ZM18.45,9,17,7.55Zm-12,3A5.31,5.31,0,0,0,4.9,8.1,5.31,5.31,0,0,0,1,6.5,5.31,5.31,0,0,0,4.9,4.9,5.31,5.31,0,0,0,6.5,1,5.31,5.31,0,0,0,8.1,4.9,5.31,5.31,0,0,0,12,6.5,5.46,5.46,0,0,0,6.5,12Z\"/>\n",
              "  </svg>\n",
              "    </button>\n",
              "    <script>\n",
              "      (() => {\n",
              "      const buttonEl =\n",
              "        document.querySelector('#id_aeb092f6-9ad0-4c6b-8acc-055a37bb4a2d button.colab-df-generate');\n",
              "      buttonEl.style.display =\n",
              "        google.colab.kernel.accessAllowed ? 'block' : 'none';\n",
              "\n",
              "      buttonEl.onclick = () => {\n",
              "        google.colab.notebook.generateWithVariable('train_set');\n",
              "      }\n",
              "      })();\n",
              "    </script>\n",
              "  </div>\n",
              "\n",
              "    </div>\n",
              "  </div>\n"
            ],
            "text/plain": [
              "     urlDrugName  rating           effectiveness  \\\n",
              "2686      zoloft       9        Highly Effective   \n",
              "1192    adipex-p       9        Highly Effective   \n",
              "2738    tri-luma       7    Moderately Effective   \n",
              "2780      yasmin       2        Highly Effective   \n",
              "1735      requip       7  Considerably Effective   \n",
              "...          ...     ...                     ...   \n",
              "3092      zyrtec       9        Highly Effective   \n",
              "1095   neurontin       0             Ineffective   \n",
              "1130  wellbutrin       6    Moderately Effective   \n",
              "1294  wellbutrin       2  Considerably Effective   \n",
              "860     accutane       4        Highly Effective   \n",
              "\n",
              "                        sideEffects                       condition  \\\n",
              "2686                No Side Effects                         anxiety   \n",
              "1192              Mild Side Effects               to lose 30 pounds   \n",
              "2738            Severe Side Effects               hyperpigmentation   \n",
              "2780          Moderate Side Effects                   birth control   \n",
              "1735                No Side Effects           restless leg syndrome   \n",
              "...                             ...                             ...   \n",
              "3092              Mild Side Effects                   atopic eczema   \n",
              "1095            Severe Side Effects  all over and various type pain   \n",
              "1130              Mild Side Effects                      depression   \n",
              "1294          Moderate Side Effects                    stop smoking   \n",
              "860   Extremely Severe Side Effects                     cystic acne   \n",
              "\n",
              "                                         benefitsReview  \\\n",
              "2686  becoming a normal functioning individual. it h...   \n",
              "1192  When BMI rating is over 27 its time to get tha...   \n",
              "2738                           lightening of acne scars   \n",
              "2780  There was no chance of pregancy because i lost...   \n",
              "1735  I took this medication to treat restless leg s...   \n",
              "...                                                 ...   \n",
              "3092  The drug was very effective in counteracting s...   \n",
              "1095                                           No Value   \n",
              "1130  I experienced less depression, increased libid...   \n",
              "1294  The treatment was effective in reducing my \"ap...   \n",
              "860   The drug cleared my skin and even reduced some...   \n",
              "\n",
              "                                      sideEffectsReview  \\\n",
              "2686  I had no real side effects unless you consider...   \n",
              "1192  jittery.. sometimes euphoric.. tired but cant ...   \n",
              "2738                redness, dryness, breakdown of skin   \n",
              "2780  no libido what so ever. My breasts hurt like n...   \n",
              "1735  I did need to take more as time went on, and I...   \n",
              "...                                                 ...   \n",
              "3092  I felt slightly tired after taking Zyrtec. How...   \n",
              "1095  Nausea, extreme sleepiness,severe headache, ji...   \n",
              "1130  I have a dry mouth and eyes. Drug has decrease...   \n",
              "1294  After a while, I began to notice that NOTHING ...   \n",
              "860   severe sexual side effects began about 2 month...   \n",
              "\n",
              "                                         commentsReview   Sales  Production  \\\n",
              "2686                                  taken once daily.  135166       335.0   \n",
              "1192  last results 3 months on adipex-p lost 30 poun...  739564       939.0   \n",
              "2738  this topical compound was used to reduce hyper...  683247       843.0   \n",
              "2780  I was given this to prevent pregnancy and i am...  222295       282.0   \n",
              "1735  I took one milligram at night to treat the sym...  344748       505.0   \n",
              "...                                                 ...     ...         ...   \n",
              "3092  This is a non-prescription drug and I took it ...  156028       356.0   \n",
              "1095  Day one I felt negative side effects after tak...  317886       337.0   \n",
              "1130  Prescribed at 300 mg per day, have taken as mu...  556187       696.0   \n",
              "1294  I was taking the Bupropion as an aide to break...  728338       789.0   \n",
              "860   treatment began with two 40mg tablets twice a ...  154819       255.0   \n",
              "\n",
              "      benefitsReview_wc  sideEffectsReview_wc  commentsReview_wc  \n",
              "2686                 62                    15                  3  \n",
              "1192                163                    10                248  \n",
              "2738                  4                     5                 42  \n",
              "2780                 22                    50                 27  \n",
              "1735                 93                    69                106  \n",
              "...                 ...                   ...                ...  \n",
              "3092                 74                    54                 51  \n",
              "1095                  2                    10                120  \n",
              "1130                 15                    15                 24  \n",
              "1294                 44                   105                 92  \n",
              "860                  24                    70                145  \n",
              "\n",
              "[2485 rows x 13 columns]"
            ]
          },
          "execution_count": 13,
          "metadata": {},
          "output_type": "execute_result"
        }
      ],
      "source": [
        "train_set"
      ]
    },
    {
      "cell_type": "markdown",
      "metadata": {
        "id": "n2rxpBhHkHaH"
      },
      "source": [
        "***"
      ]
    },
    {
      "cell_type": "markdown",
      "metadata": {
        "id": "iEQAjLp_kHaH"
      },
      "source": [
        "#### Escalado/Normalización"
      ]
    },
    {
      "cell_type": "markdown",
      "metadata": {
        "id": "1D6Svn6AkHaH"
      },
      "source": [
        "Lo primero es quedarnos con las columnas numéricas"
      ]
    },
    {
      "cell_type": "code",
      "execution_count": 14,
      "metadata": {
        "colab": {
          "base_uri": "https://localhost:8080/"
        },
        "id": "S0tIMZXakHaH",
        "outputId": "98ed62b2-4e13-4e43-911e-214e3d0a9ab5"
      },
      "outputs": [
        {
          "name": "stdout",
          "output_type": "stream",
          "text": [
            "<class 'pandas.core.frame.DataFrame'>\n",
            "Index: 2485 entries, 2686 to 860\n",
            "Data columns (total 13 columns):\n",
            " #   Column                Non-Null Count  Dtype  \n",
            "---  ------                --------------  -----  \n",
            " 0   urlDrugName           2485 non-null   object \n",
            " 1   rating                2485 non-null   int64  \n",
            " 2   effectiveness         2485 non-null   object \n",
            " 3   sideEffects           2485 non-null   object \n",
            " 4   condition             2485 non-null   object \n",
            " 5   benefitsReview        2485 non-null   object \n",
            " 6   sideEffectsReview     2485 non-null   object \n",
            " 7   commentsReview        2485 non-null   object \n",
            " 8   Sales                 2485 non-null   int64  \n",
            " 9   Production            2485 non-null   float64\n",
            " 10  benefitsReview_wc     2485 non-null   int64  \n",
            " 11  sideEffectsReview_wc  2485 non-null   int64  \n",
            " 12  commentsReview_wc     2485 non-null   int64  \n",
            "dtypes: float64(1), int64(5), object(7)\n",
            "memory usage: 271.8+ KB\n"
          ]
        }
      ],
      "source": [
        "train_set.info()"
      ]
    },
    {
      "cell_type": "markdown",
      "metadata": {
        "id": "bF2knZlNkHaI"
      },
      "source": [
        "Son claramente las que no son tipo `object`"
      ]
    },
    {
      "cell_type": "code",
      "execution_count": 15,
      "metadata": {
        "colab": {
          "base_uri": "https://localhost:8080/"
        },
        "id": "cmeY-_ZxkHaI",
        "outputId": "36fa35fd-0e64-4abe-9647-85f5275d7436"
      },
      "outputs": [
        {
          "data": {
            "text/plain": [
              "['Sales',\n",
              " 'Production',\n",
              " 'benefitsReview_wc',\n",
              " 'sideEffectsReview_wc',\n",
              " 'commentsReview_wc']"
            ]
          },
          "execution_count": 15,
          "metadata": {},
          "output_type": "execute_result"
        }
      ],
      "source": [
        "numericas = [col for col in train_set.columns if train_set[col].dtype != \"object\" and col != target]\n",
        "numericas"
      ]
    },
    {
      "cell_type": "markdown",
      "metadata": {
        "id": "E-91uTkdkHaI"
      },
      "source": [
        "Y ahora las vamos a normalizar usando keras, y además vamos a entrenar un modelo baseline solo con estas features la numéricas."
      ]
    },
    {
      "cell_type": "markdown",
      "metadata": {
        "id": "wadMCK05kHaN"
      },
      "source": [
        "### Normalization Layer"
      ]
    },
    {
      "cell_type": "code",
      "execution_count": 16,
      "metadata": {
        "id": "O-3gCgZdkHaN"
      },
      "outputs": [],
      "source": [
        "X_num = train_set[numericas].copy()\n",
        "y_num = train_set[target]"
      ]
    },
    {
      "cell_type": "markdown",
      "metadata": {
        "id": "eFjCzrQZkHaN"
      },
      "source": [
        "Probemos primero sin normalizar, creando un diccionario para compensar las clases:\n"
      ]
    },
    {
      "cell_type": "code",
      "execution_count": 17,
      "metadata": {
        "id": "02K7FU5ekHaN"
      },
      "outputs": [],
      "source": [
        "tf.random.set_seed(42)  # extra code – ensures reproducibility\n",
        "model = tf.keras.models.Sequential([\n",
        "    tf.keras.layers.Dense(100, activation = \"relu\"),\n",
        "    tf.keras.layers.Dense(10, activation = \"softmax\")\n",
        "])\n",
        "earlyS = tf.keras.callbacks.EarlyStopping(patience = 30, restore_best_weights= True, monitor = \"val_acc\")\n",
        "model.compile(loss=\"sparse_categorical_crossentropy\", \n",
        "              optimizer=tf.keras.optimizers.SGD(learning_rate=0.01),\n",
        "              metrics =[\"acc\"])\n"
      ]
    },
    {
      "cell_type": "code",
      "execution_count": 18,
      "metadata": {
        "colab": {
          "base_uri": "https://localhost:8080/"
        },
        "id": "bflyQ_n1kHaO",
        "outputId": "1623ef1d-776c-4b45-90a8-892e0725da29"
      },
      "outputs": [
        {
          "name": "stdout",
          "output_type": "stream",
          "text": [
            "Epoch 1/300\n",
            "\u001b[1m63/63\u001b[0m \u001b[32m━━━━━━━━━━━━━━━━━━━━\u001b[0m\u001b[37m\u001b[0m \u001b[1m1s\u001b[0m 5ms/step - acc: 0.1873 - loss: 16373993472.0000 - val_acc: 0.2233 - val_loss: 2.2786\n",
            "Epoch 2/300\n",
            "\u001b[1m63/63\u001b[0m \u001b[32m━━━━━━━━━━━━━━━━━━━━\u001b[0m\u001b[37m\u001b[0m \u001b[1m0s\u001b[0m 2ms/step - acc: 0.2408 - loss: 2.2739 - val_acc: 0.2233 - val_loss: 2.2560\n",
            "Epoch 3/300\n",
            "\u001b[1m63/63\u001b[0m \u001b[32m━━━━━━━━━━━━━━━━━━━━\u001b[0m\u001b[37m\u001b[0m \u001b[1m0s\u001b[0m 2ms/step - acc: 0.2413 - loss: 2.2490 - val_acc: 0.2233 - val_loss: 2.2363\n",
            "Epoch 4/300\n",
            "\u001b[1m63/63\u001b[0m \u001b[32m━━━━━━━━━━━━━━━━━━━━\u001b[0m\u001b[37m\u001b[0m \u001b[1m0s\u001b[0m 2ms/step - acc: 0.2413 - loss: 2.2297 - val_acc: 0.2233 - val_loss: 2.2192\n",
            "Epoch 5/300\n",
            "\u001b[1m63/63\u001b[0m \u001b[32m━━━━━━━━━━━━━━━━━━━━\u001b[0m\u001b[37m\u001b[0m \u001b[1m0s\u001b[0m 2ms/step - acc: 0.2413 - loss: 2.2129 - val_acc: 0.2233 - val_loss: 2.2044\n",
            "Epoch 6/300\n",
            "\u001b[1m63/63\u001b[0m \u001b[32m━━━━━━━━━━━━━━━━━━━━\u001b[0m\u001b[37m\u001b[0m \u001b[1m0s\u001b[0m 2ms/step - acc: 0.2413 - loss: 2.1983 - val_acc: 0.2233 - val_loss: 2.1915\n",
            "Epoch 7/300\n",
            "\u001b[1m63/63\u001b[0m \u001b[32m━━━━━━━━━━━━━━━━━━━━\u001b[0m\u001b[37m\u001b[0m \u001b[1m0s\u001b[0m 2ms/step - acc: 0.2413 - loss: 2.1857 - val_acc: 0.2233 - val_loss: 2.1805\n",
            "Epoch 8/300\n",
            "\u001b[1m63/63\u001b[0m \u001b[32m━━━━━━━━━━━━━━━━━━━━\u001b[0m\u001b[37m\u001b[0m \u001b[1m0s\u001b[0m 2ms/step - acc: 0.2414 - loss: 2.1748 - val_acc: 0.2233 - val_loss: 2.1709\n",
            "Epoch 9/300\n",
            "\u001b[1m63/63\u001b[0m \u001b[32m━━━━━━━━━━━━━━━━━━━━\u001b[0m\u001b[37m\u001b[0m \u001b[1m0s\u001b[0m 2ms/step - acc: 0.2414 - loss: 2.1655 - val_acc: 0.2233 - val_loss: 2.1626\n",
            "Epoch 10/300\n",
            "\u001b[1m63/63\u001b[0m \u001b[32m━━━━━━━━━━━━━━━━━━━━\u001b[0m\u001b[37m\u001b[0m \u001b[1m0s\u001b[0m 2ms/step - acc: 0.2414 - loss: 2.1574 - val_acc: 0.2233 - val_loss: 2.1555\n",
            "Epoch 11/300\n",
            "\u001b[1m63/63\u001b[0m \u001b[32m━━━━━━━━━━━━━━━━━━━━\u001b[0m\u001b[37m\u001b[0m \u001b[1m0s\u001b[0m 2ms/step - acc: 0.2414 - loss: 2.1504 - val_acc: 0.2233 - val_loss: 2.1494\n",
            "Epoch 12/300\n",
            "\u001b[1m63/63\u001b[0m \u001b[32m━━━━━━━━━━━━━━━━━━━━\u001b[0m\u001b[37m\u001b[0m \u001b[1m0s\u001b[0m 2ms/step - acc: 0.2414 - loss: 2.1444 - val_acc: 0.2233 - val_loss: 2.1441\n",
            "Epoch 13/300\n",
            "\u001b[1m63/63\u001b[0m \u001b[32m━━━━━━━━━━━━━━━━━━━━\u001b[0m\u001b[37m\u001b[0m \u001b[1m0s\u001b[0m 3ms/step - acc: 0.2414 - loss: 2.1393 - val_acc: 0.2233 - val_loss: 2.1395\n",
            "Epoch 14/300\n",
            "\u001b[1m63/63\u001b[0m \u001b[32m━━━━━━━━━━━━━━━━━━━━\u001b[0m\u001b[37m\u001b[0m \u001b[1m0s\u001b[0m 2ms/step - acc: 0.2414 - loss: 2.1348 - val_acc: 0.2233 - val_loss: 2.1355\n",
            "Epoch 15/300\n",
            "\u001b[1m63/63\u001b[0m \u001b[32m━━━━━━━━━━━━━━━━━━━━\u001b[0m\u001b[37m\u001b[0m \u001b[1m0s\u001b[0m 3ms/step - acc: 0.2414 - loss: 2.1309 - val_acc: 0.2233 - val_loss: 2.1320\n",
            "Epoch 16/300\n",
            "\u001b[1m63/63\u001b[0m \u001b[32m━━━━━━━━━━━━━━━━━━━━\u001b[0m\u001b[37m\u001b[0m \u001b[1m0s\u001b[0m 2ms/step - acc: 0.2414 - loss: 2.1276 - val_acc: 0.2233 - val_loss: 2.1290\n",
            "Epoch 17/300\n",
            "\u001b[1m63/63\u001b[0m \u001b[32m━━━━━━━━━━━━━━━━━━━━\u001b[0m\u001b[37m\u001b[0m \u001b[1m0s\u001b[0m 2ms/step - acc: 0.2414 - loss: 2.1247 - val_acc: 0.2233 - val_loss: 2.1263\n",
            "Epoch 18/300\n",
            "\u001b[1m63/63\u001b[0m \u001b[32m━━━━━━━━━━━━━━━━━━━━\u001b[0m\u001b[37m\u001b[0m \u001b[1m0s\u001b[0m 2ms/step - acc: 0.2414 - loss: 2.1221 - val_acc: 0.2233 - val_loss: 2.1240\n",
            "Epoch 19/300\n",
            "\u001b[1m63/63\u001b[0m \u001b[32m━━━━━━━━━━━━━━━━━━━━\u001b[0m\u001b[37m\u001b[0m \u001b[1m0s\u001b[0m 2ms/step - acc: 0.2414 - loss: 2.1199 - val_acc: 0.2233 - val_loss: 2.1219\n",
            "Epoch 20/300\n",
            "\u001b[1m63/63\u001b[0m \u001b[32m━━━━━━━━━━━━━━━━━━━━\u001b[0m\u001b[37m\u001b[0m \u001b[1m0s\u001b[0m 3ms/step - acc: 0.2414 - loss: 2.1180 - val_acc: 0.2233 - val_loss: 2.1201\n",
            "Epoch 21/300\n",
            "\u001b[1m63/63\u001b[0m \u001b[32m━━━━━━━━━━━━━━━━━━━━\u001b[0m\u001b[37m\u001b[0m \u001b[1m0s\u001b[0m 4ms/step - acc: 0.2414 - loss: 2.1163 - val_acc: 0.2233 - val_loss: 2.1185\n",
            "Epoch 22/300\n",
            "\u001b[1m63/63\u001b[0m \u001b[32m━━━━━━━━━━━━━━━━━━━━\u001b[0m\u001b[37m\u001b[0m \u001b[1m0s\u001b[0m 3ms/step - acc: 0.2414 - loss: 2.1148 - val_acc: 0.2233 - val_loss: 2.1171\n",
            "Epoch 23/300\n",
            "\u001b[1m63/63\u001b[0m \u001b[32m━━━━━━━━━━━━━━━━━━━━\u001b[0m\u001b[37m\u001b[0m \u001b[1m0s\u001b[0m 3ms/step - acc: 0.2414 - loss: 2.1135 - val_acc: 0.2233 - val_loss: 2.1158\n",
            "Epoch 24/300\n",
            "\u001b[1m63/63\u001b[0m \u001b[32m━━━━━━━━━━━━━━━━━━━━\u001b[0m\u001b[37m\u001b[0m \u001b[1m0s\u001b[0m 4ms/step - acc: 0.2414 - loss: 2.1124 - val_acc: 0.2233 - val_loss: 2.1147\n",
            "Epoch 25/300\n",
            "\u001b[1m63/63\u001b[0m \u001b[32m━━━━━━━━━━━━━━━━━━━━\u001b[0m\u001b[37m\u001b[0m \u001b[1m0s\u001b[0m 4ms/step - acc: 0.2414 - loss: 2.1113 - val_acc: 0.2233 - val_loss: 2.1137\n",
            "Epoch 26/300\n",
            "\u001b[1m63/63\u001b[0m \u001b[32m━━━━━━━━━━━━━━━━━━━━\u001b[0m\u001b[37m\u001b[0m \u001b[1m0s\u001b[0m 3ms/step - acc: 0.2414 - loss: 2.1104 - val_acc: 0.2233 - val_loss: 2.1128\n",
            "Epoch 27/300\n",
            "\u001b[1m63/63\u001b[0m \u001b[32m━━━━━━━━━━━━━━━━━━━━\u001b[0m\u001b[37m\u001b[0m \u001b[1m0s\u001b[0m 4ms/step - acc: 0.2414 - loss: 2.1096 - val_acc: 0.2233 - val_loss: 2.1119\n",
            "Epoch 28/300\n",
            "\u001b[1m63/63\u001b[0m \u001b[32m━━━━━━━━━━━━━━━━━━━━\u001b[0m\u001b[37m\u001b[0m \u001b[1m0s\u001b[0m 4ms/step - acc: 0.2414 - loss: 2.1089 - val_acc: 0.2233 - val_loss: 2.1112\n",
            "Epoch 29/300\n",
            "\u001b[1m63/63\u001b[0m \u001b[32m━━━━━━━━━━━━━━━━━━━━\u001b[0m\u001b[37m\u001b[0m \u001b[1m0s\u001b[0m 4ms/step - acc: 0.2414 - loss: 2.1083 - val_acc: 0.2233 - val_loss: 2.1105\n",
            "Epoch 30/300\n",
            "\u001b[1m63/63\u001b[0m \u001b[32m━━━━━━━━━━━━━━━━━━━━\u001b[0m\u001b[37m\u001b[0m \u001b[1m1s\u001b[0m 5ms/step - acc: 0.2414 - loss: 2.1077 - val_acc: 0.2233 - val_loss: 2.1099\n",
            "Epoch 31/300\n",
            "\u001b[1m63/63\u001b[0m \u001b[32m━━━━━━━━━━━━━━━━━━━━\u001b[0m\u001b[37m\u001b[0m \u001b[1m1s\u001b[0m 4ms/step - acc: 0.2414 - loss: 2.1072 - val_acc: 0.2233 - val_loss: 2.1094\n"
          ]
        }
      ],
      "source": [
        "history = model.fit(X_num, y_num, validation_split= 0.2, epochs=300, callbacks= earlyS)"
      ]
    },
    {
      "cell_type": "code",
      "execution_count": 19,
      "metadata": {
        "colab": {
          "base_uri": "https://localhost:8080/"
        },
        "id": "jRY4uo-KkHaO",
        "outputId": "1289a3ee-6dc4-4c7b-b4a3-d2917968e07c"
      },
      "outputs": [
        {
          "name": "stdout",
          "output_type": "stream",
          "text": [
            "\u001b[1m20/20\u001b[0m \u001b[32m━━━━━━━━━━━━━━━━━━━━\u001b[0m\u001b[37m\u001b[0m \u001b[1m0s\u001b[0m 2ms/step - acc: 0.2589 - loss: 2.2785 \n"
          ]
        },
        {
          "data": {
            "text/plain": [
              "[2.2815656661987305, 0.24276527762413025]"
            ]
          },
          "execution_count": 19,
          "metadata": {},
          "output_type": "execute_result"
        }
      ],
      "source": [
        "model.evaluate(test_set[numericas], test_set[target])"
      ]
    },
    {
      "cell_type": "markdown",
      "metadata": {
        "id": "SvjB2NaxkHaO"
      },
      "source": [
        "La cosa está fácil... Vamos con la normalización"
      ]
    },
    {
      "cell_type": "code",
      "execution_count": 20,
      "metadata": {
        "colab": {
          "base_uri": "https://localhost:8080/"
        },
        "id": "-JULVn5JkHaO",
        "outputId": "a03d0623-257e-4332-b0f6-baddfb7ec4d1"
      },
      "outputs": [
        {
          "name": "stdout",
          "output_type": "stream",
          "text": [
            "Epoch 1/300\n",
            "\u001b[1m63/63\u001b[0m \u001b[32m━━━━━━━━━━━━━━━━━━━━\u001b[0m\u001b[37m\u001b[0m \u001b[1m2s\u001b[0m 13ms/step - acc: 0.1237 - loss: 2.3351 - val_acc: 0.1469 - val_loss: 2.2547\n",
            "Epoch 2/300\n",
            "\u001b[1m63/63\u001b[0m \u001b[32m━━━━━━━━━━━━━━━━━━━━\u001b[0m\u001b[37m\u001b[0m \u001b[1m0s\u001b[0m 4ms/step - acc: 0.1912 - loss: 2.2340 - val_acc: 0.2072 - val_loss: 2.1879\n",
            "Epoch 3/300\n",
            "\u001b[1m63/63\u001b[0m \u001b[32m━━━━━━━━━━━━━━━━━━━━\u001b[0m\u001b[37m\u001b[0m \u001b[1m0s\u001b[0m 2ms/step - acc: 0.2329 - loss: 2.1686 - val_acc: 0.2133 - val_loss: 2.1440\n",
            "Epoch 4/300\n",
            "\u001b[1m63/63\u001b[0m \u001b[32m━━━━━━━━━━━━━━━━━━━━\u001b[0m\u001b[37m\u001b[0m \u001b[1m0s\u001b[0m 2ms/step - acc: 0.2454 - loss: 2.1260 - val_acc: 0.2193 - val_loss: 2.1139\n",
            "Epoch 5/300\n",
            "\u001b[1m63/63\u001b[0m \u001b[32m━━━━━━━━━━━━━━━━━━━━\u001b[0m\u001b[37m\u001b[0m \u001b[1m0s\u001b[0m 4ms/step - acc: 0.2514 - loss: 2.0972 - val_acc: 0.2233 - val_loss: 2.0922\n",
            "Epoch 6/300\n",
            "\u001b[1m63/63\u001b[0m \u001b[32m━━━━━━━━━━━━━━━━━━━━\u001b[0m\u001b[37m\u001b[0m \u001b[1m0s\u001b[0m 4ms/step - acc: 0.2551 - loss: 2.0766 - val_acc: 0.2233 - val_loss: 2.0757\n",
            "Epoch 7/300\n",
            "\u001b[1m63/63\u001b[0m \u001b[32m━━━━━━━━━━━━━━━━━━━━\u001b[0m\u001b[37m\u001b[0m \u001b[1m0s\u001b[0m 3ms/step - acc: 0.2547 - loss: 2.0611 - val_acc: 0.2294 - val_loss: 2.0626\n",
            "Epoch 8/300\n",
            "\u001b[1m63/63\u001b[0m \u001b[32m━━━━━━━━━━━━━━━━━━━━\u001b[0m\u001b[37m\u001b[0m \u001b[1m0s\u001b[0m 4ms/step - acc: 0.2580 - loss: 2.0490 - val_acc: 0.2455 - val_loss: 2.0519\n",
            "Epoch 9/300\n",
            "\u001b[1m63/63\u001b[0m \u001b[32m━━━━━━━━━━━━━━━━━━━━\u001b[0m\u001b[37m\u001b[0m \u001b[1m0s\u001b[0m 4ms/step - acc: 0.2584 - loss: 2.0389 - val_acc: 0.2495 - val_loss: 2.0429\n",
            "Epoch 10/300\n",
            "\u001b[1m63/63\u001b[0m \u001b[32m━━━━━━━━━━━━━━━━━━━━\u001b[0m\u001b[37m\u001b[0m \u001b[1m0s\u001b[0m 4ms/step - acc: 0.2632 - loss: 2.0302 - val_acc: 0.2535 - val_loss: 2.0350\n",
            "Epoch 11/300\n",
            "\u001b[1m63/63\u001b[0m \u001b[32m━━━━━━━━━━━━━━━━━━━━\u001b[0m\u001b[37m\u001b[0m \u001b[1m0s\u001b[0m 4ms/step - acc: 0.2679 - loss: 2.0225 - val_acc: 0.2596 - val_loss: 2.0280\n",
            "Epoch 12/300\n",
            "\u001b[1m63/63\u001b[0m \u001b[32m━━━━━━━━━━━━━━━━━━━━\u001b[0m\u001b[37m\u001b[0m \u001b[1m0s\u001b[0m 4ms/step - acc: 0.2726 - loss: 2.0156 - val_acc: 0.2676 - val_loss: 2.0218\n",
            "Epoch 13/300\n",
            "\u001b[1m63/63\u001b[0m \u001b[32m━━━━━━━━━━━━━━━━━━━━\u001b[0m\u001b[37m\u001b[0m \u001b[1m1s\u001b[0m 4ms/step - acc: 0.2755 - loss: 2.0093 - val_acc: 0.2656 - val_loss: 2.0163\n",
            "Epoch 14/300\n",
            "\u001b[1m63/63\u001b[0m \u001b[32m━━━━━━━━━━━━━━━━━━━━\u001b[0m\u001b[37m\u001b[0m \u001b[1m0s\u001b[0m 3ms/step - acc: 0.2779 - loss: 2.0035 - val_acc: 0.2676 - val_loss: 2.0112\n",
            "Epoch 15/300\n",
            "\u001b[1m63/63\u001b[0m \u001b[32m━━━━━━━━━━━━━━━━━━━━\u001b[0m\u001b[37m\u001b[0m \u001b[1m0s\u001b[0m 4ms/step - acc: 0.2767 - loss: 1.9980 - val_acc: 0.2777 - val_loss: 2.0065\n",
            "Epoch 16/300\n",
            "\u001b[1m63/63\u001b[0m \u001b[32m━━━━━━━━━━━━━━━━━━━━\u001b[0m\u001b[37m\u001b[0m \u001b[1m1s\u001b[0m 4ms/step - acc: 0.2848 - loss: 1.9927 - val_acc: 0.2757 - val_loss: 2.0020\n",
            "Epoch 17/300\n",
            "\u001b[1m63/63\u001b[0m \u001b[32m━━━━━━━━━━━━━━━━━━━━\u001b[0m\u001b[37m\u001b[0m \u001b[1m0s\u001b[0m 4ms/step - acc: 0.2899 - loss: 1.9876 - val_acc: 0.2757 - val_loss: 1.9977\n",
            "Epoch 18/300\n",
            "\u001b[1m63/63\u001b[0m \u001b[32m━━━━━━━━━━━━━━━━━━━━\u001b[0m\u001b[37m\u001b[0m \u001b[1m0s\u001b[0m 4ms/step - acc: 0.2965 - loss: 1.9826 - val_acc: 0.2777 - val_loss: 1.9934\n",
            "Epoch 19/300\n",
            "\u001b[1m63/63\u001b[0m \u001b[32m━━━━━━━━━━━━━━━━━━━━\u001b[0m\u001b[37m\u001b[0m \u001b[1m0s\u001b[0m 4ms/step - acc: 0.2985 - loss: 1.9777 - val_acc: 0.2777 - val_loss: 1.9892\n",
            "Epoch 20/300\n",
            "\u001b[1m63/63\u001b[0m \u001b[32m━━━━━━━━━━━━━━━━━━━━\u001b[0m\u001b[37m\u001b[0m \u001b[1m1s\u001b[0m 3ms/step - acc: 0.3004 - loss: 1.9728 - val_acc: 0.2777 - val_loss: 1.9850\n",
            "Epoch 21/300\n",
            "\u001b[1m63/63\u001b[0m \u001b[32m━━━━━━━━━━━━━━━━━━━━\u001b[0m\u001b[37m\u001b[0m \u001b[1m0s\u001b[0m 4ms/step - acc: 0.3018 - loss: 1.9680 - val_acc: 0.2777 - val_loss: 1.9809\n",
            "Epoch 22/300\n",
            "\u001b[1m63/63\u001b[0m \u001b[32m━━━━━━━━━━━━━━━━━━━━\u001b[0m\u001b[37m\u001b[0m \u001b[1m1s\u001b[0m 4ms/step - acc: 0.3039 - loss: 1.9632 - val_acc: 0.2777 - val_loss: 1.9768\n",
            "Epoch 23/300\n",
            "\u001b[1m63/63\u001b[0m \u001b[32m━━━━━━━━━━━━━━━━━━━━\u001b[0m\u001b[37m\u001b[0m \u001b[1m1s\u001b[0m 6ms/step - acc: 0.3053 - loss: 1.9583 - val_acc: 0.2797 - val_loss: 1.9727\n",
            "Epoch 24/300\n",
            "\u001b[1m63/63\u001b[0m \u001b[32m━━━━━━━━━━━━━━━━━━━━\u001b[0m\u001b[37m\u001b[0m \u001b[1m1s\u001b[0m 5ms/step - acc: 0.3068 - loss: 1.9534 - val_acc: 0.2837 - val_loss: 1.9686\n",
            "Epoch 25/300\n",
            "\u001b[1m63/63\u001b[0m \u001b[32m━━━━━━━━━━━━━━━━━━━━\u001b[0m\u001b[37m\u001b[0m \u001b[1m0s\u001b[0m 5ms/step - acc: 0.3099 - loss: 1.9485 - val_acc: 0.2857 - val_loss: 1.9644\n",
            "Epoch 26/300\n",
            "\u001b[1m63/63\u001b[0m \u001b[32m━━━━━━━━━━━━━━━━━━━━\u001b[0m\u001b[37m\u001b[0m \u001b[1m0s\u001b[0m 4ms/step - acc: 0.3113 - loss: 1.9436 - val_acc: 0.2897 - val_loss: 1.9603\n",
            "Epoch 27/300\n",
            "\u001b[1m63/63\u001b[0m \u001b[32m━━━━━━━━━━━━━━━━━━━━\u001b[0m\u001b[37m\u001b[0m \u001b[1m1s\u001b[0m 5ms/step - acc: 0.3127 - loss: 1.9387 - val_acc: 0.2918 - val_loss: 1.9562\n",
            "Epoch 28/300\n",
            "\u001b[1m63/63\u001b[0m \u001b[32m━━━━━━━━━━━━━━━━━━━━\u001b[0m\u001b[37m\u001b[0m \u001b[1m0s\u001b[0m 4ms/step - acc: 0.3173 - loss: 1.9337 - val_acc: 0.2938 - val_loss: 1.9520\n",
            "Epoch 29/300\n",
            "\u001b[1m63/63\u001b[0m \u001b[32m━━━━━━━━━━━━━━━━━━━━\u001b[0m\u001b[37m\u001b[0m \u001b[1m0s\u001b[0m 5ms/step - acc: 0.3205 - loss: 1.9287 - val_acc: 0.2978 - val_loss: 1.9477\n",
            "Epoch 30/300\n",
            "\u001b[1m63/63\u001b[0m \u001b[32m━━━━━━━━━━━━━━━━━━━━\u001b[0m\u001b[37m\u001b[0m \u001b[1m1s\u001b[0m 4ms/step - acc: 0.3227 - loss: 1.9236 - val_acc: 0.2978 - val_loss: 1.9433\n",
            "Epoch 31/300\n",
            "\u001b[1m63/63\u001b[0m \u001b[32m━━━━━━━━━━━━━━━━━━━━\u001b[0m\u001b[37m\u001b[0m \u001b[1m1s\u001b[0m 4ms/step - acc: 0.3256 - loss: 1.9184 - val_acc: 0.2978 - val_loss: 1.9388\n",
            "Epoch 32/300\n",
            "\u001b[1m63/63\u001b[0m \u001b[32m━━━━━━━━━━━━━━━━━━━━\u001b[0m\u001b[37m\u001b[0m \u001b[1m0s\u001b[0m 3ms/step - acc: 0.3291 - loss: 1.9133 - val_acc: 0.2998 - val_loss: 1.9343\n",
            "Epoch 33/300\n",
            "\u001b[1m63/63\u001b[0m \u001b[32m━━━━━━━━━━━━━━━━━━━━\u001b[0m\u001b[37m\u001b[0m \u001b[1m0s\u001b[0m 4ms/step - acc: 0.3306 - loss: 1.9081 - val_acc: 0.3058 - val_loss: 1.9296\n",
            "Epoch 34/300\n",
            "\u001b[1m63/63\u001b[0m \u001b[32m━━━━━━━━━━━━━━━━━━━━\u001b[0m\u001b[37m\u001b[0m \u001b[1m0s\u001b[0m 5ms/step - acc: 0.3325 - loss: 1.9030 - val_acc: 0.3099 - val_loss: 1.9249\n",
            "Epoch 35/300\n",
            "\u001b[1m63/63\u001b[0m \u001b[32m━━━━━━━━━━━━━━━━━━━━\u001b[0m\u001b[37m\u001b[0m \u001b[1m1s\u001b[0m 4ms/step - acc: 0.3334 - loss: 1.8977 - val_acc: 0.3099 - val_loss: 1.9201\n",
            "Epoch 36/300\n",
            "\u001b[1m63/63\u001b[0m \u001b[32m━━━━━━━━━━━━━━━━━━━━\u001b[0m\u001b[37m\u001b[0m \u001b[1m0s\u001b[0m 3ms/step - acc: 0.3337 - loss: 1.8924 - val_acc: 0.3119 - val_loss: 1.9153\n",
            "Epoch 37/300\n",
            "\u001b[1m63/63\u001b[0m \u001b[32m━━━━━━━━━━━━━━━━━━━━\u001b[0m\u001b[37m\u001b[0m \u001b[1m0s\u001b[0m 3ms/step - acc: 0.3350 - loss: 1.8871 - val_acc: 0.3119 - val_loss: 1.9104\n",
            "Epoch 38/300\n",
            "\u001b[1m63/63\u001b[0m \u001b[32m━━━━━━━━━━━━━━━━━━━━\u001b[0m\u001b[37m\u001b[0m \u001b[1m0s\u001b[0m 4ms/step - acc: 0.3348 - loss: 1.8817 - val_acc: 0.3119 - val_loss: 1.9054\n",
            "Epoch 39/300\n",
            "\u001b[1m63/63\u001b[0m \u001b[32m━━━━━━━━━━━━━━━━━━━━\u001b[0m\u001b[37m\u001b[0m \u001b[1m0s\u001b[0m 3ms/step - acc: 0.3351 - loss: 1.8763 - val_acc: 0.3139 - val_loss: 1.9003\n",
            "Epoch 40/300\n",
            "\u001b[1m63/63\u001b[0m \u001b[32m━━━━━━━━━━━━━━━━━━━━\u001b[0m\u001b[37m\u001b[0m \u001b[1m0s\u001b[0m 2ms/step - acc: 0.3381 - loss: 1.8708 - val_acc: 0.3139 - val_loss: 1.8951\n",
            "Epoch 41/300\n",
            "\u001b[1m63/63\u001b[0m \u001b[32m━━━━━━━━━━━━━━━━━━━━\u001b[0m\u001b[37m\u001b[0m \u001b[1m0s\u001b[0m 2ms/step - acc: 0.3409 - loss: 1.8652 - val_acc: 0.3179 - val_loss: 1.8899\n",
            "Epoch 42/300\n",
            "\u001b[1m63/63\u001b[0m \u001b[32m━━━━━━━━━━━━━━━━━━━━\u001b[0m\u001b[37m\u001b[0m \u001b[1m0s\u001b[0m 2ms/step - acc: 0.3438 - loss: 1.8596 - val_acc: 0.3199 - val_loss: 1.8845\n",
            "Epoch 43/300\n",
            "\u001b[1m63/63\u001b[0m \u001b[32m━━━━━━━━━━━━━━━━━━━━\u001b[0m\u001b[37m\u001b[0m \u001b[1m0s\u001b[0m 3ms/step - acc: 0.3446 - loss: 1.8540 - val_acc: 0.3199 - val_loss: 1.8791\n",
            "Epoch 44/300\n",
            "\u001b[1m63/63\u001b[0m \u001b[32m━━━━━━━━━━━━━━━━━━━━\u001b[0m\u001b[37m\u001b[0m \u001b[1m0s\u001b[0m 4ms/step - acc: 0.3480 - loss: 1.8482 - val_acc: 0.3219 - val_loss: 1.8734\n",
            "Epoch 45/300\n",
            "\u001b[1m63/63\u001b[0m \u001b[32m━━━━━━━━━━━━━━━━━━━━\u001b[0m\u001b[37m\u001b[0m \u001b[1m0s\u001b[0m 2ms/step - acc: 0.3489 - loss: 1.8423 - val_acc: 0.3280 - val_loss: 1.8677\n",
            "Epoch 46/300\n",
            "\u001b[1m63/63\u001b[0m \u001b[32m━━━━━━━━━━━━━━━━━━━━\u001b[0m\u001b[37m\u001b[0m \u001b[1m0s\u001b[0m 3ms/step - acc: 0.3508 - loss: 1.8363 - val_acc: 0.3280 - val_loss: 1.8619\n",
            "Epoch 47/300\n",
            "\u001b[1m63/63\u001b[0m \u001b[32m━━━━━━━━━━━━━━━━━━━━\u001b[0m\u001b[37m\u001b[0m \u001b[1m0s\u001b[0m 3ms/step - acc: 0.3517 - loss: 1.8301 - val_acc: 0.3320 - val_loss: 1.8560\n",
            "Epoch 48/300\n",
            "\u001b[1m63/63\u001b[0m \u001b[32m━━━━━━━━━━━━━━━━━━━━\u001b[0m\u001b[37m\u001b[0m \u001b[1m0s\u001b[0m 3ms/step - acc: 0.3538 - loss: 1.8240 - val_acc: 0.3320 - val_loss: 1.8499\n",
            "Epoch 49/300\n",
            "\u001b[1m63/63\u001b[0m \u001b[32m━━━━━━━━━━━━━━━━━━━━\u001b[0m\u001b[37m\u001b[0m \u001b[1m0s\u001b[0m 3ms/step - acc: 0.3581 - loss: 1.8177 - val_acc: 0.3320 - val_loss: 1.8437\n",
            "Epoch 50/300\n",
            "\u001b[1m63/63\u001b[0m \u001b[32m━━━━━━━━━━━━━━━━━━━━\u001b[0m\u001b[37m\u001b[0m \u001b[1m0s\u001b[0m 3ms/step - acc: 0.3587 - loss: 1.8113 - val_acc: 0.3320 - val_loss: 1.8375\n",
            "Epoch 51/300\n",
            "\u001b[1m63/63\u001b[0m \u001b[32m━━━━━━━━━━━━━━━━━━━━\u001b[0m\u001b[37m\u001b[0m \u001b[1m0s\u001b[0m 3ms/step - acc: 0.3593 - loss: 1.8047 - val_acc: 0.3320 - val_loss: 1.8311\n",
            "Epoch 52/300\n",
            "\u001b[1m63/63\u001b[0m \u001b[32m━━━━━━━━━━━━━━━━━━━━\u001b[0m\u001b[37m\u001b[0m \u001b[1m0s\u001b[0m 3ms/step - acc: 0.3612 - loss: 1.7981 - val_acc: 0.3360 - val_loss: 1.8246\n",
            "Epoch 53/300\n",
            "\u001b[1m63/63\u001b[0m \u001b[32m━━━━━━━━━━━━━━━━━━━━\u001b[0m\u001b[37m\u001b[0m \u001b[1m0s\u001b[0m 2ms/step - acc: 0.3604 - loss: 1.7913 - val_acc: 0.3360 - val_loss: 1.8180\n",
            "Epoch 54/300\n",
            "\u001b[1m63/63\u001b[0m \u001b[32m━━━━━━━━━━━━━━━━━━━━\u001b[0m\u001b[37m\u001b[0m \u001b[1m0s\u001b[0m 3ms/step - acc: 0.3627 - loss: 1.7844 - val_acc: 0.3360 - val_loss: 1.8113\n",
            "Epoch 55/300\n",
            "\u001b[1m63/63\u001b[0m \u001b[32m━━━━━━━━━━━━━━━━━━━━\u001b[0m\u001b[37m\u001b[0m \u001b[1m0s\u001b[0m 3ms/step - acc: 0.3642 - loss: 1.7774 - val_acc: 0.3360 - val_loss: 1.8045\n",
            "Epoch 56/300\n",
            "\u001b[1m63/63\u001b[0m \u001b[32m━━━━━━━━━━━━━━━━━━━━\u001b[0m\u001b[37m\u001b[0m \u001b[1m0s\u001b[0m 2ms/step - acc: 0.3653 - loss: 1.7703 - val_acc: 0.3380 - val_loss: 1.7976\n",
            "Epoch 57/300\n",
            "\u001b[1m63/63\u001b[0m \u001b[32m━━━━━━━━━━━━━━━━━━━━\u001b[0m\u001b[37m\u001b[0m \u001b[1m0s\u001b[0m 3ms/step - acc: 0.3661 - loss: 1.7632 - val_acc: 0.3380 - val_loss: 1.7906\n",
            "Epoch 58/300\n",
            "\u001b[1m63/63\u001b[0m \u001b[32m━━━━━━━━━━━━━━━━━━━━\u001b[0m\u001b[37m\u001b[0m \u001b[1m0s\u001b[0m 3ms/step - acc: 0.3672 - loss: 1.7559 - val_acc: 0.3421 - val_loss: 1.7835\n",
            "Epoch 59/300\n",
            "\u001b[1m63/63\u001b[0m \u001b[32m━━━━━━━━━━━━━━━━━━━━\u001b[0m\u001b[37m\u001b[0m \u001b[1m0s\u001b[0m 3ms/step - acc: 0.3684 - loss: 1.7485 - val_acc: 0.3441 - val_loss: 1.7764\n",
            "Epoch 60/300\n",
            "\u001b[1m63/63\u001b[0m \u001b[32m━━━━━━━━━━━━━━━━━━━━\u001b[0m\u001b[37m\u001b[0m \u001b[1m0s\u001b[0m 3ms/step - acc: 0.3709 - loss: 1.7411 - val_acc: 0.3441 - val_loss: 1.7691\n",
            "Epoch 61/300\n",
            "\u001b[1m63/63\u001b[0m \u001b[32m━━━━━━━━━━━━━━━━━━━━\u001b[0m\u001b[37m\u001b[0m \u001b[1m0s\u001b[0m 3ms/step - acc: 0.3742 - loss: 1.7336 - val_acc: 0.3461 - val_loss: 1.7618\n",
            "Epoch 62/300\n",
            "\u001b[1m63/63\u001b[0m \u001b[32m━━━━━━━━━━━━━━━━━━━━\u001b[0m\u001b[37m\u001b[0m \u001b[1m0s\u001b[0m 3ms/step - acc: 0.3769 - loss: 1.7261 - val_acc: 0.3461 - val_loss: 1.7544\n",
            "Epoch 63/300\n",
            "\u001b[1m63/63\u001b[0m \u001b[32m━━━━━━━━━━━━━━━━━━━━\u001b[0m\u001b[37m\u001b[0m \u001b[1m0s\u001b[0m 2ms/step - acc: 0.3777 - loss: 1.7186 - val_acc: 0.3441 - val_loss: 1.7470\n",
            "Epoch 64/300\n",
            "\u001b[1m63/63\u001b[0m \u001b[32m━━━━━━━━━━━━━━━━━━━━\u001b[0m\u001b[37m\u001b[0m \u001b[1m0s\u001b[0m 4ms/step - acc: 0.3780 - loss: 1.7110 - val_acc: 0.3441 - val_loss: 1.7395\n",
            "Epoch 65/300\n",
            "\u001b[1m63/63\u001b[0m \u001b[32m━━━━━━━━━━━━━━━━━━━━\u001b[0m\u001b[37m\u001b[0m \u001b[1m0s\u001b[0m 4ms/step - acc: 0.3808 - loss: 1.7034 - val_acc: 0.3461 - val_loss: 1.7320\n",
            "Epoch 66/300\n",
            "\u001b[1m63/63\u001b[0m \u001b[32m━━━━━━━━━━━━━━━━━━━━\u001b[0m\u001b[37m\u001b[0m \u001b[1m0s\u001b[0m 4ms/step - acc: 0.3833 - loss: 1.6957 - val_acc: 0.3461 - val_loss: 1.7245\n",
            "Epoch 67/300\n",
            "\u001b[1m63/63\u001b[0m \u001b[32m━━━━━━━━━━━━━━━━━━━━\u001b[0m\u001b[37m\u001b[0m \u001b[1m0s\u001b[0m 4ms/step - acc: 0.3849 - loss: 1.6881 - val_acc: 0.3461 - val_loss: 1.7169\n",
            "Epoch 68/300\n",
            "\u001b[1m63/63\u001b[0m \u001b[32m━━━━━━━━━━━━━━━━━━━━\u001b[0m\u001b[37m\u001b[0m \u001b[1m0s\u001b[0m 3ms/step - acc: 0.3849 - loss: 1.6804 - val_acc: 0.3501 - val_loss: 1.7093\n",
            "Epoch 69/300\n",
            "\u001b[1m63/63\u001b[0m \u001b[32m━━━━━━━━━━━━━━━━━━━━\u001b[0m\u001b[37m\u001b[0m \u001b[1m0s\u001b[0m 5ms/step - acc: 0.3876 - loss: 1.6727 - val_acc: 0.3521 - val_loss: 1.7017\n",
            "Epoch 70/300\n",
            "\u001b[1m63/63\u001b[0m \u001b[32m━━━━━━━━━━━━━━━━━━━━\u001b[0m\u001b[37m\u001b[0m \u001b[1m1s\u001b[0m 4ms/step - acc: 0.3879 - loss: 1.6650 - val_acc: 0.3541 - val_loss: 1.6941\n",
            "Epoch 71/300\n",
            "\u001b[1m63/63\u001b[0m \u001b[32m━━━━━━━━━━━━━━━━━━━━\u001b[0m\u001b[37m\u001b[0m \u001b[1m1s\u001b[0m 5ms/step - acc: 0.3897 - loss: 1.6572 - val_acc: 0.3561 - val_loss: 1.6865\n",
            "Epoch 72/300\n",
            "\u001b[1m63/63\u001b[0m \u001b[32m━━━━━━━━━━━━━━━━━━━━\u001b[0m\u001b[37m\u001b[0m \u001b[1m0s\u001b[0m 3ms/step - acc: 0.3930 - loss: 1.6495 - val_acc: 0.3581 - val_loss: 1.6789\n",
            "Epoch 73/300\n",
            "\u001b[1m63/63\u001b[0m \u001b[32m━━━━━━━━━━━━━━━━━━━━\u001b[0m\u001b[37m\u001b[0m \u001b[1m0s\u001b[0m 3ms/step - acc: 0.3949 - loss: 1.6418 - val_acc: 0.3622 - val_loss: 1.6714\n",
            "Epoch 74/300\n",
            "\u001b[1m63/63\u001b[0m \u001b[32m━━━━━━━━━━━━━━━━━━━━\u001b[0m\u001b[37m\u001b[0m \u001b[1m0s\u001b[0m 3ms/step - acc: 0.3967 - loss: 1.6342 - val_acc: 0.3622 - val_loss: 1.6638\n",
            "Epoch 75/300\n",
            "\u001b[1m63/63\u001b[0m \u001b[32m━━━━━━━━━━━━━━━━━━━━\u001b[0m\u001b[37m\u001b[0m \u001b[1m0s\u001b[0m 3ms/step - acc: 0.3968 - loss: 1.6265 - val_acc: 0.3622 - val_loss: 1.6562\n",
            "Epoch 76/300\n",
            "\u001b[1m63/63\u001b[0m \u001b[32m━━━━━━━━━━━━━━━━━━━━\u001b[0m\u001b[37m\u001b[0m \u001b[1m0s\u001b[0m 3ms/step - acc: 0.3962 - loss: 1.6188 - val_acc: 0.3642 - val_loss: 1.6486\n",
            "Epoch 77/300\n",
            "\u001b[1m63/63\u001b[0m \u001b[32m━━━━━━━━━━━━━━━━━━━━\u001b[0m\u001b[37m\u001b[0m \u001b[1m0s\u001b[0m 2ms/step - acc: 0.3962 - loss: 1.6112 - val_acc: 0.3642 - val_loss: 1.6411\n",
            "Epoch 78/300\n",
            "\u001b[1m63/63\u001b[0m \u001b[32m━━━━━━━━━━━━━━━━━━━━\u001b[0m\u001b[37m\u001b[0m \u001b[1m0s\u001b[0m 3ms/step - acc: 0.3996 - loss: 1.6036 - val_acc: 0.3682 - val_loss: 1.6336\n",
            "Epoch 79/300\n",
            "\u001b[1m63/63\u001b[0m \u001b[32m━━━━━━━━━━━━━━━━━━━━\u001b[0m\u001b[37m\u001b[0m \u001b[1m0s\u001b[0m 2ms/step - acc: 0.4014 - loss: 1.5960 - val_acc: 0.3722 - val_loss: 1.6262\n",
            "Epoch 80/300\n",
            "\u001b[1m63/63\u001b[0m \u001b[32m━━━━━━━━━━━━━━━━━━━━\u001b[0m\u001b[37m\u001b[0m \u001b[1m0s\u001b[0m 2ms/step - acc: 0.4032 - loss: 1.5886 - val_acc: 0.3722 - val_loss: 1.6188\n",
            "Epoch 81/300\n",
            "\u001b[1m63/63\u001b[0m \u001b[32m━━━━━━━━━━━━━━━━━━━━\u001b[0m\u001b[37m\u001b[0m \u001b[1m0s\u001b[0m 2ms/step - acc: 0.4033 - loss: 1.5813 - val_acc: 0.3722 - val_loss: 1.6115\n",
            "Epoch 82/300\n",
            "\u001b[1m63/63\u001b[0m \u001b[32m━━━━━━━━━━━━━━━━━━━━\u001b[0m\u001b[37m\u001b[0m \u001b[1m0s\u001b[0m 2ms/step - acc: 0.4077 - loss: 1.5741 - val_acc: 0.3783 - val_loss: 1.6044\n",
            "Epoch 83/300\n",
            "\u001b[1m63/63\u001b[0m \u001b[32m━━━━━━━━━━━━━━━━━━━━\u001b[0m\u001b[37m\u001b[0m \u001b[1m0s\u001b[0m 2ms/step - acc: 0.4111 - loss: 1.5668 - val_acc: 0.3803 - val_loss: 1.5972\n",
            "Epoch 84/300\n",
            "\u001b[1m63/63\u001b[0m \u001b[32m━━━━━━━━━━━━━━━━━━━━\u001b[0m\u001b[37m\u001b[0m \u001b[1m0s\u001b[0m 2ms/step - acc: 0.4130 - loss: 1.5597 - val_acc: 0.3823 - val_loss: 1.5901\n",
            "Epoch 85/300\n",
            "\u001b[1m63/63\u001b[0m \u001b[32m━━━━━━━━━━━━━━━━━━━━\u001b[0m\u001b[37m\u001b[0m \u001b[1m0s\u001b[0m 2ms/step - acc: 0.4139 - loss: 1.5526 - val_acc: 0.3843 - val_loss: 1.5831\n",
            "Epoch 86/300\n",
            "\u001b[1m63/63\u001b[0m \u001b[32m━━━━━━━━━━━━━━━━━━━━\u001b[0m\u001b[37m\u001b[0m \u001b[1m0s\u001b[0m 2ms/step - acc: 0.4196 - loss: 1.5455 - val_acc: 0.3883 - val_loss: 1.5762\n",
            "Epoch 87/300\n",
            "\u001b[1m63/63\u001b[0m \u001b[32m━━━━━━━━━━━━━━━━━━━━\u001b[0m\u001b[37m\u001b[0m \u001b[1m0s\u001b[0m 2ms/step - acc: 0.4205 - loss: 1.5384 - val_acc: 0.3924 - val_loss: 1.5693\n",
            "Epoch 88/300\n",
            "\u001b[1m63/63\u001b[0m \u001b[32m━━━━━━━━━━━━━━━━━━━━\u001b[0m\u001b[37m\u001b[0m \u001b[1m0s\u001b[0m 2ms/step - acc: 0.4212 - loss: 1.5315 - val_acc: 0.3944 - val_loss: 1.5625\n",
            "Epoch 89/300\n",
            "\u001b[1m63/63\u001b[0m \u001b[32m━━━━━━━━━━━━━━━━━━━━\u001b[0m\u001b[37m\u001b[0m \u001b[1m0s\u001b[0m 2ms/step - acc: 0.4219 - loss: 1.5245 - val_acc: 0.3984 - val_loss: 1.5558\n",
            "Epoch 90/300\n",
            "\u001b[1m63/63\u001b[0m \u001b[32m━━━━━━━━━━━━━━━━━━━━\u001b[0m\u001b[37m\u001b[0m \u001b[1m0s\u001b[0m 2ms/step - acc: 0.4247 - loss: 1.5175 - val_acc: 0.3984 - val_loss: 1.5490\n",
            "Epoch 91/300\n",
            "\u001b[1m63/63\u001b[0m \u001b[32m━━━━━━━━━━━━━━━━━━━━\u001b[0m\u001b[37m\u001b[0m \u001b[1m0s\u001b[0m 2ms/step - acc: 0.4285 - loss: 1.5106 - val_acc: 0.4004 - val_loss: 1.5423\n",
            "Epoch 92/300\n",
            "\u001b[1m63/63\u001b[0m \u001b[32m━━━━━━━━━━━━━━━━━━━━\u001b[0m\u001b[37m\u001b[0m \u001b[1m0s\u001b[0m 2ms/step - acc: 0.4297 - loss: 1.5038 - val_acc: 0.4064 - val_loss: 1.5357\n",
            "Epoch 93/300\n",
            "\u001b[1m63/63\u001b[0m \u001b[32m━━━━━━━━━━━━━━━━━━━━\u001b[0m\u001b[37m\u001b[0m \u001b[1m0s\u001b[0m 2ms/step - acc: 0.4315 - loss: 1.4971 - val_acc: 0.4105 - val_loss: 1.5291\n",
            "Epoch 94/300\n",
            "\u001b[1m63/63\u001b[0m \u001b[32m━━━━━━━━━━━━━━━━━━━━\u001b[0m\u001b[37m\u001b[0m \u001b[1m0s\u001b[0m 2ms/step - acc: 0.4329 - loss: 1.4904 - val_acc: 0.4125 - val_loss: 1.5226\n",
            "Epoch 95/300\n",
            "\u001b[1m63/63\u001b[0m \u001b[32m━━━━━━━━━━━━━━━━━━━━\u001b[0m\u001b[37m\u001b[0m \u001b[1m0s\u001b[0m 2ms/step - acc: 0.4352 - loss: 1.4838 - val_acc: 0.4145 - val_loss: 1.5161\n",
            "Epoch 96/300\n",
            "\u001b[1m63/63\u001b[0m \u001b[32m━━━━━━━━━━━━━━━━━━━━\u001b[0m\u001b[37m\u001b[0m \u001b[1m0s\u001b[0m 2ms/step - acc: 0.4359 - loss: 1.4772 - val_acc: 0.4165 - val_loss: 1.5097\n",
            "Epoch 97/300\n",
            "\u001b[1m63/63\u001b[0m \u001b[32m━━━━━━━━━━━━━━━━━━━━\u001b[0m\u001b[37m\u001b[0m \u001b[1m0s\u001b[0m 2ms/step - acc: 0.4375 - loss: 1.4707 - val_acc: 0.4205 - val_loss: 1.5033\n",
            "Epoch 98/300\n",
            "\u001b[1m63/63\u001b[0m \u001b[32m━━━━━━━━━━━━━━━━━━━━\u001b[0m\u001b[37m\u001b[0m \u001b[1m0s\u001b[0m 2ms/step - acc: 0.4400 - loss: 1.4643 - val_acc: 0.4205 - val_loss: 1.4970\n",
            "Epoch 99/300\n",
            "\u001b[1m63/63\u001b[0m \u001b[32m━━━━━━━━━━━━━━━━━━━━\u001b[0m\u001b[37m\u001b[0m \u001b[1m0s\u001b[0m 2ms/step - acc: 0.4420 - loss: 1.4579 - val_acc: 0.4225 - val_loss: 1.4907\n",
            "Epoch 100/300\n",
            "\u001b[1m63/63\u001b[0m \u001b[32m━━━━━━━━━━━━━━━━━━━━\u001b[0m\u001b[37m\u001b[0m \u001b[1m0s\u001b[0m 2ms/step - acc: 0.4447 - loss: 1.4516 - val_acc: 0.4245 - val_loss: 1.4845\n",
            "Epoch 101/300\n",
            "\u001b[1m63/63\u001b[0m \u001b[32m━━━━━━━━━━━━━━━━━━━━\u001b[0m\u001b[37m\u001b[0m \u001b[1m0s\u001b[0m 2ms/step - acc: 0.4466 - loss: 1.4453 - val_acc: 0.4245 - val_loss: 1.4784\n",
            "Epoch 102/300\n",
            "\u001b[1m63/63\u001b[0m \u001b[32m━━━━━━━━━━━━━━━━━━━━\u001b[0m\u001b[37m\u001b[0m \u001b[1m0s\u001b[0m 2ms/step - acc: 0.4506 - loss: 1.4392 - val_acc: 0.4286 - val_loss: 1.4723\n",
            "Epoch 103/300\n",
            "\u001b[1m63/63\u001b[0m \u001b[32m━━━━━━━━━━━━━━━━━━━━\u001b[0m\u001b[37m\u001b[0m \u001b[1m0s\u001b[0m 2ms/step - acc: 0.4507 - loss: 1.4331 - val_acc: 0.4366 - val_loss: 1.4663\n",
            "Epoch 104/300\n",
            "\u001b[1m63/63\u001b[0m \u001b[32m━━━━━━━━━━━━━━━━━━━━\u001b[0m\u001b[37m\u001b[0m \u001b[1m0s\u001b[0m 2ms/step - acc: 0.4549 - loss: 1.4270 - val_acc: 0.4386 - val_loss: 1.4604\n",
            "Epoch 105/300\n",
            "\u001b[1m63/63\u001b[0m \u001b[32m━━━━━━━━━━━━━━━━━━━━\u001b[0m\u001b[37m\u001b[0m \u001b[1m0s\u001b[0m 2ms/step - acc: 0.4584 - loss: 1.4211 - val_acc: 0.4406 - val_loss: 1.4545\n",
            "Epoch 106/300\n",
            "\u001b[1m63/63\u001b[0m \u001b[32m━━━━━━━━━━━━━━━━━━━━\u001b[0m\u001b[37m\u001b[0m \u001b[1m0s\u001b[0m 2ms/step - acc: 0.4612 - loss: 1.4151 - val_acc: 0.4447 - val_loss: 1.4487\n",
            "Epoch 107/300\n",
            "\u001b[1m63/63\u001b[0m \u001b[32m━━━━━━━━━━━━━━━━━━━━\u001b[0m\u001b[37m\u001b[0m \u001b[1m0s\u001b[0m 2ms/step - acc: 0.4626 - loss: 1.4093 - val_acc: 0.4447 - val_loss: 1.4430\n",
            "Epoch 108/300\n",
            "\u001b[1m63/63\u001b[0m \u001b[32m━━━━━━━━━━━━━━━━━━━━\u001b[0m\u001b[37m\u001b[0m \u001b[1m0s\u001b[0m 2ms/step - acc: 0.4645 - loss: 1.4035 - val_acc: 0.4527 - val_loss: 1.4373\n",
            "Epoch 109/300\n",
            "\u001b[1m63/63\u001b[0m \u001b[32m━━━━━━━━━━━━━━━━━━━━\u001b[0m\u001b[37m\u001b[0m \u001b[1m0s\u001b[0m 3ms/step - acc: 0.4670 - loss: 1.3978 - val_acc: 0.4547 - val_loss: 1.4317\n",
            "Epoch 110/300\n",
            "\u001b[1m63/63\u001b[0m \u001b[32m━━━━━━━━━━━━━━━━━━━━\u001b[0m\u001b[37m\u001b[0m \u001b[1m0s\u001b[0m 4ms/step - acc: 0.4725 - loss: 1.3921 - val_acc: 0.4588 - val_loss: 1.4261\n",
            "Epoch 111/300\n",
            "\u001b[1m63/63\u001b[0m \u001b[32m━━━━━━━━━━━━━━━━━━━━\u001b[0m\u001b[37m\u001b[0m \u001b[1m0s\u001b[0m 4ms/step - acc: 0.4746 - loss: 1.3865 - val_acc: 0.4608 - val_loss: 1.4206\n",
            "Epoch 112/300\n",
            "\u001b[1m63/63\u001b[0m \u001b[32m━━━━━━━━━━━━━━━━━━━━\u001b[0m\u001b[37m\u001b[0m \u001b[1m0s\u001b[0m 3ms/step - acc: 0.4796 - loss: 1.3809 - val_acc: 0.4608 - val_loss: 1.4152\n",
            "Epoch 113/300\n",
            "\u001b[1m63/63\u001b[0m \u001b[32m━━━━━━━━━━━━━━━━━━━━\u001b[0m\u001b[37m\u001b[0m \u001b[1m0s\u001b[0m 3ms/step - acc: 0.4832 - loss: 1.3754 - val_acc: 0.4628 - val_loss: 1.4097\n",
            "Epoch 114/300\n",
            "\u001b[1m63/63\u001b[0m \u001b[32m━━━━━━━━━━━━━━━━━━━━\u001b[0m\u001b[37m\u001b[0m \u001b[1m0s\u001b[0m 3ms/step - acc: 0.4858 - loss: 1.3700 - val_acc: 0.4648 - val_loss: 1.4043\n",
            "Epoch 115/300\n",
            "\u001b[1m63/63\u001b[0m \u001b[32m━━━━━━━━━━━━━━━━━━━━\u001b[0m\u001b[37m\u001b[0m \u001b[1m0s\u001b[0m 4ms/step - acc: 0.4891 - loss: 1.3646 - val_acc: 0.4688 - val_loss: 1.3990\n",
            "Epoch 116/300\n",
            "\u001b[1m63/63\u001b[0m \u001b[32m━━━━━━━━━━━━━━━━━━━━\u001b[0m\u001b[37m\u001b[0m \u001b[1m0s\u001b[0m 3ms/step - acc: 0.4931 - loss: 1.3592 - val_acc: 0.4708 - val_loss: 1.3937\n",
            "Epoch 117/300\n",
            "\u001b[1m63/63\u001b[0m \u001b[32m━━━━━━━━━━━━━━━━━━━━\u001b[0m\u001b[37m\u001b[0m \u001b[1m0s\u001b[0m 4ms/step - acc: 0.4970 - loss: 1.3539 - val_acc: 0.4769 - val_loss: 1.3884\n",
            "Epoch 118/300\n",
            "\u001b[1m63/63\u001b[0m \u001b[32m━━━━━━━━━━━━━━━━━━━━\u001b[0m\u001b[37m\u001b[0m \u001b[1m0s\u001b[0m 4ms/step - acc: 0.4978 - loss: 1.3487 - val_acc: 0.4769 - val_loss: 1.3832\n",
            "Epoch 119/300\n",
            "\u001b[1m63/63\u001b[0m \u001b[32m━━━━━━━━━━━━━━━━━━━━\u001b[0m\u001b[37m\u001b[0m \u001b[1m0s\u001b[0m 3ms/step - acc: 0.4988 - loss: 1.3435 - val_acc: 0.4769 - val_loss: 1.3781\n",
            "Epoch 120/300\n",
            "\u001b[1m63/63\u001b[0m \u001b[32m━━━━━━━━━━━━━━━━━━━━\u001b[0m\u001b[37m\u001b[0m \u001b[1m0s\u001b[0m 3ms/step - acc: 0.5016 - loss: 1.3384 - val_acc: 0.4809 - val_loss: 1.3730\n",
            "Epoch 121/300\n",
            "\u001b[1m63/63\u001b[0m \u001b[32m━━━━━━━━━━━━━━━━━━━━\u001b[0m\u001b[37m\u001b[0m \u001b[1m0s\u001b[0m 2ms/step - acc: 0.5054 - loss: 1.3333 - val_acc: 0.4809 - val_loss: 1.3679\n",
            "Epoch 122/300\n",
            "\u001b[1m63/63\u001b[0m \u001b[32m━━━━━━━━━━━━━━━━━━━━\u001b[0m\u001b[37m\u001b[0m \u001b[1m0s\u001b[0m 2ms/step - acc: 0.5064 - loss: 1.3282 - val_acc: 0.4809 - val_loss: 1.3629\n",
            "Epoch 123/300\n",
            "\u001b[1m63/63\u001b[0m \u001b[32m━━━━━━━━━━━━━━━━━━━━\u001b[0m\u001b[37m\u001b[0m \u001b[1m0s\u001b[0m 2ms/step - acc: 0.5065 - loss: 1.3232 - val_acc: 0.4809 - val_loss: 1.3579\n",
            "Epoch 124/300\n",
            "\u001b[1m63/63\u001b[0m \u001b[32m━━━━━━━━━━━━━━━━━━━━\u001b[0m\u001b[37m\u001b[0m \u001b[1m0s\u001b[0m 3ms/step - acc: 0.5070 - loss: 1.3183 - val_acc: 0.4909 - val_loss: 1.3529\n",
            "Epoch 125/300\n",
            "\u001b[1m63/63\u001b[0m \u001b[32m━━━━━━━━━━━━━━━━━━━━\u001b[0m\u001b[37m\u001b[0m \u001b[1m0s\u001b[0m 2ms/step - acc: 0.5123 - loss: 1.3134 - val_acc: 0.4950 - val_loss: 1.3480\n",
            "Epoch 126/300\n",
            "\u001b[1m63/63\u001b[0m \u001b[32m━━━━━━━━━━━━━━━━━━━━\u001b[0m\u001b[37m\u001b[0m \u001b[1m0s\u001b[0m 2ms/step - acc: 0.5135 - loss: 1.3085 - val_acc: 0.4990 - val_loss: 1.3432\n",
            "Epoch 127/300\n",
            "\u001b[1m63/63\u001b[0m \u001b[32m━━━━━━━━━━━━━━━━━━━━\u001b[0m\u001b[37m\u001b[0m \u001b[1m0s\u001b[0m 2ms/step - acc: 0.5157 - loss: 1.3037 - val_acc: 0.5030 - val_loss: 1.3383\n",
            "Epoch 128/300\n",
            "\u001b[1m63/63\u001b[0m \u001b[32m━━━━━━━━━━━━━━━━━━━━\u001b[0m\u001b[37m\u001b[0m \u001b[1m0s\u001b[0m 2ms/step - acc: 0.5159 - loss: 1.2989 - val_acc: 0.5050 - val_loss: 1.3336\n",
            "Epoch 129/300\n",
            "\u001b[1m63/63\u001b[0m \u001b[32m━━━━━━━━━━━━━━━━━━━━\u001b[0m\u001b[37m\u001b[0m \u001b[1m0s\u001b[0m 2ms/step - acc: 0.5163 - loss: 1.2942 - val_acc: 0.5070 - val_loss: 1.3288\n",
            "Epoch 130/300\n",
            "\u001b[1m63/63\u001b[0m \u001b[32m━━━━━━━━━━━━━━━━━━━━\u001b[0m\u001b[37m\u001b[0m \u001b[1m0s\u001b[0m 2ms/step - acc: 0.5180 - loss: 1.2895 - val_acc: 0.5070 - val_loss: 1.3241\n",
            "Epoch 131/300\n",
            "\u001b[1m63/63\u001b[0m \u001b[32m━━━━━━━━━━━━━━━━━━━━\u001b[0m\u001b[37m\u001b[0m \u001b[1m0s\u001b[0m 2ms/step - acc: 0.5189 - loss: 1.2848 - val_acc: 0.5070 - val_loss: 1.3195\n",
            "Epoch 132/300\n",
            "\u001b[1m63/63\u001b[0m \u001b[32m━━━━━━━━━━━━━━━━━━━━\u001b[0m\u001b[37m\u001b[0m \u001b[1m0s\u001b[0m 2ms/step - acc: 0.5196 - loss: 1.2802 - val_acc: 0.5091 - val_loss: 1.3149\n",
            "Epoch 133/300\n",
            "\u001b[1m63/63\u001b[0m \u001b[32m━━━━━━━━━━━━━━━━━━━━\u001b[0m\u001b[37m\u001b[0m \u001b[1m0s\u001b[0m 2ms/step - acc: 0.5220 - loss: 1.2756 - val_acc: 0.5111 - val_loss: 1.3103\n",
            "Epoch 134/300\n",
            "\u001b[1m63/63\u001b[0m \u001b[32m━━━━━━━━━━━━━━━━━━━━\u001b[0m\u001b[37m\u001b[0m \u001b[1m0s\u001b[0m 2ms/step - acc: 0.5228 - loss: 1.2711 - val_acc: 0.5111 - val_loss: 1.3057\n",
            "Epoch 135/300\n",
            "\u001b[1m63/63\u001b[0m \u001b[32m━━━━━━━━━━━━━━━━━━━━\u001b[0m\u001b[37m\u001b[0m \u001b[1m0s\u001b[0m 2ms/step - acc: 0.5238 - loss: 1.2666 - val_acc: 0.5151 - val_loss: 1.3012\n",
            "Epoch 136/300\n",
            "\u001b[1m63/63\u001b[0m \u001b[32m━━━━━━━━━━━━━━━━━━━━\u001b[0m\u001b[37m\u001b[0m \u001b[1m0s\u001b[0m 2ms/step - acc: 0.5238 - loss: 1.2621 - val_acc: 0.5171 - val_loss: 1.2968\n",
            "Epoch 137/300\n",
            "\u001b[1m63/63\u001b[0m \u001b[32m━━━━━━━━━━━━━━━━━━━━\u001b[0m\u001b[37m\u001b[0m \u001b[1m0s\u001b[0m 2ms/step - acc: 0.5242 - loss: 1.2576 - val_acc: 0.5171 - val_loss: 1.2923\n",
            "Epoch 138/300\n",
            "\u001b[1m63/63\u001b[0m \u001b[32m━━━━━━━━━━━━━━━━━━━━\u001b[0m\u001b[37m\u001b[0m \u001b[1m0s\u001b[0m 2ms/step - acc: 0.5252 - loss: 1.2532 - val_acc: 0.5171 - val_loss: 1.2879\n",
            "Epoch 139/300\n",
            "\u001b[1m63/63\u001b[0m \u001b[32m━━━━━━━━━━━━━━━━━━━━\u001b[0m\u001b[37m\u001b[0m \u001b[1m0s\u001b[0m 2ms/step - acc: 0.5266 - loss: 1.2489 - val_acc: 0.5231 - val_loss: 1.2835\n",
            "Epoch 140/300\n",
            "\u001b[1m63/63\u001b[0m \u001b[32m━━━━━━━━━━━━━━━━━━━━\u001b[0m\u001b[37m\u001b[0m \u001b[1m0s\u001b[0m 2ms/step - acc: 0.5276 - loss: 1.2445 - val_acc: 0.5252 - val_loss: 1.2791\n",
            "Epoch 141/300\n",
            "\u001b[1m63/63\u001b[0m \u001b[32m━━━━━━━━━━━━━━━━━━━━\u001b[0m\u001b[37m\u001b[0m \u001b[1m0s\u001b[0m 2ms/step - acc: 0.5286 - loss: 1.2402 - val_acc: 0.5252 - val_loss: 1.2748\n",
            "Epoch 142/300\n",
            "\u001b[1m63/63\u001b[0m \u001b[32m━━━━━━━━━━━━━━━━━━━━\u001b[0m\u001b[37m\u001b[0m \u001b[1m0s\u001b[0m 2ms/step - acc: 0.5299 - loss: 1.2359 - val_acc: 0.5252 - val_loss: 1.2705\n",
            "Epoch 143/300\n",
            "\u001b[1m63/63\u001b[0m \u001b[32m━━━━━━━━━━━━━━━━━━━━\u001b[0m\u001b[37m\u001b[0m \u001b[1m0s\u001b[0m 3ms/step - acc: 0.5327 - loss: 1.2317 - val_acc: 0.5252 - val_loss: 1.2662\n",
            "Epoch 144/300\n",
            "\u001b[1m63/63\u001b[0m \u001b[32m━━━━━━━━━━━━━━━━━━━━\u001b[0m\u001b[37m\u001b[0m \u001b[1m0s\u001b[0m 2ms/step - acc: 0.5355 - loss: 1.2275 - val_acc: 0.5272 - val_loss: 1.2620\n",
            "Epoch 145/300\n",
            "\u001b[1m63/63\u001b[0m \u001b[32m━━━━━━━━━━━━━━━━━━━━\u001b[0m\u001b[37m\u001b[0m \u001b[1m0s\u001b[0m 2ms/step - acc: 0.5369 - loss: 1.2233 - val_acc: 0.5312 - val_loss: 1.2578\n",
            "Epoch 146/300\n",
            "\u001b[1m63/63\u001b[0m \u001b[32m━━━━━━━━━━━━━━━━━━━━\u001b[0m\u001b[37m\u001b[0m \u001b[1m0s\u001b[0m 2ms/step - acc: 0.5374 - loss: 1.2191 - val_acc: 0.5312 - val_loss: 1.2536\n",
            "Epoch 147/300\n",
            "\u001b[1m63/63\u001b[0m \u001b[32m━━━━━━━━━━━━━━━━━━━━\u001b[0m\u001b[37m\u001b[0m \u001b[1m0s\u001b[0m 2ms/step - acc: 0.5387 - loss: 1.2149 - val_acc: 0.5332 - val_loss: 1.2495\n",
            "Epoch 148/300\n",
            "\u001b[1m63/63\u001b[0m \u001b[32m━━━━━━━━━━━━━━━━━━━━\u001b[0m\u001b[37m\u001b[0m \u001b[1m0s\u001b[0m 2ms/step - acc: 0.5391 - loss: 1.2108 - val_acc: 0.5352 - val_loss: 1.2454\n",
            "Epoch 149/300\n",
            "\u001b[1m63/63\u001b[0m \u001b[32m━━━━━━━━━━━━━━━━━━━━\u001b[0m\u001b[37m\u001b[0m \u001b[1m0s\u001b[0m 2ms/step - acc: 0.5402 - loss: 1.2067 - val_acc: 0.5352 - val_loss: 1.2413\n",
            "Epoch 150/300\n",
            "\u001b[1m63/63\u001b[0m \u001b[32m━━━━━━━━━━━━━━━━━━━━\u001b[0m\u001b[37m\u001b[0m \u001b[1m0s\u001b[0m 2ms/step - acc: 0.5410 - loss: 1.2027 - val_acc: 0.5352 - val_loss: 1.2373\n",
            "Epoch 151/300\n",
            "\u001b[1m63/63\u001b[0m \u001b[32m━━━━━━━━━━━━━━━━━━━━\u001b[0m\u001b[37m\u001b[0m \u001b[1m0s\u001b[0m 2ms/step - acc: 0.5418 - loss: 1.1986 - val_acc: 0.5392 - val_loss: 1.2332\n",
            "Epoch 152/300\n",
            "\u001b[1m63/63\u001b[0m \u001b[32m━━━━━━━━━━━━━━━━━━━━\u001b[0m\u001b[37m\u001b[0m \u001b[1m0s\u001b[0m 2ms/step - acc: 0.5432 - loss: 1.1946 - val_acc: 0.5412 - val_loss: 1.2293\n",
            "Epoch 153/300\n",
            "\u001b[1m63/63\u001b[0m \u001b[32m━━━━━━━━━━━━━━━━━━━━\u001b[0m\u001b[37m\u001b[0m \u001b[1m0s\u001b[0m 2ms/step - acc: 0.5453 - loss: 1.1907 - val_acc: 0.5433 - val_loss: 1.2253\n",
            "Epoch 154/300\n",
            "\u001b[1m63/63\u001b[0m \u001b[32m━━━━━━━━━━━━━━━━━━━━\u001b[0m\u001b[37m\u001b[0m \u001b[1m0s\u001b[0m 2ms/step - acc: 0.5459 - loss: 1.1867 - val_acc: 0.5433 - val_loss: 1.2213\n",
            "Epoch 155/300\n",
            "\u001b[1m63/63\u001b[0m \u001b[32m━━━━━━━━━━━━━━━━━━━━\u001b[0m\u001b[37m\u001b[0m \u001b[1m0s\u001b[0m 3ms/step - acc: 0.5459 - loss: 1.1828 - val_acc: 0.5433 - val_loss: 1.2174\n",
            "Epoch 156/300\n",
            "\u001b[1m63/63\u001b[0m \u001b[32m━━━━━━━━━━━━━━━━━━━━\u001b[0m\u001b[37m\u001b[0m \u001b[1m0s\u001b[0m 2ms/step - acc: 0.5479 - loss: 1.1789 - val_acc: 0.5433 - val_loss: 1.2135\n",
            "Epoch 157/300\n",
            "\u001b[1m63/63\u001b[0m \u001b[32m━━━━━━━━━━━━━━━━━━━━\u001b[0m\u001b[37m\u001b[0m \u001b[1m0s\u001b[0m 2ms/step - acc: 0.5486 - loss: 1.1750 - val_acc: 0.5433 - val_loss: 1.2097\n",
            "Epoch 158/300\n",
            "\u001b[1m63/63\u001b[0m \u001b[32m━━━━━━━━━━━━━━━━━━━━\u001b[0m\u001b[37m\u001b[0m \u001b[1m0s\u001b[0m 2ms/step - acc: 0.5487 - loss: 1.1712 - val_acc: 0.5433 - val_loss: 1.2059\n",
            "Epoch 159/300\n",
            "\u001b[1m63/63\u001b[0m \u001b[32m━━━━━━━━━━━━━━━━━━━━\u001b[0m\u001b[37m\u001b[0m \u001b[1m0s\u001b[0m 3ms/step - acc: 0.5500 - loss: 1.1674 - val_acc: 0.5453 - val_loss: 1.2021\n",
            "Epoch 160/300\n",
            "\u001b[1m63/63\u001b[0m \u001b[32m━━━━━━━━━━━━━━━━━━━━\u001b[0m\u001b[37m\u001b[0m \u001b[1m0s\u001b[0m 4ms/step - acc: 0.5511 - loss: 1.1636 - val_acc: 0.5453 - val_loss: 1.1983\n",
            "Epoch 161/300\n",
            "\u001b[1m63/63\u001b[0m \u001b[32m━━━━━━━━━━━━━━━━━━━━\u001b[0m\u001b[37m\u001b[0m \u001b[1m0s\u001b[0m 3ms/step - acc: 0.5512 - loss: 1.1598 - val_acc: 0.5453 - val_loss: 1.1945\n",
            "Epoch 162/300\n",
            "\u001b[1m63/63\u001b[0m \u001b[32m━━━━━━━━━━━━━━━━━━━━\u001b[0m\u001b[37m\u001b[0m \u001b[1m0s\u001b[0m 3ms/step - acc: 0.5513 - loss: 1.1561 - val_acc: 0.5453 - val_loss: 1.1908\n",
            "Epoch 163/300\n",
            "\u001b[1m63/63\u001b[0m \u001b[32m━━━━━━━━━━━━━━━━━━━━\u001b[0m\u001b[37m\u001b[0m \u001b[1m0s\u001b[0m 3ms/step - acc: 0.5522 - loss: 1.1524 - val_acc: 0.5453 - val_loss: 1.1871\n",
            "Epoch 164/300\n",
            "\u001b[1m63/63\u001b[0m \u001b[32m━━━━━━━━━━━━━━━━━━━━\u001b[0m\u001b[37m\u001b[0m \u001b[1m0s\u001b[0m 4ms/step - acc: 0.5536 - loss: 1.1487 - val_acc: 0.5473 - val_loss: 1.1835\n",
            "Epoch 165/300\n",
            "\u001b[1m63/63\u001b[0m \u001b[32m━━━━━━━━━━━━━━━━━━━━\u001b[0m\u001b[37m\u001b[0m \u001b[1m0s\u001b[0m 3ms/step - acc: 0.5545 - loss: 1.1451 - val_acc: 0.5473 - val_loss: 1.1798\n",
            "Epoch 166/300\n",
            "\u001b[1m63/63\u001b[0m \u001b[32m━━━━━━━━━━━━━━━━━━━━\u001b[0m\u001b[37m\u001b[0m \u001b[1m0s\u001b[0m 4ms/step - acc: 0.5554 - loss: 1.1414 - val_acc: 0.5493 - val_loss: 1.1762\n",
            "Epoch 167/300\n",
            "\u001b[1m63/63\u001b[0m \u001b[32m━━━━━━━━━━━━━━━━━━━━\u001b[0m\u001b[37m\u001b[0m \u001b[1m0s\u001b[0m 4ms/step - acc: 0.5554 - loss: 1.1378 - val_acc: 0.5493 - val_loss: 1.1726\n",
            "Epoch 168/300\n",
            "\u001b[1m63/63\u001b[0m \u001b[32m━━━━━━━━━━━━━━━━━━━━\u001b[0m\u001b[37m\u001b[0m \u001b[1m1s\u001b[0m 3ms/step - acc: 0.5556 - loss: 1.1342 - val_acc: 0.5493 - val_loss: 1.1691\n",
            "Epoch 169/300\n",
            "\u001b[1m63/63\u001b[0m \u001b[32m━━━━━━━━━━━━━━━━━━━━\u001b[0m\u001b[37m\u001b[0m \u001b[1m0s\u001b[0m 2ms/step - acc: 0.5558 - loss: 1.1307 - val_acc: 0.5493 - val_loss: 1.1655\n",
            "Epoch 170/300\n",
            "\u001b[1m63/63\u001b[0m \u001b[32m━━━━━━━━━━━━━━━━━━━━\u001b[0m\u001b[37m\u001b[0m \u001b[1m0s\u001b[0m 3ms/step - acc: 0.5565 - loss: 1.1271 - val_acc: 0.5493 - val_loss: 1.1620\n",
            "Epoch 171/300\n",
            "\u001b[1m63/63\u001b[0m \u001b[32m━━━━━━━━━━━━━━━━━━━━\u001b[0m\u001b[37m\u001b[0m \u001b[1m0s\u001b[0m 2ms/step - acc: 0.5586 - loss: 1.1236 - val_acc: 0.5533 - val_loss: 1.1585\n",
            "Epoch 172/300\n",
            "\u001b[1m63/63\u001b[0m \u001b[32m━━━━━━━━━━━━━━━━━━━━\u001b[0m\u001b[37m\u001b[0m \u001b[1m0s\u001b[0m 2ms/step - acc: 0.5617 - loss: 1.1201 - val_acc: 0.5533 - val_loss: 1.1550\n",
            "Epoch 173/300\n",
            "\u001b[1m63/63\u001b[0m \u001b[32m━━━━━━━━━━━━━━━━━━━━\u001b[0m\u001b[37m\u001b[0m \u001b[1m0s\u001b[0m 2ms/step - acc: 0.5619 - loss: 1.1166 - val_acc: 0.5533 - val_loss: 1.1516\n",
            "Epoch 174/300\n",
            "\u001b[1m63/63\u001b[0m \u001b[32m━━━━━━━━━━━━━━━━━━━━\u001b[0m\u001b[37m\u001b[0m \u001b[1m0s\u001b[0m 2ms/step - acc: 0.5636 - loss: 1.1131 - val_acc: 0.5553 - val_loss: 1.1481\n",
            "Epoch 175/300\n",
            "\u001b[1m63/63\u001b[0m \u001b[32m━━━━━━━━━━━━━━━━━━━━\u001b[0m\u001b[37m\u001b[0m \u001b[1m0s\u001b[0m 2ms/step - acc: 0.5643 - loss: 1.1097 - val_acc: 0.5594 - val_loss: 1.1447\n",
            "Epoch 176/300\n",
            "\u001b[1m63/63\u001b[0m \u001b[32m━━━━━━━━━━━━━━━━━━━━\u001b[0m\u001b[37m\u001b[0m \u001b[1m0s\u001b[0m 2ms/step - acc: 0.5645 - loss: 1.1063 - val_acc: 0.5594 - val_loss: 1.1413\n",
            "Epoch 177/300\n",
            "\u001b[1m63/63\u001b[0m \u001b[32m━━━━━━━━━━━━━━━━━━━━\u001b[0m\u001b[37m\u001b[0m \u001b[1m0s\u001b[0m 2ms/step - acc: 0.5648 - loss: 1.1029 - val_acc: 0.5614 - val_loss: 1.1380\n",
            "Epoch 178/300\n",
            "\u001b[1m63/63\u001b[0m \u001b[32m━━━━━━━━━━━━━━━━━━━━\u001b[0m\u001b[37m\u001b[0m \u001b[1m0s\u001b[0m 2ms/step - acc: 0.5684 - loss: 1.0995 - val_acc: 0.5614 - val_loss: 1.1346\n",
            "Epoch 179/300\n",
            "\u001b[1m63/63\u001b[0m \u001b[32m━━━━━━━━━━━━━━━━━━━━\u001b[0m\u001b[37m\u001b[0m \u001b[1m0s\u001b[0m 2ms/step - acc: 0.5692 - loss: 1.0962 - val_acc: 0.5634 - val_loss: 1.1313\n",
            "Epoch 180/300\n",
            "\u001b[1m63/63\u001b[0m \u001b[32m━━━━━━━━━━━━━━━━━━━━\u001b[0m\u001b[37m\u001b[0m \u001b[1m0s\u001b[0m 2ms/step - acc: 0.5697 - loss: 1.0929 - val_acc: 0.5634 - val_loss: 1.1280\n",
            "Epoch 181/300\n",
            "\u001b[1m63/63\u001b[0m \u001b[32m━━━━━━━━━━━━━━━━━━━━\u001b[0m\u001b[37m\u001b[0m \u001b[1m0s\u001b[0m 2ms/step - acc: 0.5708 - loss: 1.0896 - val_acc: 0.5634 - val_loss: 1.1247\n",
            "Epoch 182/300\n",
            "\u001b[1m63/63\u001b[0m \u001b[32m━━━━━━━━━━━━━━━━━━━━\u001b[0m\u001b[37m\u001b[0m \u001b[1m0s\u001b[0m 2ms/step - acc: 0.5711 - loss: 1.0863 - val_acc: 0.5634 - val_loss: 1.1214\n",
            "Epoch 183/300\n",
            "\u001b[1m63/63\u001b[0m \u001b[32m━━━━━━━━━━━━━━━━━━━━\u001b[0m\u001b[37m\u001b[0m \u001b[1m0s\u001b[0m 3ms/step - acc: 0.5734 - loss: 1.0830 - val_acc: 0.5634 - val_loss: 1.1182\n",
            "Epoch 184/300\n",
            "\u001b[1m63/63\u001b[0m \u001b[32m━━━━━━━━━━━━━━━━━━━━\u001b[0m\u001b[37m\u001b[0m \u001b[1m0s\u001b[0m 2ms/step - acc: 0.5735 - loss: 1.0798 - val_acc: 0.5654 - val_loss: 1.1149\n",
            "Epoch 185/300\n",
            "\u001b[1m63/63\u001b[0m \u001b[32m━━━━━━━━━━━━━━━━━━━━\u001b[0m\u001b[37m\u001b[0m \u001b[1m0s\u001b[0m 2ms/step - acc: 0.5744 - loss: 1.0766 - val_acc: 0.5654 - val_loss: 1.1117\n",
            "Epoch 186/300\n",
            "\u001b[1m63/63\u001b[0m \u001b[32m━━━━━━━━━━━━━━━━━━━━\u001b[0m\u001b[37m\u001b[0m \u001b[1m0s\u001b[0m 2ms/step - acc: 0.5745 - loss: 1.0734 - val_acc: 0.5654 - val_loss: 1.1085\n",
            "Epoch 187/300\n",
            "\u001b[1m63/63\u001b[0m \u001b[32m━━━━━━━━━━━━━━━━━━━━\u001b[0m\u001b[37m\u001b[0m \u001b[1m0s\u001b[0m 2ms/step - acc: 0.5746 - loss: 1.0702 - val_acc: 0.5654 - val_loss: 1.1053\n",
            "Epoch 188/300\n",
            "\u001b[1m63/63\u001b[0m \u001b[32m━━━━━━━━━━━━━━━━━━━━\u001b[0m\u001b[37m\u001b[0m \u001b[1m0s\u001b[0m 2ms/step - acc: 0.5763 - loss: 1.0671 - val_acc: 0.5674 - val_loss: 1.1021\n",
            "Epoch 189/300\n",
            "\u001b[1m63/63\u001b[0m \u001b[32m━━━━━━━━━━━━━━━━━━━━\u001b[0m\u001b[37m\u001b[0m \u001b[1m0s\u001b[0m 2ms/step - acc: 0.5764 - loss: 1.0639 - val_acc: 0.5694 - val_loss: 1.0990\n",
            "Epoch 190/300\n",
            "\u001b[1m63/63\u001b[0m \u001b[32m━━━━━━━━━━━━━━━━━━━━\u001b[0m\u001b[37m\u001b[0m \u001b[1m0s\u001b[0m 2ms/step - acc: 0.5764 - loss: 1.0608 - val_acc: 0.5714 - val_loss: 1.0959\n",
            "Epoch 191/300\n",
            "\u001b[1m63/63\u001b[0m \u001b[32m━━━━━━━━━━━━━━━━━━━━\u001b[0m\u001b[37m\u001b[0m \u001b[1m0s\u001b[0m 2ms/step - acc: 0.5777 - loss: 1.0577 - val_acc: 0.5755 - val_loss: 1.0928\n",
            "Epoch 192/300\n",
            "\u001b[1m63/63\u001b[0m \u001b[32m━━━━━━━━━━━━━━━━━━━━\u001b[0m\u001b[37m\u001b[0m \u001b[1m0s\u001b[0m 2ms/step - acc: 0.5782 - loss: 1.0547 - val_acc: 0.5755 - val_loss: 1.0898\n",
            "Epoch 193/300\n",
            "\u001b[1m63/63\u001b[0m \u001b[32m━━━━━━━━━━━━━━━━━━━━\u001b[0m\u001b[37m\u001b[0m \u001b[1m0s\u001b[0m 2ms/step - acc: 0.5802 - loss: 1.0516 - val_acc: 0.5795 - val_loss: 1.0867\n",
            "Epoch 194/300\n",
            "\u001b[1m63/63\u001b[0m \u001b[32m━━━━━━━━━━━━━━━━━━━━\u001b[0m\u001b[37m\u001b[0m \u001b[1m0s\u001b[0m 2ms/step - acc: 0.5808 - loss: 1.0485 - val_acc: 0.5795 - val_loss: 1.0836\n",
            "Epoch 195/300\n",
            "\u001b[1m63/63\u001b[0m \u001b[32m━━━━━━━━━━━━━━━━━━━━\u001b[0m\u001b[37m\u001b[0m \u001b[1m0s\u001b[0m 2ms/step - acc: 0.5830 - loss: 1.0455 - val_acc: 0.5795 - val_loss: 1.0806\n",
            "Epoch 196/300\n",
            "\u001b[1m63/63\u001b[0m \u001b[32m━━━━━━━━━━━━━━━━━━━━\u001b[0m\u001b[37m\u001b[0m \u001b[1m0s\u001b[0m 2ms/step - acc: 0.5844 - loss: 1.0425 - val_acc: 0.5835 - val_loss: 1.0776\n",
            "Epoch 197/300\n",
            "\u001b[1m63/63\u001b[0m \u001b[32m━━━━━━━━━━━━━━━━━━━━\u001b[0m\u001b[37m\u001b[0m \u001b[1m0s\u001b[0m 2ms/step - acc: 0.5882 - loss: 1.0396 - val_acc: 0.5855 - val_loss: 1.0746\n",
            "Epoch 198/300\n",
            "\u001b[1m63/63\u001b[0m \u001b[32m━━━━━━━━━━━━━━━━━━━━\u001b[0m\u001b[37m\u001b[0m \u001b[1m0s\u001b[0m 2ms/step - acc: 0.5885 - loss: 1.0366 - val_acc: 0.5875 - val_loss: 1.0716\n",
            "Epoch 199/300\n",
            "\u001b[1m63/63\u001b[0m \u001b[32m━━━━━━━━━━━━━━━━━━━━\u001b[0m\u001b[37m\u001b[0m \u001b[1m0s\u001b[0m 2ms/step - acc: 0.5898 - loss: 1.0337 - val_acc: 0.5875 - val_loss: 1.0687\n",
            "Epoch 200/300\n",
            "\u001b[1m63/63\u001b[0m \u001b[32m━━━━━━━━━━━━━━━━━━━━\u001b[0m\u001b[37m\u001b[0m \u001b[1m0s\u001b[0m 2ms/step - acc: 0.5898 - loss: 1.0308 - val_acc: 0.5895 - val_loss: 1.0657\n",
            "Epoch 201/300\n",
            "\u001b[1m63/63\u001b[0m \u001b[32m━━━━━━━━━━━━━━━━━━━━\u001b[0m\u001b[37m\u001b[0m \u001b[1m0s\u001b[0m 2ms/step - acc: 0.5902 - loss: 1.0279 - val_acc: 0.5895 - val_loss: 1.0628\n",
            "Epoch 202/300\n",
            "\u001b[1m63/63\u001b[0m \u001b[32m━━━━━━━━━━━━━━━━━━━━\u001b[0m\u001b[37m\u001b[0m \u001b[1m0s\u001b[0m 2ms/step - acc: 0.5925 - loss: 1.0250 - val_acc: 0.5936 - val_loss: 1.0599\n",
            "Epoch 203/300\n",
            "\u001b[1m63/63\u001b[0m \u001b[32m━━━━━━━━━━━━━━━━━━━━\u001b[0m\u001b[37m\u001b[0m \u001b[1m0s\u001b[0m 2ms/step - acc: 0.5926 - loss: 1.0221 - val_acc: 0.5936 - val_loss: 1.0570\n",
            "Epoch 204/300\n",
            "\u001b[1m63/63\u001b[0m \u001b[32m━━━━━━━━━━━━━━━━━━━━\u001b[0m\u001b[37m\u001b[0m \u001b[1m0s\u001b[0m 2ms/step - acc: 0.5933 - loss: 1.0193 - val_acc: 0.5936 - val_loss: 1.0541\n",
            "Epoch 205/300\n",
            "\u001b[1m63/63\u001b[0m \u001b[32m━━━━━━━━━━━━━━━━━━━━\u001b[0m\u001b[37m\u001b[0m \u001b[1m0s\u001b[0m 2ms/step - acc: 0.5957 - loss: 1.0164 - val_acc: 0.5976 - val_loss: 1.0513\n",
            "Epoch 206/300\n",
            "\u001b[1m63/63\u001b[0m \u001b[32m━━━━━━━━━━━━━━━━━━━━\u001b[0m\u001b[37m\u001b[0m \u001b[1m0s\u001b[0m 2ms/step - acc: 0.5962 - loss: 1.0136 - val_acc: 0.5976 - val_loss: 1.0484\n",
            "Epoch 207/300\n",
            "\u001b[1m63/63\u001b[0m \u001b[32m━━━━━━━━━━━━━━━━━━━━\u001b[0m\u001b[37m\u001b[0m \u001b[1m0s\u001b[0m 2ms/step - acc: 0.5993 - loss: 1.0108 - val_acc: 0.5996 - val_loss: 1.0456\n",
            "Epoch 208/300\n",
            "\u001b[1m63/63\u001b[0m \u001b[32m━━━━━━━━━━━━━━━━━━━━\u001b[0m\u001b[37m\u001b[0m \u001b[1m0s\u001b[0m 4ms/step - acc: 0.5998 - loss: 1.0080 - val_acc: 0.6016 - val_loss: 1.0428\n",
            "Epoch 209/300\n",
            "\u001b[1m63/63\u001b[0m \u001b[32m━━━━━━━━━━━━━━━━━━━━\u001b[0m\u001b[37m\u001b[0m \u001b[1m0s\u001b[0m 3ms/step - acc: 0.6049 - loss: 1.0052 - val_acc: 0.6016 - val_loss: 1.0400\n",
            "Epoch 210/300\n",
            "\u001b[1m63/63\u001b[0m \u001b[32m━━━━━━━━━━━━━━━━━━━━\u001b[0m\u001b[37m\u001b[0m \u001b[1m0s\u001b[0m 3ms/step - acc: 0.6062 - loss: 1.0025 - val_acc: 0.6016 - val_loss: 1.0372\n",
            "Epoch 211/300\n",
            "\u001b[1m63/63\u001b[0m \u001b[32m━━━━━━━━━━━━━━━━━━━━\u001b[0m\u001b[37m\u001b[0m \u001b[1m0s\u001b[0m 3ms/step - acc: 0.6067 - loss: 0.9998 - val_acc: 0.6056 - val_loss: 1.0345\n",
            "Epoch 212/300\n",
            "\u001b[1m63/63\u001b[0m \u001b[32m━━━━━━━━━━━━━━━━━━━━\u001b[0m\u001b[37m\u001b[0m \u001b[1m0s\u001b[0m 3ms/step - acc: 0.6080 - loss: 0.9970 - val_acc: 0.6056 - val_loss: 1.0317\n",
            "Epoch 213/300\n",
            "\u001b[1m63/63\u001b[0m \u001b[32m━━━━━━━━━━━━━━━━━━━━\u001b[0m\u001b[37m\u001b[0m \u001b[1m0s\u001b[0m 3ms/step - acc: 0.6098 - loss: 0.9943 - val_acc: 0.6056 - val_loss: 1.0290\n",
            "Epoch 214/300\n",
            "\u001b[1m63/63\u001b[0m \u001b[32m━━━━━━━━━━━━━━━━━━━━\u001b[0m\u001b[37m\u001b[0m \u001b[1m0s\u001b[0m 4ms/step - acc: 0.6103 - loss: 0.9917 - val_acc: 0.6076 - val_loss: 1.0263\n",
            "Epoch 215/300\n",
            "\u001b[1m63/63\u001b[0m \u001b[32m━━━━━━━━━━━━━━━━━━━━\u001b[0m\u001b[37m\u001b[0m \u001b[1m0s\u001b[0m 4ms/step - acc: 0.6126 - loss: 0.9890 - val_acc: 0.6076 - val_loss: 1.0236\n",
            "Epoch 216/300\n",
            "\u001b[1m63/63\u001b[0m \u001b[32m━━━━━━━━━━━━━━━━━━━━\u001b[0m\u001b[37m\u001b[0m \u001b[1m0s\u001b[0m 4ms/step - acc: 0.6126 - loss: 0.9863 - val_acc: 0.6076 - val_loss: 1.0210\n",
            "Epoch 217/300\n",
            "\u001b[1m63/63\u001b[0m \u001b[32m━━━━━━━━━━━━━━━━━━━━\u001b[0m\u001b[37m\u001b[0m \u001b[1m0s\u001b[0m 4ms/step - acc: 0.6136 - loss: 0.9837 - val_acc: 0.6097 - val_loss: 1.0183\n",
            "Epoch 218/300\n",
            "\u001b[1m63/63\u001b[0m \u001b[32m━━━━━━━━━━━━━━━━━━━━\u001b[0m\u001b[37m\u001b[0m \u001b[1m0s\u001b[0m 3ms/step - acc: 0.6165 - loss: 0.9811 - val_acc: 0.6137 - val_loss: 1.0156\n",
            "Epoch 219/300\n",
            "\u001b[1m63/63\u001b[0m \u001b[32m━━━━━━━━━━━━━━━━━━━━\u001b[0m\u001b[37m\u001b[0m \u001b[1m0s\u001b[0m 2ms/step - acc: 0.6174 - loss: 0.9785 - val_acc: 0.6137 - val_loss: 1.0130\n",
            "Epoch 220/300\n",
            "\u001b[1m63/63\u001b[0m \u001b[32m━━━━━━━━━━━━━━━━━━━━\u001b[0m\u001b[37m\u001b[0m \u001b[1m0s\u001b[0m 2ms/step - acc: 0.6195 - loss: 0.9759 - val_acc: 0.6157 - val_loss: 1.0104\n",
            "Epoch 221/300\n",
            "\u001b[1m63/63\u001b[0m \u001b[32m━━━━━━━━━━━━━━━━━━━━\u001b[0m\u001b[37m\u001b[0m \u001b[1m0s\u001b[0m 3ms/step - acc: 0.6221 - loss: 0.9733 - val_acc: 0.6157 - val_loss: 1.0078\n",
            "Epoch 222/300\n",
            "\u001b[1m63/63\u001b[0m \u001b[32m━━━━━━━━━━━━━━━━━━━━\u001b[0m\u001b[37m\u001b[0m \u001b[1m0s\u001b[0m 2ms/step - acc: 0.6257 - loss: 0.9708 - val_acc: 0.6157 - val_loss: 1.0052\n",
            "Epoch 223/300\n",
            "\u001b[1m63/63\u001b[0m \u001b[32m━━━━━━━━━━━━━━━━━━━━\u001b[0m\u001b[37m\u001b[0m \u001b[1m0s\u001b[0m 2ms/step - acc: 0.6308 - loss: 0.9682 - val_acc: 0.6177 - val_loss: 1.0026\n",
            "Epoch 224/300\n",
            "\u001b[1m63/63\u001b[0m \u001b[32m━━━━━━━━━━━━━━━━━━━━\u001b[0m\u001b[37m\u001b[0m \u001b[1m0s\u001b[0m 2ms/step - acc: 0.6323 - loss: 0.9657 - val_acc: 0.6197 - val_loss: 1.0001\n",
            "Epoch 225/300\n",
            "\u001b[1m63/63\u001b[0m \u001b[32m━━━━━━━━━━━━━━━━━━━━\u001b[0m\u001b[37m\u001b[0m \u001b[1m0s\u001b[0m 2ms/step - acc: 0.6339 - loss: 0.9632 - val_acc: 0.6217 - val_loss: 0.9975\n",
            "Epoch 226/300\n",
            "\u001b[1m63/63\u001b[0m \u001b[32m━━━━━━━━━━━━━━━━━━━━\u001b[0m\u001b[37m\u001b[0m \u001b[1m0s\u001b[0m 2ms/step - acc: 0.6368 - loss: 0.9606 - val_acc: 0.6217 - val_loss: 0.9950\n",
            "Epoch 227/300\n",
            "\u001b[1m63/63\u001b[0m \u001b[32m━━━━━━━━━━━━━━━━━━━━\u001b[0m\u001b[37m\u001b[0m \u001b[1m0s\u001b[0m 2ms/step - acc: 0.6380 - loss: 0.9582 - val_acc: 0.6278 - val_loss: 0.9925\n",
            "Epoch 228/300\n",
            "\u001b[1m63/63\u001b[0m \u001b[32m━━━━━━━━━━━━━━━━━━━━\u001b[0m\u001b[37m\u001b[0m \u001b[1m0s\u001b[0m 2ms/step - acc: 0.6389 - loss: 0.9557 - val_acc: 0.6298 - val_loss: 0.9900\n",
            "Epoch 229/300\n",
            "\u001b[1m63/63\u001b[0m \u001b[32m━━━━━━━━━━━━━━━━━━━━\u001b[0m\u001b[37m\u001b[0m \u001b[1m0s\u001b[0m 2ms/step - acc: 0.6390 - loss: 0.9532 - val_acc: 0.6318 - val_loss: 0.9874\n",
            "Epoch 230/300\n",
            "\u001b[1m63/63\u001b[0m \u001b[32m━━━━━━━━━━━━━━━━━━━━\u001b[0m\u001b[37m\u001b[0m \u001b[1m0s\u001b[0m 3ms/step - acc: 0.6427 - loss: 0.9507 - val_acc: 0.6318 - val_loss: 0.9850\n",
            "Epoch 231/300\n",
            "\u001b[1m63/63\u001b[0m \u001b[32m━━━━━━━━━━━━━━━━━━━━\u001b[0m\u001b[37m\u001b[0m \u001b[1m0s\u001b[0m 2ms/step - acc: 0.6444 - loss: 0.9483 - val_acc: 0.6358 - val_loss: 0.9825\n",
            "Epoch 232/300\n",
            "\u001b[1m63/63\u001b[0m \u001b[32m━━━━━━━━━━━━━━━━━━━━\u001b[0m\u001b[37m\u001b[0m \u001b[1m0s\u001b[0m 2ms/step - acc: 0.6464 - loss: 0.9459 - val_acc: 0.6378 - val_loss: 0.9800\n",
            "Epoch 233/300\n",
            "\u001b[1m63/63\u001b[0m \u001b[32m━━━━━━━━━━━━━━━━━━━━\u001b[0m\u001b[37m\u001b[0m \u001b[1m0s\u001b[0m 2ms/step - acc: 0.6499 - loss: 0.9434 - val_acc: 0.6439 - val_loss: 0.9776\n",
            "Epoch 234/300\n",
            "\u001b[1m63/63\u001b[0m \u001b[32m━━━━━━━━━━━━━━━━━━━━\u001b[0m\u001b[37m\u001b[0m \u001b[1m0s\u001b[0m 2ms/step - acc: 0.6522 - loss: 0.9410 - val_acc: 0.6479 - val_loss: 0.9752\n",
            "Epoch 235/300\n",
            "\u001b[1m63/63\u001b[0m \u001b[32m━━━━━━━━━━━━━━━━━━━━\u001b[0m\u001b[37m\u001b[0m \u001b[1m0s\u001b[0m 2ms/step - acc: 0.6573 - loss: 0.9387 - val_acc: 0.6479 - val_loss: 0.9728\n",
            "Epoch 236/300\n",
            "\u001b[1m63/63\u001b[0m \u001b[32m━━━━━━━━━━━━━━━━━━━━\u001b[0m\u001b[37m\u001b[0m \u001b[1m0s\u001b[0m 2ms/step - acc: 0.6615 - loss: 0.9363 - val_acc: 0.6539 - val_loss: 0.9704\n",
            "Epoch 237/300\n",
            "\u001b[1m63/63\u001b[0m \u001b[32m━━━━━━━━━━━━━━━━━━━━\u001b[0m\u001b[37m\u001b[0m \u001b[1m0s\u001b[0m 2ms/step - acc: 0.6638 - loss: 0.9339 - val_acc: 0.6559 - val_loss: 0.9680\n",
            "Epoch 238/300\n",
            "\u001b[1m63/63\u001b[0m \u001b[32m━━━━━━━━━━━━━━━━━━━━\u001b[0m\u001b[37m\u001b[0m \u001b[1m0s\u001b[0m 2ms/step - acc: 0.6650 - loss: 0.9316 - val_acc: 0.6579 - val_loss: 0.9656\n",
            "Epoch 239/300\n",
            "\u001b[1m63/63\u001b[0m \u001b[32m━━━━━━━━━━━━━━━━━━━━\u001b[0m\u001b[37m\u001b[0m \u001b[1m0s\u001b[0m 2ms/step - acc: 0.6688 - loss: 0.9292 - val_acc: 0.6620 - val_loss: 0.9632\n",
            "Epoch 240/300\n",
            "\u001b[1m63/63\u001b[0m \u001b[32m━━━━━━━━━━━━━━━━━━━━\u001b[0m\u001b[37m\u001b[0m \u001b[1m0s\u001b[0m 2ms/step - acc: 0.6706 - loss: 0.9269 - val_acc: 0.6660 - val_loss: 0.9609\n",
            "Epoch 241/300\n",
            "\u001b[1m63/63\u001b[0m \u001b[32m━━━━━━━━━━━━━━━━━━━━\u001b[0m\u001b[37m\u001b[0m \u001b[1m0s\u001b[0m 2ms/step - acc: 0.6715 - loss: 0.9246 - val_acc: 0.6660 - val_loss: 0.9585\n",
            "Epoch 242/300\n",
            "\u001b[1m63/63\u001b[0m \u001b[32m━━━━━━━━━━━━━━━━━━━━\u001b[0m\u001b[37m\u001b[0m \u001b[1m0s\u001b[0m 2ms/step - acc: 0.6763 - loss: 0.9223 - val_acc: 0.6680 - val_loss: 0.9561\n",
            "Epoch 243/300\n",
            "\u001b[1m63/63\u001b[0m \u001b[32m━━━━━━━━━━━━━━━━━━━━\u001b[0m\u001b[37m\u001b[0m \u001b[1m0s\u001b[0m 2ms/step - acc: 0.6776 - loss: 0.9200 - val_acc: 0.6680 - val_loss: 0.9538\n",
            "Epoch 244/300\n",
            "\u001b[1m63/63\u001b[0m \u001b[32m━━━━━━━━━━━━━━━━━━━━\u001b[0m\u001b[37m\u001b[0m \u001b[1m0s\u001b[0m 2ms/step - acc: 0.6801 - loss: 0.9177 - val_acc: 0.6700 - val_loss: 0.9515\n",
            "Epoch 245/300\n",
            "\u001b[1m63/63\u001b[0m \u001b[32m━━━━━━━━━━━━━━━━━━━━\u001b[0m\u001b[37m\u001b[0m \u001b[1m0s\u001b[0m 3ms/step - acc: 0.6824 - loss: 0.9154 - val_acc: 0.6720 - val_loss: 0.9492\n",
            "Epoch 246/300\n",
            "\u001b[1m63/63\u001b[0m \u001b[32m━━━━━━━━━━━━━━━━━━━━\u001b[0m\u001b[37m\u001b[0m \u001b[1m0s\u001b[0m 2ms/step - acc: 0.6837 - loss: 0.9132 - val_acc: 0.6781 - val_loss: 0.9469\n",
            "Epoch 247/300\n",
            "\u001b[1m63/63\u001b[0m \u001b[32m━━━━━━━━━━━━━━━━━━━━\u001b[0m\u001b[37m\u001b[0m \u001b[1m0s\u001b[0m 2ms/step - acc: 0.6858 - loss: 0.9109 - val_acc: 0.6801 - val_loss: 0.9446\n",
            "Epoch 248/300\n",
            "\u001b[1m63/63\u001b[0m \u001b[32m━━━━━━━━━━━━━━━━━━━━\u001b[0m\u001b[37m\u001b[0m \u001b[1m0s\u001b[0m 2ms/step - acc: 0.6862 - loss: 0.9087 - val_acc: 0.6821 - val_loss: 0.9424\n",
            "Epoch 249/300\n",
            "\u001b[1m63/63\u001b[0m \u001b[32m━━━━━━━━━━━━━━━━━━━━\u001b[0m\u001b[37m\u001b[0m \u001b[1m0s\u001b[0m 2ms/step - acc: 0.6868 - loss: 0.9065 - val_acc: 0.6861 - val_loss: 0.9401\n",
            "Epoch 250/300\n",
            "\u001b[1m63/63\u001b[0m \u001b[32m━━━━━━━━━━━━━━━━━━━━\u001b[0m\u001b[37m\u001b[0m \u001b[1m0s\u001b[0m 2ms/step - acc: 0.6908 - loss: 0.9042 - val_acc: 0.6861 - val_loss: 0.9379\n",
            "Epoch 251/300\n",
            "\u001b[1m63/63\u001b[0m \u001b[32m━━━━━━━━━━━━━━━━━━━━\u001b[0m\u001b[37m\u001b[0m \u001b[1m0s\u001b[0m 2ms/step - acc: 0.6917 - loss: 0.9020 - val_acc: 0.6901 - val_loss: 0.9356\n",
            "Epoch 252/300\n",
            "\u001b[1m63/63\u001b[0m \u001b[32m━━━━━━━━━━━━━━━━━━━━\u001b[0m\u001b[37m\u001b[0m \u001b[1m0s\u001b[0m 2ms/step - acc: 0.6923 - loss: 0.8998 - val_acc: 0.6922 - val_loss: 0.9334\n",
            "Epoch 253/300\n",
            "\u001b[1m63/63\u001b[0m \u001b[32m━━━━━━━━━━━━━━━━━━━━\u001b[0m\u001b[37m\u001b[0m \u001b[1m0s\u001b[0m 2ms/step - acc: 0.6923 - loss: 0.8977 - val_acc: 0.6962 - val_loss: 0.9312\n",
            "Epoch 254/300\n",
            "\u001b[1m63/63\u001b[0m \u001b[32m━━━━━━━━━━━━━━━━━━━━\u001b[0m\u001b[37m\u001b[0m \u001b[1m0s\u001b[0m 2ms/step - acc: 0.6943 - loss: 0.8955 - val_acc: 0.6962 - val_loss: 0.9290\n",
            "Epoch 255/300\n",
            "\u001b[1m63/63\u001b[0m \u001b[32m━━━━━━━━━━━━━━━━━━━━\u001b[0m\u001b[37m\u001b[0m \u001b[1m0s\u001b[0m 2ms/step - acc: 0.6961 - loss: 0.8933 - val_acc: 0.6962 - val_loss: 0.9268\n",
            "Epoch 256/300\n",
            "\u001b[1m63/63\u001b[0m \u001b[32m━━━━━━━━━━━━━━━━━━━━\u001b[0m\u001b[37m\u001b[0m \u001b[1m0s\u001b[0m 3ms/step - acc: 0.6986 - loss: 0.8912 - val_acc: 0.6962 - val_loss: 0.9246\n",
            "Epoch 257/300\n",
            "\u001b[1m63/63\u001b[0m \u001b[32m━━━━━━━━━━━━━━━━━━━━\u001b[0m\u001b[37m\u001b[0m \u001b[1m0s\u001b[0m 4ms/step - acc: 0.7041 - loss: 0.8890 - val_acc: 0.6982 - val_loss: 0.9225\n",
            "Epoch 258/300\n",
            "\u001b[1m63/63\u001b[0m \u001b[32m━━━━━━━━━━━━━━━━━━━━\u001b[0m\u001b[37m\u001b[0m \u001b[1m1s\u001b[0m 4ms/step - acc: 0.7044 - loss: 0.8869 - val_acc: 0.7002 - val_loss: 0.9203\n",
            "Epoch 259/300\n",
            "\u001b[1m63/63\u001b[0m \u001b[32m━━━━━━━━━━━━━━━━━━━━\u001b[0m\u001b[37m\u001b[0m \u001b[1m0s\u001b[0m 3ms/step - acc: 0.7064 - loss: 0.8848 - val_acc: 0.7002 - val_loss: 0.9181\n",
            "Epoch 260/300\n",
            "\u001b[1m63/63\u001b[0m \u001b[32m━━━━━━━━━━━━━━━━━━━━\u001b[0m\u001b[37m\u001b[0m \u001b[1m0s\u001b[0m 4ms/step - acc: 0.7081 - loss: 0.8827 - val_acc: 0.7002 - val_loss: 0.9160\n",
            "Epoch 261/300\n",
            "\u001b[1m63/63\u001b[0m \u001b[32m━━━━━━━━━━━━━━━━━━━━\u001b[0m\u001b[37m\u001b[0m \u001b[1m0s\u001b[0m 5ms/step - acc: 0.7092 - loss: 0.8806 - val_acc: 0.7002 - val_loss: 0.9139\n",
            "Epoch 262/300\n",
            "\u001b[1m63/63\u001b[0m \u001b[32m━━━━━━━━━━━━━━━━━━━━\u001b[0m\u001b[37m\u001b[0m \u001b[1m0s\u001b[0m 4ms/step - acc: 0.7119 - loss: 0.8785 - val_acc: 0.7022 - val_loss: 0.9118\n",
            "Epoch 263/300\n",
            "\u001b[1m63/63\u001b[0m \u001b[32m━━━━━━━━━━━━━━━━━━━━\u001b[0m\u001b[37m\u001b[0m \u001b[1m0s\u001b[0m 3ms/step - acc: 0.7145 - loss: 0.8764 - val_acc: 0.7022 - val_loss: 0.9097\n",
            "Epoch 264/300\n",
            "\u001b[1m63/63\u001b[0m \u001b[32m━━━━━━━━━━━━━━━━━━━━\u001b[0m\u001b[37m\u001b[0m \u001b[1m0s\u001b[0m 4ms/step - acc: 0.7163 - loss: 0.8744 - val_acc: 0.7042 - val_loss: 0.9076\n",
            "Epoch 265/300\n",
            "\u001b[1m63/63\u001b[0m \u001b[32m━━━━━━━━━━━━━━━━━━━━\u001b[0m\u001b[37m\u001b[0m \u001b[1m1s\u001b[0m 7ms/step - acc: 0.7170 - loss: 0.8723 - val_acc: 0.7103 - val_loss: 0.9055\n",
            "Epoch 266/300\n",
            "\u001b[1m63/63\u001b[0m \u001b[32m━━━━━━━━━━━━━━━━━━━━\u001b[0m\u001b[37m\u001b[0m \u001b[1m0s\u001b[0m 2ms/step - acc: 0.7185 - loss: 0.8703 - val_acc: 0.7103 - val_loss: 0.9034\n",
            "Epoch 267/300\n",
            "\u001b[1m63/63\u001b[0m \u001b[32m━━━━━━━━━━━━━━━━━━━━\u001b[0m\u001b[37m\u001b[0m \u001b[1m1s\u001b[0m 7ms/step - acc: 0.7222 - loss: 0.8682 - val_acc: 0.7143 - val_loss: 0.9014\n",
            "Epoch 268/300\n",
            "\u001b[1m63/63\u001b[0m \u001b[32m━━━━━━━━━━━━━━━━━━━━\u001b[0m\u001b[37m\u001b[0m \u001b[1m0s\u001b[0m 2ms/step - acc: 0.7260 - loss: 0.8662 - val_acc: 0.7163 - val_loss: 0.8993\n",
            "Epoch 269/300\n",
            "\u001b[1m63/63\u001b[0m \u001b[32m━━━━━━━━━━━━━━━━━━━━\u001b[0m\u001b[37m\u001b[0m \u001b[1m0s\u001b[0m 2ms/step - acc: 0.7272 - loss: 0.8642 - val_acc: 0.7203 - val_loss: 0.8973\n",
            "Epoch 270/300\n",
            "\u001b[1m63/63\u001b[0m \u001b[32m━━━━━━━━━━━━━━━━━━━━\u001b[0m\u001b[37m\u001b[0m \u001b[1m1s\u001b[0m 8ms/step - acc: 0.7303 - loss: 0.8622 - val_acc: 0.7203 - val_loss: 0.8952\n",
            "Epoch 271/300\n",
            "\u001b[1m63/63\u001b[0m \u001b[32m━━━━━━━━━━━━━━━━━━━━\u001b[0m\u001b[37m\u001b[0m \u001b[1m0s\u001b[0m 2ms/step - acc: 0.7330 - loss: 0.8602 - val_acc: 0.7223 - val_loss: 0.8932\n",
            "Epoch 272/300\n",
            "\u001b[1m63/63\u001b[0m \u001b[32m━━━━━━━━━━━━━━━━━━━━\u001b[0m\u001b[37m\u001b[0m \u001b[1m0s\u001b[0m 2ms/step - acc: 0.7346 - loss: 0.8582 - val_acc: 0.7243 - val_loss: 0.8912\n",
            "Epoch 273/300\n",
            "\u001b[1m63/63\u001b[0m \u001b[32m━━━━━━━━━━━━━━━━━━━━\u001b[0m\u001b[37m\u001b[0m \u001b[1m0s\u001b[0m 2ms/step - acc: 0.7346 - loss: 0.8563 - val_acc: 0.7264 - val_loss: 0.8892\n",
            "Epoch 274/300\n",
            "\u001b[1m63/63\u001b[0m \u001b[32m━━━━━━━━━━━━━━━━━━━━\u001b[0m\u001b[37m\u001b[0m \u001b[1m0s\u001b[0m 3ms/step - acc: 0.7395 - loss: 0.8543 - val_acc: 0.7284 - val_loss: 0.8872\n",
            "Epoch 275/300\n",
            "\u001b[1m63/63\u001b[0m \u001b[32m━━━━━━━━━━━━━━━━━━━━\u001b[0m\u001b[37m\u001b[0m \u001b[1m0s\u001b[0m 2ms/step - acc: 0.7399 - loss: 0.8523 - val_acc: 0.7284 - val_loss: 0.8852\n",
            "Epoch 276/300\n",
            "\u001b[1m63/63\u001b[0m \u001b[32m━━━━━━━━━━━━━━━━━━━━\u001b[0m\u001b[37m\u001b[0m \u001b[1m0s\u001b[0m 3ms/step - acc: 0.7414 - loss: 0.8504 - val_acc: 0.7284 - val_loss: 0.8832\n",
            "Epoch 277/300\n",
            "\u001b[1m63/63\u001b[0m \u001b[32m━━━━━━━━━━━━━━━━━━━━\u001b[0m\u001b[37m\u001b[0m \u001b[1m0s\u001b[0m 4ms/step - acc: 0.7433 - loss: 0.8484 - val_acc: 0.7284 - val_loss: 0.8813\n",
            "Epoch 278/300\n",
            "\u001b[1m63/63\u001b[0m \u001b[32m━━━━━━━━━━━━━━━━━━━━\u001b[0m\u001b[37m\u001b[0m \u001b[1m0s\u001b[0m 4ms/step - acc: 0.7436 - loss: 0.8465 - val_acc: 0.7284 - val_loss: 0.8793\n",
            "Epoch 279/300\n",
            "\u001b[1m63/63\u001b[0m \u001b[32m━━━━━━━━━━━━━━━━━━━━\u001b[0m\u001b[37m\u001b[0m \u001b[1m0s\u001b[0m 3ms/step - acc: 0.7460 - loss: 0.8446 - val_acc: 0.7284 - val_loss: 0.8774\n",
            "Epoch 280/300\n",
            "\u001b[1m63/63\u001b[0m \u001b[32m━━━━━━━━━━━━━━━━━━━━\u001b[0m\u001b[37m\u001b[0m \u001b[1m0s\u001b[0m 3ms/step - acc: 0.7472 - loss: 0.8427 - val_acc: 0.7284 - val_loss: 0.8755\n",
            "Epoch 281/300\n",
            "\u001b[1m63/63\u001b[0m \u001b[32m━━━━━━━━━━━━━━━━━━━━\u001b[0m\u001b[37m\u001b[0m \u001b[1m0s\u001b[0m 4ms/step - acc: 0.7489 - loss: 0.8408 - val_acc: 0.7344 - val_loss: 0.8735\n",
            "Epoch 282/300\n",
            "\u001b[1m63/63\u001b[0m \u001b[32m━━━━━━━━━━━━━━━━━━━━\u001b[0m\u001b[37m\u001b[0m \u001b[1m0s\u001b[0m 4ms/step - acc: 0.7500 - loss: 0.8389 - val_acc: 0.7364 - val_loss: 0.8716\n",
            "Epoch 283/300\n",
            "\u001b[1m63/63\u001b[0m \u001b[32m━━━━━━━━━━━━━━━━━━━━\u001b[0m\u001b[37m\u001b[0m \u001b[1m0s\u001b[0m 4ms/step - acc: 0.7526 - loss: 0.8370 - val_acc: 0.7364 - val_loss: 0.8697\n",
            "Epoch 284/300\n",
            "\u001b[1m63/63\u001b[0m \u001b[32m━━━━━━━━━━━━━━━━━━━━\u001b[0m\u001b[37m\u001b[0m \u001b[1m0s\u001b[0m 4ms/step - acc: 0.7542 - loss: 0.8351 - val_acc: 0.7384 - val_loss: 0.8678\n",
            "Epoch 285/300\n",
            "\u001b[1m63/63\u001b[0m \u001b[32m━━━━━━━━━━━━━━━━━━━━\u001b[0m\u001b[37m\u001b[0m \u001b[1m0s\u001b[0m 5ms/step - acc: 0.7554 - loss: 0.8332 - val_acc: 0.7404 - val_loss: 0.8659\n",
            "Epoch 286/300\n",
            "\u001b[1m63/63\u001b[0m \u001b[32m━━━━━━━━━━━━━━━━━━━━\u001b[0m\u001b[37m\u001b[0m \u001b[1m0s\u001b[0m 2ms/step - acc: 0.7554 - loss: 0.8314 - val_acc: 0.7425 - val_loss: 0.8640\n",
            "Epoch 287/300\n",
            "\u001b[1m63/63\u001b[0m \u001b[32m━━━━━━━━━━━━━━━━━━━━\u001b[0m\u001b[37m\u001b[0m \u001b[1m0s\u001b[0m 2ms/step - acc: 0.7578 - loss: 0.8295 - val_acc: 0.7425 - val_loss: 0.8621\n",
            "Epoch 288/300\n",
            "\u001b[1m63/63\u001b[0m \u001b[32m━━━━━━━━━━━━━━━━━━━━\u001b[0m\u001b[37m\u001b[0m \u001b[1m0s\u001b[0m 2ms/step - acc: 0.7591 - loss: 0.8277 - val_acc: 0.7445 - val_loss: 0.8602\n",
            "Epoch 289/300\n",
            "\u001b[1m63/63\u001b[0m \u001b[32m━━━━━━━━━━━━━━━━━━━━\u001b[0m\u001b[37m\u001b[0m \u001b[1m0s\u001b[0m 2ms/step - acc: 0.7591 - loss: 0.8258 - val_acc: 0.7505 - val_loss: 0.8584\n",
            "Epoch 290/300\n",
            "\u001b[1m63/63\u001b[0m \u001b[32m━━━━━━━━━━━━━━━━━━━━\u001b[0m\u001b[37m\u001b[0m \u001b[1m0s\u001b[0m 2ms/step - acc: 0.7596 - loss: 0.8240 - val_acc: 0.7505 - val_loss: 0.8565\n",
            "Epoch 291/300\n",
            "\u001b[1m63/63\u001b[0m \u001b[32m━━━━━━━━━━━━━━━━━━━━\u001b[0m\u001b[37m\u001b[0m \u001b[1m0s\u001b[0m 2ms/step - acc: 0.7632 - loss: 0.8222 - val_acc: 0.7545 - val_loss: 0.8546\n",
            "Epoch 292/300\n",
            "\u001b[1m63/63\u001b[0m \u001b[32m━━━━━━━━━━━━━━━━━━━━\u001b[0m\u001b[37m\u001b[0m \u001b[1m0s\u001b[0m 2ms/step - acc: 0.7653 - loss: 0.8203 - val_acc: 0.7545 - val_loss: 0.8528\n",
            "Epoch 293/300\n",
            "\u001b[1m63/63\u001b[0m \u001b[32m━━━━━━━━━━━━━━━━━━━━\u001b[0m\u001b[37m\u001b[0m \u001b[1m0s\u001b[0m 3ms/step - acc: 0.7685 - loss: 0.8185 - val_acc: 0.7606 - val_loss: 0.8510\n",
            "Epoch 294/300\n",
            "\u001b[1m63/63\u001b[0m \u001b[32m━━━━━━━━━━━━━━━━━━━━\u001b[0m\u001b[37m\u001b[0m \u001b[1m0s\u001b[0m 2ms/step - acc: 0.7688 - loss: 0.8167 - val_acc: 0.7646 - val_loss: 0.8492\n",
            "Epoch 295/300\n",
            "\u001b[1m63/63\u001b[0m \u001b[32m━━━━━━━━━━━━━━━━━━━━\u001b[0m\u001b[37m\u001b[0m \u001b[1m0s\u001b[0m 3ms/step - acc: 0.7710 - loss: 0.8149 - val_acc: 0.7726 - val_loss: 0.8473\n",
            "Epoch 296/300\n",
            "\u001b[1m63/63\u001b[0m \u001b[32m━━━━━━━━━━━━━━━━━━━━\u001b[0m\u001b[37m\u001b[0m \u001b[1m0s\u001b[0m 4ms/step - acc: 0.7731 - loss: 0.8132 - val_acc: 0.7726 - val_loss: 0.8455\n",
            "Epoch 297/300\n",
            "\u001b[1m63/63\u001b[0m \u001b[32m━━━━━━━━━━━━━━━━━━━━\u001b[0m\u001b[37m\u001b[0m \u001b[1m0s\u001b[0m 4ms/step - acc: 0.7745 - loss: 0.8114 - val_acc: 0.7726 - val_loss: 0.8437\n",
            "Epoch 298/300\n",
            "\u001b[1m63/63\u001b[0m \u001b[32m━━━━━━━━━━━━━━━━━━━━\u001b[0m\u001b[37m\u001b[0m \u001b[1m0s\u001b[0m 3ms/step - acc: 0.7774 - loss: 0.8096 - val_acc: 0.7746 - val_loss: 0.8419\n",
            "Epoch 299/300\n",
            "\u001b[1m63/63\u001b[0m \u001b[32m━━━━━━━━━━━━━━━━━━━━\u001b[0m\u001b[37m\u001b[0m \u001b[1m0s\u001b[0m 4ms/step - acc: 0.7775 - loss: 0.8079 - val_acc: 0.7787 - val_loss: 0.8401\n",
            "Epoch 300/300\n",
            "\u001b[1m63/63\u001b[0m \u001b[32m━━━━━━━━━━━━━━━━━━━━\u001b[0m\u001b[37m\u001b[0m \u001b[1m1s\u001b[0m 5ms/step - acc: 0.7797 - loss: 0.8061 - val_acc: 0.7787 - val_loss: 0.8383\n"
          ]
        }
      ],
      "source": [
        "tf.random.set_seed(42)  # extra code – ensures reproducibility\n",
        "norm_layer = tf.keras.layers.Normalization() # Realmente hace una estandardization\n",
        " # Necestiamos hacer un \"fit\" previo como con el StandardScaler\n",
        "model = tf.keras.models.Sequential([\n",
        "    norm_layer,\n",
        "    tf.keras.layers.Dense(100, activation = \"relu\"),\n",
        "    tf.keras.layers.Dense(10, activation = \"softmax\")\n",
        "])\n",
        "model.compile(loss=\"sparse_categorical_crossentropy\", \n",
        "              optimizer=tf.keras.optimizers.SGD(learning_rate=0.01),\n",
        "              metrics =[\"acc\"])\n",
        "norm_layer.adapt(X_num.to_numpy())\n",
        "history = model.fit(X_num, y_num, validation_split = 0.2, epochs=300, callbacks= earlyS)"
      ]
    },
    {
      "cell_type": "code",
      "execution_count": 21,
      "metadata": {
        "colab": {
          "base_uri": "https://localhost:8080/"
        },
        "id": "WIbIsJSXkHaO",
        "outputId": "848ced04-52f5-4f5c-9fb5-9cdfd8dcf469"
      },
      "outputs": [
        {
          "name": "stdout",
          "output_type": "stream",
          "text": [
            "\u001b[1m20/20\u001b[0m \u001b[32m━━━━━━━━━━━━━━━━━━━━\u001b[0m\u001b[37m\u001b[0m \u001b[1m0s\u001b[0m 2ms/step - acc: 0.7225 - loss: 0.8456 \n"
          ]
        },
        {
          "data": {
            "text/plain": [
              "[0.8535881638526917, 0.7234726548194885]"
            ]
          },
          "execution_count": 21,
          "metadata": {},
          "output_type": "execute_result"
        }
      ],
      "source": [
        "model.evaluate(test_set[numericas], test_set[target])"
      ]
    },
    {
      "cell_type": "code",
      "execution_count": 22,
      "metadata": {
        "colab": {
          "base_uri": "https://localhost:8080/"
        },
        "id": "WDilaUJXkHaO",
        "outputId": "b354e33f-054b-4a07-9bff-a86c917a5261"
      },
      "outputs": [
        {
          "name": "stdout",
          "output_type": "stream",
          "text": [
            "\u001b[1m20/20\u001b[0m \u001b[32m━━━━━━━━━━━━━━━━━━━━\u001b[0m\u001b[37m\u001b[0m \u001b[1m0s\u001b[0m 5ms/step\n"
          ]
        }
      ],
      "source": [
        "y_pred  = [np.argmax(pred) for pred in model.predict(test_set[numericas])]"
      ]
    },
    {
      "cell_type": "code",
      "execution_count": 23,
      "metadata": {
        "id": "XSQhTCG9kHaP"
      },
      "outputs": [],
      "source": [
        "from sklearn.metrics import classification_report"
      ]
    },
    {
      "cell_type": "code",
      "execution_count": 24,
      "metadata": {
        "colab": {
          "base_uri": "https://localhost:8080/"
        },
        "id": "aorAbuYlkHaP",
        "outputId": "b0a644d1-1804-4b5d-e89a-277d11be2786",
        "scrolled": true
      },
      "outputs": [
        {
          "name": "stdout",
          "output_type": "stream",
          "text": [
            "              precision    recall  f1-score   support\n",
            "\n",
            "           0       0.78      1.00      0.87        62\n",
            "           1       0.00      0.00      0.00        16\n",
            "           2       0.68      0.65      0.67        23\n",
            "           3       0.67      0.33      0.44        18\n",
            "           4       0.62      0.67      0.64        27\n",
            "           5       0.00      0.00      0.00        38\n",
            "           6       0.23      0.14      0.18        83\n",
            "           7       0.53      0.99      0.69        94\n",
            "           8       0.99      0.85      0.91       110\n",
            "           9       0.96      1.00      0.98       151\n",
            "\n",
            "    accuracy                           0.72       622\n",
            "   macro avg       0.55      0.56      0.54       622\n",
            "weighted avg       0.67      0.72      0.68       622\n",
            "\n"
          ]
        }
      ],
      "source": [
        "print(classification_report(test_set[target], y_pred))"
      ]
    },
    {
      "cell_type": "markdown",
      "metadata": {
        "id": "Kefzb22QkHaP"
      },
      "source": [
        "Bien, pues ya tenemos baseline y una forma sencilla de incorporar la normalización a nuestro modelo, vamos con el resto de transformaciones, pero ya en la siguiente sesión."
      ]
    },
    {
      "cell_type": "markdown",
      "metadata": {
        "id": "C7_3TDcDkHaP"
      },
      "source": [
        "***"
      ]
    },
    {
      "cell_type": "markdown",
      "metadata": {
        "id": "cWd1DYFPkHaP"
      },
      "source": [
        "### Transformación de variables categóricas"
      ]
    },
    {
      "cell_type": "markdown",
      "metadata": {
        "id": "oqBwArE2kHaP"
      },
      "source": [
        "Vamos a transformar las categóricas y lo vamos a hacer con un \"ordinal encoder\" por un lado y con un \"onehot\" por otro, eso sí, usando las capas de Keras,y cuáles son categóricas:"
      ]
    },
    {
      "cell_type": "code",
      "execution_count": 25,
      "metadata": {
        "colab": {
          "base_uri": "https://localhost:8080/"
        },
        "id": "0Qzx9tH6kHaQ",
        "outputId": "3484ac08-9bcb-4bff-c47d-5de495bf8264"
      },
      "outputs": [
        {
          "name": "stdout",
          "output_type": "stream",
          "text": [
            "<class 'pandas.core.frame.DataFrame'>\n",
            "Index: 2485 entries, 2686 to 860\n",
            "Data columns (total 13 columns):\n",
            " #   Column                Non-Null Count  Dtype  \n",
            "---  ------                --------------  -----  \n",
            " 0   urlDrugName           2485 non-null   object \n",
            " 1   rating                2485 non-null   int64  \n",
            " 2   effectiveness         2485 non-null   object \n",
            " 3   sideEffects           2485 non-null   object \n",
            " 4   condition             2485 non-null   object \n",
            " 5   benefitsReview        2485 non-null   object \n",
            " 6   sideEffectsReview     2485 non-null   object \n",
            " 7   commentsReview        2485 non-null   object \n",
            " 8   Sales                 2485 non-null   int64  \n",
            " 9   Production            2485 non-null   float64\n",
            " 10  benefitsReview_wc     2485 non-null   int64  \n",
            " 11  sideEffectsReview_wc  2485 non-null   int64  \n",
            " 12  commentsReview_wc     2485 non-null   int64  \n",
            "dtypes: float64(1), int64(5), object(7)\n",
            "memory usage: 271.8+ KB\n"
          ]
        }
      ],
      "source": [
        "train_set.info()"
      ]
    },
    {
      "cell_type": "markdown",
      "metadata": {
        "id": "ZsOkRvlukHaQ"
      },
      "source": [
        "Tiene pinta de que todas las que son objetc que no son Review"
      ]
    },
    {
      "cell_type": "code",
      "execution_count": 26,
      "metadata": {
        "colab": {
          "base_uri": "https://localhost:8080/"
        },
        "id": "6M6uvQvAkHaQ",
        "outputId": "160d4447-bde2-4880-a039-438a4ee542c9"
      },
      "outputs": [
        {
          "data": {
            "text/plain": [
              "['urlDrugName', 'effectiveness', 'sideEffects', 'condition']"
            ]
          },
          "execution_count": 26,
          "metadata": {},
          "output_type": "execute_result"
        }
      ],
      "source": [
        "categoricals = [col for col in train_set.columns if \"Review\" not in col and train_set[col].dtype == \"object\"]\n",
        "categoricals"
      ]
    },
    {
      "cell_type": "markdown",
      "metadata": {
        "id": "XtQ_so3wkHaQ"
      },
      "source": [
        "Hagamos un check de cardinalidad:"
      ]
    },
    {
      "cell_type": "code",
      "execution_count": 27,
      "metadata": {
        "colab": {
          "base_uri": "https://localhost:8080/"
        },
        "id": "F6-o_l2NkHaQ",
        "outputId": "d276f953-ea42-4688-8dfc-55a44dceadce"
      },
      "outputs": [
        {
          "name": "stdout",
          "output_type": "stream",
          "text": [
            "Para <urlDrugName>: 463\n",
            "Para <effectiveness>: 5\n",
            "Para <sideEffects>: 5\n",
            "Para <condition>: 1203\n"
          ]
        }
      ],
      "source": [
        "for col in categoricals:\n",
        "    print(f\"Para <{col}>: {train_set[col].nunique()}\")"
      ]
    },
    {
      "cell_type": "code",
      "execution_count": 28,
      "metadata": {
        "colab": {
          "base_uri": "https://localhost:8080/",
          "height": 489
        },
        "id": "rCWHNH3okHaQ",
        "outputId": "b35ff614-da65-43b4-9f3d-3bdc4dc3d4ea"
      },
      "outputs": [
        {
          "data": {
            "text/html": [
              "<div>\n",
              "<style scoped>\n",
              "    .dataframe tbody tr th:only-of-type {\n",
              "        vertical-align: middle;\n",
              "    }\n",
              "\n",
              "    .dataframe tbody tr th {\n",
              "        vertical-align: top;\n",
              "    }\n",
              "\n",
              "    .dataframe thead th {\n",
              "        text-align: right;\n",
              "    }\n",
              "</style>\n",
              "<table border=\"1\" class=\"dataframe\">\n",
              "  <thead>\n",
              "    <tr style=\"text-align: right;\">\n",
              "      <th></th>\n",
              "      <th>count</th>\n",
              "    </tr>\n",
              "    <tr>\n",
              "      <th>condition</th>\n",
              "      <th></th>\n",
              "    </tr>\n",
              "  </thead>\n",
              "  <tbody>\n",
              "    <tr>\n",
              "      <th>depression</th>\n",
              "      <td>182</td>\n",
              "    </tr>\n",
              "    <tr>\n",
              "      <th>acne</th>\n",
              "      <td>135</td>\n",
              "    </tr>\n",
              "    <tr>\n",
              "      <th>anxiety</th>\n",
              "      <td>51</td>\n",
              "    </tr>\n",
              "    <tr>\n",
              "      <th>insomnia</th>\n",
              "      <td>41</td>\n",
              "    </tr>\n",
              "    <tr>\n",
              "      <th>birth control</th>\n",
              "      <td>34</td>\n",
              "    </tr>\n",
              "    <tr>\n",
              "      <th>...</th>\n",
              "      <td>...</td>\n",
              "    </tr>\n",
              "    <tr>\n",
              "      <th>major sinus infection</th>\n",
              "      <td>1</td>\n",
              "    </tr>\n",
              "    <tr>\n",
              "      <th>bipolar/raciness/insomnia</th>\n",
              "      <td>1</td>\n",
              "    </tr>\n",
              "    <tr>\n",
              "      <th>anxiety/insomnia/</th>\n",
              "      <td>1</td>\n",
              "    </tr>\n",
              "    <tr>\n",
              "      <th>infected site of oreal surgery</th>\n",
              "      <td>1</td>\n",
              "    </tr>\n",
              "    <tr>\n",
              "      <th>all over and various type pain</th>\n",
              "      <td>1</td>\n",
              "    </tr>\n",
              "  </tbody>\n",
              "</table>\n",
              "<p>1203 rows × 1 columns</p>\n",
              "</div><br><label><b>dtype:</b> int64</label>"
            ],
            "text/plain": [
              "condition\n",
              "depression                        182\n",
              "acne                              135\n",
              "anxiety                            51\n",
              "insomnia                           41\n",
              "birth control                      34\n",
              "                                 ... \n",
              "major sinus infection               1\n",
              "bipolar/raciness/insomnia           1\n",
              "anxiety/insomnia/                   1\n",
              "infected site of oreal surgery      1\n",
              "all over and various type pain      1\n",
              "Name: count, Length: 1203, dtype: int64"
            ]
          },
          "execution_count": 28,
          "metadata": {},
          "output_type": "execute_result"
        }
      ],
      "source": [
        "train_set.condition.value_counts()"
      ]
    },
    {
      "cell_type": "markdown",
      "metadata": {
        "id": "vI_n9ipQkHaQ"
      },
      "source": [
        "Tenemos que quitar la url y condition. Esta además tendría que tener un tratamiento particular (entre vectorización y compresión de categorías, que no vamos a hacer por tiempo y espacio)"
      ]
    },
    {
      "cell_type": "code",
      "execution_count": 29,
      "metadata": {
        "colab": {
          "base_uri": "https://localhost:8080/"
        },
        "id": "UMzxqdtAkHaR",
        "outputId": "a431f41d-f128-44a8-ac53-079e3b5be1d0"
      },
      "outputs": [
        {
          "data": {
            "text/plain": [
              "['effectiveness', 'sideEffects']"
            ]
          },
          "execution_count": 29,
          "metadata": {},
          "output_type": "execute_result"
        }
      ],
      "source": [
        "categoricals.remove(\"urlDrugName\")\n",
        "categoricals.remove(\"condition\")\n",
        "categoricals"
      ]
    },
    {
      "cell_type": "markdown",
      "metadata": {
        "id": "WfsMaD7zkHaR"
      },
      "source": [
        "### Ordinal Encoding layer (aka StringLookup)"
      ]
    },
    {
      "cell_type": "markdown",
      "metadata": {
        "id": "q9QA0j06kHaR"
      },
      "source": [
        "La forma de hacer el categórical encoding es unsar una capa de stringlookup que básicamente puede hacer ella el mapeo o se le puede dar (como en un ordinal de sklearn)"
      ]
    },
    {
      "cell_type": "markdown",
      "metadata": {
        "id": "p415VlmbkHaR"
      },
      "source": [
        "Vamos a añadir las categóricas de dos formas, pero primero vamos a hacerles su ordinal encoding. El único pero es que hay que hacerlo feature a feature"
      ]
    },
    {
      "cell_type": "code",
      "execution_count": 30,
      "metadata": {
        "id": "ecgsRvZNkHaR"
      },
      "outputs": [],
      "source": [
        "X_train = train_set[numericas + categoricals].copy()\n",
        "#X_train[categoricals] = ordinalEncoding(train_set[categoricals])\n",
        "X_test = test_set[numericas + categoricals].copy()\n",
        "#X_test[categoricals] = ordinalEncoding(test_set[categoricals])"
      ]
    },
    {
      "cell_type": "code",
      "execution_count": 31,
      "metadata": {
        "id": "pmdUzuzfkHaR"
      },
      "outputs": [],
      "source": [
        "tf.random.set_seed(42)\n",
        "normalization_layer = tf.keras.layers.Normalization()\n",
        "ordinalEncoding_layers = [tf.keras.layers.StringLookup() for cat in categoricals] # no le damos valor, pero aquí el argumento vocabulary permite pasar una lista,\n",
        "                                                 # una tupla, un array, un tensor con los strings ordenados de forma que el primero recibira la clase 0, etc\n",
        "\n",
        "#ordinalEncoding.adapt(train_set[categoricals]) # Al igual que la capa de normalización hay que hacerle su fit en este caso el método adapt\n",
        "concat_layer = tf.keras.layers.Concatenate(axis = -1)\n",
        "hidden_layer1 = tf.keras.layers.Dense(100, activation=\"relu\")\n",
        "output_layer = tf.keras.layers.Dense(10, activation = \"softmax\")\n",
        "\n",
        "\n",
        "normalization_layer.adapt(train_set[numericas].to_numpy())\n",
        "_ = [ordinalEncoding_layers[indice].adapt(train_set[col]) for indice,col in enumerate(categoricals)]\n",
        "\n",
        "earlyS = tf.keras.callbacks.EarlyStopping(patience=10, restore_best_weights= True)\n",
        "input_num = tf.keras.layers.Input(shape=(train_set[numericas].shape[1],))\n",
        "input_cats = [tf.keras.layers.Input(shape=(train_set[[col]].shape[1],), dtype = tf.string) for col in categoricals] # Importante decirle que entra una string\n",
        "normalized = normalization_layer(input_num)\n",
        "encoded = [ordinalEncoding_layers[i](input_cats[i]) for i in range(len(ordinalEncoding_layers))]\n",
        "concat = concat_layer([normalized] + encoded)\n",
        "hidden1 = hidden_layer1(concat)\n",
        "output = output_layer(hidden1)\n",
        "\n",
        "model = tf.keras.Model(inputs=[input_num] + input_cats, outputs=[output])"
      ]
    },
    {
      "cell_type": "code",
      "execution_count": 32,
      "metadata": {
        "id": "BuyKU7GmkHaS"
      },
      "outputs": [],
      "source": [
        "model.compile(loss=\"sparse_categorical_crossentropy\", \\\n",
        "              optimizer=tf.keras.optimizers.SGD(learning_rate=2e-1),\\\n",
        "              metrics =[\"acc\"])\n"
      ]
    },
    {
      "cell_type": "code",
      "execution_count": 33,
      "metadata": {
        "colab": {
          "base_uri": "https://localhost:8080/"
        },
        "id": "X0z38XXDkHaS",
        "outputId": "069f4a47-4ec3-4148-f428-91a0ce5b2e14"
      },
      "outputs": [
        {
          "data": {
            "text/plain": [
              "[<tf.Tensor: shape=(2485, 1), dtype=int64, numpy=\n",
              " array([[1],\n",
              "        [1],\n",
              "        [3],\n",
              "        ...,\n",
              "        [3],\n",
              "        [2],\n",
              "        [1]])>,\n",
              " <tf.Tensor: shape=(2485, 1), dtype=int64, numpy=\n",
              " array([[2],\n",
              "        [1],\n",
              "        [4],\n",
              "        ...,\n",
              "        [1],\n",
              "        [3],\n",
              "        [5]])>]"
            ]
          },
          "execution_count": 33,
          "metadata": {},
          "output_type": "execute_result"
        }
      ],
      "source": [
        "salida = tf.keras.Model(inputs = input_cats, outputs = encoded)\n",
        "salida([X_train[col] for col in categoricals])"
      ]
    },
    {
      "cell_type": "code",
      "execution_count": 34,
      "metadata": {
        "colab": {
          "base_uri": "https://localhost:8080/",
          "height": 423
        },
        "id": "k9u1SdZCkHaS",
        "outputId": "43a45015-5d52-40e8-cc67-c19a8934d629"
      },
      "outputs": [
        {
          "data": {
            "application/vnd.google.colaboratory.intrinsic+json": {
              "summary": "{\n  \"name\": \"X_train[[categoricals[0]]]\",\n  \"rows\": 2485,\n  \"fields\": [\n    {\n      \"column\": \"effectiveness\",\n      \"properties\": {\n        \"dtype\": \"category\",\n        \"num_unique_values\": 5,\n        \"samples\": [\n          \"Moderately Effective\",\n          \"Marginally Effective\",\n          \"Considerably Effective\"\n        ],\n        \"semantic_type\": \"\",\n        \"description\": \"\"\n      }\n    }\n  ]\n}",
              "type": "dataframe"
            },
            "text/html": [
              "\n",
              "  <div id=\"df-5b94fa63-1672-4b07-856a-c3351c3f9303\" class=\"colab-df-container\">\n",
              "    <div>\n",
              "<style scoped>\n",
              "    .dataframe tbody tr th:only-of-type {\n",
              "        vertical-align: middle;\n",
              "    }\n",
              "\n",
              "    .dataframe tbody tr th {\n",
              "        vertical-align: top;\n",
              "    }\n",
              "\n",
              "    .dataframe thead th {\n",
              "        text-align: right;\n",
              "    }\n",
              "</style>\n",
              "<table border=\"1\" class=\"dataframe\">\n",
              "  <thead>\n",
              "    <tr style=\"text-align: right;\">\n",
              "      <th></th>\n",
              "      <th>effectiveness</th>\n",
              "    </tr>\n",
              "  </thead>\n",
              "  <tbody>\n",
              "    <tr>\n",
              "      <th>2686</th>\n",
              "      <td>Highly Effective</td>\n",
              "    </tr>\n",
              "    <tr>\n",
              "      <th>1192</th>\n",
              "      <td>Highly Effective</td>\n",
              "    </tr>\n",
              "    <tr>\n",
              "      <th>2738</th>\n",
              "      <td>Moderately Effective</td>\n",
              "    </tr>\n",
              "    <tr>\n",
              "      <th>2780</th>\n",
              "      <td>Highly Effective</td>\n",
              "    </tr>\n",
              "    <tr>\n",
              "      <th>1735</th>\n",
              "      <td>Considerably Effective</td>\n",
              "    </tr>\n",
              "    <tr>\n",
              "      <th>...</th>\n",
              "      <td>...</td>\n",
              "    </tr>\n",
              "    <tr>\n",
              "      <th>3092</th>\n",
              "      <td>Highly Effective</td>\n",
              "    </tr>\n",
              "    <tr>\n",
              "      <th>1095</th>\n",
              "      <td>Ineffective</td>\n",
              "    </tr>\n",
              "    <tr>\n",
              "      <th>1130</th>\n",
              "      <td>Moderately Effective</td>\n",
              "    </tr>\n",
              "    <tr>\n",
              "      <th>1294</th>\n",
              "      <td>Considerably Effective</td>\n",
              "    </tr>\n",
              "    <tr>\n",
              "      <th>860</th>\n",
              "      <td>Highly Effective</td>\n",
              "    </tr>\n",
              "  </tbody>\n",
              "</table>\n",
              "<p>2485 rows × 1 columns</p>\n",
              "</div>\n",
              "    <div class=\"colab-df-buttons\">\n",
              "\n",
              "  <div class=\"colab-df-container\">\n",
              "    <button class=\"colab-df-convert\" onclick=\"convertToInteractive('df-5b94fa63-1672-4b07-856a-c3351c3f9303')\"\n",
              "            title=\"Convert this dataframe to an interactive table.\"\n",
              "            style=\"display:none;\">\n",
              "\n",
              "  <svg xmlns=\"http://www.w3.org/2000/svg\" height=\"24px\" viewBox=\"0 -960 960 960\">\n",
              "    <path d=\"M120-120v-720h720v720H120Zm60-500h600v-160H180v160Zm220 220h160v-160H400v160Zm0 220h160v-160H400v160ZM180-400h160v-160H180v160Zm440 0h160v-160H620v160ZM180-180h160v-160H180v160Zm440 0h160v-160H620v160Z\"/>\n",
              "  </svg>\n",
              "    </button>\n",
              "\n",
              "  <style>\n",
              "    .colab-df-container {\n",
              "      display:flex;\n",
              "      gap: 12px;\n",
              "    }\n",
              "\n",
              "    .colab-df-convert {\n",
              "      background-color: #E8F0FE;\n",
              "      border: none;\n",
              "      border-radius: 50%;\n",
              "      cursor: pointer;\n",
              "      display: none;\n",
              "      fill: #1967D2;\n",
              "      height: 32px;\n",
              "      padding: 0 0 0 0;\n",
              "      width: 32px;\n",
              "    }\n",
              "\n",
              "    .colab-df-convert:hover {\n",
              "      background-color: #E2EBFA;\n",
              "      box-shadow: 0px 1px 2px rgba(60, 64, 67, 0.3), 0px 1px 3px 1px rgba(60, 64, 67, 0.15);\n",
              "      fill: #174EA6;\n",
              "    }\n",
              "\n",
              "    .colab-df-buttons div {\n",
              "      margin-bottom: 4px;\n",
              "    }\n",
              "\n",
              "    [theme=dark] .colab-df-convert {\n",
              "      background-color: #3B4455;\n",
              "      fill: #D2E3FC;\n",
              "    }\n",
              "\n",
              "    [theme=dark] .colab-df-convert:hover {\n",
              "      background-color: #434B5C;\n",
              "      box-shadow: 0px 1px 3px 1px rgba(0, 0, 0, 0.15);\n",
              "      filter: drop-shadow(0px 1px 2px rgba(0, 0, 0, 0.3));\n",
              "      fill: #FFFFFF;\n",
              "    }\n",
              "  </style>\n",
              "\n",
              "    <script>\n",
              "      const buttonEl =\n",
              "        document.querySelector('#df-5b94fa63-1672-4b07-856a-c3351c3f9303 button.colab-df-convert');\n",
              "      buttonEl.style.display =\n",
              "        google.colab.kernel.accessAllowed ? 'block' : 'none';\n",
              "\n",
              "      async function convertToInteractive(key) {\n",
              "        const element = document.querySelector('#df-5b94fa63-1672-4b07-856a-c3351c3f9303');\n",
              "        const dataTable =\n",
              "          await google.colab.kernel.invokeFunction('convertToInteractive',\n",
              "                                                    [key], {});\n",
              "        if (!dataTable) return;\n",
              "\n",
              "        const docLinkHtml = 'Like what you see? Visit the ' +\n",
              "          '<a target=\"_blank\" href=https://colab.research.google.com/notebooks/data_table.ipynb>data table notebook</a>'\n",
              "          + ' to learn more about interactive tables.';\n",
              "        element.innerHTML = '';\n",
              "        dataTable['output_type'] = 'display_data';\n",
              "        await google.colab.output.renderOutput(dataTable, element);\n",
              "        const docLink = document.createElement('div');\n",
              "        docLink.innerHTML = docLinkHtml;\n",
              "        element.appendChild(docLink);\n",
              "      }\n",
              "    </script>\n",
              "  </div>\n",
              "\n",
              "\n",
              "<div id=\"df-872e8a65-c70e-4a5a-ac40-2f607dc56cce\">\n",
              "  <button class=\"colab-df-quickchart\" onclick=\"quickchart('df-872e8a65-c70e-4a5a-ac40-2f607dc56cce')\"\n",
              "            title=\"Suggest charts\"\n",
              "            style=\"display:none;\">\n",
              "\n",
              "<svg xmlns=\"http://www.w3.org/2000/svg\" height=\"24px\"viewBox=\"0 0 24 24\"\n",
              "     width=\"24px\">\n",
              "    <g>\n",
              "        <path d=\"M19 3H5c-1.1 0-2 .9-2 2v14c0 1.1.9 2 2 2h14c1.1 0 2-.9 2-2V5c0-1.1-.9-2-2-2zM9 17H7v-7h2v7zm4 0h-2V7h2v10zm4 0h-2v-4h2v4z\"/>\n",
              "    </g>\n",
              "</svg>\n",
              "  </button>\n",
              "\n",
              "<style>\n",
              "  .colab-df-quickchart {\n",
              "      --bg-color: #E8F0FE;\n",
              "      --fill-color: #1967D2;\n",
              "      --hover-bg-color: #E2EBFA;\n",
              "      --hover-fill-color: #174EA6;\n",
              "      --disabled-fill-color: #AAA;\n",
              "      --disabled-bg-color: #DDD;\n",
              "  }\n",
              "\n",
              "  [theme=dark] .colab-df-quickchart {\n",
              "      --bg-color: #3B4455;\n",
              "      --fill-color: #D2E3FC;\n",
              "      --hover-bg-color: #434B5C;\n",
              "      --hover-fill-color: #FFFFFF;\n",
              "      --disabled-bg-color: #3B4455;\n",
              "      --disabled-fill-color: #666;\n",
              "  }\n",
              "\n",
              "  .colab-df-quickchart {\n",
              "    background-color: var(--bg-color);\n",
              "    border: none;\n",
              "    border-radius: 50%;\n",
              "    cursor: pointer;\n",
              "    display: none;\n",
              "    fill: var(--fill-color);\n",
              "    height: 32px;\n",
              "    padding: 0;\n",
              "    width: 32px;\n",
              "  }\n",
              "\n",
              "  .colab-df-quickchart:hover {\n",
              "    background-color: var(--hover-bg-color);\n",
              "    box-shadow: 0 1px 2px rgba(60, 64, 67, 0.3), 0 1px 3px 1px rgba(60, 64, 67, 0.15);\n",
              "    fill: var(--button-hover-fill-color);\n",
              "  }\n",
              "\n",
              "  .colab-df-quickchart-complete:disabled,\n",
              "  .colab-df-quickchart-complete:disabled:hover {\n",
              "    background-color: var(--disabled-bg-color);\n",
              "    fill: var(--disabled-fill-color);\n",
              "    box-shadow: none;\n",
              "  }\n",
              "\n",
              "  .colab-df-spinner {\n",
              "    border: 2px solid var(--fill-color);\n",
              "    border-color: transparent;\n",
              "    border-bottom-color: var(--fill-color);\n",
              "    animation:\n",
              "      spin 1s steps(1) infinite;\n",
              "  }\n",
              "\n",
              "  @keyframes spin {\n",
              "    0% {\n",
              "      border-color: transparent;\n",
              "      border-bottom-color: var(--fill-color);\n",
              "      border-left-color: var(--fill-color);\n",
              "    }\n",
              "    20% {\n",
              "      border-color: transparent;\n",
              "      border-left-color: var(--fill-color);\n",
              "      border-top-color: var(--fill-color);\n",
              "    }\n",
              "    30% {\n",
              "      border-color: transparent;\n",
              "      border-left-color: var(--fill-color);\n",
              "      border-top-color: var(--fill-color);\n",
              "      border-right-color: var(--fill-color);\n",
              "    }\n",
              "    40% {\n",
              "      border-color: transparent;\n",
              "      border-right-color: var(--fill-color);\n",
              "      border-top-color: var(--fill-color);\n",
              "    }\n",
              "    60% {\n",
              "      border-color: transparent;\n",
              "      border-right-color: var(--fill-color);\n",
              "    }\n",
              "    80% {\n",
              "      border-color: transparent;\n",
              "      border-right-color: var(--fill-color);\n",
              "      border-bottom-color: var(--fill-color);\n",
              "    }\n",
              "    90% {\n",
              "      border-color: transparent;\n",
              "      border-bottom-color: var(--fill-color);\n",
              "    }\n",
              "  }\n",
              "</style>\n",
              "\n",
              "  <script>\n",
              "    async function quickchart(key) {\n",
              "      const quickchartButtonEl =\n",
              "        document.querySelector('#' + key + ' button');\n",
              "      quickchartButtonEl.disabled = true;  // To prevent multiple clicks.\n",
              "      quickchartButtonEl.classList.add('colab-df-spinner');\n",
              "      try {\n",
              "        const charts = await google.colab.kernel.invokeFunction(\n",
              "            'suggestCharts', [key], {});\n",
              "      } catch (error) {\n",
              "        console.error('Error during call to suggestCharts:', error);\n",
              "      }\n",
              "      quickchartButtonEl.classList.remove('colab-df-spinner');\n",
              "      quickchartButtonEl.classList.add('colab-df-quickchart-complete');\n",
              "    }\n",
              "    (() => {\n",
              "      let quickchartButtonEl =\n",
              "        document.querySelector('#df-872e8a65-c70e-4a5a-ac40-2f607dc56cce button');\n",
              "      quickchartButtonEl.style.display =\n",
              "        google.colab.kernel.accessAllowed ? 'block' : 'none';\n",
              "    })();\n",
              "  </script>\n",
              "</div>\n",
              "\n",
              "    </div>\n",
              "  </div>\n"
            ],
            "text/plain": [
              "               effectiveness\n",
              "2686        Highly Effective\n",
              "1192        Highly Effective\n",
              "2738    Moderately Effective\n",
              "2780        Highly Effective\n",
              "1735  Considerably Effective\n",
              "...                      ...\n",
              "3092        Highly Effective\n",
              "1095             Ineffective\n",
              "1130    Moderately Effective\n",
              "1294  Considerably Effective\n",
              "860         Highly Effective\n",
              "\n",
              "[2485 rows x 1 columns]"
            ]
          },
          "execution_count": 34,
          "metadata": {},
          "output_type": "execute_result"
        }
      ],
      "source": [
        "X_train[[categoricals[0]]]"
      ]
    },
    {
      "cell_type": "code",
      "execution_count": 35,
      "metadata": {
        "id": "Q22WO8xqkHaS"
      },
      "outputs": [],
      "source": [
        "entradas = [X_train[numericas]] + [X_train[col] for col in categoricals]"
      ]
    },
    {
      "cell_type": "code",
      "execution_count": 36,
      "metadata": {
        "colab": {
          "base_uri": "https://localhost:8080/"
        },
        "id": "oxlDLwzxkHaS",
        "outputId": "54b9849f-418c-40a8-c8e0-84474a951494"
      },
      "outputs": [
        {
          "name": "stdout",
          "output_type": "stream",
          "text": [
            "Epoch 1/100\n",
            "\u001b[1m63/63\u001b[0m \u001b[32m━━━━━━━━━━━━━━━━━━━━\u001b[0m\u001b[37m\u001b[0m \u001b[1m1s\u001b[0m 6ms/step - acc: 0.2878 - loss: 2.1227 - val_acc: 0.2938 - val_loss: 1.9137\n",
            "Epoch 2/100\n",
            "\u001b[1m63/63\u001b[0m \u001b[32m━━━━━━━━━━━━━━━━━━━━\u001b[0m\u001b[37m\u001b[0m \u001b[1m0s\u001b[0m 2ms/step - acc: 0.4050 - loss: 1.7566 - val_acc: 0.3461 - val_loss: 1.7071\n",
            "Epoch 3/100\n",
            "\u001b[1m63/63\u001b[0m \u001b[32m━━━━━━━━━━━━━━━━━━━━\u001b[0m\u001b[37m\u001b[0m \u001b[1m0s\u001b[0m 3ms/step - acc: 0.4244 - loss: 1.5807 - val_acc: 0.3662 - val_loss: 1.6023\n",
            "Epoch 4/100\n",
            "\u001b[1m63/63\u001b[0m \u001b[32m━━━━━━━━━━━━━━━━━━━━\u001b[0m\u001b[37m\u001b[0m \u001b[1m0s\u001b[0m 2ms/step - acc: 0.4387 - loss: 1.4814 - val_acc: 0.3763 - val_loss: 1.5400\n",
            "Epoch 5/100\n",
            "\u001b[1m63/63\u001b[0m \u001b[32m━━━━━━━━━━━━━━━━━━━━\u001b[0m\u001b[37m\u001b[0m \u001b[1m0s\u001b[0m 2ms/step - acc: 0.4578 - loss: 1.4167 - val_acc: 0.3843 - val_loss: 1.5157\n",
            "Epoch 6/100\n",
            "\u001b[1m63/63\u001b[0m \u001b[32m━━━━━━━━━━━━━━━━━━━━\u001b[0m\u001b[37m\u001b[0m \u001b[1m0s\u001b[0m 2ms/step - acc: 0.4677 - loss: 1.3733 - val_acc: 0.3903 - val_loss: 1.4816\n",
            "Epoch 7/100\n",
            "\u001b[1m63/63\u001b[0m \u001b[32m━━━━━━━━━━━━━━━━━━━━\u001b[0m\u001b[37m\u001b[0m \u001b[1m0s\u001b[0m 2ms/step - acc: 0.4770 - loss: 1.3347 - val_acc: 0.4004 - val_loss: 1.4649\n",
            "Epoch 8/100\n",
            "\u001b[1m63/63\u001b[0m \u001b[32m━━━━━━━━━━━━━━━━━━━━\u001b[0m\u001b[37m\u001b[0m \u001b[1m0s\u001b[0m 2ms/step - acc: 0.4863 - loss: 1.3018 - val_acc: 0.4165 - val_loss: 1.4355\n",
            "Epoch 9/100\n",
            "\u001b[1m63/63\u001b[0m \u001b[32m━━━━━━━━━━━━━━━━━━━━\u001b[0m\u001b[37m\u001b[0m \u001b[1m0s\u001b[0m 2ms/step - acc: 0.4929 - loss: 1.2714 - val_acc: 0.4225 - val_loss: 1.4033\n",
            "Epoch 10/100\n",
            "\u001b[1m63/63\u001b[0m \u001b[32m━━━━━━━━━━━━━━━━━━━━\u001b[0m\u001b[37m\u001b[0m \u001b[1m0s\u001b[0m 2ms/step - acc: 0.4980 - loss: 1.2432 - val_acc: 0.4306 - val_loss: 1.3756\n",
            "Epoch 11/100\n",
            "\u001b[1m63/63\u001b[0m \u001b[32m━━━━━━━━━━━━━━━━━━━━\u001b[0m\u001b[37m\u001b[0m \u001b[1m0s\u001b[0m 2ms/step - acc: 0.5039 - loss: 1.2163 - val_acc: 0.4346 - val_loss: 1.3597\n",
            "Epoch 12/100\n",
            "\u001b[1m63/63\u001b[0m \u001b[32m━━━━━━━━━━━━━━━━━━━━\u001b[0m\u001b[37m\u001b[0m \u001b[1m0s\u001b[0m 2ms/step - acc: 0.5122 - loss: 1.1933 - val_acc: 0.4346 - val_loss: 1.3461\n",
            "Epoch 13/100\n",
            "\u001b[1m63/63\u001b[0m \u001b[32m━━━━━━━━━━━━━━━━━━━━\u001b[0m\u001b[37m\u001b[0m \u001b[1m0s\u001b[0m 2ms/step - acc: 0.5195 - loss: 1.1726 - val_acc: 0.4447 - val_loss: 1.3274\n",
            "Epoch 14/100\n",
            "\u001b[1m63/63\u001b[0m \u001b[32m━━━━━━━━━━━━━━━━━━━━\u001b[0m\u001b[37m\u001b[0m \u001b[1m0s\u001b[0m 2ms/step - acc: 0.5290 - loss: 1.1529 - val_acc: 0.4527 - val_loss: 1.3084\n",
            "Epoch 15/100\n",
            "\u001b[1m63/63\u001b[0m \u001b[32m━━━━━━━━━━━━━━━━━━━━\u001b[0m\u001b[37m\u001b[0m \u001b[1m0s\u001b[0m 2ms/step - acc: 0.5353 - loss: 1.1364 - val_acc: 0.4507 - val_loss: 1.2855\n",
            "Epoch 16/100\n",
            "\u001b[1m63/63\u001b[0m \u001b[32m━━━━━━━━━━━━━━━━━━━━\u001b[0m\u001b[37m\u001b[0m \u001b[1m0s\u001b[0m 2ms/step - acc: 0.5382 - loss: 1.1165 - val_acc: 0.4487 - val_loss: 1.2800\n",
            "Epoch 17/100\n",
            "\u001b[1m63/63\u001b[0m \u001b[32m━━━━━━━━━━━━━━━━━━━━\u001b[0m\u001b[37m\u001b[0m \u001b[1m0s\u001b[0m 2ms/step - acc: 0.5443 - loss: 1.1039 - val_acc: 0.4507 - val_loss: 1.2413\n",
            "Epoch 18/100\n",
            "\u001b[1m63/63\u001b[0m \u001b[32m━━━━━━━━━━━━━━━━━━━━\u001b[0m\u001b[37m\u001b[0m \u001b[1m0s\u001b[0m 2ms/step - acc: 0.5542 - loss: 1.0813 - val_acc: 0.4507 - val_loss: 1.2434\n",
            "Epoch 19/100\n",
            "\u001b[1m63/63\u001b[0m \u001b[32m━━━━━━━━━━━━━━━━━━━━\u001b[0m\u001b[37m\u001b[0m \u001b[1m0s\u001b[0m 2ms/step - acc: 0.5573 - loss: 1.0665 - val_acc: 0.4588 - val_loss: 1.2191\n",
            "Epoch 20/100\n",
            "\u001b[1m63/63\u001b[0m \u001b[32m━━━━━━━━━━━━━━━━━━━━\u001b[0m\u001b[37m\u001b[0m \u001b[1m0s\u001b[0m 2ms/step - acc: 0.5690 - loss: 1.0484 - val_acc: 0.4668 - val_loss: 1.2023\n",
            "Epoch 21/100\n",
            "\u001b[1m63/63\u001b[0m \u001b[32m━━━━━━━━━━━━━━━━━━━━\u001b[0m\u001b[37m\u001b[0m \u001b[1m0s\u001b[0m 2ms/step - acc: 0.5778 - loss: 1.0338 - val_acc: 0.4708 - val_loss: 1.1708\n",
            "Epoch 22/100\n",
            "\u001b[1m63/63\u001b[0m \u001b[32m━━━━━━━━━━━━━━━━━━━━\u001b[0m\u001b[37m\u001b[0m \u001b[1m0s\u001b[0m 2ms/step - acc: 0.5816 - loss: 1.0166 - val_acc: 0.4809 - val_loss: 1.1516\n",
            "Epoch 23/100\n",
            "\u001b[1m63/63\u001b[0m \u001b[32m━━━━━━━━━━━━━━━━━━━━\u001b[0m\u001b[37m\u001b[0m \u001b[1m0s\u001b[0m 2ms/step - acc: 0.5895 - loss: 0.9996 - val_acc: 0.4950 - val_loss: 1.0962\n",
            "Epoch 24/100\n",
            "\u001b[1m63/63\u001b[0m \u001b[32m━━━━━━━━━━━━━━━━━━━━\u001b[0m\u001b[37m\u001b[0m \u001b[1m0s\u001b[0m 2ms/step - acc: 0.5929 - loss: 0.9804 - val_acc: 0.5050 - val_loss: 1.0803\n",
            "Epoch 25/100\n",
            "\u001b[1m63/63\u001b[0m \u001b[32m━━━━━━━━━━━━━━━━━━━━\u001b[0m\u001b[37m\u001b[0m \u001b[1m0s\u001b[0m 2ms/step - acc: 0.6124 - loss: 0.9618 - val_acc: 0.5312 - val_loss: 1.0516\n",
            "Epoch 26/100\n",
            "\u001b[1m63/63\u001b[0m \u001b[32m━━━━━━━━━━━━━━━━━━━━\u001b[0m\u001b[37m\u001b[0m \u001b[1m0s\u001b[0m 2ms/step - acc: 0.6131 - loss: 0.9458 - val_acc: 0.5453 - val_loss: 1.0460\n",
            "Epoch 27/100\n",
            "\u001b[1m63/63\u001b[0m \u001b[32m━━━━━━━━━━━━━━━━━━━━\u001b[0m\u001b[37m\u001b[0m \u001b[1m0s\u001b[0m 2ms/step - acc: 0.6230 - loss: 0.9357 - val_acc: 0.5755 - val_loss: 1.0086\n",
            "Epoch 28/100\n",
            "\u001b[1m63/63\u001b[0m \u001b[32m━━━━━━━━━━━━━━━━━━━━\u001b[0m\u001b[37m\u001b[0m \u001b[1m0s\u001b[0m 2ms/step - acc: 0.6470 - loss: 0.9142 - val_acc: 0.5533 - val_loss: 1.0250\n",
            "Epoch 29/100\n",
            "\u001b[1m63/63\u001b[0m \u001b[32m━━━━━━━━━━━━━━━━━━━━\u001b[0m\u001b[37m\u001b[0m \u001b[1m0s\u001b[0m 2ms/step - acc: 0.6462 - loss: 0.9048 - val_acc: 0.5895 - val_loss: 0.9753\n",
            "Epoch 30/100\n",
            "\u001b[1m63/63\u001b[0m \u001b[32m━━━━━━━━━━━━━━━━━━━━\u001b[0m\u001b[37m\u001b[0m \u001b[1m0s\u001b[0m 2ms/step - acc: 0.6500 - loss: 0.8876 - val_acc: 0.5895 - val_loss: 0.9809\n",
            "Epoch 31/100\n",
            "\u001b[1m63/63\u001b[0m \u001b[32m━━━━━━━━━━━━━━━━━━━━\u001b[0m\u001b[37m\u001b[0m \u001b[1m0s\u001b[0m 2ms/step - acc: 0.6582 - loss: 0.8755 - val_acc: 0.6157 - val_loss: 0.9371\n",
            "Epoch 32/100\n",
            "\u001b[1m63/63\u001b[0m \u001b[32m━━━━━━━━━━━━━━━━━━━━\u001b[0m\u001b[37m\u001b[0m \u001b[1m0s\u001b[0m 2ms/step - acc: 0.6736 - loss: 0.8599 - val_acc: 0.6278 - val_loss: 0.9133\n",
            "Epoch 33/100\n",
            "\u001b[1m63/63\u001b[0m \u001b[32m━━━━━━━━━━━━━━━━━━━━\u001b[0m\u001b[37m\u001b[0m \u001b[1m0s\u001b[0m 2ms/step - acc: 0.6867 - loss: 0.8406 - val_acc: 0.6338 - val_loss: 0.9087\n",
            "Epoch 34/100\n",
            "\u001b[1m63/63\u001b[0m \u001b[32m━━━━━━━━━━━━━━━━━━━━\u001b[0m\u001b[37m\u001b[0m \u001b[1m0s\u001b[0m 2ms/step - acc: 0.6839 - loss: 0.8297 - val_acc: 0.6600 - val_loss: 0.8666\n",
            "Epoch 35/100\n",
            "\u001b[1m63/63\u001b[0m \u001b[32m━━━━━━━━━━━━━━━━━━━━\u001b[0m\u001b[37m\u001b[0m \u001b[1m0s\u001b[0m 3ms/step - acc: 0.6963 - loss: 0.8087 - val_acc: 0.6559 - val_loss: 0.8625\n",
            "Epoch 36/100\n",
            "\u001b[1m63/63\u001b[0m \u001b[32m━━━━━━━━━━━━━━━━━━━━\u001b[0m\u001b[37m\u001b[0m \u001b[1m0s\u001b[0m 4ms/step - acc: 0.6923 - loss: 0.8055 - val_acc: 0.6600 - val_loss: 0.8581\n",
            "Epoch 37/100\n",
            "\u001b[1m63/63\u001b[0m \u001b[32m━━━━━━━━━━━━━━━━━━━━\u001b[0m\u001b[37m\u001b[0m \u001b[1m0s\u001b[0m 4ms/step - acc: 0.7100 - loss: 0.7892 - val_acc: 0.6660 - val_loss: 0.8157\n",
            "Epoch 38/100\n",
            "\u001b[1m63/63\u001b[0m \u001b[32m━━━━━━━━━━━━━━━━━━━━\u001b[0m\u001b[37m\u001b[0m \u001b[1m1s\u001b[0m 4ms/step - acc: 0.7133 - loss: 0.7700 - val_acc: 0.6881 - val_loss: 0.7999\n",
            "Epoch 39/100\n",
            "\u001b[1m63/63\u001b[0m \u001b[32m━━━━━━━━━━━━━━━━━━━━\u001b[0m\u001b[37m\u001b[0m \u001b[1m0s\u001b[0m 4ms/step - acc: 0.7158 - loss: 0.7627 - val_acc: 0.6982 - val_loss: 0.7872\n",
            "Epoch 40/100\n",
            "\u001b[1m63/63\u001b[0m \u001b[32m━━━━━━━━━━━━━━━━━━━━\u001b[0m\u001b[37m\u001b[0m \u001b[1m1s\u001b[0m 4ms/step - acc: 0.7293 - loss: 0.7526 - val_acc: 0.7082 - val_loss: 0.7745\n",
            "Epoch 41/100\n",
            "\u001b[1m63/63\u001b[0m \u001b[32m━━━━━━━━━━━━━━━━━━━━\u001b[0m\u001b[37m\u001b[0m \u001b[1m0s\u001b[0m 4ms/step - acc: 0.7305 - loss: 0.7411 - val_acc: 0.7103 - val_loss: 0.7663\n",
            "Epoch 42/100\n",
            "\u001b[1m63/63\u001b[0m \u001b[32m━━━━━━━━━━━━━━━━━━━━\u001b[0m\u001b[37m\u001b[0m \u001b[1m0s\u001b[0m 4ms/step - acc: 0.7354 - loss: 0.7290 - val_acc: 0.6881 - val_loss: 0.7687\n",
            "Epoch 43/100\n",
            "\u001b[1m63/63\u001b[0m \u001b[32m━━━━━━━━━━━━━━━━━━━━\u001b[0m\u001b[37m\u001b[0m \u001b[1m0s\u001b[0m 2ms/step - acc: 0.7428 - loss: 0.7236 - val_acc: 0.7284 - val_loss: 0.7607\n",
            "Epoch 44/100\n",
            "\u001b[1m63/63\u001b[0m \u001b[32m━━━━━━━━━━━━━━━━━━━━\u001b[0m\u001b[37m\u001b[0m \u001b[1m0s\u001b[0m 2ms/step - acc: 0.7467 - loss: 0.7108 - val_acc: 0.7203 - val_loss: 0.7417\n",
            "Epoch 45/100\n",
            "\u001b[1m63/63\u001b[0m \u001b[32m━━━━━━━━━━━━━━━━━━━━\u001b[0m\u001b[37m\u001b[0m \u001b[1m0s\u001b[0m 2ms/step - acc: 0.7555 - loss: 0.7019 - val_acc: 0.7324 - val_loss: 0.7306\n",
            "Epoch 46/100\n",
            "\u001b[1m63/63\u001b[0m \u001b[32m━━━━━━━━━━━━━━━━━━━━\u001b[0m\u001b[37m\u001b[0m \u001b[1m0s\u001b[0m 2ms/step - acc: 0.7587 - loss: 0.6858 - val_acc: 0.7324 - val_loss: 0.7241\n",
            "Epoch 47/100\n",
            "\u001b[1m63/63\u001b[0m \u001b[32m━━━━━━━━━━━━━━━━━━━━\u001b[0m\u001b[37m\u001b[0m \u001b[1m0s\u001b[0m 2ms/step - acc: 0.7645 - loss: 0.6823 - val_acc: 0.7404 - val_loss: 0.7027\n",
            "Epoch 48/100\n",
            "\u001b[1m63/63\u001b[0m \u001b[32m━━━━━━━━━━━━━━━━━━━━\u001b[0m\u001b[37m\u001b[0m \u001b[1m0s\u001b[0m 2ms/step - acc: 0.7701 - loss: 0.6630 - val_acc: 0.7465 - val_loss: 0.6986\n",
            "Epoch 49/100\n",
            "\u001b[1m63/63\u001b[0m \u001b[32m━━━━━━━━━━━━━━━━━━━━\u001b[0m\u001b[37m\u001b[0m \u001b[1m0s\u001b[0m 2ms/step - acc: 0.7773 - loss: 0.6512 - val_acc: 0.7545 - val_loss: 0.6844\n",
            "Epoch 50/100\n",
            "\u001b[1m63/63\u001b[0m \u001b[32m━━━━━━━━━━━━━━━━━━━━\u001b[0m\u001b[37m\u001b[0m \u001b[1m0s\u001b[0m 2ms/step - acc: 0.7837 - loss: 0.6373 - val_acc: 0.7545 - val_loss: 0.6776\n",
            "Epoch 51/100\n",
            "\u001b[1m63/63\u001b[0m \u001b[32m━━━━━━━━━━━━━━━━━━━━\u001b[0m\u001b[37m\u001b[0m \u001b[1m0s\u001b[0m 2ms/step - acc: 0.7795 - loss: 0.6360 - val_acc: 0.7666 - val_loss: 0.6672\n",
            "Epoch 52/100\n",
            "\u001b[1m63/63\u001b[0m \u001b[32m━━━━━━━━━━━━━━━━━━━━\u001b[0m\u001b[37m\u001b[0m \u001b[1m0s\u001b[0m 2ms/step - acc: 0.7855 - loss: 0.6291 - val_acc: 0.7666 - val_loss: 0.6631\n",
            "Epoch 53/100\n",
            "\u001b[1m63/63\u001b[0m \u001b[32m━━━━━━━━━━━━━━━━━━━━\u001b[0m\u001b[37m\u001b[0m \u001b[1m0s\u001b[0m 2ms/step - acc: 0.7949 - loss: 0.6151 - val_acc: 0.7726 - val_loss: 0.6522\n",
            "Epoch 54/100\n",
            "\u001b[1m63/63\u001b[0m \u001b[32m━━━━━━━━━━━━━━━━━━━━\u001b[0m\u001b[37m\u001b[0m \u001b[1m0s\u001b[0m 2ms/step - acc: 0.7896 - loss: 0.6083 - val_acc: 0.7746 - val_loss: 0.6413\n",
            "Epoch 55/100\n",
            "\u001b[1m63/63\u001b[0m \u001b[32m━━━━━━━━━━━━━━━━━━━━\u001b[0m\u001b[37m\u001b[0m \u001b[1m0s\u001b[0m 2ms/step - acc: 0.8034 - loss: 0.6023 - val_acc: 0.7746 - val_loss: 0.6379\n",
            "Epoch 56/100\n",
            "\u001b[1m63/63\u001b[0m \u001b[32m━━━━━━━━━━━━━━━━━━━━\u001b[0m\u001b[37m\u001b[0m \u001b[1m0s\u001b[0m 2ms/step - acc: 0.8102 - loss: 0.5925 - val_acc: 0.7847 - val_loss: 0.6454\n",
            "Epoch 57/100\n",
            "\u001b[1m63/63\u001b[0m \u001b[32m━━━━━━━━━━━━━━━━━━━━\u001b[0m\u001b[37m\u001b[0m \u001b[1m0s\u001b[0m 2ms/step - acc: 0.8059 - loss: 0.5934 - val_acc: 0.7867 - val_loss: 0.6183\n",
            "Epoch 58/100\n",
            "\u001b[1m63/63\u001b[0m \u001b[32m━━━━━━━━━━━━━━━━━━━━\u001b[0m\u001b[37m\u001b[0m \u001b[1m0s\u001b[0m 2ms/step - acc: 0.8106 - loss: 0.5791 - val_acc: 0.7907 - val_loss: 0.6321\n",
            "Epoch 59/100\n",
            "\u001b[1m63/63\u001b[0m \u001b[32m━━━━━━━━━━━━━━━━━━━━\u001b[0m\u001b[37m\u001b[0m \u001b[1m0s\u001b[0m 2ms/step - acc: 0.8149 - loss: 0.5774 - val_acc: 0.7907 - val_loss: 0.6152\n",
            "Epoch 60/100\n",
            "\u001b[1m63/63\u001b[0m \u001b[32m━━━━━━━━━━━━━━━━━━━━\u001b[0m\u001b[37m\u001b[0m \u001b[1m0s\u001b[0m 2ms/step - acc: 0.8169 - loss: 0.5653 - val_acc: 0.7968 - val_loss: 0.5955\n",
            "Epoch 61/100\n",
            "\u001b[1m63/63\u001b[0m \u001b[32m━━━━━━━━━━━━━━━━━━━━\u001b[0m\u001b[37m\u001b[0m \u001b[1m0s\u001b[0m 2ms/step - acc: 0.8223 - loss: 0.5563 - val_acc: 0.7948 - val_loss: 0.5945\n",
            "Epoch 62/100\n",
            "\u001b[1m63/63\u001b[0m \u001b[32m━━━━━━━━━━━━━━━━━━━━\u001b[0m\u001b[37m\u001b[0m \u001b[1m0s\u001b[0m 2ms/step - acc: 0.8208 - loss: 0.5520 - val_acc: 0.8068 - val_loss: 0.5822\n",
            "Epoch 63/100\n",
            "\u001b[1m63/63\u001b[0m \u001b[32m━━━━━━━━━━━━━━━━━━━━\u001b[0m\u001b[37m\u001b[0m \u001b[1m0s\u001b[0m 2ms/step - acc: 0.8262 - loss: 0.5470 - val_acc: 0.8028 - val_loss: 0.5771\n",
            "Epoch 64/100\n",
            "\u001b[1m63/63\u001b[0m \u001b[32m━━━━━━━━━━━━━━━━━━━━\u001b[0m\u001b[37m\u001b[0m \u001b[1m0s\u001b[0m 3ms/step - acc: 0.8303 - loss: 0.5342 - val_acc: 0.8169 - val_loss: 0.5670\n",
            "Epoch 65/100\n",
            "\u001b[1m63/63\u001b[0m \u001b[32m━━━━━━━━━━━━━━━━━━━━\u001b[0m\u001b[37m\u001b[0m \u001b[1m0s\u001b[0m 2ms/step - acc: 0.8284 - loss: 0.5393 - val_acc: 0.8028 - val_loss: 0.5794\n",
            "Epoch 66/100\n",
            "\u001b[1m63/63\u001b[0m \u001b[32m━━━━━━━━━━━━━━━━━━━━\u001b[0m\u001b[37m\u001b[0m \u001b[1m0s\u001b[0m 2ms/step - acc: 0.8352 - loss: 0.5200 - val_acc: 0.7948 - val_loss: 0.5707\n",
            "Epoch 67/100\n",
            "\u001b[1m63/63\u001b[0m \u001b[32m━━━━━━━━━━━━━━━━━━━━\u001b[0m\u001b[37m\u001b[0m \u001b[1m0s\u001b[0m 2ms/step - acc: 0.8362 - loss: 0.5255 - val_acc: 0.7887 - val_loss: 0.5907\n",
            "Epoch 68/100\n",
            "\u001b[1m63/63\u001b[0m \u001b[32m━━━━━━━━━━━━━━━━━━━━\u001b[0m\u001b[37m\u001b[0m \u001b[1m0s\u001b[0m 3ms/step - acc: 0.8394 - loss: 0.5172 - val_acc: 0.7988 - val_loss: 0.5714\n",
            "Epoch 69/100\n",
            "\u001b[1m63/63\u001b[0m \u001b[32m━━━━━━━━━━━━━━━━━━━━\u001b[0m\u001b[37m\u001b[0m \u001b[1m0s\u001b[0m 3ms/step - acc: 0.8450 - loss: 0.5069 - val_acc: 0.8048 - val_loss: 0.5574\n",
            "Epoch 70/100\n",
            "\u001b[1m63/63\u001b[0m \u001b[32m━━━━━━━━━━━━━━━━━━━━\u001b[0m\u001b[37m\u001b[0m \u001b[1m0s\u001b[0m 2ms/step - acc: 0.8505 - loss: 0.5021 - val_acc: 0.8189 - val_loss: 0.5512\n",
            "Epoch 71/100\n",
            "\u001b[1m63/63\u001b[0m \u001b[32m━━━━━━━━━━━━━━━━━━━━\u001b[0m\u001b[37m\u001b[0m \u001b[1m0s\u001b[0m 2ms/step - acc: 0.8692 - loss: 0.4649 - val_acc: 0.8149 - val_loss: 0.5470\n",
            "Epoch 72/100\n",
            "\u001b[1m63/63\u001b[0m \u001b[32m━━━━━━━━━━━━━━━━━━━━\u001b[0m\u001b[37m\u001b[0m \u001b[1m0s\u001b[0m 3ms/step - acc: 0.8621 - loss: 0.4759 - val_acc: 0.8229 - val_loss: 0.5418\n",
            "Epoch 73/100\n",
            "\u001b[1m63/63\u001b[0m \u001b[32m━━━━━━━━━━━━━━━━━━━━\u001b[0m\u001b[37m\u001b[0m \u001b[1m0s\u001b[0m 2ms/step - acc: 0.8763 - loss: 0.4342 - val_acc: 0.8310 - val_loss: 0.5237\n",
            "Epoch 74/100\n",
            "\u001b[1m63/63\u001b[0m \u001b[32m━━━━━━━━━━━━━━━━━━━━\u001b[0m\u001b[37m\u001b[0m \u001b[1m0s\u001b[0m 2ms/step - acc: 0.8801 - loss: 0.4400 - val_acc: 0.8370 - val_loss: 0.5209\n",
            "Epoch 75/100\n",
            "\u001b[1m63/63\u001b[0m \u001b[32m━━━━━━━━━━━━━━━━━━━━\u001b[0m\u001b[37m\u001b[0m \u001b[1m0s\u001b[0m 2ms/step - acc: 0.8772 - loss: 0.4536 - val_acc: 0.8290 - val_loss: 0.5078\n",
            "Epoch 76/100\n",
            "\u001b[1m63/63\u001b[0m \u001b[32m━━━━━━━━━━━━━━━━━━━━\u001b[0m\u001b[37m\u001b[0m \u001b[1m0s\u001b[0m 2ms/step - acc: 0.8859 - loss: 0.4345 - val_acc: 0.8350 - val_loss: 0.5167\n",
            "Epoch 77/100\n",
            "\u001b[1m63/63\u001b[0m \u001b[32m━━━━━━━━━━━━━━━━━━━━\u001b[0m\u001b[37m\u001b[0m \u001b[1m0s\u001b[0m 2ms/step - acc: 0.8863 - loss: 0.4098 - val_acc: 0.8410 - val_loss: 0.5046\n",
            "Epoch 78/100\n",
            "\u001b[1m63/63\u001b[0m \u001b[32m━━━━━━━━━━━━━━━━━━━━\u001b[0m\u001b[37m\u001b[0m \u001b[1m0s\u001b[0m 2ms/step - acc: 0.8876 - loss: 0.4160 - val_acc: 0.8410 - val_loss: 0.4940\n",
            "Epoch 79/100\n",
            "\u001b[1m63/63\u001b[0m \u001b[32m━━━━━━━━━━━━━━━━━━━━\u001b[0m\u001b[37m\u001b[0m \u001b[1m0s\u001b[0m 2ms/step - acc: 0.8828 - loss: 0.4342 - val_acc: 0.8431 - val_loss: 0.4884\n",
            "Epoch 80/100\n",
            "\u001b[1m63/63\u001b[0m \u001b[32m━━━━━━━━━━━━━━━━━━━━\u001b[0m\u001b[37m\u001b[0m \u001b[1m0s\u001b[0m 3ms/step - acc: 0.8997 - loss: 0.3749 - val_acc: 0.8431 - val_loss: 0.4912\n",
            "Epoch 81/100\n",
            "\u001b[1m63/63\u001b[0m \u001b[32m━━━━━━━━━━━━━━━━━━━━\u001b[0m\u001b[37m\u001b[0m \u001b[1m0s\u001b[0m 4ms/step - acc: 0.8942 - loss: 0.3868 - val_acc: 0.8451 - val_loss: 0.4921\n",
            "Epoch 82/100\n",
            "\u001b[1m63/63\u001b[0m \u001b[32m━━━━━━━━━━━━━━━━━━━━\u001b[0m\u001b[37m\u001b[0m \u001b[1m0s\u001b[0m 4ms/step - acc: 0.8887 - loss: 0.3851 - val_acc: 0.8491 - val_loss: 0.4812\n",
            "Epoch 83/100\n",
            "\u001b[1m63/63\u001b[0m \u001b[32m━━━━━━━━━━━━━━━━━━━━\u001b[0m\u001b[37m\u001b[0m \u001b[1m1s\u001b[0m 4ms/step - acc: 0.8965 - loss: 0.3691 - val_acc: 0.8551 - val_loss: 0.4751\n",
            "Epoch 84/100\n",
            "\u001b[1m63/63\u001b[0m \u001b[32m━━━━━━━━━━━━━━━━━━━━\u001b[0m\u001b[37m\u001b[0m \u001b[1m0s\u001b[0m 4ms/step - acc: 0.8927 - loss: 0.3689 - val_acc: 0.8652 - val_loss: 0.4631\n",
            "Epoch 85/100\n",
            "\u001b[1m63/63\u001b[0m \u001b[32m━━━━━━━━━━━━━━━━━━━━\u001b[0m\u001b[37m\u001b[0m \u001b[1m1s\u001b[0m 4ms/step - acc: 0.8967 - loss: 0.3531 - val_acc: 0.8672 - val_loss: 0.4608\n",
            "Epoch 86/100\n",
            "\u001b[1m63/63\u001b[0m \u001b[32m━━━━━━━━━━━━━━━━━━━━\u001b[0m\u001b[37m\u001b[0m \u001b[1m0s\u001b[0m 4ms/step - acc: 0.9016 - loss: 0.3408 - val_acc: 0.8773 - val_loss: 0.4565\n",
            "Epoch 87/100\n",
            "\u001b[1m63/63\u001b[0m \u001b[32m━━━━━━━━━━━━━━━━━━━━\u001b[0m\u001b[37m\u001b[0m \u001b[1m0s\u001b[0m 3ms/step - acc: 0.9053 - loss: 0.3334 - val_acc: 0.8732 - val_loss: 0.4545\n",
            "Epoch 88/100\n",
            "\u001b[1m63/63\u001b[0m \u001b[32m━━━━━━━━━━━━━━━━━━━━\u001b[0m\u001b[37m\u001b[0m \u001b[1m0s\u001b[0m 2ms/step - acc: 0.9060 - loss: 0.3341 - val_acc: 0.8793 - val_loss: 0.4460\n",
            "Epoch 89/100\n",
            "\u001b[1m63/63\u001b[0m \u001b[32m━━━━━━━━━━━━━━━━━━━━\u001b[0m\u001b[37m\u001b[0m \u001b[1m0s\u001b[0m 2ms/step - acc: 0.9123 - loss: 0.3209 - val_acc: 0.8793 - val_loss: 0.4350\n",
            "Epoch 90/100\n",
            "\u001b[1m63/63\u001b[0m \u001b[32m━━━━━━━━━━━━━━━━━━━━\u001b[0m\u001b[37m\u001b[0m \u001b[1m0s\u001b[0m 2ms/step - acc: 0.9187 - loss: 0.3002 - val_acc: 0.8712 - val_loss: 0.4316\n",
            "Epoch 91/100\n",
            "\u001b[1m63/63\u001b[0m \u001b[32m━━━━━━━━━━━━━━━━━━━━\u001b[0m\u001b[37m\u001b[0m \u001b[1m0s\u001b[0m 2ms/step - acc: 0.9074 - loss: 0.3224 - val_acc: 0.8732 - val_loss: 0.4110\n",
            "Epoch 92/100\n",
            "\u001b[1m63/63\u001b[0m \u001b[32m━━━━━━━━━━━━━━━━━━━━\u001b[0m\u001b[37m\u001b[0m \u001b[1m0s\u001b[0m 2ms/step - acc: 0.9097 - loss: 0.3107 - val_acc: 0.8793 - val_loss: 0.4053\n",
            "Epoch 93/100\n",
            "\u001b[1m63/63\u001b[0m \u001b[32m━━━━━━━━━━━━━━━━━━━━\u001b[0m\u001b[37m\u001b[0m \u001b[1m0s\u001b[0m 2ms/step - acc: 0.9206 - loss: 0.2863 - val_acc: 0.8793 - val_loss: 0.4056\n",
            "Epoch 94/100\n",
            "\u001b[1m63/63\u001b[0m \u001b[32m━━━━━━━━━━━━━━━━━━━━\u001b[0m\u001b[37m\u001b[0m \u001b[1m0s\u001b[0m 2ms/step - acc: 0.9205 - loss: 0.2884 - val_acc: 0.8813 - val_loss: 0.4006\n",
            "Epoch 95/100\n",
            "\u001b[1m63/63\u001b[0m \u001b[32m━━━━━━━━━━━━━━━━━━━━\u001b[0m\u001b[37m\u001b[0m \u001b[1m0s\u001b[0m 2ms/step - acc: 0.9171 - loss: 0.2936 - val_acc: 0.8813 - val_loss: 0.3874\n",
            "Epoch 96/100\n",
            "\u001b[1m63/63\u001b[0m \u001b[32m━━━━━━━━━━━━━━━━━━━━\u001b[0m\u001b[37m\u001b[0m \u001b[1m0s\u001b[0m 2ms/step - acc: 0.9235 - loss: 0.2763 - val_acc: 0.8813 - val_loss: 0.3786\n",
            "Epoch 97/100\n",
            "\u001b[1m63/63\u001b[0m \u001b[32m━━━━━━━━━━━━━━━━━━━━\u001b[0m\u001b[37m\u001b[0m \u001b[1m0s\u001b[0m 3ms/step - acc: 0.9231 - loss: 0.2811 - val_acc: 0.8893 - val_loss: 0.3740\n",
            "Epoch 98/100\n",
            "\u001b[1m63/63\u001b[0m \u001b[32m━━━━━━━━━━━━━━━━━━━━\u001b[0m\u001b[37m\u001b[0m \u001b[1m0s\u001b[0m 2ms/step - acc: 0.9246 - loss: 0.2732 - val_acc: 0.8934 - val_loss: 0.3588\n",
            "Epoch 99/100\n",
            "\u001b[1m63/63\u001b[0m \u001b[32m━━━━━━━━━━━━━━━━━━━━\u001b[0m\u001b[37m\u001b[0m \u001b[1m0s\u001b[0m 2ms/step - acc: 0.9298 - loss: 0.2608 - val_acc: 0.8954 - val_loss: 0.3567\n",
            "Epoch 100/100\n",
            "\u001b[1m63/63\u001b[0m \u001b[32m━━━━━━━━━━━━━━━━━━━━\u001b[0m\u001b[37m\u001b[0m \u001b[1m0s\u001b[0m 3ms/step - acc: 0.7854 - loss: 0.9891 - val_acc: 0.7928 - val_loss: 0.5277\n"
          ]
        }
      ],
      "source": [
        "history = model.fit(entradas, y_num, validation_split=0.2, epochs=100, callbacks= earlyS)"
      ]
    },
    {
      "cell_type": "code",
      "execution_count": 37,
      "metadata": {
        "colab": {
          "base_uri": "https://localhost:8080/"
        },
        "id": "gxxx-vEokHaS",
        "outputId": "ca31eeab-b890-43c4-b757-881c44bc2359"
      },
      "outputs": [
        {
          "name": "stdout",
          "output_type": "stream",
          "text": [
            "\u001b[1m20/20\u001b[0m \u001b[32m━━━━━━━━━━━━━━━━━━━━\u001b[0m\u001b[37m\u001b[0m \u001b[1m0s\u001b[0m 2ms/step - acc: 0.9291 - loss: 0.2985 \n"
          ]
        },
        {
          "data": {
            "text/plain": [
              "[0.32268407940864563, 0.9083601236343384]"
            ]
          },
          "execution_count": 37,
          "metadata": {},
          "output_type": "execute_result"
        }
      ],
      "source": [
        "entrada_test = [X_test[numericas]] + [X_test[col] for col in categoricals]\n",
        "model.evaluate(entrada_test, test_set[target])"
      ]
    },
    {
      "cell_type": "markdown",
      "metadata": {
        "id": "uuiz4EdwkHaS"
      },
      "source": [
        "Algo hemos mejorado...¿no?"
      ]
    },
    {
      "cell_type": "code",
      "execution_count": 38,
      "metadata": {
        "colab": {
          "base_uri": "https://localhost:8080/"
        },
        "id": "6c86TeVKkHaT",
        "outputId": "f11ce8a6-37cf-4526-c2a8-93c33f9a8686"
      },
      "outputs": [
        {
          "name": "stdout",
          "output_type": "stream",
          "text": [
            "\u001b[1m20/20\u001b[0m \u001b[32m━━━━━━━━━━━━━━━━━━━━\u001b[0m\u001b[37m\u001b[0m \u001b[1m0s\u001b[0m 4ms/step\n"
          ]
        }
      ],
      "source": [
        "y_pred  = [np.argmax(pred) for pred in model.predict(entrada_test)]"
      ]
    },
    {
      "cell_type": "code",
      "execution_count": 39,
      "metadata": {
        "colab": {
          "base_uri": "https://localhost:8080/"
        },
        "id": "o80TJArGkHaT",
        "outputId": "c7052594-69e4-4684-a9cc-dbd165560151"
      },
      "outputs": [
        {
          "name": "stdout",
          "output_type": "stream",
          "text": [
            "              precision    recall  f1-score   support\n",
            "\n",
            "           0       0.92      0.98      0.95        62\n",
            "           1       0.78      0.44      0.56        16\n",
            "           2       0.00      0.00      0.00        23\n",
            "           3       0.33      0.83      0.47        18\n",
            "           4       0.74      0.74      0.74        27\n",
            "           5       0.91      0.76      0.83        38\n",
            "           6       0.94      0.95      0.95        83\n",
            "           7       0.98      1.00      0.99        94\n",
            "           8       1.00      0.99      1.00       110\n",
            "           9       0.99      1.00      1.00       151\n",
            "\n",
            "    accuracy                           0.91       622\n",
            "   macro avg       0.76      0.77      0.75       622\n",
            "weighted avg       0.90      0.91      0.90       622\n",
            "\n"
          ]
        }
      ],
      "source": [
        "print(classification_report(test_set[target], y_pred))"
      ]
    },
    {
      "cell_type": "markdown",
      "metadata": {
        "id": "5RXGtqtjkHaT"
      },
      "source": [
        "#### Onehotencoding"
      ]
    },
    {
      "cell_type": "markdown",
      "metadata": {
        "id": "Z3thQyowkHaT"
      },
      "source": [
        "Pero podemos hacer el onehot encoding de una vez configurando la StringLookup layer debidamente.  Además ahora usaremos la functional API para incluir la capa dentro del modelo (y no tener que hacer la conversión por fuera)"
      ]
    },
    {
      "cell_type": "code",
      "execution_count": 40,
      "metadata": {
        "id": "8ZG0nOMNkHaT"
      },
      "outputs": [],
      "source": [
        "tf.random.set_seed(42)\n",
        "normalization_layer = tf.keras.layers.Normalization()\n",
        "ordinalEncoding_layers = [tf.keras.layers.StringLookup(output_mode= \"one_hot\") for cat in categoricals] # no le damos valor, pero aquí el argumento vocabulary permite pasar una lista,\n",
        "                                                 # una tupla, un array, un tensor con los strings ordenados de forma que el primero recibira la clase 0, etc\n",
        "\n",
        "#ordinalEncoding.adapt(train_set[categoricals]) # Al igual que la capa de normalización hay que hacerle su fit en este caso el método adapt\n",
        "concat_layer = tf.keras.layers.Concatenate(axis = -1)\n",
        "hidden_layer1 = tf.keras.layers.Dense(100, activation=\"relu\")\n",
        "output_layer = tf.keras.layers.Dense(10, activation = \"softmax\")\n",
        "\n",
        "\n",
        "normalization_layer.adapt(train_set[numericas].to_numpy())\n",
        "_ = [ordinalEncoding_layers[indice].adapt(train_set[col]) for indice,col in enumerate(categoricals)]\n",
        "\n",
        "earlyS = tf.keras.callbacks.EarlyStopping(patience=10, restore_best_weights= True)\n",
        "input_num = tf.keras.layers.Input(shape=(train_set[numericas].shape[1],))\n",
        "input_cats = [tf.keras.layers.Input(shape=(train_set[[col]].shape[1],), dtype = tf.string) for col in categoricals] # Importante decirle que entra una string\n",
        "normalized = normalization_layer(input_num)\n",
        "encoded = [ordinalEncoding_layers[i](input_cats[i]) for i in range(len(ordinalEncoding_layers))]\n",
        "concat = concat_layer([normalized] + encoded)\n",
        "hidden1 = hidden_layer1(concat)\n",
        "output = output_layer(hidden1)\n",
        "\n",
        "model = tf.keras.Model(inputs=[input_num] + input_cats, outputs=[output])"
      ]
    },
    {
      "cell_type": "code",
      "execution_count": 41,
      "metadata": {
        "colab": {
          "base_uri": "https://localhost:8080/"
        },
        "id": "BIysOD6SkHaT",
        "outputId": "72d8bde7-cea5-4b6f-dfd4-28287db26cc8"
      },
      "outputs": [
        {
          "data": {
            "text/plain": [
              "[<tf.Tensor: shape=(2485, 6), dtype=int64, numpy=\n",
              " array([[0, 1, 0, 0, 0, 0],\n",
              "        [0, 1, 0, 0, 0, 0],\n",
              "        [0, 0, 0, 1, 0, 0],\n",
              "        ...,\n",
              "        [0, 0, 0, 1, 0, 0],\n",
              "        [0, 0, 1, 0, 0, 0],\n",
              "        [0, 1, 0, 0, 0, 0]])>,\n",
              " <tf.Tensor: shape=(2485, 6), dtype=int64, numpy=\n",
              " array([[0, 0, 1, 0, 0, 0],\n",
              "        [0, 1, 0, 0, 0, 0],\n",
              "        [0, 0, 0, 0, 1, 0],\n",
              "        ...,\n",
              "        [0, 1, 0, 0, 0, 0],\n",
              "        [0, 0, 0, 1, 0, 0],\n",
              "        [0, 0, 0, 0, 0, 1]])>]"
            ]
          },
          "execution_count": 41,
          "metadata": {},
          "output_type": "execute_result"
        }
      ],
      "source": [
        "salida = tf.keras.Model(inputs = input_cats, outputs = encoded)\n",
        "salida([X_train[col] for col in categoricals])"
      ]
    },
    {
      "cell_type": "code",
      "execution_count": 42,
      "metadata": {
        "colab": {
          "base_uri": "https://localhost:8080/",
          "height": 423
        },
        "id": "XS0bE3O5kHaT",
        "outputId": "d3f46408-4c00-40bb-a884-394fa27154fc"
      },
      "outputs": [
        {
          "data": {
            "application/vnd.google.colaboratory.intrinsic+json": {
              "summary": "{\n  \"name\": \"X_train[[categoricals[1]]]\",\n  \"rows\": 2485,\n  \"fields\": [\n    {\n      \"column\": \"sideEffects\",\n      \"properties\": {\n        \"dtype\": \"category\",\n        \"num_unique_values\": 5,\n        \"samples\": [\n          \"Mild Side Effects\",\n          \"Extremely Severe Side Effects\",\n          \"Severe Side Effects\"\n        ],\n        \"semantic_type\": \"\",\n        \"description\": \"\"\n      }\n    }\n  ]\n}",
              "type": "dataframe"
            },
            "text/html": [
              "\n",
              "  <div id=\"df-9cc7cfad-2ad5-43ae-8bb1-f21139d69ec8\" class=\"colab-df-container\">\n",
              "    <div>\n",
              "<style scoped>\n",
              "    .dataframe tbody tr th:only-of-type {\n",
              "        vertical-align: middle;\n",
              "    }\n",
              "\n",
              "    .dataframe tbody tr th {\n",
              "        vertical-align: top;\n",
              "    }\n",
              "\n",
              "    .dataframe thead th {\n",
              "        text-align: right;\n",
              "    }\n",
              "</style>\n",
              "<table border=\"1\" class=\"dataframe\">\n",
              "  <thead>\n",
              "    <tr style=\"text-align: right;\">\n",
              "      <th></th>\n",
              "      <th>sideEffects</th>\n",
              "    </tr>\n",
              "  </thead>\n",
              "  <tbody>\n",
              "    <tr>\n",
              "      <th>2686</th>\n",
              "      <td>No Side Effects</td>\n",
              "    </tr>\n",
              "    <tr>\n",
              "      <th>1192</th>\n",
              "      <td>Mild Side Effects</td>\n",
              "    </tr>\n",
              "    <tr>\n",
              "      <th>2738</th>\n",
              "      <td>Severe Side Effects</td>\n",
              "    </tr>\n",
              "    <tr>\n",
              "      <th>2780</th>\n",
              "      <td>Moderate Side Effects</td>\n",
              "    </tr>\n",
              "    <tr>\n",
              "      <th>1735</th>\n",
              "      <td>No Side Effects</td>\n",
              "    </tr>\n",
              "    <tr>\n",
              "      <th>...</th>\n",
              "      <td>...</td>\n",
              "    </tr>\n",
              "    <tr>\n",
              "      <th>3092</th>\n",
              "      <td>Mild Side Effects</td>\n",
              "    </tr>\n",
              "    <tr>\n",
              "      <th>1095</th>\n",
              "      <td>Severe Side Effects</td>\n",
              "    </tr>\n",
              "    <tr>\n",
              "      <th>1130</th>\n",
              "      <td>Mild Side Effects</td>\n",
              "    </tr>\n",
              "    <tr>\n",
              "      <th>1294</th>\n",
              "      <td>Moderate Side Effects</td>\n",
              "    </tr>\n",
              "    <tr>\n",
              "      <th>860</th>\n",
              "      <td>Extremely Severe Side Effects</td>\n",
              "    </tr>\n",
              "  </tbody>\n",
              "</table>\n",
              "<p>2485 rows × 1 columns</p>\n",
              "</div>\n",
              "    <div class=\"colab-df-buttons\">\n",
              "\n",
              "  <div class=\"colab-df-container\">\n",
              "    <button class=\"colab-df-convert\" onclick=\"convertToInteractive('df-9cc7cfad-2ad5-43ae-8bb1-f21139d69ec8')\"\n",
              "            title=\"Convert this dataframe to an interactive table.\"\n",
              "            style=\"display:none;\">\n",
              "\n",
              "  <svg xmlns=\"http://www.w3.org/2000/svg\" height=\"24px\" viewBox=\"0 -960 960 960\">\n",
              "    <path d=\"M120-120v-720h720v720H120Zm60-500h600v-160H180v160Zm220 220h160v-160H400v160Zm0 220h160v-160H400v160ZM180-400h160v-160H180v160Zm440 0h160v-160H620v160ZM180-180h160v-160H180v160Zm440 0h160v-160H620v160Z\"/>\n",
              "  </svg>\n",
              "    </button>\n",
              "\n",
              "  <style>\n",
              "    .colab-df-container {\n",
              "      display:flex;\n",
              "      gap: 12px;\n",
              "    }\n",
              "\n",
              "    .colab-df-convert {\n",
              "      background-color: #E8F0FE;\n",
              "      border: none;\n",
              "      border-radius: 50%;\n",
              "      cursor: pointer;\n",
              "      display: none;\n",
              "      fill: #1967D2;\n",
              "      height: 32px;\n",
              "      padding: 0 0 0 0;\n",
              "      width: 32px;\n",
              "    }\n",
              "\n",
              "    .colab-df-convert:hover {\n",
              "      background-color: #E2EBFA;\n",
              "      box-shadow: 0px 1px 2px rgba(60, 64, 67, 0.3), 0px 1px 3px 1px rgba(60, 64, 67, 0.15);\n",
              "      fill: #174EA6;\n",
              "    }\n",
              "\n",
              "    .colab-df-buttons div {\n",
              "      margin-bottom: 4px;\n",
              "    }\n",
              "\n",
              "    [theme=dark] .colab-df-convert {\n",
              "      background-color: #3B4455;\n",
              "      fill: #D2E3FC;\n",
              "    }\n",
              "\n",
              "    [theme=dark] .colab-df-convert:hover {\n",
              "      background-color: #434B5C;\n",
              "      box-shadow: 0px 1px 3px 1px rgba(0, 0, 0, 0.15);\n",
              "      filter: drop-shadow(0px 1px 2px rgba(0, 0, 0, 0.3));\n",
              "      fill: #FFFFFF;\n",
              "    }\n",
              "  </style>\n",
              "\n",
              "    <script>\n",
              "      const buttonEl =\n",
              "        document.querySelector('#df-9cc7cfad-2ad5-43ae-8bb1-f21139d69ec8 button.colab-df-convert');\n",
              "      buttonEl.style.display =\n",
              "        google.colab.kernel.accessAllowed ? 'block' : 'none';\n",
              "\n",
              "      async function convertToInteractive(key) {\n",
              "        const element = document.querySelector('#df-9cc7cfad-2ad5-43ae-8bb1-f21139d69ec8');\n",
              "        const dataTable =\n",
              "          await google.colab.kernel.invokeFunction('convertToInteractive',\n",
              "                                                    [key], {});\n",
              "        if (!dataTable) return;\n",
              "\n",
              "        const docLinkHtml = 'Like what you see? Visit the ' +\n",
              "          '<a target=\"_blank\" href=https://colab.research.google.com/notebooks/data_table.ipynb>data table notebook</a>'\n",
              "          + ' to learn more about interactive tables.';\n",
              "        element.innerHTML = '';\n",
              "        dataTable['output_type'] = 'display_data';\n",
              "        await google.colab.output.renderOutput(dataTable, element);\n",
              "        const docLink = document.createElement('div');\n",
              "        docLink.innerHTML = docLinkHtml;\n",
              "        element.appendChild(docLink);\n",
              "      }\n",
              "    </script>\n",
              "  </div>\n",
              "\n",
              "\n",
              "<div id=\"df-bd65704f-f171-4854-980e-fe626e6adf5e\">\n",
              "  <button class=\"colab-df-quickchart\" onclick=\"quickchart('df-bd65704f-f171-4854-980e-fe626e6adf5e')\"\n",
              "            title=\"Suggest charts\"\n",
              "            style=\"display:none;\">\n",
              "\n",
              "<svg xmlns=\"http://www.w3.org/2000/svg\" height=\"24px\"viewBox=\"0 0 24 24\"\n",
              "     width=\"24px\">\n",
              "    <g>\n",
              "        <path d=\"M19 3H5c-1.1 0-2 .9-2 2v14c0 1.1.9 2 2 2h14c1.1 0 2-.9 2-2V5c0-1.1-.9-2-2-2zM9 17H7v-7h2v7zm4 0h-2V7h2v10zm4 0h-2v-4h2v4z\"/>\n",
              "    </g>\n",
              "</svg>\n",
              "  </button>\n",
              "\n",
              "<style>\n",
              "  .colab-df-quickchart {\n",
              "      --bg-color: #E8F0FE;\n",
              "      --fill-color: #1967D2;\n",
              "      --hover-bg-color: #E2EBFA;\n",
              "      --hover-fill-color: #174EA6;\n",
              "      --disabled-fill-color: #AAA;\n",
              "      --disabled-bg-color: #DDD;\n",
              "  }\n",
              "\n",
              "  [theme=dark] .colab-df-quickchart {\n",
              "      --bg-color: #3B4455;\n",
              "      --fill-color: #D2E3FC;\n",
              "      --hover-bg-color: #434B5C;\n",
              "      --hover-fill-color: #FFFFFF;\n",
              "      --disabled-bg-color: #3B4455;\n",
              "      --disabled-fill-color: #666;\n",
              "  }\n",
              "\n",
              "  .colab-df-quickchart {\n",
              "    background-color: var(--bg-color);\n",
              "    border: none;\n",
              "    border-radius: 50%;\n",
              "    cursor: pointer;\n",
              "    display: none;\n",
              "    fill: var(--fill-color);\n",
              "    height: 32px;\n",
              "    padding: 0;\n",
              "    width: 32px;\n",
              "  }\n",
              "\n",
              "  .colab-df-quickchart:hover {\n",
              "    background-color: var(--hover-bg-color);\n",
              "    box-shadow: 0 1px 2px rgba(60, 64, 67, 0.3), 0 1px 3px 1px rgba(60, 64, 67, 0.15);\n",
              "    fill: var(--button-hover-fill-color);\n",
              "  }\n",
              "\n",
              "  .colab-df-quickchart-complete:disabled,\n",
              "  .colab-df-quickchart-complete:disabled:hover {\n",
              "    background-color: var(--disabled-bg-color);\n",
              "    fill: var(--disabled-fill-color);\n",
              "    box-shadow: none;\n",
              "  }\n",
              "\n",
              "  .colab-df-spinner {\n",
              "    border: 2px solid var(--fill-color);\n",
              "    border-color: transparent;\n",
              "    border-bottom-color: var(--fill-color);\n",
              "    animation:\n",
              "      spin 1s steps(1) infinite;\n",
              "  }\n",
              "\n",
              "  @keyframes spin {\n",
              "    0% {\n",
              "      border-color: transparent;\n",
              "      border-bottom-color: var(--fill-color);\n",
              "      border-left-color: var(--fill-color);\n",
              "    }\n",
              "    20% {\n",
              "      border-color: transparent;\n",
              "      border-left-color: var(--fill-color);\n",
              "      border-top-color: var(--fill-color);\n",
              "    }\n",
              "    30% {\n",
              "      border-color: transparent;\n",
              "      border-left-color: var(--fill-color);\n",
              "      border-top-color: var(--fill-color);\n",
              "      border-right-color: var(--fill-color);\n",
              "    }\n",
              "    40% {\n",
              "      border-color: transparent;\n",
              "      border-right-color: var(--fill-color);\n",
              "      border-top-color: var(--fill-color);\n",
              "    }\n",
              "    60% {\n",
              "      border-color: transparent;\n",
              "      border-right-color: var(--fill-color);\n",
              "    }\n",
              "    80% {\n",
              "      border-color: transparent;\n",
              "      border-right-color: var(--fill-color);\n",
              "      border-bottom-color: var(--fill-color);\n",
              "    }\n",
              "    90% {\n",
              "      border-color: transparent;\n",
              "      border-bottom-color: var(--fill-color);\n",
              "    }\n",
              "  }\n",
              "</style>\n",
              "\n",
              "  <script>\n",
              "    async function quickchart(key) {\n",
              "      const quickchartButtonEl =\n",
              "        document.querySelector('#' + key + ' button');\n",
              "      quickchartButtonEl.disabled = true;  // To prevent multiple clicks.\n",
              "      quickchartButtonEl.classList.add('colab-df-spinner');\n",
              "      try {\n",
              "        const charts = await google.colab.kernel.invokeFunction(\n",
              "            'suggestCharts', [key], {});\n",
              "      } catch (error) {\n",
              "        console.error('Error during call to suggestCharts:', error);\n",
              "      }\n",
              "      quickchartButtonEl.classList.remove('colab-df-spinner');\n",
              "      quickchartButtonEl.classList.add('colab-df-quickchart-complete');\n",
              "    }\n",
              "    (() => {\n",
              "      let quickchartButtonEl =\n",
              "        document.querySelector('#df-bd65704f-f171-4854-980e-fe626e6adf5e button');\n",
              "      quickchartButtonEl.style.display =\n",
              "        google.colab.kernel.accessAllowed ? 'block' : 'none';\n",
              "    })();\n",
              "  </script>\n",
              "</div>\n",
              "\n",
              "    </div>\n",
              "  </div>\n"
            ],
            "text/plain": [
              "                        sideEffects\n",
              "2686                No Side Effects\n",
              "1192              Mild Side Effects\n",
              "2738            Severe Side Effects\n",
              "2780          Moderate Side Effects\n",
              "1735                No Side Effects\n",
              "...                             ...\n",
              "3092              Mild Side Effects\n",
              "1095            Severe Side Effects\n",
              "1130              Mild Side Effects\n",
              "1294          Moderate Side Effects\n",
              "860   Extremely Severe Side Effects\n",
              "\n",
              "[2485 rows x 1 columns]"
            ]
          },
          "execution_count": 42,
          "metadata": {},
          "output_type": "execute_result"
        }
      ],
      "source": [
        "X_train[[categoricals[1]]]"
      ]
    },
    {
      "cell_type": "code",
      "execution_count": 43,
      "metadata": {
        "id": "BsD6b3l2kHaU"
      },
      "outputs": [],
      "source": [
        "model.compile(loss=\"sparse_categorical_crossentropy\", \n",
        "              optimizer=tf.keras.optimizers.SGD(learning_rate=2e-1),\n",
        "              metrics =[\"acc\"])\n"
      ]
    },
    {
      "cell_type": "code",
      "execution_count": 44,
      "metadata": {
        "id": "bZytZjtpkHaU"
      },
      "outputs": [],
      "source": [
        "entradas = [X_train[numericas]] + [X_train[col] for col in categoricals]"
      ]
    },
    {
      "cell_type": "code",
      "execution_count": 45,
      "metadata": {
        "colab": {
          "base_uri": "https://localhost:8080/"
        },
        "id": "xFAwEvLhkHaU",
        "outputId": "c2bb00de-5d4b-4a63-aa2d-6eb7c80ad278"
      },
      "outputs": [
        {
          "name": "stdout",
          "output_type": "stream",
          "text": [
            "Epoch 1/100\n",
            "\u001b[1m63/63\u001b[0m \u001b[32m━━━━━━━━━━━━━━━━━━━━\u001b[0m\u001b[37m\u001b[0m \u001b[1m1s\u001b[0m 6ms/step - acc: 0.2780 - loss: 1.9971 - val_acc: 0.3662 - val_loss: 1.6751\n",
            "Epoch 2/100\n",
            "\u001b[1m63/63\u001b[0m \u001b[32m━━━━━━━━━━━━━━━━━━━━\u001b[0m\u001b[37m\u001b[0m \u001b[1m0s\u001b[0m 2ms/step - acc: 0.4478 - loss: 1.5460 - val_acc: 0.3964 - val_loss: 1.5310\n",
            "Epoch 3/100\n",
            "\u001b[1m63/63\u001b[0m \u001b[32m━━━━━━━━━━━━━━━━━━━━\u001b[0m\u001b[37m\u001b[0m \u001b[1m0s\u001b[0m 2ms/step - acc: 0.4794 - loss: 1.3976 - val_acc: 0.4225 - val_loss: 1.4637\n",
            "Epoch 4/100\n",
            "\u001b[1m63/63\u001b[0m \u001b[32m━━━━━━━━━━━━━━━━━━━━\u001b[0m\u001b[37m\u001b[0m \u001b[1m0s\u001b[0m 2ms/step - acc: 0.4927 - loss: 1.3219 - val_acc: 0.4286 - val_loss: 1.4248\n",
            "Epoch 5/100\n",
            "\u001b[1m63/63\u001b[0m \u001b[32m━━━━━━━━━━━━━━━━━━━━\u001b[0m\u001b[37m\u001b[0m \u001b[1m0s\u001b[0m 2ms/step - acc: 0.4972 - loss: 1.2755 - val_acc: 0.4427 - val_loss: 1.3955\n",
            "Epoch 6/100\n",
            "\u001b[1m63/63\u001b[0m \u001b[32m━━━━━━━━━━━━━━━━━━━━\u001b[0m\u001b[37m\u001b[0m \u001b[1m0s\u001b[0m 2ms/step - acc: 0.5081 - loss: 1.2413 - val_acc: 0.4427 - val_loss: 1.3748\n",
            "Epoch 7/100\n",
            "\u001b[1m63/63\u001b[0m \u001b[32m━━━━━━━━━━━━━━━━━━━━\u001b[0m\u001b[37m\u001b[0m \u001b[1m0s\u001b[0m 2ms/step - acc: 0.5120 - loss: 1.2137 - val_acc: 0.4507 - val_loss: 1.3540\n",
            "Epoch 8/100\n",
            "\u001b[1m63/63\u001b[0m \u001b[32m━━━━━━━━━━━━━━━━━━━━\u001b[0m\u001b[37m\u001b[0m \u001b[1m0s\u001b[0m 2ms/step - acc: 0.5205 - loss: 1.1879 - val_acc: 0.4567 - val_loss: 1.3315\n",
            "Epoch 9/100\n",
            "\u001b[1m63/63\u001b[0m \u001b[32m━━━━━━━━━━━━━━━━━━━━\u001b[0m\u001b[37m\u001b[0m \u001b[1m0s\u001b[0m 2ms/step - acc: 0.5285 - loss: 1.1626 - val_acc: 0.4547 - val_loss: 1.3157\n",
            "Epoch 10/100\n",
            "\u001b[1m63/63\u001b[0m \u001b[32m━━━━━━━━━━━━━━━━━━━━\u001b[0m\u001b[37m\u001b[0m \u001b[1m0s\u001b[0m 2ms/step - acc: 0.5371 - loss: 1.1386 - val_acc: 0.4547 - val_loss: 1.2933\n",
            "Epoch 11/100\n",
            "\u001b[1m63/63\u001b[0m \u001b[32m━━━━━━━━━━━━━━━━━━━━\u001b[0m\u001b[37m\u001b[0m \u001b[1m0s\u001b[0m 2ms/step - acc: 0.5437 - loss: 1.1127 - val_acc: 0.4648 - val_loss: 1.2716\n",
            "Epoch 12/100\n",
            "\u001b[1m63/63\u001b[0m \u001b[32m━━━━━━━━━━━━━━━━━━━━\u001b[0m\u001b[37m\u001b[0m \u001b[1m0s\u001b[0m 2ms/step - acc: 0.5505 - loss: 1.0867 - val_acc: 0.4728 - val_loss: 1.2504\n",
            "Epoch 13/100\n",
            "\u001b[1m63/63\u001b[0m \u001b[32m━━━━━━━━━━━━━━━━━━━━\u001b[0m\u001b[37m\u001b[0m \u001b[1m0s\u001b[0m 2ms/step - acc: 0.5665 - loss: 1.0595 - val_acc: 0.4849 - val_loss: 1.2337\n",
            "Epoch 14/100\n",
            "\u001b[1m63/63\u001b[0m \u001b[32m━━━━━━━━━━━━━━━━━━━━\u001b[0m\u001b[37m\u001b[0m \u001b[1m0s\u001b[0m 2ms/step - acc: 0.5781 - loss: 1.0328 - val_acc: 0.4930 - val_loss: 1.2167\n",
            "Epoch 15/100\n",
            "\u001b[1m63/63\u001b[0m \u001b[32m━━━━━━━━━━━━━━━━━━━━\u001b[0m\u001b[37m\u001b[0m \u001b[1m0s\u001b[0m 2ms/step - acc: 0.5887 - loss: 1.0050 - val_acc: 0.5091 - val_loss: 1.1919\n",
            "Epoch 16/100\n",
            "\u001b[1m63/63\u001b[0m \u001b[32m━━━━━━━━━━━━━━━━━━━━\u001b[0m\u001b[37m\u001b[0m \u001b[1m0s\u001b[0m 2ms/step - acc: 0.5973 - loss: 0.9767 - val_acc: 0.5131 - val_loss: 1.1792\n",
            "Epoch 17/100\n",
            "\u001b[1m63/63\u001b[0m \u001b[32m━━━━━━━━━━━━━━━━━━━━\u001b[0m\u001b[37m\u001b[0m \u001b[1m0s\u001b[0m 2ms/step - acc: 0.6121 - loss: 0.9494 - val_acc: 0.5111 - val_loss: 1.1561\n",
            "Epoch 18/100\n",
            "\u001b[1m63/63\u001b[0m \u001b[32m━━━━━━━━━━━━━━━━━━━━\u001b[0m\u001b[37m\u001b[0m \u001b[1m0s\u001b[0m 4ms/step - acc: 0.6237 - loss: 0.9198 - val_acc: 0.5191 - val_loss: 1.1410\n",
            "Epoch 19/100\n",
            "\u001b[1m63/63\u001b[0m \u001b[32m━━━━━━━━━━━━━━━━━━━━\u001b[0m\u001b[37m\u001b[0m \u001b[1m1s\u001b[0m 4ms/step - acc: 0.6408 - loss: 0.8919 - val_acc: 0.5292 - val_loss: 1.1186\n",
            "Epoch 20/100\n",
            "\u001b[1m63/63\u001b[0m \u001b[32m━━━━━━━━━━━━━━━━━━━━\u001b[0m\u001b[37m\u001b[0m \u001b[1m0s\u001b[0m 3ms/step - acc: 0.6592 - loss: 0.8635 - val_acc: 0.5513 - val_loss: 1.1048\n",
            "Epoch 21/100\n",
            "\u001b[1m63/63\u001b[0m \u001b[32m━━━━━━━━━━━━━━━━━━━━\u001b[0m\u001b[37m\u001b[0m \u001b[1m0s\u001b[0m 4ms/step - acc: 0.6682 - loss: 0.8372 - val_acc: 0.5553 - val_loss: 1.0717\n",
            "Epoch 22/100\n",
            "\u001b[1m63/63\u001b[0m \u001b[32m━━━━━━━━━━━━━━━━━━━━\u001b[0m\u001b[37m\u001b[0m \u001b[1m0s\u001b[0m 3ms/step - acc: 0.6882 - loss: 0.8097 - val_acc: 0.5674 - val_loss: 1.0522\n",
            "Epoch 23/100\n",
            "\u001b[1m63/63\u001b[0m \u001b[32m━━━━━━━━━━━━━━━━━━━━\u001b[0m\u001b[37m\u001b[0m \u001b[1m0s\u001b[0m 4ms/step - acc: 0.7003 - loss: 0.7846 - val_acc: 0.5835 - val_loss: 1.0156\n",
            "Epoch 24/100\n",
            "\u001b[1m63/63\u001b[0m \u001b[32m━━━━━━━━━━━━━━━━━━━━\u001b[0m\u001b[37m\u001b[0m \u001b[1m0s\u001b[0m 2ms/step - acc: 0.7215 - loss: 0.7592 - val_acc: 0.5936 - val_loss: 0.9847\n",
            "Epoch 25/100\n",
            "\u001b[1m63/63\u001b[0m \u001b[32m━━━━━━━━━━━━━━━━━━━━\u001b[0m\u001b[37m\u001b[0m \u001b[1m0s\u001b[0m 2ms/step - acc: 0.7344 - loss: 0.7350 - val_acc: 0.6097 - val_loss: 0.9486\n",
            "Epoch 26/100\n",
            "\u001b[1m63/63\u001b[0m \u001b[32m━━━━━━━━━━━━━━━━━━━━\u001b[0m\u001b[37m\u001b[0m \u001b[1m0s\u001b[0m 2ms/step - acc: 0.7463 - loss: 0.7114 - val_acc: 0.6237 - val_loss: 0.9222\n",
            "Epoch 27/100\n",
            "\u001b[1m63/63\u001b[0m \u001b[32m━━━━━━━━━━━━━━━━━━━━\u001b[0m\u001b[37m\u001b[0m \u001b[1m0s\u001b[0m 3ms/step - acc: 0.7583 - loss: 0.6891 - val_acc: 0.6579 - val_loss: 0.8854\n",
            "Epoch 28/100\n",
            "\u001b[1m63/63\u001b[0m \u001b[32m━━━━━━━━━━━━━━━━━━━━\u001b[0m\u001b[37m\u001b[0m \u001b[1m0s\u001b[0m 3ms/step - acc: 0.7744 - loss: 0.6674 - val_acc: 0.6720 - val_loss: 0.8586\n",
            "Epoch 29/100\n",
            "\u001b[1m63/63\u001b[0m \u001b[32m━━━━━━━━━━━━━━━━━━━━\u001b[0m\u001b[37m\u001b[0m \u001b[1m0s\u001b[0m 2ms/step - acc: 0.7908 - loss: 0.6468 - val_acc: 0.6881 - val_loss: 0.8268\n",
            "Epoch 30/100\n",
            "\u001b[1m63/63\u001b[0m \u001b[32m━━━━━━━━━━━━━━━━━━━━\u001b[0m\u001b[37m\u001b[0m \u001b[1m0s\u001b[0m 2ms/step - acc: 0.8002 - loss: 0.6267 - val_acc: 0.7002 - val_loss: 0.8018\n",
            "Epoch 31/100\n",
            "\u001b[1m63/63\u001b[0m \u001b[32m━━━━━━━━━━━━━━━━━━━━\u001b[0m\u001b[37m\u001b[0m \u001b[1m0s\u001b[0m 2ms/step - acc: 0.8107 - loss: 0.6079 - val_acc: 0.7143 - val_loss: 0.7754\n",
            "Epoch 32/100\n",
            "\u001b[1m63/63\u001b[0m \u001b[32m━━━━━━━━━━━━━━━━━━━━\u001b[0m\u001b[37m\u001b[0m \u001b[1m0s\u001b[0m 2ms/step - acc: 0.8183 - loss: 0.5893 - val_acc: 0.7243 - val_loss: 0.7486\n",
            "Epoch 33/100\n",
            "\u001b[1m63/63\u001b[0m \u001b[32m━━━━━━━━━━━━━━━━━━━━\u001b[0m\u001b[37m\u001b[0m \u001b[1m0s\u001b[0m 3ms/step - acc: 0.8227 - loss: 0.5716 - val_acc: 0.7324 - val_loss: 0.7304\n",
            "Epoch 34/100\n",
            "\u001b[1m63/63\u001b[0m \u001b[32m━━━━━━━━━━━━━━━━━━━━\u001b[0m\u001b[37m\u001b[0m \u001b[1m0s\u001b[0m 2ms/step - acc: 0.8374 - loss: 0.5547 - val_acc: 0.7445 - val_loss: 0.7070\n",
            "Epoch 35/100\n",
            "\u001b[1m63/63\u001b[0m \u001b[32m━━━━━━━━━━━━━━━━━━━━\u001b[0m\u001b[37m\u001b[0m \u001b[1m0s\u001b[0m 2ms/step - acc: 0.8481 - loss: 0.5386 - val_acc: 0.7586 - val_loss: 0.6877\n",
            "Epoch 36/100\n",
            "\u001b[1m63/63\u001b[0m \u001b[32m━━━━━━━━━━━━━━━━━━━━\u001b[0m\u001b[37m\u001b[0m \u001b[1m0s\u001b[0m 2ms/step - acc: 0.8524 - loss: 0.5229 - val_acc: 0.7706 - val_loss: 0.6694\n",
            "Epoch 37/100\n",
            "\u001b[1m63/63\u001b[0m \u001b[32m━━━━━━━━━━━━━━━━━━━━\u001b[0m\u001b[37m\u001b[0m \u001b[1m0s\u001b[0m 2ms/step - acc: 0.8593 - loss: 0.5081 - val_acc: 0.7807 - val_loss: 0.6520\n",
            "Epoch 38/100\n",
            "\u001b[1m63/63\u001b[0m \u001b[32m━━━━━━━━━━━━━━━━━━━━\u001b[0m\u001b[37m\u001b[0m \u001b[1m0s\u001b[0m 2ms/step - acc: 0.8699 - loss: 0.4937 - val_acc: 0.7867 - val_loss: 0.6357\n",
            "Epoch 39/100\n",
            "\u001b[1m63/63\u001b[0m \u001b[32m━━━━━━━━━━━━━━━━━━━━\u001b[0m\u001b[37m\u001b[0m \u001b[1m0s\u001b[0m 2ms/step - acc: 0.8737 - loss: 0.4794 - val_acc: 0.7928 - val_loss: 0.6203\n",
            "Epoch 40/100\n",
            "\u001b[1m63/63\u001b[0m \u001b[32m━━━━━━━━━━━━━━━━━━━━\u001b[0m\u001b[37m\u001b[0m \u001b[1m0s\u001b[0m 3ms/step - acc: 0.8796 - loss: 0.4663 - val_acc: 0.7948 - val_loss: 0.6056\n",
            "Epoch 41/100\n",
            "\u001b[1m63/63\u001b[0m \u001b[32m━━━━━━━━━━━━━━━━━━━━\u001b[0m\u001b[37m\u001b[0m \u001b[1m0s\u001b[0m 2ms/step - acc: 0.8907 - loss: 0.4533 - val_acc: 0.8048 - val_loss: 0.5906\n",
            "Epoch 42/100\n",
            "\u001b[1m63/63\u001b[0m \u001b[32m━━━━━━━━━━━━━━━━━━━━\u001b[0m\u001b[37m\u001b[0m \u001b[1m0s\u001b[0m 2ms/step - acc: 0.8959 - loss: 0.4410 - val_acc: 0.8068 - val_loss: 0.5783\n",
            "Epoch 43/100\n",
            "\u001b[1m63/63\u001b[0m \u001b[32m━━━━━━━━━━━━━━━━━━━━\u001b[0m\u001b[37m\u001b[0m \u001b[1m0s\u001b[0m 3ms/step - acc: 0.9001 - loss: 0.4289 - val_acc: 0.8169 - val_loss: 0.5644\n",
            "Epoch 44/100\n",
            "\u001b[1m63/63\u001b[0m \u001b[32m━━━━━━━━━━━━━━━━━━━━\u001b[0m\u001b[37m\u001b[0m \u001b[1m0s\u001b[0m 2ms/step - acc: 0.9056 - loss: 0.4176 - val_acc: 0.8189 - val_loss: 0.5524\n",
            "Epoch 45/100\n",
            "\u001b[1m63/63\u001b[0m \u001b[32m━━━━━━━━━━━━━━━━━━━━\u001b[0m\u001b[37m\u001b[0m \u001b[1m0s\u001b[0m 2ms/step - acc: 0.9090 - loss: 0.4064 - val_acc: 0.8189 - val_loss: 0.5401\n",
            "Epoch 46/100\n",
            "\u001b[1m63/63\u001b[0m \u001b[32m━━━━━━━━━━━━━━━━━━━━\u001b[0m\u001b[37m\u001b[0m \u001b[1m0s\u001b[0m 2ms/step - acc: 0.9109 - loss: 0.3958 - val_acc: 0.8189 - val_loss: 0.5295\n",
            "Epoch 47/100\n",
            "\u001b[1m63/63\u001b[0m \u001b[32m━━━━━━━━━━━━━━━━━━━━\u001b[0m\u001b[37m\u001b[0m \u001b[1m0s\u001b[0m 2ms/step - acc: 0.9153 - loss: 0.3853 - val_acc: 0.8270 - val_loss: 0.5180\n",
            "Epoch 48/100\n",
            "\u001b[1m63/63\u001b[0m \u001b[32m━━━━━━━━━━━━━━━━━━━━\u001b[0m\u001b[37m\u001b[0m \u001b[1m0s\u001b[0m 2ms/step - acc: 0.9174 - loss: 0.3754 - val_acc: 0.8310 - val_loss: 0.5077\n",
            "Epoch 49/100\n",
            "\u001b[1m63/63\u001b[0m \u001b[32m━━━━━━━━━━━━━━━━━━━━\u001b[0m\u001b[37m\u001b[0m \u001b[1m0s\u001b[0m 2ms/step - acc: 0.9199 - loss: 0.3658 - val_acc: 0.8370 - val_loss: 0.4973\n",
            "Epoch 50/100\n",
            "\u001b[1m63/63\u001b[0m \u001b[32m━━━━━━━━━━━━━━━━━━━━\u001b[0m\u001b[37m\u001b[0m \u001b[1m0s\u001b[0m 2ms/step - acc: 0.9212 - loss: 0.3566 - val_acc: 0.8410 - val_loss: 0.4874\n",
            "Epoch 51/100\n",
            "\u001b[1m63/63\u001b[0m \u001b[32m━━━━━━━━━━━━━━━━━━━━\u001b[0m\u001b[37m\u001b[0m \u001b[1m0s\u001b[0m 2ms/step - acc: 0.9223 - loss: 0.3477 - val_acc: 0.8451 - val_loss: 0.4780\n",
            "Epoch 52/100\n",
            "\u001b[1m63/63\u001b[0m \u001b[32m━━━━━━━━━━━━━━━━━━━━\u001b[0m\u001b[37m\u001b[0m \u001b[1m0s\u001b[0m 2ms/step - acc: 0.9261 - loss: 0.3388 - val_acc: 0.8511 - val_loss: 0.4690\n",
            "Epoch 53/100\n",
            "\u001b[1m63/63\u001b[0m \u001b[32m━━━━━━━━━━━━━━━━━━━━\u001b[0m\u001b[37m\u001b[0m \u001b[1m0s\u001b[0m 2ms/step - acc: 0.9299 - loss: 0.3307 - val_acc: 0.8551 - val_loss: 0.4601\n",
            "Epoch 54/100\n",
            "\u001b[1m63/63\u001b[0m \u001b[32m━━━━━━━━━━━━━━━━━━━━\u001b[0m\u001b[37m\u001b[0m \u001b[1m0s\u001b[0m 3ms/step - acc: 0.9328 - loss: 0.3225 - val_acc: 0.8571 - val_loss: 0.4520\n",
            "Epoch 55/100\n",
            "\u001b[1m63/63\u001b[0m \u001b[32m━━━━━━━━━━━━━━━━━━━━\u001b[0m\u001b[37m\u001b[0m \u001b[1m0s\u001b[0m 2ms/step - acc: 0.9356 - loss: 0.3148 - val_acc: 0.8632 - val_loss: 0.4441\n",
            "Epoch 56/100\n",
            "\u001b[1m63/63\u001b[0m \u001b[32m━━━━━━━━━━━━━━━━━━━━\u001b[0m\u001b[37m\u001b[0m \u001b[1m0s\u001b[0m 2ms/step - acc: 0.9387 - loss: 0.3073 - val_acc: 0.8672 - val_loss: 0.4365\n",
            "Epoch 57/100\n",
            "\u001b[1m63/63\u001b[0m \u001b[32m━━━━━━━━━━━━━━━━━━━━\u001b[0m\u001b[37m\u001b[0m \u001b[1m0s\u001b[0m 2ms/step - acc: 0.9397 - loss: 0.3000 - val_acc: 0.8712 - val_loss: 0.4291\n",
            "Epoch 58/100\n",
            "\u001b[1m63/63\u001b[0m \u001b[32m━━━━━━━━━━━━━━━━━━━━\u001b[0m\u001b[37m\u001b[0m \u001b[1m0s\u001b[0m 3ms/step - acc: 0.9440 - loss: 0.2931 - val_acc: 0.8773 - val_loss: 0.4223\n",
            "Epoch 59/100\n",
            "\u001b[1m63/63\u001b[0m \u001b[32m━━━━━━━━━━━━━━━━━━━━\u001b[0m\u001b[37m\u001b[0m \u001b[1m0s\u001b[0m 2ms/step - acc: 0.9453 - loss: 0.2864 - val_acc: 0.8773 - val_loss: 0.4160\n",
            "Epoch 60/100\n",
            "\u001b[1m63/63\u001b[0m \u001b[32m━━━━━━━━━━━━━━━━━━━━\u001b[0m\u001b[37m\u001b[0m \u001b[1m0s\u001b[0m 2ms/step - acc: 0.9477 - loss: 0.2800 - val_acc: 0.8793 - val_loss: 0.4094\n",
            "Epoch 61/100\n",
            "\u001b[1m63/63\u001b[0m \u001b[32m━━━━━━━━━━━━━━━━━━━━\u001b[0m\u001b[37m\u001b[0m \u001b[1m0s\u001b[0m 4ms/step - acc: 0.9478 - loss: 0.2738 - val_acc: 0.8833 - val_loss: 0.4034\n",
            "Epoch 62/100\n",
            "\u001b[1m63/63\u001b[0m \u001b[32m━━━━━━━━━━━━━━━━━━━━\u001b[0m\u001b[37m\u001b[0m \u001b[1m0s\u001b[0m 4ms/step - acc: 0.9501 - loss: 0.2678 - val_acc: 0.8833 - val_loss: 0.3972\n",
            "Epoch 63/100\n",
            "\u001b[1m63/63\u001b[0m \u001b[32m━━━━━━━━━━━━━━━━━━━━\u001b[0m\u001b[37m\u001b[0m \u001b[1m0s\u001b[0m 3ms/step - acc: 0.9513 - loss: 0.2620 - val_acc: 0.8873 - val_loss: 0.3917\n",
            "Epoch 64/100\n",
            "\u001b[1m63/63\u001b[0m \u001b[32m━━━━━━━━━━━━━━━━━━━━\u001b[0m\u001b[37m\u001b[0m \u001b[1m0s\u001b[0m 3ms/step - acc: 0.9515 - loss: 0.2564 - val_acc: 0.8893 - val_loss: 0.3857\n",
            "Epoch 65/100\n",
            "\u001b[1m63/63\u001b[0m \u001b[32m━━━━━━━━━━━━━━━━━━━━\u001b[0m\u001b[37m\u001b[0m \u001b[1m0s\u001b[0m 4ms/step - acc: 0.9528 - loss: 0.2510 - val_acc: 0.8934 - val_loss: 0.3804\n",
            "Epoch 66/100\n",
            "\u001b[1m63/63\u001b[0m \u001b[32m━━━━━━━━━━━━━━━━━━━━\u001b[0m\u001b[37m\u001b[0m \u001b[1m0s\u001b[0m 4ms/step - acc: 0.9568 - loss: 0.2457 - val_acc: 0.8954 - val_loss: 0.3752\n",
            "Epoch 67/100\n",
            "\u001b[1m63/63\u001b[0m \u001b[32m━━━━━━━━━━━━━━━━━━━━\u001b[0m\u001b[37m\u001b[0m \u001b[1m0s\u001b[0m 4ms/step - acc: 0.9583 - loss: 0.2405 - val_acc: 0.8974 - val_loss: 0.3705\n",
            "Epoch 68/100\n",
            "\u001b[1m63/63\u001b[0m \u001b[32m━━━━━━━━━━━━━━━━━━━━\u001b[0m\u001b[37m\u001b[0m \u001b[1m0s\u001b[0m 4ms/step - acc: 0.9582 - loss: 0.2356 - val_acc: 0.8974 - val_loss: 0.3649\n",
            "Epoch 69/100\n",
            "\u001b[1m63/63\u001b[0m \u001b[32m━━━━━━━━━━━━━━━━━━━━\u001b[0m\u001b[37m\u001b[0m \u001b[1m1s\u001b[0m 3ms/step - acc: 0.9590 - loss: 0.2307 - val_acc: 0.8994 - val_loss: 0.3604\n",
            "Epoch 70/100\n",
            "\u001b[1m63/63\u001b[0m \u001b[32m━━━━━━━━━━━━━━━━━━━━\u001b[0m\u001b[37m\u001b[0m \u001b[1m0s\u001b[0m 3ms/step - acc: 0.9607 - loss: 0.2261 - val_acc: 0.8974 - val_loss: 0.3555\n",
            "Epoch 71/100\n",
            "\u001b[1m63/63\u001b[0m \u001b[32m━━━━━━━━━━━━━━━━━━━━\u001b[0m\u001b[37m\u001b[0m \u001b[1m0s\u001b[0m 2ms/step - acc: 0.9626 - loss: 0.2215 - val_acc: 0.8994 - val_loss: 0.3509\n",
            "Epoch 72/100\n",
            "\u001b[1m63/63\u001b[0m \u001b[32m━━━━━━━━━━━━━━━━━━━━\u001b[0m\u001b[37m\u001b[0m \u001b[1m0s\u001b[0m 2ms/step - acc: 0.9628 - loss: 0.2172 - val_acc: 0.8994 - val_loss: 0.3464\n",
            "Epoch 73/100\n",
            "\u001b[1m63/63\u001b[0m \u001b[32m━━━━━━━━━━━━━━━━━━━━\u001b[0m\u001b[37m\u001b[0m \u001b[1m0s\u001b[0m 2ms/step - acc: 0.9628 - loss: 0.2130 - val_acc: 0.8994 - val_loss: 0.3423\n",
            "Epoch 74/100\n",
            "\u001b[1m63/63\u001b[0m \u001b[32m━━━━━━━━━━━━━━━━━━━━\u001b[0m\u001b[37m\u001b[0m \u001b[1m0s\u001b[0m 2ms/step - acc: 0.9633 - loss: 0.2089 - val_acc: 0.8994 - val_loss: 0.3382\n",
            "Epoch 75/100\n",
            "\u001b[1m63/63\u001b[0m \u001b[32m━━━━━━━━━━━━━━━━━━━━\u001b[0m\u001b[37m\u001b[0m \u001b[1m0s\u001b[0m 2ms/step - acc: 0.9642 - loss: 0.2050 - val_acc: 0.9014 - val_loss: 0.3340\n",
            "Epoch 76/100\n",
            "\u001b[1m63/63\u001b[0m \u001b[32m━━━━━━━━━━━━━━━━━━━━\u001b[0m\u001b[37m\u001b[0m \u001b[1m0s\u001b[0m 2ms/step - acc: 0.9657 - loss: 0.2010 - val_acc: 0.9034 - val_loss: 0.3299\n",
            "Epoch 77/100\n",
            "\u001b[1m63/63\u001b[0m \u001b[32m━━━━━━━━━━━━━━━━━━━━\u001b[0m\u001b[37m\u001b[0m \u001b[1m0s\u001b[0m 2ms/step - acc: 0.9669 - loss: 0.1973 - val_acc: 0.9054 - val_loss: 0.3264\n",
            "Epoch 78/100\n",
            "\u001b[1m63/63\u001b[0m \u001b[32m━━━━━━━━━━━━━━━━━━━━\u001b[0m\u001b[37m\u001b[0m \u001b[1m0s\u001b[0m 2ms/step - acc: 0.9670 - loss: 0.1936 - val_acc: 0.9054 - val_loss: 0.3228\n",
            "Epoch 79/100\n",
            "\u001b[1m63/63\u001b[0m \u001b[32m━━━━━━━━━━━━━━━━━━━━\u001b[0m\u001b[37m\u001b[0m \u001b[1m0s\u001b[0m 2ms/step - acc: 0.9704 - loss: 0.1901 - val_acc: 0.9074 - val_loss: 0.3192\n",
            "Epoch 80/100\n",
            "\u001b[1m63/63\u001b[0m \u001b[32m━━━━━━━━━━━━━━━━━━━━\u001b[0m\u001b[37m\u001b[0m \u001b[1m0s\u001b[0m 2ms/step - acc: 0.9704 - loss: 0.1867 - val_acc: 0.9074 - val_loss: 0.3159\n",
            "Epoch 81/100\n",
            "\u001b[1m63/63\u001b[0m \u001b[32m━━━━━━━━━━━━━━━━━━━━\u001b[0m\u001b[37m\u001b[0m \u001b[1m0s\u001b[0m 2ms/step - acc: 0.9705 - loss: 0.1833 - val_acc: 0.9074 - val_loss: 0.3123\n",
            "Epoch 82/100\n",
            "\u001b[1m63/63\u001b[0m \u001b[32m━━━━━━━━━━━━━━━━━━━━\u001b[0m\u001b[37m\u001b[0m \u001b[1m0s\u001b[0m 2ms/step - acc: 0.9712 - loss: 0.1801 - val_acc: 0.9074 - val_loss: 0.3088\n",
            "Epoch 83/100\n",
            "\u001b[1m63/63\u001b[0m \u001b[32m━━━━━━━━━━━━━━━━━━━━\u001b[0m\u001b[37m\u001b[0m \u001b[1m0s\u001b[0m 2ms/step - acc: 0.9730 - loss: 0.1768 - val_acc: 0.9115 - val_loss: 0.3058\n",
            "Epoch 84/100\n",
            "\u001b[1m63/63\u001b[0m \u001b[32m━━━━━━━━━━━━━━━━━━━━\u001b[0m\u001b[37m\u001b[0m \u001b[1m0s\u001b[0m 2ms/step - acc: 0.9734 - loss: 0.1737 - val_acc: 0.9115 - val_loss: 0.3023\n",
            "Epoch 85/100\n",
            "\u001b[1m63/63\u001b[0m \u001b[32m━━━━━━━━━━━━━━━━━━━━\u001b[0m\u001b[37m\u001b[0m \u001b[1m0s\u001b[0m 2ms/step - acc: 0.9734 - loss: 0.1705 - val_acc: 0.9115 - val_loss: 0.2995\n",
            "Epoch 86/100\n",
            "\u001b[1m63/63\u001b[0m \u001b[32m━━━━━━━━━━━━━━━━━━━━\u001b[0m\u001b[37m\u001b[0m \u001b[1m0s\u001b[0m 3ms/step - acc: 0.9742 - loss: 0.1676 - val_acc: 0.9155 - val_loss: 0.2968\n",
            "Epoch 87/100\n",
            "\u001b[1m63/63\u001b[0m \u001b[32m━━━━━━━━━━━━━━━━━━━━\u001b[0m\u001b[37m\u001b[0m \u001b[1m0s\u001b[0m 3ms/step - acc: 0.9763 - loss: 0.1648 - val_acc: 0.9155 - val_loss: 0.2939\n",
            "Epoch 88/100\n",
            "\u001b[1m63/63\u001b[0m \u001b[32m━━━━━━━━━━━━━━━━━━━━\u001b[0m\u001b[37m\u001b[0m \u001b[1m0s\u001b[0m 2ms/step - acc: 0.9778 - loss: 0.1619 - val_acc: 0.9175 - val_loss: 0.2908\n",
            "Epoch 89/100\n",
            "\u001b[1m63/63\u001b[0m \u001b[32m━━━━━━━━━━━━━━━━━━━━\u001b[0m\u001b[37m\u001b[0m \u001b[1m0s\u001b[0m 3ms/step - acc: 0.9783 - loss: 0.1592 - val_acc: 0.9175 - val_loss: 0.2881\n",
            "Epoch 90/100\n",
            "\u001b[1m63/63\u001b[0m \u001b[32m━━━━━━━━━━━━━━━━━━━━\u001b[0m\u001b[37m\u001b[0m \u001b[1m0s\u001b[0m 2ms/step - acc: 0.9777 - loss: 0.1564 - val_acc: 0.9175 - val_loss: 0.2855\n",
            "Epoch 91/100\n",
            "\u001b[1m63/63\u001b[0m \u001b[32m━━━━━━━━━━━━━━━━━━━━\u001b[0m\u001b[37m\u001b[0m \u001b[1m0s\u001b[0m 2ms/step - acc: 0.9800 - loss: 0.1538 - val_acc: 0.9175 - val_loss: 0.2832\n",
            "Epoch 92/100\n",
            "\u001b[1m63/63\u001b[0m \u001b[32m━━━━━━━━━━━━━━━━━━━━\u001b[0m\u001b[37m\u001b[0m \u001b[1m0s\u001b[0m 2ms/step - acc: 0.9806 - loss: 0.1513 - val_acc: 0.9175 - val_loss: 0.2804\n",
            "Epoch 93/100\n",
            "\u001b[1m63/63\u001b[0m \u001b[32m━━━━━━━━━━━━━━━━━━━━\u001b[0m\u001b[37m\u001b[0m \u001b[1m0s\u001b[0m 2ms/step - acc: 0.9809 - loss: 0.1487 - val_acc: 0.9175 - val_loss: 0.2781\n",
            "Epoch 94/100\n",
            "\u001b[1m63/63\u001b[0m \u001b[32m━━━━━━━━━━━━━━━━━━━━\u001b[0m\u001b[37m\u001b[0m \u001b[1m0s\u001b[0m 2ms/step - acc: 0.9818 - loss: 0.1463 - val_acc: 0.9175 - val_loss: 0.2756\n",
            "Epoch 95/100\n",
            "\u001b[1m63/63\u001b[0m \u001b[32m━━━━━━━━━━━━━━━━━━━━\u001b[0m\u001b[37m\u001b[0m \u001b[1m0s\u001b[0m 2ms/step - acc: 0.9830 - loss: 0.1439 - val_acc: 0.9175 - val_loss: 0.2739\n",
            "Epoch 96/100\n",
            "\u001b[1m63/63\u001b[0m \u001b[32m━━━━━━━━━━━━━━━━━━━━\u001b[0m\u001b[37m\u001b[0m \u001b[1m0s\u001b[0m 2ms/step - acc: 0.9838 - loss: 0.1417 - val_acc: 0.9175 - val_loss: 0.2712\n",
            "Epoch 97/100\n",
            "\u001b[1m63/63\u001b[0m \u001b[32m━━━━━━━━━━━━━━━━━━━━\u001b[0m\u001b[37m\u001b[0m \u001b[1m0s\u001b[0m 3ms/step - acc: 0.9840 - loss: 0.1394 - val_acc: 0.9175 - val_loss: 0.2692\n",
            "Epoch 98/100\n",
            "\u001b[1m63/63\u001b[0m \u001b[32m━━━━━━━━━━━━━━━━━━━━\u001b[0m\u001b[37m\u001b[0m \u001b[1m0s\u001b[0m 2ms/step - acc: 0.9840 - loss: 0.1371 - val_acc: 0.9175 - val_loss: 0.2668\n",
            "Epoch 99/100\n",
            "\u001b[1m63/63\u001b[0m \u001b[32m━━━━━━━━━━━━━━━━━━━━\u001b[0m\u001b[37m\u001b[0m \u001b[1m0s\u001b[0m 2ms/step - acc: 0.9841 - loss: 0.1350 - val_acc: 0.9175 - val_loss: 0.2648\n",
            "Epoch 100/100\n",
            "\u001b[1m63/63\u001b[0m \u001b[32m━━━━━━━━━━━━━━━━━━━━\u001b[0m\u001b[37m\u001b[0m \u001b[1m0s\u001b[0m 3ms/step - acc: 0.9847 - loss: 0.1329 - val_acc: 0.9175 - val_loss: 0.2625\n"
          ]
        }
      ],
      "source": [
        "history = model.fit(entradas, y_num, validation_split=0.2, epochs=100, callbacks= earlyS)"
      ]
    },
    {
      "cell_type": "code",
      "execution_count": 46,
      "metadata": {
        "colab": {
          "base_uri": "https://localhost:8080/"
        },
        "id": "43YDM0eLkHaU",
        "outputId": "6445d914-b20d-4773-b11d-9c6f9a9ae32f"
      },
      "outputs": [
        {
          "name": "stdout",
          "output_type": "stream",
          "text": [
            "\u001b[1m20/20\u001b[0m \u001b[32m━━━━━━━━━━━━━━━━━━━━\u001b[0m\u001b[37m\u001b[0m \u001b[1m0s\u001b[0m 2ms/step - acc: 0.9366 - loss: 0.2385 \n"
          ]
        },
        {
          "data": {
            "text/plain": [
              "[0.2522585093975067, 0.9340835809707642]"
            ]
          },
          "execution_count": 46,
          "metadata": {},
          "output_type": "execute_result"
        }
      ],
      "source": [
        "model.evaluate(entrada_test,test_set[target])"
      ]
    },
    {
      "cell_type": "markdown",
      "metadata": {
        "id": "wpB4vF76kHaU"
      },
      "source": [
        "Un poco mejor que con el ordinal, pero sin pasarse y además hay que ver el impacto del desbalanceo"
      ]
    },
    {
      "cell_type": "code",
      "execution_count": 47,
      "metadata": {
        "colab": {
          "base_uri": "https://localhost:8080/"
        },
        "id": "xiCNsH6nkHaU",
        "outputId": "f9198aca-3c54-4ecf-e774-59346023acd0"
      },
      "outputs": [
        {
          "name": "stdout",
          "output_type": "stream",
          "text": [
            "\u001b[1m20/20\u001b[0m \u001b[32m━━━━━━━━━━━━━━━━━━━━\u001b[0m\u001b[37m\u001b[0m \u001b[1m0s\u001b[0m 6ms/step\n"
          ]
        }
      ],
      "source": [
        "y_pred  = [np.argmax(pred) for pred in model.predict(entrada_test)]"
      ]
    },
    {
      "cell_type": "code",
      "execution_count": 48,
      "metadata": {
        "colab": {
          "base_uri": "https://localhost:8080/"
        },
        "id": "_ZQqEDo6kHaU",
        "outputId": "79b22dc4-4b29-42da-f77b-48066c26a5d6"
      },
      "outputs": [
        {
          "name": "stdout",
          "output_type": "stream",
          "text": [
            "              precision    recall  f1-score   support\n",
            "\n",
            "           0       0.98      0.98      0.98        62\n",
            "           1       0.75      0.38      0.50        16\n",
            "           2       0.65      0.87      0.74        23\n",
            "           3       0.82      0.50      0.62        18\n",
            "           4       0.58      0.93      0.71        27\n",
            "           5       0.86      0.66      0.75        38\n",
            "           6       0.98      0.96      0.97        83\n",
            "           7       0.99      1.00      0.99        94\n",
            "           8       1.00      1.00      1.00       110\n",
            "           9       1.00      1.00      1.00       151\n",
            "\n",
            "    accuracy                           0.93       622\n",
            "   macro avg       0.86      0.83      0.83       622\n",
            "weighted avg       0.94      0.93      0.93       622\n",
            "\n"
          ]
        }
      ],
      "source": [
        "print(classification_report(test_set[target], y_pred))"
      ]
    },
    {
      "cell_type": "markdown",
      "metadata": {
        "id": "c9dUgls6kHaU"
      },
      "source": [
        "Se nos va de nuevo a la clase mayoritaria. En la siguiente sesión añadiremos la vectorización de las features de texto y te enseñare a configurar el class_weight para aliviar (no siempre mucho) el efecto del desbalanceo"
      ]
    },
    {
      "cell_type": "markdown",
      "metadata": {
        "id": "uzPva7IqkHaV"
      },
      "source": [
        "***"
      ]
    },
    {
      "cell_type": "markdown",
      "metadata": {
        "id": "gJz6MroxkHaV"
      },
      "source": [
        "Primero vamos a mostrar rápidamente como funciona la capa de vectorizacion de texto de keras y luego aplicaremos el proceso completo (recuerda que hay que limpiar el texto y tokenizarlo antes de hacer su vectorización). Vamos con la(s) capa(s) de vectorización"
      ]
    },
    {
      "cell_type": "markdown",
      "metadata": {
        "id": "ilxdj5A2kHaV"
      },
      "source": [
        "## Capas de Vectorizacion"
      ]
    },
    {
      "cell_type": "markdown",
      "metadata": {
        "id": "DK7u7OKMkHaV"
      },
      "source": [
        "El equivalente al CountVectorizer y al TfidfVectorizer de sklearn es la capa TextVectorization"
      ]
    },
    {
      "cell_type": "code",
      "execution_count": 49,
      "metadata": {
        "id": "EEFYwnwokHaV"
      },
      "outputs": [],
      "source": [
        "text_vec_layer_count = tf.keras.layers.TextVectorization(output_mode = \"count\") # output_mode = \"count\" -> Countvectorizer\n",
        "text_vec_layer_count.adapt(train_set[[\"sideEffectsReview\"]])"
      ]
    },
    {
      "cell_type": "code",
      "execution_count": 50,
      "metadata": {
        "colab": {
          "base_uri": "https://localhost:8080/"
        },
        "id": "Ce3i-5-HkHaV",
        "outputId": "9530f5b3-8920-44ca-e4f2-5a7d647a4bc1",
        "scrolled": true
      },
      "outputs": [
        {
          "data": {
            "text/plain": [
              "['[UNK]', 'i', 'the', 'and', 'to', 'a', 'of', 'my', 'it', 'was']"
            ]
          },
          "execution_count": 50,
          "metadata": {},
          "output_type": "execute_result"
        }
      ],
      "source": [
        "text_vec_layer_count.get_vocabulary()[:10]"
      ]
    },
    {
      "cell_type": "code",
      "execution_count": 51,
      "metadata": {
        "colab": {
          "base_uri": "https://localhost:8080/"
        },
        "id": "313X7oT_kHaV",
        "outputId": "ba1187b5-f1ef-4461-cf39-52a5d8675a6a"
      },
      "outputs": [
        {
          "name": "stdout",
          "output_type": "stream",
          "text": [
            "['redness, dryness, breakdown of skin']\n"
          ]
        }
      ],
      "source": [
        "texto = train_set[\"sideEffectsReview\"][2:3].values\n",
        "print(texto)"
      ]
    },
    {
      "cell_type": "code",
      "execution_count": 52,
      "metadata": {
        "id": "z3LY5xJVkHaV"
      },
      "outputs": [],
      "source": [
        "text_vec_layer_tfidf = tf.keras.layers.TextVectorization(output_mode= \"tf_idf\") # output_mode = \"tf_idf\" -> TfIdfVectorizer, existe un tercer modo (el que viene por defecto que veremos un poco más adelante)\n",
        "text_vec_layer_tfidf.adapt(train_set[\"sideEffectsReview\"])"
      ]
    },
    {
      "cell_type": "code",
      "execution_count": 53,
      "metadata": {
        "id": "-hOIdW8VkHaW"
      },
      "outputs": [],
      "source": [
        "vectors = text_vec_layer_count(train_set[\"sideEffectsReview\"])"
      ]
    },
    {
      "cell_type": "code",
      "execution_count": 54,
      "metadata": {
        "colab": {
          "base_uri": "https://localhost:8080/"
        },
        "id": "4CC2Cm-6kHaW",
        "outputId": "a504d814-5681-4fa5-8184-545899a45cca"
      },
      "outputs": [
        {
          "data": {
            "text/plain": [
              "<tf.Tensor: shape=(2485, 6564), dtype=int64, numpy=\n",
              "array([[0, 1, 0, ..., 0, 0, 0],\n",
              "       [0, 0, 0, ..., 0, 0, 0],\n",
              "       [0, 0, 0, ..., 0, 0, 0],\n",
              "       ...,\n",
              "       [0, 1, 0, ..., 0, 0, 0],\n",
              "       [0, 8, 3, ..., 0, 0, 0],\n",
              "       [0, 1, 2, ..., 0, 0, 0]])>"
            ]
          },
          "execution_count": 54,
          "metadata": {},
          "output_type": "execute_result"
        }
      ],
      "source": [
        "vectors"
      ]
    },
    {
      "cell_type": "code",
      "execution_count": 55,
      "metadata": {
        "id": "G4ccU8NLkHaW"
      },
      "outputs": [],
      "source": [
        "df_vectors = pd.DataFrame(vectors.numpy(),\\\n",
        "                          columns= text_vec_layer_count.get_vocabulary())"
      ]
    },
    {
      "cell_type": "code",
      "execution_count": 56,
      "metadata": {
        "colab": {
          "base_uri": "https://localhost:8080/",
          "height": 423
        },
        "id": "CfTCetjLkHaW",
        "outputId": "da5d2338-63e0-449c-ee11-576d07fb0295",
        "scrolled": true
      },
      "outputs": [
        {
          "data": {
            "application/vnd.google.colaboratory.intrinsic+json": {
              "type": "dataframe",
              "variable_name": "df_vectors"
            },
            "text/html": [
              "\n",
              "  <div id=\"df-bfc4b676-d68c-49b4-9284-fbf01f5444b1\" class=\"colab-df-container\">\n",
              "    <div>\n",
              "<style scoped>\n",
              "    .dataframe tbody tr th:only-of-type {\n",
              "        vertical-align: middle;\n",
              "    }\n",
              "\n",
              "    .dataframe tbody tr th {\n",
              "        vertical-align: top;\n",
              "    }\n",
              "\n",
              "    .dataframe thead th {\n",
              "        text-align: right;\n",
              "    }\n",
              "</style>\n",
              "<table border=\"1\" class=\"dataframe\">\n",
              "  <thead>\n",
              "    <tr style=\"text-align: right;\">\n",
              "      <th></th>\n",
              "      <th>[UNK]</th>\n",
              "      <th>i</th>\n",
              "      <th>the</th>\n",
              "      <th>and</th>\n",
              "      <th>to</th>\n",
              "      <th>a</th>\n",
              "      <th>of</th>\n",
              "      <th>my</th>\n",
              "      <th>it</th>\n",
              "      <th>was</th>\n",
              "      <th>...</th>\n",
              "      <th>10142008</th>\n",
              "      <th>1014</th>\n",
              "      <th>1012</th>\n",
              "      <th>100mgthe</th>\n",
              "      <th>100mgs</th>\n",
              "      <th>100mgdoses</th>\n",
              "      <th>100110</th>\n",
              "      <th>1000mg</th>\n",
              "      <th>10000</th>\n",
              "      <th>072009</th>\n",
              "    </tr>\n",
              "  </thead>\n",
              "  <tbody>\n",
              "    <tr>\n",
              "      <th>0</th>\n",
              "      <td>0</td>\n",
              "      <td>1</td>\n",
              "      <td>0</td>\n",
              "      <td>0</td>\n",
              "      <td>0</td>\n",
              "      <td>0</td>\n",
              "      <td>1</td>\n",
              "      <td>0</td>\n",
              "      <td>0</td>\n",
              "      <td>0</td>\n",
              "      <td>...</td>\n",
              "      <td>0</td>\n",
              "      <td>0</td>\n",
              "      <td>0</td>\n",
              "      <td>0</td>\n",
              "      <td>0</td>\n",
              "      <td>0</td>\n",
              "      <td>0</td>\n",
              "      <td>0</td>\n",
              "      <td>0</td>\n",
              "      <td>0</td>\n",
              "    </tr>\n",
              "    <tr>\n",
              "      <th>1</th>\n",
              "      <td>0</td>\n",
              "      <td>0</td>\n",
              "      <td>0</td>\n",
              "      <td>0</td>\n",
              "      <td>0</td>\n",
              "      <td>1</td>\n",
              "      <td>0</td>\n",
              "      <td>0</td>\n",
              "      <td>0</td>\n",
              "      <td>0</td>\n",
              "      <td>...</td>\n",
              "      <td>0</td>\n",
              "      <td>0</td>\n",
              "      <td>0</td>\n",
              "      <td>0</td>\n",
              "      <td>0</td>\n",
              "      <td>0</td>\n",
              "      <td>0</td>\n",
              "      <td>0</td>\n",
              "      <td>0</td>\n",
              "      <td>0</td>\n",
              "    </tr>\n",
              "    <tr>\n",
              "      <th>2</th>\n",
              "      <td>0</td>\n",
              "      <td>0</td>\n",
              "      <td>0</td>\n",
              "      <td>0</td>\n",
              "      <td>0</td>\n",
              "      <td>0</td>\n",
              "      <td>1</td>\n",
              "      <td>0</td>\n",
              "      <td>0</td>\n",
              "      <td>0</td>\n",
              "      <td>...</td>\n",
              "      <td>0</td>\n",
              "      <td>0</td>\n",
              "      <td>0</td>\n",
              "      <td>0</td>\n",
              "      <td>0</td>\n",
              "      <td>0</td>\n",
              "      <td>0</td>\n",
              "      <td>0</td>\n",
              "      <td>0</td>\n",
              "      <td>0</td>\n",
              "    </tr>\n",
              "    <tr>\n",
              "      <th>3</th>\n",
              "      <td>0</td>\n",
              "      <td>2</td>\n",
              "      <td>3</td>\n",
              "      <td>2</td>\n",
              "      <td>0</td>\n",
              "      <td>0</td>\n",
              "      <td>0</td>\n",
              "      <td>2</td>\n",
              "      <td>0</td>\n",
              "      <td>0</td>\n",
              "      <td>...</td>\n",
              "      <td>0</td>\n",
              "      <td>0</td>\n",
              "      <td>0</td>\n",
              "      <td>0</td>\n",
              "      <td>0</td>\n",
              "      <td>0</td>\n",
              "      <td>0</td>\n",
              "      <td>0</td>\n",
              "      <td>0</td>\n",
              "      <td>0</td>\n",
              "    </tr>\n",
              "    <tr>\n",
              "      <th>4</th>\n",
              "      <td>0</td>\n",
              "      <td>4</td>\n",
              "      <td>7</td>\n",
              "      <td>3</td>\n",
              "      <td>3</td>\n",
              "      <td>0</td>\n",
              "      <td>2</td>\n",
              "      <td>0</td>\n",
              "      <td>2</td>\n",
              "      <td>2</td>\n",
              "      <td>...</td>\n",
              "      <td>0</td>\n",
              "      <td>0</td>\n",
              "      <td>0</td>\n",
              "      <td>0</td>\n",
              "      <td>0</td>\n",
              "      <td>0</td>\n",
              "      <td>0</td>\n",
              "      <td>0</td>\n",
              "      <td>0</td>\n",
              "      <td>0</td>\n",
              "    </tr>\n",
              "    <tr>\n",
              "      <th>...</th>\n",
              "      <td>...</td>\n",
              "      <td>...</td>\n",
              "      <td>...</td>\n",
              "      <td>...</td>\n",
              "      <td>...</td>\n",
              "      <td>...</td>\n",
              "      <td>...</td>\n",
              "      <td>...</td>\n",
              "      <td>...</td>\n",
              "      <td>...</td>\n",
              "      <td>...</td>\n",
              "      <td>...</td>\n",
              "      <td>...</td>\n",
              "      <td>...</td>\n",
              "      <td>...</td>\n",
              "      <td>...</td>\n",
              "      <td>...</td>\n",
              "      <td>...</td>\n",
              "      <td>...</td>\n",
              "      <td>...</td>\n",
              "      <td>...</td>\n",
              "    </tr>\n",
              "    <tr>\n",
              "      <th>2480</th>\n",
              "      <td>0</td>\n",
              "      <td>3</td>\n",
              "      <td>5</td>\n",
              "      <td>1</td>\n",
              "      <td>0</td>\n",
              "      <td>0</td>\n",
              "      <td>0</td>\n",
              "      <td>0</td>\n",
              "      <td>1</td>\n",
              "      <td>2</td>\n",
              "      <td>...</td>\n",
              "      <td>0</td>\n",
              "      <td>0</td>\n",
              "      <td>0</td>\n",
              "      <td>0</td>\n",
              "      <td>0</td>\n",
              "      <td>0</td>\n",
              "      <td>0</td>\n",
              "      <td>0</td>\n",
              "      <td>0</td>\n",
              "      <td>0</td>\n",
              "    </tr>\n",
              "    <tr>\n",
              "      <th>2481</th>\n",
              "      <td>0</td>\n",
              "      <td>0</td>\n",
              "      <td>0</td>\n",
              "      <td>0</td>\n",
              "      <td>0</td>\n",
              "      <td>0</td>\n",
              "      <td>0</td>\n",
              "      <td>0</td>\n",
              "      <td>0</td>\n",
              "      <td>0</td>\n",
              "      <td>...</td>\n",
              "      <td>0</td>\n",
              "      <td>0</td>\n",
              "      <td>0</td>\n",
              "      <td>0</td>\n",
              "      <td>0</td>\n",
              "      <td>0</td>\n",
              "      <td>0</td>\n",
              "      <td>0</td>\n",
              "      <td>0</td>\n",
              "      <td>0</td>\n",
              "    </tr>\n",
              "    <tr>\n",
              "      <th>2482</th>\n",
              "      <td>0</td>\n",
              "      <td>1</td>\n",
              "      <td>0</td>\n",
              "      <td>1</td>\n",
              "      <td>0</td>\n",
              "      <td>1</td>\n",
              "      <td>0</td>\n",
              "      <td>0</td>\n",
              "      <td>0</td>\n",
              "      <td>0</td>\n",
              "      <td>...</td>\n",
              "      <td>0</td>\n",
              "      <td>0</td>\n",
              "      <td>0</td>\n",
              "      <td>0</td>\n",
              "      <td>0</td>\n",
              "      <td>0</td>\n",
              "      <td>0</td>\n",
              "      <td>0</td>\n",
              "      <td>0</td>\n",
              "      <td>0</td>\n",
              "    </tr>\n",
              "    <tr>\n",
              "      <th>2483</th>\n",
              "      <td>0</td>\n",
              "      <td>8</td>\n",
              "      <td>3</td>\n",
              "      <td>1</td>\n",
              "      <td>7</td>\n",
              "      <td>3</td>\n",
              "      <td>3</td>\n",
              "      <td>2</td>\n",
              "      <td>1</td>\n",
              "      <td>3</td>\n",
              "      <td>...</td>\n",
              "      <td>0</td>\n",
              "      <td>0</td>\n",
              "      <td>0</td>\n",
              "      <td>0</td>\n",
              "      <td>0</td>\n",
              "      <td>0</td>\n",
              "      <td>0</td>\n",
              "      <td>0</td>\n",
              "      <td>0</td>\n",
              "      <td>0</td>\n",
              "    </tr>\n",
              "    <tr>\n",
              "      <th>2484</th>\n",
              "      <td>0</td>\n",
              "      <td>1</td>\n",
              "      <td>2</td>\n",
              "      <td>2</td>\n",
              "      <td>2</td>\n",
              "      <td>2</td>\n",
              "      <td>0</td>\n",
              "      <td>0</td>\n",
              "      <td>0</td>\n",
              "      <td>1</td>\n",
              "      <td>...</td>\n",
              "      <td>0</td>\n",
              "      <td>0</td>\n",
              "      <td>0</td>\n",
              "      <td>0</td>\n",
              "      <td>0</td>\n",
              "      <td>0</td>\n",
              "      <td>0</td>\n",
              "      <td>0</td>\n",
              "      <td>0</td>\n",
              "      <td>0</td>\n",
              "    </tr>\n",
              "  </tbody>\n",
              "</table>\n",
              "<p>2485 rows × 6564 columns</p>\n",
              "</div>\n",
              "    <div class=\"colab-df-buttons\">\n",
              "\n",
              "  <div class=\"colab-df-container\">\n",
              "    <button class=\"colab-df-convert\" onclick=\"convertToInteractive('df-bfc4b676-d68c-49b4-9284-fbf01f5444b1')\"\n",
              "            title=\"Convert this dataframe to an interactive table.\"\n",
              "            style=\"display:none;\">\n",
              "\n",
              "  <svg xmlns=\"http://www.w3.org/2000/svg\" height=\"24px\" viewBox=\"0 -960 960 960\">\n",
              "    <path d=\"M120-120v-720h720v720H120Zm60-500h600v-160H180v160Zm220 220h160v-160H400v160Zm0 220h160v-160H400v160ZM180-400h160v-160H180v160Zm440 0h160v-160H620v160ZM180-180h160v-160H180v160Zm440 0h160v-160H620v160Z\"/>\n",
              "  </svg>\n",
              "    </button>\n",
              "\n",
              "  <style>\n",
              "    .colab-df-container {\n",
              "      display:flex;\n",
              "      gap: 12px;\n",
              "    }\n",
              "\n",
              "    .colab-df-convert {\n",
              "      background-color: #E8F0FE;\n",
              "      border: none;\n",
              "      border-radius: 50%;\n",
              "      cursor: pointer;\n",
              "      display: none;\n",
              "      fill: #1967D2;\n",
              "      height: 32px;\n",
              "      padding: 0 0 0 0;\n",
              "      width: 32px;\n",
              "    }\n",
              "\n",
              "    .colab-df-convert:hover {\n",
              "      background-color: #E2EBFA;\n",
              "      box-shadow: 0px 1px 2px rgba(60, 64, 67, 0.3), 0px 1px 3px 1px rgba(60, 64, 67, 0.15);\n",
              "      fill: #174EA6;\n",
              "    }\n",
              "\n",
              "    .colab-df-buttons div {\n",
              "      margin-bottom: 4px;\n",
              "    }\n",
              "\n",
              "    [theme=dark] .colab-df-convert {\n",
              "      background-color: #3B4455;\n",
              "      fill: #D2E3FC;\n",
              "    }\n",
              "\n",
              "    [theme=dark] .colab-df-convert:hover {\n",
              "      background-color: #434B5C;\n",
              "      box-shadow: 0px 1px 3px 1px rgba(0, 0, 0, 0.15);\n",
              "      filter: drop-shadow(0px 1px 2px rgba(0, 0, 0, 0.3));\n",
              "      fill: #FFFFFF;\n",
              "    }\n",
              "  </style>\n",
              "\n",
              "    <script>\n",
              "      const buttonEl =\n",
              "        document.querySelector('#df-bfc4b676-d68c-49b4-9284-fbf01f5444b1 button.colab-df-convert');\n",
              "      buttonEl.style.display =\n",
              "        google.colab.kernel.accessAllowed ? 'block' : 'none';\n",
              "\n",
              "      async function convertToInteractive(key) {\n",
              "        const element = document.querySelector('#df-bfc4b676-d68c-49b4-9284-fbf01f5444b1');\n",
              "        const dataTable =\n",
              "          await google.colab.kernel.invokeFunction('convertToInteractive',\n",
              "                                                    [key], {});\n",
              "        if (!dataTable) return;\n",
              "\n",
              "        const docLinkHtml = 'Like what you see? Visit the ' +\n",
              "          '<a target=\"_blank\" href=https://colab.research.google.com/notebooks/data_table.ipynb>data table notebook</a>'\n",
              "          + ' to learn more about interactive tables.';\n",
              "        element.innerHTML = '';\n",
              "        dataTable['output_type'] = 'display_data';\n",
              "        await google.colab.output.renderOutput(dataTable, element);\n",
              "        const docLink = document.createElement('div');\n",
              "        docLink.innerHTML = docLinkHtml;\n",
              "        element.appendChild(docLink);\n",
              "      }\n",
              "    </script>\n",
              "  </div>\n",
              "\n",
              "\n",
              "<div id=\"df-0d44cce8-b301-4328-b260-7c616fd47bd2\">\n",
              "  <button class=\"colab-df-quickchart\" onclick=\"quickchart('df-0d44cce8-b301-4328-b260-7c616fd47bd2')\"\n",
              "            title=\"Suggest charts\"\n",
              "            style=\"display:none;\">\n",
              "\n",
              "<svg xmlns=\"http://www.w3.org/2000/svg\" height=\"24px\"viewBox=\"0 0 24 24\"\n",
              "     width=\"24px\">\n",
              "    <g>\n",
              "        <path d=\"M19 3H5c-1.1 0-2 .9-2 2v14c0 1.1.9 2 2 2h14c1.1 0 2-.9 2-2V5c0-1.1-.9-2-2-2zM9 17H7v-7h2v7zm4 0h-2V7h2v10zm4 0h-2v-4h2v4z\"/>\n",
              "    </g>\n",
              "</svg>\n",
              "  </button>\n",
              "\n",
              "<style>\n",
              "  .colab-df-quickchart {\n",
              "      --bg-color: #E8F0FE;\n",
              "      --fill-color: #1967D2;\n",
              "      --hover-bg-color: #E2EBFA;\n",
              "      --hover-fill-color: #174EA6;\n",
              "      --disabled-fill-color: #AAA;\n",
              "      --disabled-bg-color: #DDD;\n",
              "  }\n",
              "\n",
              "  [theme=dark] .colab-df-quickchart {\n",
              "      --bg-color: #3B4455;\n",
              "      --fill-color: #D2E3FC;\n",
              "      --hover-bg-color: #434B5C;\n",
              "      --hover-fill-color: #FFFFFF;\n",
              "      --disabled-bg-color: #3B4455;\n",
              "      --disabled-fill-color: #666;\n",
              "  }\n",
              "\n",
              "  .colab-df-quickchart {\n",
              "    background-color: var(--bg-color);\n",
              "    border: none;\n",
              "    border-radius: 50%;\n",
              "    cursor: pointer;\n",
              "    display: none;\n",
              "    fill: var(--fill-color);\n",
              "    height: 32px;\n",
              "    padding: 0;\n",
              "    width: 32px;\n",
              "  }\n",
              "\n",
              "  .colab-df-quickchart:hover {\n",
              "    background-color: var(--hover-bg-color);\n",
              "    box-shadow: 0 1px 2px rgba(60, 64, 67, 0.3), 0 1px 3px 1px rgba(60, 64, 67, 0.15);\n",
              "    fill: var(--button-hover-fill-color);\n",
              "  }\n",
              "\n",
              "  .colab-df-quickchart-complete:disabled,\n",
              "  .colab-df-quickchart-complete:disabled:hover {\n",
              "    background-color: var(--disabled-bg-color);\n",
              "    fill: var(--disabled-fill-color);\n",
              "    box-shadow: none;\n",
              "  }\n",
              "\n",
              "  .colab-df-spinner {\n",
              "    border: 2px solid var(--fill-color);\n",
              "    border-color: transparent;\n",
              "    border-bottom-color: var(--fill-color);\n",
              "    animation:\n",
              "      spin 1s steps(1) infinite;\n",
              "  }\n",
              "\n",
              "  @keyframes spin {\n",
              "    0% {\n",
              "      border-color: transparent;\n",
              "      border-bottom-color: var(--fill-color);\n",
              "      border-left-color: var(--fill-color);\n",
              "    }\n",
              "    20% {\n",
              "      border-color: transparent;\n",
              "      border-left-color: var(--fill-color);\n",
              "      border-top-color: var(--fill-color);\n",
              "    }\n",
              "    30% {\n",
              "      border-color: transparent;\n",
              "      border-left-color: var(--fill-color);\n",
              "      border-top-color: var(--fill-color);\n",
              "      border-right-color: var(--fill-color);\n",
              "    }\n",
              "    40% {\n",
              "      border-color: transparent;\n",
              "      border-right-color: var(--fill-color);\n",
              "      border-top-color: var(--fill-color);\n",
              "    }\n",
              "    60% {\n",
              "      border-color: transparent;\n",
              "      border-right-color: var(--fill-color);\n",
              "    }\n",
              "    80% {\n",
              "      border-color: transparent;\n",
              "      border-right-color: var(--fill-color);\n",
              "      border-bottom-color: var(--fill-color);\n",
              "    }\n",
              "    90% {\n",
              "      border-color: transparent;\n",
              "      border-bottom-color: var(--fill-color);\n",
              "    }\n",
              "  }\n",
              "</style>\n",
              "\n",
              "  <script>\n",
              "    async function quickchart(key) {\n",
              "      const quickchartButtonEl =\n",
              "        document.querySelector('#' + key + ' button');\n",
              "      quickchartButtonEl.disabled = true;  // To prevent multiple clicks.\n",
              "      quickchartButtonEl.classList.add('colab-df-spinner');\n",
              "      try {\n",
              "        const charts = await google.colab.kernel.invokeFunction(\n",
              "            'suggestCharts', [key], {});\n",
              "      } catch (error) {\n",
              "        console.error('Error during call to suggestCharts:', error);\n",
              "      }\n",
              "      quickchartButtonEl.classList.remove('colab-df-spinner');\n",
              "      quickchartButtonEl.classList.add('colab-df-quickchart-complete');\n",
              "    }\n",
              "    (() => {\n",
              "      let quickchartButtonEl =\n",
              "        document.querySelector('#df-0d44cce8-b301-4328-b260-7c616fd47bd2 button');\n",
              "      quickchartButtonEl.style.display =\n",
              "        google.colab.kernel.accessAllowed ? 'block' : 'none';\n",
              "    })();\n",
              "  </script>\n",
              "</div>\n",
              "\n",
              "  <div id=\"id_fa7ac094-3ff7-4e6e-8108-fc8227dfd04f\">\n",
              "    <style>\n",
              "      .colab-df-generate {\n",
              "        background-color: #E8F0FE;\n",
              "        border: none;\n",
              "        border-radius: 50%;\n",
              "        cursor: pointer;\n",
              "        display: none;\n",
              "        fill: #1967D2;\n",
              "        height: 32px;\n",
              "        padding: 0 0 0 0;\n",
              "        width: 32px;\n",
              "      }\n",
              "\n",
              "      .colab-df-generate:hover {\n",
              "        background-color: #E2EBFA;\n",
              "        box-shadow: 0px 1px 2px rgba(60, 64, 67, 0.3), 0px 1px 3px 1px rgba(60, 64, 67, 0.15);\n",
              "        fill: #174EA6;\n",
              "      }\n",
              "\n",
              "      [theme=dark] .colab-df-generate {\n",
              "        background-color: #3B4455;\n",
              "        fill: #D2E3FC;\n",
              "      }\n",
              "\n",
              "      [theme=dark] .colab-df-generate:hover {\n",
              "        background-color: #434B5C;\n",
              "        box-shadow: 0px 1px 3px 1px rgba(0, 0, 0, 0.15);\n",
              "        filter: drop-shadow(0px 1px 2px rgba(0, 0, 0, 0.3));\n",
              "        fill: #FFFFFF;\n",
              "      }\n",
              "    </style>\n",
              "    <button class=\"colab-df-generate\" onclick=\"generateWithVariable('df_vectors')\"\n",
              "            title=\"Generate code using this dataframe.\"\n",
              "            style=\"display:none;\">\n",
              "\n",
              "  <svg xmlns=\"http://www.w3.org/2000/svg\" height=\"24px\"viewBox=\"0 0 24 24\"\n",
              "       width=\"24px\">\n",
              "    <path d=\"M7,19H8.4L18.45,9,17,7.55,7,17.6ZM5,21V16.75L18.45,3.32a2,2,0,0,1,2.83,0l1.4,1.43a1.91,1.91,0,0,1,.58,1.4,1.91,1.91,0,0,1-.58,1.4L9.25,21ZM18.45,9,17,7.55Zm-12,3A5.31,5.31,0,0,0,4.9,8.1,5.31,5.31,0,0,0,1,6.5,5.31,5.31,0,0,0,4.9,4.9,5.31,5.31,0,0,0,6.5,1,5.31,5.31,0,0,0,8.1,4.9,5.31,5.31,0,0,0,12,6.5,5.46,5.46,0,0,0,6.5,12Z\"/>\n",
              "  </svg>\n",
              "    </button>\n",
              "    <script>\n",
              "      (() => {\n",
              "      const buttonEl =\n",
              "        document.querySelector('#id_fa7ac094-3ff7-4e6e-8108-fc8227dfd04f button.colab-df-generate');\n",
              "      buttonEl.style.display =\n",
              "        google.colab.kernel.accessAllowed ? 'block' : 'none';\n",
              "\n",
              "      buttonEl.onclick = () => {\n",
              "        google.colab.notebook.generateWithVariable('df_vectors');\n",
              "      }\n",
              "      })();\n",
              "    </script>\n",
              "  </div>\n",
              "\n",
              "    </div>\n",
              "  </div>\n"
            ],
            "text/plain": [
              "      [UNK]  i  the  and  to  a  of  my  it  was  ...  10142008  1014  1012  \\\n",
              "0         0  1    0    0   0  0   1   0   0    0  ...         0     0     0   \n",
              "1         0  0    0    0   0  1   0   0   0    0  ...         0     0     0   \n",
              "2         0  0    0    0   0  0   1   0   0    0  ...         0     0     0   \n",
              "3         0  2    3    2   0  0   0   2   0    0  ...         0     0     0   \n",
              "4         0  4    7    3   3  0   2   0   2    2  ...         0     0     0   \n",
              "...     ... ..  ...  ...  .. ..  ..  ..  ..  ...  ...       ...   ...   ...   \n",
              "2480      0  3    5    1   0  0   0   0   1    2  ...         0     0     0   \n",
              "2481      0  0    0    0   0  0   0   0   0    0  ...         0     0     0   \n",
              "2482      0  1    0    1   0  1   0   0   0    0  ...         0     0     0   \n",
              "2483      0  8    3    1   7  3   3   2   1    3  ...         0     0     0   \n",
              "2484      0  1    2    2   2  2   0   0   0    1  ...         0     0     0   \n",
              "\n",
              "      100mgthe  100mgs  100mgdoses  100110  1000mg  10000  072009  \n",
              "0            0       0           0       0       0      0       0  \n",
              "1            0       0           0       0       0      0       0  \n",
              "2            0       0           0       0       0      0       0  \n",
              "3            0       0           0       0       0      0       0  \n",
              "4            0       0           0       0       0      0       0  \n",
              "...        ...     ...         ...     ...     ...    ...     ...  \n",
              "2480         0       0           0       0       0      0       0  \n",
              "2481         0       0           0       0       0      0       0  \n",
              "2482         0       0           0       0       0      0       0  \n",
              "2483         0       0           0       0       0      0       0  \n",
              "2484         0       0           0       0       0      0       0  \n",
              "\n",
              "[2485 rows x 6564 columns]"
            ]
          },
          "execution_count": 56,
          "metadata": {},
          "output_type": "execute_result"
        }
      ],
      "source": [
        "df_vectors"
      ]
    },
    {
      "cell_type": "code",
      "execution_count": 57,
      "metadata": {
        "colab": {
          "base_uri": "https://localhost:8080/",
          "height": 36
        },
        "id": "wRV3yt_mkHaW",
        "outputId": "06ac4c4c-1e81-4af1-9604-1a2a50ebb6a8"
      },
      "outputs": [
        {
          "data": {
            "application/vnd.google.colaboratory.intrinsic+json": {
              "type": "string"
            },
            "text/plain": [
              "'I had no real side effects unless you consider lack of fear or worry one.'"
            ]
          },
          "execution_count": 57,
          "metadata": {},
          "output_type": "execute_result"
        }
      ],
      "source": [
        "train_set.iloc[0][\"sideEffectsReview\"]"
      ]
    },
    {
      "cell_type": "code",
      "execution_count": 58,
      "metadata": {
        "colab": {
          "base_uri": "https://localhost:8080/",
          "height": 554
        },
        "id": "xmaPcLDnkHaW",
        "outputId": "3453b40d-2836-4c23-d275-3f77f56ea5ef"
      },
      "outputs": [
        {
          "data": {
            "text/html": [
              "<div>\n",
              "<style scoped>\n",
              "    .dataframe tbody tr th:only-of-type {\n",
              "        vertical-align: middle;\n",
              "    }\n",
              "\n",
              "    .dataframe tbody tr th {\n",
              "        vertical-align: top;\n",
              "    }\n",
              "\n",
              "    .dataframe thead th {\n",
              "        text-align: right;\n",
              "    }\n",
              "</style>\n",
              "<table border=\"1\" class=\"dataframe\">\n",
              "  <thead>\n",
              "    <tr style=\"text-align: right;\">\n",
              "      <th></th>\n",
              "      <th>0</th>\n",
              "    </tr>\n",
              "  </thead>\n",
              "  <tbody>\n",
              "    <tr>\n",
              "      <th>i</th>\n",
              "      <td>1</td>\n",
              "    </tr>\n",
              "    <tr>\n",
              "      <th>of</th>\n",
              "      <td>1</td>\n",
              "    </tr>\n",
              "    <tr>\n",
              "      <th>side</th>\n",
              "      <td>1</td>\n",
              "    </tr>\n",
              "    <tr>\n",
              "      <th>effects</th>\n",
              "      <td>1</td>\n",
              "    </tr>\n",
              "    <tr>\n",
              "      <th>had</th>\n",
              "      <td>1</td>\n",
              "    </tr>\n",
              "    <tr>\n",
              "      <th>no</th>\n",
              "      <td>1</td>\n",
              "    </tr>\n",
              "    <tr>\n",
              "      <th>or</th>\n",
              "      <td>1</td>\n",
              "    </tr>\n",
              "    <tr>\n",
              "      <th>you</th>\n",
              "      <td>1</td>\n",
              "    </tr>\n",
              "    <tr>\n",
              "      <th>one</th>\n",
              "      <td>1</td>\n",
              "    </tr>\n",
              "    <tr>\n",
              "      <th>lack</th>\n",
              "      <td>1</td>\n",
              "    </tr>\n",
              "    <tr>\n",
              "      <th>real</th>\n",
              "      <td>1</td>\n",
              "    </tr>\n",
              "    <tr>\n",
              "      <th>unless</th>\n",
              "      <td>1</td>\n",
              "    </tr>\n",
              "    <tr>\n",
              "      <th>consider</th>\n",
              "      <td>1</td>\n",
              "    </tr>\n",
              "    <tr>\n",
              "      <th>fear</th>\n",
              "      <td>1</td>\n",
              "    </tr>\n",
              "    <tr>\n",
              "      <th>worry</th>\n",
              "      <td>1</td>\n",
              "    </tr>\n",
              "  </tbody>\n",
              "</table>\n",
              "</div><br><label><b>dtype:</b> int64</label>"
            ],
            "text/plain": [
              "i           1\n",
              "of          1\n",
              "side        1\n",
              "effects     1\n",
              "had         1\n",
              "no          1\n",
              "or          1\n",
              "you         1\n",
              "one         1\n",
              "lack        1\n",
              "real        1\n",
              "unless      1\n",
              "consider    1\n",
              "fear        1\n",
              "worry       1\n",
              "Name: 0, dtype: int64"
            ]
          },
          "execution_count": 58,
          "metadata": {},
          "output_type": "execute_result"
        }
      ],
      "source": [
        "df_vectors.T[df_vectors.T[0] != 0][0]\n"
      ]
    },
    {
      "cell_type": "markdown",
      "metadata": {
        "id": "hwqli-cEkHaW"
      },
      "source": [
        "#### Vectorizacion"
      ]
    },
    {
      "cell_type": "markdown",
      "metadata": {
        "id": "0YzRupqNkHaW"
      },
      "source": [
        "Tendremos que hacer la normalización/limpieza del texto y \"tokenizacion\""
      ]
    },
    {
      "cell_type": "code",
      "execution_count": 60,
      "metadata": {
        "colab": {
          "base_uri": "https://localhost:8080/"
        },
        "id": "iHOpk1iTmUSM",
        "outputId": "488ca925-03d9-4699-83fc-56ae232869ea"
      },
      "outputs": [
        {
          "name": "stderr",
          "output_type": "stream",
          "text": [
            "[nltk_data] Downloading package stopwords to /root/nltk_data...\n",
            "[nltk_data]   Unzipping corpora/stopwords.zip.\n"
          ]
        },
        {
          "data": {
            "text/plain": [
              "True"
            ]
          },
          "execution_count": 60,
          "metadata": {},
          "output_type": "execute_result"
        }
      ],
      "source": [
        "import nltk\n",
        "nltk.download('stopwords')"
      ]
    },
    {
      "cell_type": "code",
      "execution_count": 61,
      "metadata": {
        "id": "AczWvRhrkHaX"
      },
      "outputs": [],
      "source": [
        "# Rescatando la que hicimos para la IMDB Reviews\n",
        "\n",
        "from nltk.corpus import stopwords\n",
        "replace_no_space = \"(\\.)|(\\;)|(\\:)|(\\!)|(\\?)|(\\,)|(\\\")|(\\()|(\\))|(\\[)|(\\])|(\\d+)\"\n",
        "REPLACE_NO_SPACE = re.compile(replace_no_space)\n",
        "replace_with_space = \"(<br \\s*/><br\\s*/>)|(\\-)|(\\/)\"\n",
        "REPLACE_WITH_SPACE = re.compile(replace_with_space)\n",
        "NO_SPACE = \"\"\n",
        "SPACE = \" \"\n",
        "dictionary = stopwords.words(\"english\")\n",
        "\n",
        "\n",
        "def clean(row):\n",
        "    # Limpio signos y convierto a minúsculas\n",
        "    dato = REPLACE_NO_SPACE.sub(NO_SPACE, row.lower())\n",
        "    # Convierto los retornos de carro <br /><br /> en espacios y los guiones (\"-\")\n",
        "    dato = REPLACE_WITH_SPACE.sub(SPACE, dato)\n",
        "    # Quito cualquier link\n",
        "    dato = \" \".join([word for word in dato.split() if \"http\" not in word])\n",
        "    # Quito los stopwords\n",
        "    dato = \" \".join([word for word in dato.split(\" \") if word not in dictionary])\n",
        "    return dato\n",
        "\n",
        "\n"
      ]
    },
    {
      "cell_type": "markdown",
      "metadata": {
        "id": "lmt-vBkgkHaX"
      },
      "source": [
        "Antes, identificamos las features que son texto natural:\n"
      ]
    },
    {
      "cell_type": "code",
      "execution_count": 62,
      "metadata": {
        "colab": {
          "base_uri": "https://localhost:8080/"
        },
        "id": "yFWeI7JFkHaX",
        "outputId": "4f1978b5-f482-44dd-fa49-bf37cc48d499"
      },
      "outputs": [
        {
          "data": {
            "text/plain": [
              "['benefitsReview', 'sideEffectsReview', 'commentsReview']"
            ]
          },
          "execution_count": 62,
          "metadata": {},
          "output_type": "execute_result"
        }
      ],
      "source": [
        "text_feats = [col for col in train_set.columns if \"Review\" in col and \"wc\" not in col]\n",
        "text_feats"
      ]
    },
    {
      "cell_type": "markdown",
      "metadata": {
        "id": "5RI2GOn6kHaX"
      },
      "source": [
        "\n",
        "Y ahora aplicamos"
      ]
    },
    {
      "cell_type": "code",
      "execution_count": 63,
      "metadata": {
        "id": "bYZXAbrUkHaX"
      },
      "outputs": [],
      "source": [
        "for col in text_feats:\n",
        "    train_set[col] = train_set[col].apply(clean)\n",
        "    test_set[col] = test_set[col].apply(clean)"
      ]
    },
    {
      "cell_type": "code",
      "execution_count": 64,
      "metadata": {
        "colab": {
          "base_uri": "https://localhost:8080/",
          "height": 894
        },
        "id": "o4NBprf6kHaX",
        "outputId": "a7b2a374-4f63-4bbc-b047-c35e9da0b941"
      },
      "outputs": [
        {
          "data": {
            "application/vnd.google.colaboratory.intrinsic+json": {
              "summary": "{\n  \"name\": \"train_set\",\n  \"rows\": 2485,\n  \"fields\": [\n    {\n      \"column\": \"urlDrugName\",\n      \"properties\": {\n        \"dtype\": \"category\",\n        \"num_unique_values\": 463,\n        \"samples\": [\n          \"baciim\",\n          \"tequin\",\n          \"oxycodone\"\n        ],\n        \"semantic_type\": \"\",\n        \"description\": \"\"\n      }\n    },\n    {\n      \"column\": \"rating\",\n      \"properties\": {\n        \"dtype\": \"number\",\n        \"std\": 2,\n        \"min\": 0,\n        \"max\": 9,\n        \"num_unique_values\": 10,\n        \"samples\": [\n          4,\n          7,\n          1\n        ],\n        \"semantic_type\": \"\",\n        \"description\": \"\"\n      }\n    },\n    {\n      \"column\": \"effectiveness\",\n      \"properties\": {\n        \"dtype\": \"category\",\n        \"num_unique_values\": 5,\n        \"samples\": [\n          \"Moderately Effective\",\n          \"Marginally Effective\",\n          \"Considerably Effective\"\n        ],\n        \"semantic_type\": \"\",\n        \"description\": \"\"\n      }\n    },\n    {\n      \"column\": \"sideEffects\",\n      \"properties\": {\n        \"dtype\": \"category\",\n        \"num_unique_values\": 5,\n        \"samples\": [\n          \"Mild Side Effects\",\n          \"Extremely Severe Side Effects\",\n          \"Severe Side Effects\"\n        ],\n        \"semantic_type\": \"\",\n        \"description\": \"\"\n      }\n    },\n    {\n      \"column\": \"condition\",\n      \"properties\": {\n        \"dtype\": \"category\",\n        \"num_unique_values\": 1203,\n        \"samples\": [\n          \"oral infection\",\n          \"sinus allergy\",\n          \"inflammation of throat during bacteria bronchitis\"\n        ],\n        \"semantic_type\": \"\",\n        \"description\": \"\"\n      }\n    },\n    {\n      \"column\": \"benefitsReview\",\n      \"properties\": {\n        \"dtype\": \"string\",\n        \"num_unique_values\": 2423,\n        \"samples\": [\n          \"able stay task finish start make many mistakes details work able concentrate consistantly project get easily distracted confident work done well timely manner\",\n          \"almost immediate relief allergy symptoms freer breathing\",\n          \"benefits\"\n        ],\n        \"semantic_type\": \"\",\n        \"description\": \"\"\n      }\n    },\n    {\n      \"column\": \"sideEffectsReview\",\n      \"properties\": {\n        \"dtype\": \"string\",\n        \"num_unique_values\": 2193,\n        \"samples\": [\n          \"photo sensitive sun beginning burning sensation used around mouth area\",\n          \"find side effects\",\n          \"slight tiredness reduced sex drive slight dehydration\"\n        ],\n        \"semantic_type\": \"\",\n        \"description\": \"\"\n      }\n    },\n    {\n      \"column\": \"commentsReview\",\n      \"properties\": {\n        \"dtype\": \"string\",\n        \"num_unique_values\": 2431,\n        \"samples\": [\n          \"augmentin administered dosage mg taken two times day total treatment time days within hours side effects antibiotic intolerable days drug terminated different antibiotic administered\",\n          \"x day\",\n          \"one puff twice day\"\n        ],\n        \"semantic_type\": \"\",\n        \"description\": \"\"\n      }\n    },\n    {\n      \"column\": \"Sales\",\n      \"properties\": {\n        \"dtype\": \"number\",\n        \"std\": 258599,\n        \"min\": 55,\n        \"max\": 2100431,\n        \"num_unique_values\": 2484,\n        \"samples\": [\n          411292,\n          499092,\n          602786\n        ],\n        \"semantic_type\": \"\",\n        \"description\": \"\"\n      }\n    },\n    {\n      \"column\": \"Production\",\n      \"properties\": {\n        \"dtype\": \"number\",\n        \"std\": 265.8257203851115,\n        \"min\": 20.0,\n        \"max\": 2300.0,\n        \"num_unique_values\": 913,\n        \"samples\": [\n          276.0,\n          1055.0,\n          641.0\n        ],\n        \"semantic_type\": \"\",\n        \"description\": \"\"\n      }\n    },\n    {\n      \"column\": \"benefitsReview_wc\",\n      \"properties\": {\n        \"dtype\": \"number\",\n        \"std\": 34,\n        \"min\": 1,\n        \"max\": 385,\n        \"num_unique_values\": 158,\n        \"samples\": [\n          77,\n          68,\n          131\n        ],\n        \"semantic_type\": \"\",\n        \"description\": \"\"\n      }\n    },\n    {\n      \"column\": \"sideEffectsReview_wc\",\n      \"properties\": {\n        \"dtype\": \"number\",\n        \"std\": 36,\n        \"min\": 1,\n        \"max\": 478,\n        \"num_unique_values\": 175,\n        \"samples\": [\n          308,\n          138,\n          65\n        ],\n        \"semantic_type\": \"\",\n        \"description\": \"\"\n      }\n    },\n    {\n      \"column\": \"commentsReview_wc\",\n      \"properties\": {\n        \"dtype\": \"number\",\n        \"std\": 50,\n        \"min\": 1,\n        \"max\": 740,\n        \"num_unique_values\": 217,\n        \"samples\": [\n          254,\n          215,\n          90\n        ],\n        \"semantic_type\": \"\",\n        \"description\": \"\"\n      }\n    }\n  ]\n}",
              "type": "dataframe",
              "variable_name": "train_set"
            },
            "text/html": [
              "\n",
              "  <div id=\"df-30cc79a4-d2de-4b0c-8c15-80d54acc6722\" class=\"colab-df-container\">\n",
              "    <div>\n",
              "<style scoped>\n",
              "    .dataframe tbody tr th:only-of-type {\n",
              "        vertical-align: middle;\n",
              "    }\n",
              "\n",
              "    .dataframe tbody tr th {\n",
              "        vertical-align: top;\n",
              "    }\n",
              "\n",
              "    .dataframe thead th {\n",
              "        text-align: right;\n",
              "    }\n",
              "</style>\n",
              "<table border=\"1\" class=\"dataframe\">\n",
              "  <thead>\n",
              "    <tr style=\"text-align: right;\">\n",
              "      <th></th>\n",
              "      <th>urlDrugName</th>\n",
              "      <th>rating</th>\n",
              "      <th>effectiveness</th>\n",
              "      <th>sideEffects</th>\n",
              "      <th>condition</th>\n",
              "      <th>benefitsReview</th>\n",
              "      <th>sideEffectsReview</th>\n",
              "      <th>commentsReview</th>\n",
              "      <th>Sales</th>\n",
              "      <th>Production</th>\n",
              "      <th>benefitsReview_wc</th>\n",
              "      <th>sideEffectsReview_wc</th>\n",
              "      <th>commentsReview_wc</th>\n",
              "    </tr>\n",
              "  </thead>\n",
              "  <tbody>\n",
              "    <tr>\n",
              "      <th>2686</th>\n",
              "      <td>zoloft</td>\n",
              "      <td>9</td>\n",
              "      <td>Highly Effective</td>\n",
              "      <td>No Side Effects</td>\n",
              "      <td>anxiety</td>\n",
              "      <td>becoming normal functioning individual helped ...</td>\n",
              "      <td>real side effects unless consider lack fear wo...</td>\n",
              "      <td>taken daily</td>\n",
              "      <td>135166</td>\n",
              "      <td>335.0</td>\n",
              "      <td>62</td>\n",
              "      <td>15</td>\n",
              "      <td>3</td>\n",
              "    </tr>\n",
              "    <tr>\n",
              "      <th>1192</th>\n",
              "      <td>adipex-p</td>\n",
              "      <td>9</td>\n",
              "      <td>Highly Effective</td>\n",
              "      <td>Mild Side Effects</td>\n",
              "      <td>to lose 30 pounds</td>\n",
              "      <td>bmi rating time get taken care goes beyond tak...</td>\n",
              "      <td>jittery sometimes euphoric tired cant sleep zone</td>\n",
              "      <td>last results months adipex p lost pounds gaine...</td>\n",
              "      <td>739564</td>\n",
              "      <td>939.0</td>\n",
              "      <td>163</td>\n",
              "      <td>10</td>\n",
              "      <td>248</td>\n",
              "    </tr>\n",
              "    <tr>\n",
              "      <th>2738</th>\n",
              "      <td>tri-luma</td>\n",
              "      <td>7</td>\n",
              "      <td>Moderately Effective</td>\n",
              "      <td>Severe Side Effects</td>\n",
              "      <td>hyperpigmentation</td>\n",
              "      <td>lightening acne scars</td>\n",
              "      <td>redness dryness breakdown skin</td>\n",
              "      <td>topical compound used reduce hyperpigmentation...</td>\n",
              "      <td>683247</td>\n",
              "      <td>843.0</td>\n",
              "      <td>4</td>\n",
              "      <td>5</td>\n",
              "      <td>42</td>\n",
              "    </tr>\n",
              "    <tr>\n",
              "      <th>2780</th>\n",
              "      <td>yasmin</td>\n",
              "      <td>2</td>\n",
              "      <td>Highly Effective</td>\n",
              "      <td>Moderate Side Effects</td>\n",
              "      <td>birth control</td>\n",
              "      <td>chance pregancy lost percent libido skin clear...</td>\n",
              "      <td>libido ever breasts hurt like got bigger itche...</td>\n",
              "      <td>given prevent pregnancy going i'd rather child...</td>\n",
              "      <td>222295</td>\n",
              "      <td>282.0</td>\n",
              "      <td>22</td>\n",
              "      <td>50</td>\n",
              "      <td>27</td>\n",
              "    </tr>\n",
              "    <tr>\n",
              "      <th>1735</th>\n",
              "      <td>requip</td>\n",
              "      <td>7</td>\n",
              "      <td>Considerably Effective</td>\n",
              "      <td>No Side Effects</td>\n",
              "      <td>restless leg syndrome</td>\n",
              "      <td>took medication treat restless leg syndrome ef...</td>\n",
              "      <td>need take time went experienced augmentation r...</td>\n",
              "      <td>took one milligram night treat symtoms restles...</td>\n",
              "      <td>344748</td>\n",
              "      <td>505.0</td>\n",
              "      <td>93</td>\n",
              "      <td>69</td>\n",
              "      <td>106</td>\n",
              "    </tr>\n",
              "    <tr>\n",
              "      <th>...</th>\n",
              "      <td>...</td>\n",
              "      <td>...</td>\n",
              "      <td>...</td>\n",
              "      <td>...</td>\n",
              "      <td>...</td>\n",
              "      <td>...</td>\n",
              "      <td>...</td>\n",
              "      <td>...</td>\n",
              "      <td>...</td>\n",
              "      <td>...</td>\n",
              "      <td>...</td>\n",
              "      <td>...</td>\n",
              "      <td>...</td>\n",
              "    </tr>\n",
              "    <tr>\n",
              "      <th>3092</th>\n",
              "      <td>zyrtec</td>\n",
              "      <td>9</td>\n",
              "      <td>Highly Effective</td>\n",
              "      <td>Mild Side Effects</td>\n",
              "      <td>atopic eczema</td>\n",
              "      <td>drug effective counteracting severe itching ca...</td>\n",
              "      <td>felt slightly tired taking zyrtec however seve...</td>\n",
              "      <td>non prescription drug took experiencing severe...</td>\n",
              "      <td>156028</td>\n",
              "      <td>356.0</td>\n",
              "      <td>74</td>\n",
              "      <td>54</td>\n",
              "      <td>51</td>\n",
              "    </tr>\n",
              "    <tr>\n",
              "      <th>1095</th>\n",
              "      <td>neurontin</td>\n",
              "      <td>0</td>\n",
              "      <td>Ineffective</td>\n",
              "      <td>Severe Side Effects</td>\n",
              "      <td>all over and various type pain</td>\n",
              "      <td>value</td>\n",
              "      <td>nausea extreme sleepinesssevere headache jitte...</td>\n",
              "      <td>day one felt negative side effects taking seco...</td>\n",
              "      <td>317886</td>\n",
              "      <td>337.0</td>\n",
              "      <td>2</td>\n",
              "      <td>10</td>\n",
              "      <td>120</td>\n",
              "    </tr>\n",
              "    <tr>\n",
              "      <th>1130</th>\n",
              "      <td>wellbutrin</td>\n",
              "      <td>6</td>\n",
              "      <td>Moderately Effective</td>\n",
              "      <td>Mild Side Effects</td>\n",
              "      <td>depression</td>\n",
              "      <td>experienced less depression increased libido p...</td>\n",
              "      <td>dry mouth eyes drug decreased effectiveness la...</td>\n",
              "      <td>prescribed mg per day taken much mg per day li...</td>\n",
              "      <td>556187</td>\n",
              "      <td>696.0</td>\n",
              "      <td>15</td>\n",
              "      <td>15</td>\n",
              "      <td>24</td>\n",
              "    </tr>\n",
              "    <tr>\n",
              "      <th>1294</th>\n",
              "      <td>wellbutrin</td>\n",
              "      <td>2</td>\n",
              "      <td>Considerably Effective</td>\n",
              "      <td>Moderate Side Effects</td>\n",
              "      <td>stop smoking</td>\n",
              "      <td>treatment effective reducing appetite smoking ...</td>\n",
              "      <td>began notice nothing seemed important also see...</td>\n",
              "      <td>taking bupropion aide break smoking habit also...</td>\n",
              "      <td>728338</td>\n",
              "      <td>789.0</td>\n",
              "      <td>44</td>\n",
              "      <td>105</td>\n",
              "      <td>92</td>\n",
              "    </tr>\n",
              "    <tr>\n",
              "      <th>860</th>\n",
              "      <td>accutane</td>\n",
              "      <td>4</td>\n",
              "      <td>Highly Effective</td>\n",
              "      <td>Extremely Severe Side Effects</td>\n",
              "      <td>cystic acne</td>\n",
              "      <td>drug cleared skin even reduced redness scarrin...</td>\n",
              "      <td>severe sexual side effects began months trial ...</td>\n",
              "      <td>treatment began two mg tablets twice day reduc...</td>\n",
              "      <td>154819</td>\n",
              "      <td>255.0</td>\n",
              "      <td>24</td>\n",
              "      <td>70</td>\n",
              "      <td>145</td>\n",
              "    </tr>\n",
              "  </tbody>\n",
              "</table>\n",
              "<p>2485 rows × 13 columns</p>\n",
              "</div>\n",
              "    <div class=\"colab-df-buttons\">\n",
              "\n",
              "  <div class=\"colab-df-container\">\n",
              "    <button class=\"colab-df-convert\" onclick=\"convertToInteractive('df-30cc79a4-d2de-4b0c-8c15-80d54acc6722')\"\n",
              "            title=\"Convert this dataframe to an interactive table.\"\n",
              "            style=\"display:none;\">\n",
              "\n",
              "  <svg xmlns=\"http://www.w3.org/2000/svg\" height=\"24px\" viewBox=\"0 -960 960 960\">\n",
              "    <path d=\"M120-120v-720h720v720H120Zm60-500h600v-160H180v160Zm220 220h160v-160H400v160Zm0 220h160v-160H400v160ZM180-400h160v-160H180v160Zm440 0h160v-160H620v160ZM180-180h160v-160H180v160Zm440 0h160v-160H620v160Z\"/>\n",
              "  </svg>\n",
              "    </button>\n",
              "\n",
              "  <style>\n",
              "    .colab-df-container {\n",
              "      display:flex;\n",
              "      gap: 12px;\n",
              "    }\n",
              "\n",
              "    .colab-df-convert {\n",
              "      background-color: #E8F0FE;\n",
              "      border: none;\n",
              "      border-radius: 50%;\n",
              "      cursor: pointer;\n",
              "      display: none;\n",
              "      fill: #1967D2;\n",
              "      height: 32px;\n",
              "      padding: 0 0 0 0;\n",
              "      width: 32px;\n",
              "    }\n",
              "\n",
              "    .colab-df-convert:hover {\n",
              "      background-color: #E2EBFA;\n",
              "      box-shadow: 0px 1px 2px rgba(60, 64, 67, 0.3), 0px 1px 3px 1px rgba(60, 64, 67, 0.15);\n",
              "      fill: #174EA6;\n",
              "    }\n",
              "\n",
              "    .colab-df-buttons div {\n",
              "      margin-bottom: 4px;\n",
              "    }\n",
              "\n",
              "    [theme=dark] .colab-df-convert {\n",
              "      background-color: #3B4455;\n",
              "      fill: #D2E3FC;\n",
              "    }\n",
              "\n",
              "    [theme=dark] .colab-df-convert:hover {\n",
              "      background-color: #434B5C;\n",
              "      box-shadow: 0px 1px 3px 1px rgba(0, 0, 0, 0.15);\n",
              "      filter: drop-shadow(0px 1px 2px rgba(0, 0, 0, 0.3));\n",
              "      fill: #FFFFFF;\n",
              "    }\n",
              "  </style>\n",
              "\n",
              "    <script>\n",
              "      const buttonEl =\n",
              "        document.querySelector('#df-30cc79a4-d2de-4b0c-8c15-80d54acc6722 button.colab-df-convert');\n",
              "      buttonEl.style.display =\n",
              "        google.colab.kernel.accessAllowed ? 'block' : 'none';\n",
              "\n",
              "      async function convertToInteractive(key) {\n",
              "        const element = document.querySelector('#df-30cc79a4-d2de-4b0c-8c15-80d54acc6722');\n",
              "        const dataTable =\n",
              "          await google.colab.kernel.invokeFunction('convertToInteractive',\n",
              "                                                    [key], {});\n",
              "        if (!dataTable) return;\n",
              "\n",
              "        const docLinkHtml = 'Like what you see? Visit the ' +\n",
              "          '<a target=\"_blank\" href=https://colab.research.google.com/notebooks/data_table.ipynb>data table notebook</a>'\n",
              "          + ' to learn more about interactive tables.';\n",
              "        element.innerHTML = '';\n",
              "        dataTable['output_type'] = 'display_data';\n",
              "        await google.colab.output.renderOutput(dataTable, element);\n",
              "        const docLink = document.createElement('div');\n",
              "        docLink.innerHTML = docLinkHtml;\n",
              "        element.appendChild(docLink);\n",
              "      }\n",
              "    </script>\n",
              "  </div>\n",
              "\n",
              "\n",
              "<div id=\"df-8dd9f6ae-fec3-455b-b53e-96cd7b63982c\">\n",
              "  <button class=\"colab-df-quickchart\" onclick=\"quickchart('df-8dd9f6ae-fec3-455b-b53e-96cd7b63982c')\"\n",
              "            title=\"Suggest charts\"\n",
              "            style=\"display:none;\">\n",
              "\n",
              "<svg xmlns=\"http://www.w3.org/2000/svg\" height=\"24px\"viewBox=\"0 0 24 24\"\n",
              "     width=\"24px\">\n",
              "    <g>\n",
              "        <path d=\"M19 3H5c-1.1 0-2 .9-2 2v14c0 1.1.9 2 2 2h14c1.1 0 2-.9 2-2V5c0-1.1-.9-2-2-2zM9 17H7v-7h2v7zm4 0h-2V7h2v10zm4 0h-2v-4h2v4z\"/>\n",
              "    </g>\n",
              "</svg>\n",
              "  </button>\n",
              "\n",
              "<style>\n",
              "  .colab-df-quickchart {\n",
              "      --bg-color: #E8F0FE;\n",
              "      --fill-color: #1967D2;\n",
              "      --hover-bg-color: #E2EBFA;\n",
              "      --hover-fill-color: #174EA6;\n",
              "      --disabled-fill-color: #AAA;\n",
              "      --disabled-bg-color: #DDD;\n",
              "  }\n",
              "\n",
              "  [theme=dark] .colab-df-quickchart {\n",
              "      --bg-color: #3B4455;\n",
              "      --fill-color: #D2E3FC;\n",
              "      --hover-bg-color: #434B5C;\n",
              "      --hover-fill-color: #FFFFFF;\n",
              "      --disabled-bg-color: #3B4455;\n",
              "      --disabled-fill-color: #666;\n",
              "  }\n",
              "\n",
              "  .colab-df-quickchart {\n",
              "    background-color: var(--bg-color);\n",
              "    border: none;\n",
              "    border-radius: 50%;\n",
              "    cursor: pointer;\n",
              "    display: none;\n",
              "    fill: var(--fill-color);\n",
              "    height: 32px;\n",
              "    padding: 0;\n",
              "    width: 32px;\n",
              "  }\n",
              "\n",
              "  .colab-df-quickchart:hover {\n",
              "    background-color: var(--hover-bg-color);\n",
              "    box-shadow: 0 1px 2px rgba(60, 64, 67, 0.3), 0 1px 3px 1px rgba(60, 64, 67, 0.15);\n",
              "    fill: var(--button-hover-fill-color);\n",
              "  }\n",
              "\n",
              "  .colab-df-quickchart-complete:disabled,\n",
              "  .colab-df-quickchart-complete:disabled:hover {\n",
              "    background-color: var(--disabled-bg-color);\n",
              "    fill: var(--disabled-fill-color);\n",
              "    box-shadow: none;\n",
              "  }\n",
              "\n",
              "  .colab-df-spinner {\n",
              "    border: 2px solid var(--fill-color);\n",
              "    border-color: transparent;\n",
              "    border-bottom-color: var(--fill-color);\n",
              "    animation:\n",
              "      spin 1s steps(1) infinite;\n",
              "  }\n",
              "\n",
              "  @keyframes spin {\n",
              "    0% {\n",
              "      border-color: transparent;\n",
              "      border-bottom-color: var(--fill-color);\n",
              "      border-left-color: var(--fill-color);\n",
              "    }\n",
              "    20% {\n",
              "      border-color: transparent;\n",
              "      border-left-color: var(--fill-color);\n",
              "      border-top-color: var(--fill-color);\n",
              "    }\n",
              "    30% {\n",
              "      border-color: transparent;\n",
              "      border-left-color: var(--fill-color);\n",
              "      border-top-color: var(--fill-color);\n",
              "      border-right-color: var(--fill-color);\n",
              "    }\n",
              "    40% {\n",
              "      border-color: transparent;\n",
              "      border-right-color: var(--fill-color);\n",
              "      border-top-color: var(--fill-color);\n",
              "    }\n",
              "    60% {\n",
              "      border-color: transparent;\n",
              "      border-right-color: var(--fill-color);\n",
              "    }\n",
              "    80% {\n",
              "      border-color: transparent;\n",
              "      border-right-color: var(--fill-color);\n",
              "      border-bottom-color: var(--fill-color);\n",
              "    }\n",
              "    90% {\n",
              "      border-color: transparent;\n",
              "      border-bottom-color: var(--fill-color);\n",
              "    }\n",
              "  }\n",
              "</style>\n",
              "\n",
              "  <script>\n",
              "    async function quickchart(key) {\n",
              "      const quickchartButtonEl =\n",
              "        document.querySelector('#' + key + ' button');\n",
              "      quickchartButtonEl.disabled = true;  // To prevent multiple clicks.\n",
              "      quickchartButtonEl.classList.add('colab-df-spinner');\n",
              "      try {\n",
              "        const charts = await google.colab.kernel.invokeFunction(\n",
              "            'suggestCharts', [key], {});\n",
              "      } catch (error) {\n",
              "        console.error('Error during call to suggestCharts:', error);\n",
              "      }\n",
              "      quickchartButtonEl.classList.remove('colab-df-spinner');\n",
              "      quickchartButtonEl.classList.add('colab-df-quickchart-complete');\n",
              "    }\n",
              "    (() => {\n",
              "      let quickchartButtonEl =\n",
              "        document.querySelector('#df-8dd9f6ae-fec3-455b-b53e-96cd7b63982c button');\n",
              "      quickchartButtonEl.style.display =\n",
              "        google.colab.kernel.accessAllowed ? 'block' : 'none';\n",
              "    })();\n",
              "  </script>\n",
              "</div>\n",
              "\n",
              "  <div id=\"id_56c6058d-0ad1-4b8c-8011-cb265490ef43\">\n",
              "    <style>\n",
              "      .colab-df-generate {\n",
              "        background-color: #E8F0FE;\n",
              "        border: none;\n",
              "        border-radius: 50%;\n",
              "        cursor: pointer;\n",
              "        display: none;\n",
              "        fill: #1967D2;\n",
              "        height: 32px;\n",
              "        padding: 0 0 0 0;\n",
              "        width: 32px;\n",
              "      }\n",
              "\n",
              "      .colab-df-generate:hover {\n",
              "        background-color: #E2EBFA;\n",
              "        box-shadow: 0px 1px 2px rgba(60, 64, 67, 0.3), 0px 1px 3px 1px rgba(60, 64, 67, 0.15);\n",
              "        fill: #174EA6;\n",
              "      }\n",
              "\n",
              "      [theme=dark] .colab-df-generate {\n",
              "        background-color: #3B4455;\n",
              "        fill: #D2E3FC;\n",
              "      }\n",
              "\n",
              "      [theme=dark] .colab-df-generate:hover {\n",
              "        background-color: #434B5C;\n",
              "        box-shadow: 0px 1px 3px 1px rgba(0, 0, 0, 0.15);\n",
              "        filter: drop-shadow(0px 1px 2px rgba(0, 0, 0, 0.3));\n",
              "        fill: #FFFFFF;\n",
              "      }\n",
              "    </style>\n",
              "    <button class=\"colab-df-generate\" onclick=\"generateWithVariable('train_set')\"\n",
              "            title=\"Generate code using this dataframe.\"\n",
              "            style=\"display:none;\">\n",
              "\n",
              "  <svg xmlns=\"http://www.w3.org/2000/svg\" height=\"24px\"viewBox=\"0 0 24 24\"\n",
              "       width=\"24px\">\n",
              "    <path d=\"M7,19H8.4L18.45,9,17,7.55,7,17.6ZM5,21V16.75L18.45,3.32a2,2,0,0,1,2.83,0l1.4,1.43a1.91,1.91,0,0,1,.58,1.4,1.91,1.91,0,0,1-.58,1.4L9.25,21ZM18.45,9,17,7.55Zm-12,3A5.31,5.31,0,0,0,4.9,8.1,5.31,5.31,0,0,0,1,6.5,5.31,5.31,0,0,0,4.9,4.9,5.31,5.31,0,0,0,6.5,1,5.31,5.31,0,0,0,8.1,4.9,5.31,5.31,0,0,0,12,6.5,5.46,5.46,0,0,0,6.5,12Z\"/>\n",
              "  </svg>\n",
              "    </button>\n",
              "    <script>\n",
              "      (() => {\n",
              "      const buttonEl =\n",
              "        document.querySelector('#id_56c6058d-0ad1-4b8c-8011-cb265490ef43 button.colab-df-generate');\n",
              "      buttonEl.style.display =\n",
              "        google.colab.kernel.accessAllowed ? 'block' : 'none';\n",
              "\n",
              "      buttonEl.onclick = () => {\n",
              "        google.colab.notebook.generateWithVariable('train_set');\n",
              "      }\n",
              "      })();\n",
              "    </script>\n",
              "  </div>\n",
              "\n",
              "    </div>\n",
              "  </div>\n"
            ],
            "text/plain": [
              "     urlDrugName  rating           effectiveness  \\\n",
              "2686      zoloft       9        Highly Effective   \n",
              "1192    adipex-p       9        Highly Effective   \n",
              "2738    tri-luma       7    Moderately Effective   \n",
              "2780      yasmin       2        Highly Effective   \n",
              "1735      requip       7  Considerably Effective   \n",
              "...          ...     ...                     ...   \n",
              "3092      zyrtec       9        Highly Effective   \n",
              "1095   neurontin       0             Ineffective   \n",
              "1130  wellbutrin       6    Moderately Effective   \n",
              "1294  wellbutrin       2  Considerably Effective   \n",
              "860     accutane       4        Highly Effective   \n",
              "\n",
              "                        sideEffects                       condition  \\\n",
              "2686                No Side Effects                         anxiety   \n",
              "1192              Mild Side Effects               to lose 30 pounds   \n",
              "2738            Severe Side Effects               hyperpigmentation   \n",
              "2780          Moderate Side Effects                   birth control   \n",
              "1735                No Side Effects           restless leg syndrome   \n",
              "...                             ...                             ...   \n",
              "3092              Mild Side Effects                   atopic eczema   \n",
              "1095            Severe Side Effects  all over and various type pain   \n",
              "1130              Mild Side Effects                      depression   \n",
              "1294          Moderate Side Effects                    stop smoking   \n",
              "860   Extremely Severe Side Effects                     cystic acne   \n",
              "\n",
              "                                         benefitsReview  \\\n",
              "2686  becoming normal functioning individual helped ...   \n",
              "1192  bmi rating time get taken care goes beyond tak...   \n",
              "2738                              lightening acne scars   \n",
              "2780  chance pregancy lost percent libido skin clear...   \n",
              "1735  took medication treat restless leg syndrome ef...   \n",
              "...                                                 ...   \n",
              "3092  drug effective counteracting severe itching ca...   \n",
              "1095                                              value   \n",
              "1130  experienced less depression increased libido p...   \n",
              "1294  treatment effective reducing appetite smoking ...   \n",
              "860   drug cleared skin even reduced redness scarrin...   \n",
              "\n",
              "                                      sideEffectsReview  \\\n",
              "2686  real side effects unless consider lack fear wo...   \n",
              "1192   jittery sometimes euphoric tired cant sleep zone   \n",
              "2738                     redness dryness breakdown skin   \n",
              "2780  libido ever breasts hurt like got bigger itche...   \n",
              "1735  need take time went experienced augmentation r...   \n",
              "...                                                 ...   \n",
              "3092  felt slightly tired taking zyrtec however seve...   \n",
              "1095  nausea extreme sleepinesssevere headache jitte...   \n",
              "1130  dry mouth eyes drug decreased effectiveness la...   \n",
              "1294  began notice nothing seemed important also see...   \n",
              "860   severe sexual side effects began months trial ...   \n",
              "\n",
              "                                         commentsReview   Sales  Production  \\\n",
              "2686                                        taken daily  135166       335.0   \n",
              "1192  last results months adipex p lost pounds gaine...  739564       939.0   \n",
              "2738  topical compound used reduce hyperpigmentation...  683247       843.0   \n",
              "2780  given prevent pregnancy going i'd rather child...  222295       282.0   \n",
              "1735  took one milligram night treat symtoms restles...  344748       505.0   \n",
              "...                                                 ...     ...         ...   \n",
              "3092  non prescription drug took experiencing severe...  156028       356.0   \n",
              "1095  day one felt negative side effects taking seco...  317886       337.0   \n",
              "1130  prescribed mg per day taken much mg per day li...  556187       696.0   \n",
              "1294  taking bupropion aide break smoking habit also...  728338       789.0   \n",
              "860   treatment began two mg tablets twice day reduc...  154819       255.0   \n",
              "\n",
              "      benefitsReview_wc  sideEffectsReview_wc  commentsReview_wc  \n",
              "2686                 62                    15                  3  \n",
              "1192                163                    10                248  \n",
              "2738                  4                     5                 42  \n",
              "2780                 22                    50                 27  \n",
              "1735                 93                    69                106  \n",
              "...                 ...                   ...                ...  \n",
              "3092                 74                    54                 51  \n",
              "1095                  2                    10                120  \n",
              "1130                 15                    15                 24  \n",
              "1294                 44                   105                 92  \n",
              "860                  24                    70                145  \n",
              "\n",
              "[2485 rows x 13 columns]"
            ]
          },
          "execution_count": 64,
          "metadata": {},
          "output_type": "execute_result"
        }
      ],
      "source": [
        "train_set"
      ]
    },
    {
      "cell_type": "code",
      "execution_count": 65,
      "metadata": {
        "colab": {
          "base_uri": "https://localhost:8080/"
        },
        "id": "TZe2wLAEkHaX",
        "outputId": "964a069f-c27f-4c27-b63b-d536511828c5"
      },
      "outputs": [
        {
          "name": "stdout",
          "output_type": "stream",
          "text": [
            "real side effects unless consider lack fear worry one\n",
            "\n",
            "jittery sometimes euphoric tired cant sleep zone\n"
          ]
        }
      ],
      "source": [
        "print(\"\\n\\n\".join(train_set[\"sideEffectsReview\"][0:2].values))"
      ]
    },
    {
      "cell_type": "markdown",
      "metadata": {
        "id": "y8XHxHkmkHaX"
      },
      "source": [
        "Es hora de aplicar la \"capa\" de vectorizacion, pero keras sólo admite una entrada o feature por capa así que hay que crear tres"
      ]
    },
    {
      "cell_type": "code",
      "execution_count": 66,
      "metadata": {
        "id": "llNwo0MekHaX"
      },
      "outputs": [],
      "source": [
        "vectorizer_layers = []\n",
        "for indice,col in enumerate(text_feats):\n",
        "    vectorizer_layers.append(tf.keras.layers.TextVectorization(output_mode=\"count\"))\n",
        "    vectorizer_layers[indice].adapt(train_set[col])"
      ]
    },
    {
      "cell_type": "markdown",
      "metadata": {
        "id": "UPFlo99GkHaY"
      },
      "source": [
        "Y ahora creamos el modelo con la API funcional para intregarlo todo"
      ]
    },
    {
      "cell_type": "code",
      "execution_count": 67,
      "metadata": {
        "id": "x1zayCMXkHaY"
      },
      "outputs": [],
      "source": [
        "tf.random.set_seed(43)\n",
        "normalization_layer = tf.keras.layers.Normalization()\n",
        "ordinalEncoding_layers = [tf.keras.layers.StringLookup(output_mode= \"one_hot\") for cat in categoricals] # no le damos valor, pero aquí el argumento vocabulary permite pasar una lista,\n",
        "                                                 # una tupla, un array, un tensor con los strings ordenados de forma que el primero recibira la clase 0, etc\n",
        "\n",
        "#ordinalEncoding.adapt(train_set[categoricals]) # Al igual que la capa de normalización hay que hacerle su fit en este caso el método adapt\n",
        "concat_layer = tf.keras.layers.Concatenate(axis = -1)\n",
        "hidden_layer1 = tf.keras.layers.Dense(100, activation=\"relu\")\n",
        "output_layer = tf.keras.layers.Dense(10, activation = \"softmax\")\n",
        "\n",
        "\n",
        "normalization_layer.adapt(train_set[numericas].to_numpy())\n",
        "_ = [ordinalEncoding_layers[indice].adapt(train_set[col]) for indice,col in enumerate(categoricals)]\n",
        "\n",
        "earlyS = tf.keras.callbacks.EarlyStopping(patience=15, restore_best_weights= True)\n",
        "input_num = tf.keras.layers.Input(shape=(train_set[numericas].shape[1],))\n",
        "input_cats = [tf.keras.layers.Input(shape=(train_set[[col]].shape[1],), dtype = tf.string) for col in categoricals] # Importante decirle que entra una string\n",
        "# Añadimos las entradas para las capas de vectorizacion\n",
        "input_vects = [tf.keras.layers.Input(shape = train_set[col].shape[1:], dtype = tf.string) for col in text_feats]\n",
        "normalized = normalization_layer(input_num)\n",
        "encoded = [ordinalEncoding_layers[i](input_cats[i]) for i in range(len(ordinalEncoding_layers))]\n",
        "# Ahora vectorizamos\n",
        "vectorized = [vectorizer_layers[i](input_vects[i]) for i in range(len(text_feats))]\n",
        "concat = concat_layer([normalized] + encoded + vectorized)\n",
        "hidden1 = hidden_layer1(concat)\n",
        "output = output_layer(hidden1)\n",
        "\n",
        "model = tf.keras.Model(inputs=[input_num] + input_cats + input_vects, outputs=[output])"
      ]
    },
    {
      "cell_type": "code",
      "execution_count": 68,
      "metadata": {
        "colab": {
          "base_uri": "https://localhost:8080/"
        },
        "id": "nNBxA7CPkHaY",
        "outputId": "891e6af4-af4e-4514-8e9c-8df26df0977b"
      },
      "outputs": [
        {
          "name": "stdout",
          "output_type": "stream",
          "text": [
            "Epoch 1/150\n",
            "\u001b[1m63/63\u001b[0m \u001b[32m━━━━━━━━━━━━━━━━━━━━\u001b[0m\u001b[37m\u001b[0m \u001b[1m7s\u001b[0m 83ms/step - acc: 0.2532 - loss: 2.1040 - val_acc: 0.3924 - val_loss: 1.7146\n",
            "Epoch 2/150\n",
            "\u001b[1m63/63\u001b[0m \u001b[32m━━━━━━━━━━━━━━━━━━━━\u001b[0m\u001b[37m\u001b[0m \u001b[1m9s\u001b[0m 71ms/step - acc: 0.5055 - loss: 1.3673 - val_acc: 0.4125 - val_loss: 1.5790\n",
            "Epoch 3/150\n",
            "\u001b[1m63/63\u001b[0m \u001b[32m━━━━━━━━━━━━━━━━━━━━\u001b[0m\u001b[37m\u001b[0m \u001b[1m5s\u001b[0m 78ms/step - acc: 0.7225 - loss: 0.8827 - val_acc: 0.4245 - val_loss: 1.6223\n",
            "Epoch 4/150\n",
            "\u001b[1m63/63\u001b[0m \u001b[32m━━━━━━━━━━━━━━━━━━━━\u001b[0m\u001b[37m\u001b[0m \u001b[1m6s\u001b[0m 95ms/step - acc: 0.8919 - loss: 0.5332 - val_acc: 0.4205 - val_loss: 1.7238\n",
            "Epoch 5/150\n",
            "\u001b[1m63/63\u001b[0m \u001b[32m━━━━━━━━━━━━━━━━━━━━\u001b[0m\u001b[37m\u001b[0m \u001b[1m4s\u001b[0m 68ms/step - acc: 0.9582 - loss: 0.3085 - val_acc: 0.4185 - val_loss: 1.7929\n",
            "Epoch 6/150\n",
            "\u001b[1m63/63\u001b[0m \u001b[32m━━━━━━━━━━━━━━━━━━━━\u001b[0m\u001b[37m\u001b[0m \u001b[1m5s\u001b[0m 84ms/step - acc: 0.9797 - loss: 0.1886 - val_acc: 0.4185 - val_loss: 1.8105\n",
            "Epoch 7/150\n",
            "\u001b[1m63/63\u001b[0m \u001b[32m━━━━━━━━━━━━━━━━━━━━\u001b[0m\u001b[37m\u001b[0m \u001b[1m5s\u001b[0m 75ms/step - acc: 0.9895 - loss: 0.1226 - val_acc: 0.4145 - val_loss: 1.8146\n",
            "Epoch 8/150\n",
            "\u001b[1m63/63\u001b[0m \u001b[32m━━━━━━━━━━━━━━━━━━━━\u001b[0m\u001b[37m\u001b[0m \u001b[1m5s\u001b[0m 71ms/step - acc: 0.9962 - loss: 0.0852 - val_acc: 0.4306 - val_loss: 1.8920\n",
            "Epoch 9/150\n",
            "\u001b[1m63/63\u001b[0m \u001b[32m━━━━━━━━━━━━━━━━━━━━\u001b[0m\u001b[37m\u001b[0m \u001b[1m7s\u001b[0m 100ms/step - acc: 0.9986 - loss: 0.0619 - val_acc: 0.4326 - val_loss: 2.0087\n",
            "Epoch 10/150\n",
            "\u001b[1m63/63\u001b[0m \u001b[32m━━━━━━━━━━━━━━━━━━━━\u001b[0m\u001b[37m\u001b[0m \u001b[1m8s\u001b[0m 70ms/step - acc: 0.9988 - loss: 0.0478 - val_acc: 0.4326 - val_loss: 2.0643\n",
            "Epoch 11/150\n",
            "\u001b[1m63/63\u001b[0m \u001b[32m━━━━━━━━━━━━━━━━━━━━\u001b[0m\u001b[37m\u001b[0m \u001b[1m6s\u001b[0m 92ms/step - acc: 0.9999 - loss: 0.0390 - val_acc: 0.4286 - val_loss: 2.1081\n",
            "Epoch 12/150\n",
            "\u001b[1m63/63\u001b[0m \u001b[32m━━━━━━━━━━━━━━━━━━━━\u001b[0m\u001b[37m\u001b[0m \u001b[1m9s\u001b[0m 74ms/step - acc: 1.0000 - loss: 0.0324 - val_acc: 0.4326 - val_loss: 2.1436\n",
            "Epoch 13/150\n",
            "\u001b[1m63/63\u001b[0m \u001b[32m━━━━━━━━━━━━━━━━━━━━\u001b[0m\u001b[37m\u001b[0m \u001b[1m6s\u001b[0m 84ms/step - acc: 1.0000 - loss: 0.0276 - val_acc: 0.4286 - val_loss: 2.1700\n",
            "Epoch 14/150\n",
            "\u001b[1m63/63\u001b[0m \u001b[32m━━━━━━━━━━━━━━━━━━━━\u001b[0m\u001b[37m\u001b[0m \u001b[1m4s\u001b[0m 67ms/step - acc: 1.0000 - loss: 0.0238 - val_acc: 0.4225 - val_loss: 2.1892\n",
            "Epoch 15/150\n",
            "\u001b[1m63/63\u001b[0m \u001b[32m━━━━━━━━━━━━━━━━━━━━\u001b[0m\u001b[37m\u001b[0m \u001b[1m7s\u001b[0m 102ms/step - acc: 1.0000 - loss: 0.0208 - val_acc: 0.4245 - val_loss: 2.2046\n",
            "Epoch 16/150\n",
            "\u001b[1m63/63\u001b[0m \u001b[32m━━━━━━━━━━━━━━━━━━━━\u001b[0m\u001b[37m\u001b[0m \u001b[1m5s\u001b[0m 76ms/step - acc: 1.0000 - loss: 0.0184 - val_acc: 0.4245 - val_loss: 2.2182\n",
            "Epoch 17/150\n",
            "\u001b[1m63/63\u001b[0m \u001b[32m━━━━━━━━━━━━━━━━━━━━\u001b[0m\u001b[37m\u001b[0m \u001b[1m5s\u001b[0m 69ms/step - acc: 1.0000 - loss: 0.0164 - val_acc: 0.4205 - val_loss: 2.2331\n"
          ]
        }
      ],
      "source": [
        "model.compile(loss=\"sparse_categorical_crossentropy\", \n",
        "              optimizer=tf.keras.optimizers.SGD(learning_rate= 2e-2, momentum = 0.9),\n",
        "              metrics =[\"acc\"])\n",
        "entradas = [train_set[numericas]] + [train_set[col] for col in categoricals] \\\n",
        "                + [train_set[col] for col in text_feats]\n",
        "history = model.fit(entradas, y_num, validation_split = 0.2, epochs=150, callbacks= earlyS)"
      ]
    },
    {
      "cell_type": "code",
      "execution_count": 69,
      "metadata": {
        "colab": {
          "base_uri": "https://localhost:8080/"
        },
        "id": "zl-a6g7ekHaY",
        "outputId": "e9207e7e-e550-4a47-dc30-0e918d60ef01"
      },
      "outputs": [
        {
          "name": "stdout",
          "output_type": "stream",
          "text": [
            "\u001b[1m20/20\u001b[0m \u001b[32m━━━━━━━━━━━━━━━━━━━━\u001b[0m\u001b[37m\u001b[0m \u001b[1m1s\u001b[0m 67ms/step - acc: 0.4152 - loss: 1.5102\n"
          ]
        },
        {
          "data": {
            "text/plain": [
              "[1.5470683574676514, 0.41961413621902466]"
            ]
          },
          "execution_count": 69,
          "metadata": {},
          "output_type": "execute_result"
        }
      ],
      "source": [
        "entradas_test = [test_set[numericas]] + [test_set[col] for col in test_set[categoricals]]\\\n",
        "                                         + [test_set[col] for col in text_feats]\n",
        "model.evaluate(entradas_test, test_set[target])"
      ]
    },
    {
      "cell_type": "code",
      "execution_count": 70,
      "metadata": {
        "colab": {
          "base_uri": "https://localhost:8080/"
        },
        "id": "F6y5oo1skHaY",
        "outputId": "415d79a7-e108-472a-c8c9-d1ee571bf1f4"
      },
      "outputs": [
        {
          "name": "stdout",
          "output_type": "stream",
          "text": [
            "\u001b[1m20/20\u001b[0m \u001b[32m━━━━━━━━━━━━━━━━━━━━\u001b[0m\u001b[37m\u001b[0m \u001b[1m2s\u001b[0m 73ms/step\n"
          ]
        }
      ],
      "source": [
        "y_pred = [np.argmax(pred) for pred in model.predict(entradas_test)]"
      ]
    },
    {
      "cell_type": "code",
      "execution_count": 71,
      "metadata": {
        "colab": {
          "base_uri": "https://localhost:8080/"
        },
        "id": "1fO4JbVBkHaY",
        "outputId": "f75d013c-64ef-4665-ae00-007cff06a732",
        "scrolled": true
      },
      "outputs": [
        {
          "name": "stdout",
          "output_type": "stream",
          "text": [
            "              precision    recall  f1-score   support\n",
            "\n",
            "           0       0.59      0.89      0.71        62\n",
            "           1       0.00      0.00      0.00        16\n",
            "           2       0.60      0.13      0.21        23\n",
            "           3       0.50      0.06      0.10        18\n",
            "           4       0.00      0.00      0.00        27\n",
            "           5       1.00      0.05      0.10        38\n",
            "           6       0.22      0.10      0.13        83\n",
            "           7       0.25      0.64      0.36        94\n",
            "           8       0.27      0.04      0.06       110\n",
            "           9       0.57      0.85      0.68       151\n",
            "\n",
            "    accuracy                           0.42       622\n",
            "   macro avg       0.40      0.27      0.24       622\n",
            "weighted avg       0.41      0.42      0.34       622\n",
            "\n"
          ]
        }
      ],
      "source": [
        "print(classification_report(test_set[target], y_pred))"
      ]
    },
    {
      "cell_type": "markdown",
      "metadata": {
        "id": "7G1iBImDkHaY"
      },
      "source": [
        "Desbalanceado y el recall medio cae. Además son demasiadas features. En la próxima sesión, de caracter teórico veremos una forma más potente de vectorizar texto y para terminar esta veamos como \"compensar\""
      ]
    },
    {
      "cell_type": "code",
      "execution_count": 72,
      "metadata": {
        "colab": {
          "base_uri": "https://localhost:8080/",
          "height": 429
        },
        "id": "-fMC1O_JkHaY",
        "outputId": "bfbe4a2b-2d75-45c4-82fb-06375626e2be"
      },
      "outputs": [
        {
          "data": {
            "text/html": [
              "<div>\n",
              "<style scoped>\n",
              "    .dataframe tbody tr th:only-of-type {\n",
              "        vertical-align: middle;\n",
              "    }\n",
              "\n",
              "    .dataframe tbody tr th {\n",
              "        vertical-align: top;\n",
              "    }\n",
              "\n",
              "    .dataframe thead th {\n",
              "        text-align: right;\n",
              "    }\n",
              "</style>\n",
              "<table border=\"1\" class=\"dataframe\">\n",
              "  <thead>\n",
              "    <tr style=\"text-align: right;\">\n",
              "      <th></th>\n",
              "      <th>proportion</th>\n",
              "    </tr>\n",
              "    <tr>\n",
              "      <th>rating</th>\n",
              "      <th></th>\n",
              "    </tr>\n",
              "  </thead>\n",
              "  <tbody>\n",
              "    <tr>\n",
              "      <th>9</th>\n",
              "      <td>0.237827</td>\n",
              "    </tr>\n",
              "    <tr>\n",
              "      <th>7</th>\n",
              "      <td>0.186720</td>\n",
              "    </tr>\n",
              "    <tr>\n",
              "      <th>8</th>\n",
              "      <td>0.148893</td>\n",
              "    </tr>\n",
              "    <tr>\n",
              "      <th>6</th>\n",
              "      <td>0.107445</td>\n",
              "    </tr>\n",
              "    <tr>\n",
              "      <th>0</th>\n",
              "      <td>0.097787</td>\n",
              "    </tr>\n",
              "    <tr>\n",
              "      <th>4</th>\n",
              "      <td>0.053119</td>\n",
              "    </tr>\n",
              "    <tr>\n",
              "      <th>2</th>\n",
              "      <td>0.049497</td>\n",
              "    </tr>\n",
              "    <tr>\n",
              "      <th>5</th>\n",
              "      <td>0.047887</td>\n",
              "    </tr>\n",
              "    <tr>\n",
              "      <th>3</th>\n",
              "      <td>0.035815</td>\n",
              "    </tr>\n",
              "    <tr>\n",
              "      <th>1</th>\n",
              "      <td>0.035010</td>\n",
              "    </tr>\n",
              "  </tbody>\n",
              "</table>\n",
              "</div><br><label><b>dtype:</b> float64</label>"
            ],
            "text/plain": [
              "rating\n",
              "9    0.237827\n",
              "7    0.186720\n",
              "8    0.148893\n",
              "6    0.107445\n",
              "0    0.097787\n",
              "4    0.053119\n",
              "2    0.049497\n",
              "5    0.047887\n",
              "3    0.035815\n",
              "1    0.035010\n",
              "Name: proportion, dtype: float64"
            ]
          },
          "execution_count": 72,
          "metadata": {},
          "output_type": "execute_result"
        }
      ],
      "source": [
        "y_num.value_counts(True)"
      ]
    },
    {
      "cell_type": "code",
      "execution_count": 73,
      "metadata": {
        "colab": {
          "base_uri": "https://localhost:8080/"
        },
        "id": "7FgBaz1gkHaZ",
        "outputId": "2f270e79-bf2a-4d5d-b0cf-ca3baf511778"
      },
      "outputs": [
        {
          "data": {
            "text/plain": [
              "array([0, 1, 2, 3, 4, 5, 6, 7, 8, 9])"
            ]
          },
          "execution_count": 73,
          "metadata": {},
          "output_type": "execute_result"
        }
      ],
      "source": [
        "from sklearn.utils.class_weight import compute_class_weight\n",
        "\n",
        "clases = np.array(sorted(y_num.unique()))\n",
        "clases"
      ]
    },
    {
      "cell_type": "code",
      "execution_count": 74,
      "metadata": {
        "colab": {
          "base_uri": "https://localhost:8080/"
        },
        "id": "XeaIORnLkHaZ",
        "outputId": "aa0cf028-9a21-4178-a259-2113f7daf2eb"
      },
      "outputs": [
        {
          "data": {
            "text/plain": [
              "{0: 1.022633744855967,\n",
              " 1: 2.8563218390804597,\n",
              " 2: 2.0203252032520327,\n",
              " 3: 2.792134831460674,\n",
              " 4: 1.8825757575757576,\n",
              " 5: 2.088235294117647,\n",
              " 6: 0.9307116104868914,\n",
              " 7: 0.5355603448275862,\n",
              " 8: 0.6716216216216216,\n",
              " 9: 0.42047377326565144}"
            ]
          },
          "execution_count": 74,
          "metadata": {},
          "output_type": "execute_result"
        }
      ],
      "source": [
        "dict_weight = {clases[i]:peso for i,peso in enumerate(compute_class_weight(\"balanced\",classes= clases, y = y_num))}\n",
        "dict_weight"
      ]
    },
    {
      "cell_type": "code",
      "execution_count": 75,
      "metadata": {
        "colab": {
          "base_uri": "https://localhost:8080/"
        },
        "id": "-eeKrhelkHaZ",
        "outputId": "6c91a85c-3a39-4bca-fccd-ddba3508fc53",
        "scrolled": true
      },
      "outputs": [
        {
          "name": "stdout",
          "output_type": "stream",
          "text": [
            "Epoch 1/10\n",
            "\u001b[1m63/63\u001b[0m \u001b[32m━━━━━━━━━━━━━━━━━━━━\u001b[0m\u001b[37m\u001b[0m \u001b[1m7s\u001b[0m 84ms/step - acc: 0.6210 - loss: 1.3108 - val_acc: 0.3823 - val_loss: 1.8190\n",
            "Epoch 2/10\n",
            "\u001b[1m63/63\u001b[0m \u001b[32m━━━━━━━━━━━━━━━━━━━━\u001b[0m\u001b[37m\u001b[0m \u001b[1m6s\u001b[0m 101ms/step - acc: 0.8468 - loss: 0.4410 - val_acc: 0.4024 - val_loss: 2.4332\n",
            "Epoch 3/10\n",
            "\u001b[1m63/63\u001b[0m \u001b[32m━━━━━━━━━━━━━━━━━━━━\u001b[0m\u001b[37m\u001b[0m \u001b[1m9s\u001b[0m 85ms/step - acc: 0.9686 - loss: 0.0864 - val_acc: 0.4105 - val_loss: 2.8015\n",
            "Epoch 4/10\n",
            "\u001b[1m63/63\u001b[0m \u001b[32m━━━━━━━━━━━━━━━━━━━━\u001b[0m\u001b[37m\u001b[0m \u001b[1m10s\u001b[0m 80ms/step - acc: 0.9925 - loss: 0.0247 - val_acc: 0.3944 - val_loss: 2.8384\n",
            "Epoch 5/10\n",
            "\u001b[1m63/63\u001b[0m \u001b[32m━━━━━━━━━━━━━━━━━━━━\u001b[0m\u001b[37m\u001b[0m \u001b[1m6s\u001b[0m 97ms/step - acc: 0.9982 - loss: 0.0112 - val_acc: 0.4024 - val_loss: 2.8666\n",
            "Epoch 6/10\n",
            "\u001b[1m63/63\u001b[0m \u001b[32m━━━━━━━━━━━━━━━━━━━━\u001b[0m\u001b[37m\u001b[0m \u001b[1m5s\u001b[0m 73ms/step - acc: 1.0000 - loss: 0.0052 - val_acc: 0.4105 - val_loss: 2.9381\n",
            "Epoch 7/10\n",
            "\u001b[1m63/63\u001b[0m \u001b[32m━━━━━━━━━━━━━━━━━━━━\u001b[0m\u001b[37m\u001b[0m \u001b[1m5s\u001b[0m 74ms/step - acc: 1.0000 - loss: 0.0033 - val_acc: 0.4064 - val_loss: 2.9737\n",
            "Epoch 8/10\n",
            "\u001b[1m63/63\u001b[0m \u001b[32m━━━━━━━━━━━━━━━━━━━━\u001b[0m\u001b[37m\u001b[0m \u001b[1m6s\u001b[0m 101ms/step - acc: 1.0000 - loss: 0.0027 - val_acc: 0.4085 - val_loss: 2.9925\n",
            "Epoch 9/10\n",
            "\u001b[1m63/63\u001b[0m \u001b[32m━━━━━━━━━━━━━━━━━━━━\u001b[0m\u001b[37m\u001b[0m \u001b[1m10s\u001b[0m 92ms/step - acc: 1.0000 - loss: 0.0022 - val_acc: 0.4105 - val_loss: 3.0068\n",
            "Epoch 10/10\n",
            "\u001b[1m63/63\u001b[0m \u001b[32m━━━━━━━━━━━━━━━━━━━━\u001b[0m\u001b[37m\u001b[0m \u001b[1m5s\u001b[0m 83ms/step - acc: 1.0000 - loss: 0.0019 - val_acc: 0.4125 - val_loss: 3.0229\n"
          ]
        }
      ],
      "source": [
        "model.compile(loss=\"sparse_categorical_crossentropy\", \n",
        "              optimizer=tf.keras.optimizers.SGD(learning_rate= 1e-1, momentum = 0.9, nesterov = True),\n",
        "              metrics =[\"acc\"])\n",
        "\n",
        "history = model.fit(entradas, y_num.to_numpy(), validation_split = 0.2, epochs=10, callbacks= earlyS, class_weight= dict_weight)"
      ]
    },
    {
      "cell_type": "code",
      "execution_count": 76,
      "metadata": {
        "colab": {
          "base_uri": "https://localhost:8080/"
        },
        "id": "fT_1R17akHaZ",
        "outputId": "94365d21-daeb-41dc-afc5-2b96ddfd1045"
      },
      "outputs": [
        {
          "name": "stdout",
          "output_type": "stream",
          "text": [
            "\u001b[1m20/20\u001b[0m \u001b[32m━━━━━━━━━━━━━━━━━━━━\u001b[0m\u001b[37m\u001b[0m \u001b[1m1s\u001b[0m 38ms/step - acc: 0.4148 - loss: 1.6926\n"
          ]
        },
        {
          "data": {
            "text/plain": [
              "[1.7677065134048462, 0.3858520984649658]"
            ]
          },
          "execution_count": 76,
          "metadata": {},
          "output_type": "execute_result"
        }
      ],
      "source": [
        "\n",
        "model.evaluate(entradas_test, test_set[target].to_numpy())"
      ]
    },
    {
      "cell_type": "code",
      "execution_count": 77,
      "metadata": {
        "colab": {
          "base_uri": "https://localhost:8080/"
        },
        "id": "Wz43AA8SkHaZ",
        "outputId": "5f4f6921-7cd8-4c27-980a-33c97e534e9c"
      },
      "outputs": [
        {
          "name": "stdout",
          "output_type": "stream",
          "text": [
            "\u001b[1m20/20\u001b[0m \u001b[32m━━━━━━━━━━━━━━━━━━━━\u001b[0m\u001b[37m\u001b[0m \u001b[1m2s\u001b[0m 64ms/step\n"
          ]
        }
      ],
      "source": [
        "y_pred = [np.argmax(pred) for pred in model.predict(entradas_test)]"
      ]
    },
    {
      "cell_type": "code",
      "execution_count": 78,
      "metadata": {
        "colab": {
          "base_uri": "https://localhost:8080/"
        },
        "id": "BG8cOjOdkHaZ",
        "outputId": "bc464af0-407e-4cdd-8cc2-37541fbb3b91"
      },
      "outputs": [
        {
          "name": "stdout",
          "output_type": "stream",
          "text": [
            "              precision    recall  f1-score   support\n",
            "\n",
            "           0       0.67      0.84      0.74        62\n",
            "           1       0.09      0.06      0.07        16\n",
            "           2       0.19      0.13      0.15        23\n",
            "           3       0.13      0.11      0.12        18\n",
            "           4       0.09      0.37      0.15        27\n",
            "           5       0.35      0.29      0.32        38\n",
            "           6       0.16      0.05      0.07        83\n",
            "           7       0.28      0.44      0.34        94\n",
            "           8       0.33      0.05      0.09       110\n",
            "           9       0.64      0.73      0.68       151\n",
            "\n",
            "    accuracy                           0.39       622\n",
            "   macro avg       0.29      0.31      0.27       622\n",
            "weighted avg       0.38      0.39      0.35       622\n",
            "\n"
          ]
        }
      ],
      "source": [
        "print(classification_report(test_set[target], y_pred))"
      ]
    },
    {
      "cell_type": "code",
      "execution_count": null,
      "metadata": {
        "id": "PNB3OX9CkHaZ"
      },
      "outputs": [],
      "source": []
    }
  ],
  "metadata": {
    "colab": {
      "provenance": []
    },
    "kernelspec": {
      "display_name": "Python 3 (ipykernel)",
      "language": "python",
      "name": "python3"
    },
    "language_info": {
      "codemirror_mode": {
        "name": "ipython",
        "version": 3
      },
      "file_extension": ".py",
      "mimetype": "text/x-python",
      "name": "python",
      "nbconvert_exporter": "python",
      "pygments_lexer": "ipython3",
      "version": "3.11.9"
    }
  },
  "nbformat": 4,
  "nbformat_minor": 0
}
