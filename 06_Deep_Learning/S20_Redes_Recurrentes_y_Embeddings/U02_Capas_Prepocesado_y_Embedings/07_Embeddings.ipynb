{
  "cells": [
    {
      "cell_type": "markdown",
      "metadata": {
        "id": "v_d0eIQMncJd"
      },
      "source": [
        "![imagen](data/foto1.png)"
      ]
    },
    {
      "cell_type": "markdown",
      "metadata": {
        "id": "1cnIgSHlncJe"
      },
      "source": [
        "## Embeddings"
      ]
    },
    {
      "cell_type": "markdown",
      "metadata": {
        "id": "XLI6MqjEncJe"
      },
      "source": [
        "Primero vamos a ver cómo funciona un word embedding de una forma simulada al tiempo que vemos como emplear la capa de embeddings de Keras, luego veremos como hacer sentence embedding utilizando un modulo o modelo preentrenado de Tensorflow."
      ]
    },
    {
      "cell_type": "code",
      "execution_count": 1,
      "metadata": {
        "id": "Vd0hPlPcncJe"
      },
      "outputs": [],
      "source": [
        "import numpy as np\n",
        "import tensorflow as tf"
      ]
    },
    {
      "cell_type": "markdown",
      "metadata": {
        "id": "MrGRy_IzncJf"
      },
      "source": [
        "### Word Embeddings"
      ]
    },
    {
      "cell_type": "markdown",
      "metadata": {
        "id": "Tu5Gw66CncJf"
      },
      "source": [
        "Recuerda que un word embedding transforma las palabras de un texto en un vector de n dimensiones. Veamos como hacerlo con una capa de embeddings, sin entrenar y así podrás ver como instanciarla."
      ]
    },
    {
      "cell_type": "code",
      "execution_count": 2,
      "metadata": {
        "id": "sPYFTiPxncJf"
      },
      "outputs": [],
      "source": [
        "categorias_ejemplo = [\"Me\",\"llamo\",\"Iñigo\",\"Montoya\",\"soy\",\"tú\",\"mataste\",\"a\",\"mi\",\"padre\"] # Una frase o un vocabulario de ejemplo\n",
        "pre_conversion = tf.keras.layers.StringLookup() # IMPORTANTE: Hay que convertir nuestro vocabulario a indices\n",
        "pre_conversion.adapt(categorias_ejemplo) # Y como ya habíamos visto, hay que hacer un fit/adapt\n",
        "lookup_y_embedding = tf.keras.Sequential([\n",
        "                                          tf.keras.layers.InputLayer(shape=[], dtype=tf.string),\n",
        "                                          pre_conversion,\n",
        "                                          tf.keras.layers.Embedding(input_dim = pre_conversion.vocabulary_size(),\n",
        "                                                                   output_dim = 2)])\n",
        "# input_dim -> Tamaño del vocabulario a convertir en vectores de output_dim dimensiones"
      ]
    },
    {
      "cell_type": "markdown",
      "metadata": {
        "id": "qsQWwySOncJg"
      },
      "source": [
        "Este \"modelo\" no resuelve ningún tipo de problema solo pasa las palabras a traves de la capa de codificación y luego de la embeddings y genera por cadda palabra un vector de 2 dimensiones (output_dim). Pero además como no está entrenada funcionará porque tiene pesos inicializados de forma aleatoria. Es decir que si le pasamos como entrada la variable con la frase de ejemplo..."
      ]
    },
    {
      "cell_type": "code",
      "execution_count": 3,
      "metadata": {
        "colab": {
          "base_uri": "https://localhost:8080/"
        },
        "id": "FBaUhY9xncJg",
        "outputId": "3800053f-80b8-412f-b33b-02195b89cdd7"
      },
      "outputs": [
        {
          "data": {
            "text/plain": [
              "<tf.Tensor: shape=(10,), dtype=int64, numpy=array([ 9,  6, 10,  8,  2,  1,  5,  7,  4,  3])>"
            ]
          },
          "execution_count": 3,
          "metadata": {},
          "output_type": "execute_result"
        }
      ],
      "source": [
        "pre_conversion(categorias_ejemplo)"
      ]
    },
    {
      "cell_type": "code",
      "execution_count": 4,
      "metadata": {
        "colab": {
          "base_uri": "https://localhost:8080/"
        },
        "id": "ydP_R2yVncJg",
        "outputId": "8d207485-9005-4491-d7cd-7038bbb12cc5"
      },
      "outputs": [
        {
          "data": {
            "text/plain": [
              "<tf.Tensor: shape=(10, 2), dtype=float32, numpy=\n",
              "array([[-0.04409352,  0.03440963],\n",
              "       [ 0.01493663,  0.03152325],\n",
              "       [ 0.03639818, -0.00137614],\n",
              "       [-0.00677577, -0.00635258],\n",
              "       [-0.01323632, -0.01922233],\n",
              "       [-0.0229242 , -0.0473491 ],\n",
              "       [-0.01399402,  0.02506015],\n",
              "       [-0.00280821, -0.02898717],\n",
              "       [ 0.0202817 , -0.00427217],\n",
              "       [ 0.04536236, -0.00698604]], dtype=float32)>"
            ]
          },
          "execution_count": 4,
          "metadata": {},
          "output_type": "execute_result"
        }
      ],
      "source": [
        "lookup_y_embedding(np.array(categorias_ejemplo))"
      ]
    },
    {
      "cell_type": "markdown",
      "metadata": {
        "id": "5ZM5s_vrncJh"
      },
      "source": [
        "Nos convierte cada palabra en un embedding (sin sentido)..."
      ]
    },
    {
      "cell_type": "markdown",
      "metadata": {
        "id": "5K-cg9EEncJh"
      },
      "source": [
        "Otra forma de hacerlo"
      ]
    },
    {
      "cell_type": "code",
      "execution_count": 5,
      "metadata": {
        "colab": {
          "base_uri": "https://localhost:8080/"
        },
        "id": "WBOo7GSuncJh",
        "outputId": "087eeede-e9ba-4310-cfcb-fc5c52c07739"
      },
      "outputs": [
        {
          "data": {
            "text/plain": [
              "<tf.Tensor: shape=(4, 2), dtype=float32, numpy=\n",
              "array([[-0.04409352,  0.03440963],\n",
              "       [ 0.01493663,  0.03152325],\n",
              "       [ 0.03639818, -0.00137614],\n",
              "       [-0.00677577, -0.00635258]], dtype=float32)>"
            ]
          },
          "execution_count": 5,
          "metadata": {},
          "output_type": "execute_result"
        }
      ],
      "source": [
        "frase = \"Me llamo Iñigo Montoya\"\n",
        "lookup_y_embedding(np.array(frase.split()))"
      ]
    },
    {
      "cell_type": "markdown",
      "metadata": {
        "id": "ab_RKvewncJh"
      },
      "source": [
        "Para poder darle valor tendríamos que incluir nuestras dos capas (la codificadora y la de embedding) en un modelo con un objetivo determinado y la capa de embeddings se entrenaría para generar los embeddings que mejor se adapten al problema a solucionar con ese modelo"
      ]
    },
    {
      "cell_type": "markdown",
      "metadata": {
        "id": "T9m3u2BpncJh"
      },
      "source": [
        "### Sentences embedding"
      ]
    },
    {
      "cell_type": "markdown",
      "metadata": {
        "id": "8x2B-KU7ncJi"
      },
      "source": [
        "Vamos a convertir una serie de frases en embeddings. En concreto de 50 dimensiones. Lo haremos utilizando un modelo preentrenado el nnlem-en-dim50 de Google. Internamente es un modelo word embeddings que convierte cada palabra en un embedding de 50 dimensiones y luego calcular el centroide de todos los vectores obtenidos para una frase."
      ]
    },
    {
      "cell_type": "code",
      "execution_count": 5,
      "metadata": {
        "id": "1CmdGjwbncJi"
      },
      "outputs": [],
      "source": []
    },
    {
      "cell_type": "code",
      "execution_count": 6,
      "metadata": {
        "colab": {
          "base_uri": "https://localhost:8080/"
        },
        "id": "QigAcHyUncJi",
        "outputId": "077595e0-2dcc-4719-b8a3-dbc00aebe123"
      },
      "outputs": [
        {
          "data": {
            "text/plain": [
              "array([[-0.25,  0.28,  0.01,  0.1 ,  0.14,  0.16,  0.25,  0.02,  0.07,\n",
              "         0.13, -0.19,  0.06, -0.04, -0.07,  0.  , -0.08, -0.14, -0.16,\n",
              "         0.02, -0.24,  0.16, -0.16, -0.03,  0.03, -0.14,  0.03, -0.09,\n",
              "        -0.04, -0.14, -0.19,  0.07,  0.15,  0.18, -0.23, -0.07, -0.08,\n",
              "         0.01, -0.01,  0.09,  0.14, -0.03,  0.03,  0.08,  0.1 , -0.01,\n",
              "        -0.03, -0.07, -0.1 ,  0.05,  0.31],\n",
              "       [-0.2 ,  0.2 , -0.08,  0.02,  0.19,  0.05,  0.22, -0.09,  0.02,\n",
              "         0.19, -0.02, -0.14, -0.2 , -0.04,  0.01, -0.07, -0.22, -0.1 ,\n",
              "         0.16, -0.44,  0.31, -0.1 ,  0.23,  0.15, -0.05,  0.15, -0.13,\n",
              "        -0.04, -0.08, -0.16, -0.1 ,  0.13,  0.13, -0.18, -0.04,  0.03,\n",
              "        -0.1 , -0.07,  0.07,  0.03, -0.08,  0.02,  0.05,  0.07, -0.14,\n",
              "        -0.1 , -0.18, -0.13, -0.04,  0.15]], dtype=float32)"
            ]
          },
          "execution_count": 6,
          "metadata": {},
          "output_type": "execute_result"
        }
      ],
      "source": [
        "import tensorflow_hub as hub\n",
        "\n",
        "hub_layer = hub.KerasLayer(\"https://tfhub.dev/google/nnlm-en-dim50/2\") # Así se obtiene el modelo\n",
        "sentence_embeddings = hub_layer(tf.constant([\"To be\", \"Not to be\"]))\n",
        "sentence_embeddings.numpy().round(2)"
      ]
    },
    {
      "cell_type": "markdown",
      "metadata": {
        "id": "KX--_k_2ncJi"
      },
      "source": [
        "Probemos ahora algunas cosas como por ejemplo obtener la similitud entre sentencias"
      ]
    },
    {
      "cell_type": "code",
      "execution_count": 7,
      "metadata": {
        "id": "MjAIAW4LncJi"
      },
      "outputs": [],
      "source": [
        "sentences = ['El Real Madrid lo tiene difícil para ganar al Manchester City.',\n",
        " 'El Barcelona puede clasificar frente al PSG, si se esfuerza.',\n",
        " 'Las tropas rusas han tomado Dubroknic.',\n",
        " 'El ejercito ucraniano se ha replegado']"
      ]
    },
    {
      "cell_type": "code",
      "execution_count": 8,
      "metadata": {
        "id": "1J1ND0q3ncJi"
      },
      "outputs": [],
      "source": [
        "sentence_embeddings = hub_layer(tf.constant(sentences))"
      ]
    },
    {
      "cell_type": "code",
      "execution_count": 9,
      "metadata": {
        "colab": {
          "base_uri": "https://localhost:8080/"
        },
        "id": "wYZ7uzsxncJi",
        "outputId": "a23f5c04-88a6-419c-b986-df6e961db9b6",
        "scrolled": true
      },
      "outputs": [
        {
          "name": "stdout",
          "output_type": "stream",
          "text": [
            "El Real Madrid lo tiene difícil para ganar al Manchester City. vs El Barcelona puede clasificar frente al PSG, si se esfuerza. [[0.82780886]] 1.058024\n",
            "El Real Madrid lo tiene difícil para ganar al Manchester City. vs Las tropas rusas han tomado Dubroknic. [[0.5830585]] 1.505526\n",
            "El Real Madrid lo tiene difícil para ganar al Manchester City. vs El ejercito ucraniano se ha replegado [[0.6408398]] 1.4179276\n",
            "El Barcelona puede clasificar frente al PSG, si se esfuerza. vs Las tropas rusas han tomado Dubroknic. [[0.60794]] 1.3915229\n",
            "El Barcelona puede clasificar frente al PSG, si se esfuerza. vs El ejercito ucraniano se ha replegado [[0.7498946]] 1.1573553\n",
            "Las tropas rusas han tomado Dubroknic. vs El ejercito ucraniano se ha replegado [[0.5510596]] 1.1434852\n"
          ]
        }
      ],
      "source": [
        "from sklearn.metrics.pairwise import cosine_similarity\n",
        "from itertools import combinations\n",
        "\n",
        "for (frase1,vec1),(frase2,vec2) in combinations(zip(sentences,sentence_embeddings.numpy()), r = 2):\n",
        "    print(frase1,\"vs\",frase2, cosine_similarity([vec1],[vec2]), np.linalg.norm(vec1-vec2))"
      ]
    },
    {
      "cell_type": "markdown",
      "metadata": {
        "id": "TP1EhY7GncJj"
      },
      "source": [
        "Con el coseno tendríamos algún problema con la distancia quedan mejor emparejadas."
      ]
    },
    {
      "cell_type": "code",
      "execution_count": 10,
      "metadata": {
        "colab": {
          "base_uri": "https://localhost:8080/"
        },
        "id": "39zhUJ1yncJj",
        "outputId": "821c2177-626e-4931-f674-def05a3f2003"
      },
      "outputs": [
        {
          "name": "stdout",
          "output_type": "stream",
          "text": [
            "P:¿Contra quién juega el Barcelona?\n",
            "R:El Barcelona puede clasificar frente al PSG, si se esfuerza.\n"
          ]
        }
      ],
      "source": [
        "question  = \"¿Contra quién juega el Barcelona?\"\n",
        "pregunta = hub_layer(tf.constant([question]))\n",
        "vec_q = pregunta.numpy()\n",
        "distancias = []\n",
        "respuestas = []\n",
        "for answer,vec_a in zip(sentences,sentence_embeddings.numpy()):\n",
        "    respuestas.append(answer)\n",
        "    distancias.append(np.linalg.norm(vec_q-vec_a))\n",
        "print(f\"P:{question}\")\n",
        "print(f\"R:{respuestas[np.argmin(distancias)]}\")"
      ]
    },
    {
      "cell_type": "code",
      "execution_count": 11,
      "metadata": {
        "colab": {
          "base_uri": "https://localhost:8080/"
        },
        "id": "kxznFLCgncJj",
        "outputId": "871422b6-8b93-4b35-8164-1e532bcb006f"
      },
      "outputs": [
        {
          "name": "stdout",
          "output_type": "stream",
          "text": [
            "P:¿Qué hacen los ucranianos?\n",
            "R:El ejercito ucraniano se ha replegado\n"
          ]
        }
      ],
      "source": [
        "question  = \"¿Qué hacen los ucranianos?\"\n",
        "pregunta = hub_layer(tf.constant([question]))\n",
        "vec_q = pregunta.numpy()\n",
        "distancias = []\n",
        "respuestas = []\n",
        "for answer,vec_a in zip(sentences,sentence_embeddings.numpy()):\n",
        "    respuestas.append(answer)\n",
        "    distancias.append(np.linalg.norm(vec_q-vec_a))\n",
        "print(f\"P:{question}\")\n",
        "print(f\"R:{respuestas[np.argmin(distancias)]}\")"
      ]
    },
    {
      "cell_type": "code",
      "execution_count": 12,
      "metadata": {
        "colab": {
          "base_uri": "https://localhost:8080/"
        },
        "id": "Yr390r2qncJj",
        "outputId": "ed4c9599-5fe9-4539-96ca-33f3c7fa9af7"
      },
      "outputs": [
        {
          "name": "stdout",
          "output_type": "stream",
          "text": [
            "P:¿Qué han pasado en Dubrocnick?\n",
            "R:Las tropas rusas han tomado Dubroknic.\n"
          ]
        }
      ],
      "source": [
        "question  = \"¿Qué han pasado en Dubrocnick?\"\n",
        "pregunta = hub_layer(tf.constant([question]))\n",
        "vec_q = pregunta.numpy()\n",
        "distancias = []\n",
        "respuestas = []\n",
        "for answer,vec_a in zip(sentences,sentence_embeddings.numpy()):\n",
        "    respuestas.append(answer)\n",
        "    distancias.append(np.linalg.norm(vec_q-vec_a))\n",
        "print(f\"P:{question}\")\n",
        "print(f\"R:{respuestas[np.argmin(distancias)]}\")"
      ]
    },
    {
      "cell_type": "code",
      "execution_count": 12,
      "metadata": {
        "id": "bdYv5T6fncJj"
      },
      "outputs": [],
      "source": []
    }
  ],
  "metadata": {
    "colab": {
      "provenance": []
    },
    "kernelspec": {
      "display_name": "Python 3 (ipykernel)",
      "language": "python",
      "name": "python3"
    },
    "language_info": {
      "codemirror_mode": {
        "name": "ipython",
        "version": 3
      },
      "file_extension": ".py",
      "mimetype": "text/x-python",
      "name": "python",
      "nbconvert_exporter": "python",
      "pygments_lexer": "ipython3",
      "version": "3.11.9"
    }
  },
  "nbformat": 4,
  "nbformat_minor": 0
}
