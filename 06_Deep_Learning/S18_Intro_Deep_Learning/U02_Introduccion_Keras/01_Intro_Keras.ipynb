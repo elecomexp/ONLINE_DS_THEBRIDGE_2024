{
  "cells": [
    {
      "cell_type": "markdown",
      "metadata": {
        "id": "dIEDxgwE_syI"
      },
      "source": [
        "![image.png](attachment:image.png)"
      ]
    },
    {
      "cell_type": "markdown",
      "metadata": {
        "id": "rhqKAR-n_syK"
      },
      "source": [
        "# Tutorial introductorio a Keras\n",
        "\n",
        "![image.png](attachment:27532ecc-9c2b-4709-9f1c-c8adcbc76dbf.png)\n",
        "\n",
        "En el mundo del DL en Python hay dos grandes frameworks (es decir librerías que han crecido como para ser algo más que conjuntos de módulos y funciones): TensorFlow (Google) y Pytorch (Meta). Ambos son superpotentes y son un mix entre numpy triple plus y sklearn para iniciados. Son muy flexibles y tienen muchas funcionalidades... El precio, el de siempre, complejas, necesitan una curva de aprendizaje alto, un manejo de matrices y tensores fluido, etc, etc Para simplificar la vida del Data Science aparece Keras como recubrimiento de TensorFlow y con el tiempo se relacionan tanto que TensorFlow absorbe Keras y ahora es parte de TensorFlow, pero no por ello ha perdido esa magia de ofrecernos DL a un esfuerzo considerablmente menor que con TensorFlow.\n",
        "\n",
        "¿Qué vamos a ver nosotros? Un manejo relativamente introductorio pero con bastantes posibilidades. Pero aquí te dejo la documentación para que profundices si te interesa el tema porque es realmente un gran framework o un gran recubrimiento:\n",
        "\n",
        "[Documentación](https://keras.io/guides/)"
      ]
    },
    {
      "cell_type": "markdown",
      "metadata": {
        "id": "2R_evLf9_syK"
      },
      "source": [
        "Empezamos importando librerías\n",
        "\n",
        "**IMPORTANTE** Ejecutaremos TensorFlow desde Google Colab"
      ]
    },
    {
      "cell_type": "markdown",
      "metadata": {
        "id": "z29qJDDK_syL"
      },
      "source": [
        "### Carga de Datos (con train y test split incluido)"
      ]
    },
    {
      "cell_type": "code",
      "execution_count": 2,
      "metadata": {
        "id": "WJM8bw1W_syL"
      },
      "outputs": [],
      "source": [
        "import tensorflow as tf\n",
        "from tensorflow import keras\n",
        "from tensorflow.keras import layers\n",
        "\n",
        "import matplotlib.pyplot as plt\n",
        "import numpy as np\n",
        "import pandas as pd\n"
      ]
    },
    {
      "cell_type": "markdown",
      "metadata": {
        "id": "XV3oYOJH_syL"
      },
      "source": [
        "Para ver cómo usar Keras y repasar algunos conceptos de DL y la forma de trabajar con él, vamos a crearnos un modelo de clasificación de imágenes con redes densas (o perceptrones multicapa), es decir con capas ocultas totalmente conectadas. Eso nos permitirá ir conociendo cómo hacerlo con Keras y diferentes opciones del mismo. Empecemos con los datos."
      ]
    },
    {
      "cell_type": "markdown",
      "metadata": {
        "id": "jFUkzprN_syM"
      },
      "source": [
        "Cargamos los datos de mnist, el dataset de números \"a mano\" más famoso de la esfera del DataScience. Y como todavía no hemos vistos las redes que pueden trabajar con las imagenes en 2D, haremos la vectorización de las imágenes que hemos practicado otras veces. Es decir, todos los pixeles se convertirán en un vector de 28x28 features independientes, que serán las entradas del modelo."
      ]
    },
    {
      "cell_type": "code",
      "execution_count": 3,
      "metadata": {
        "colab": {
          "base_uri": "https://localhost:8080/"
        },
        "id": "cVk2uCde_syM",
        "outputId": "5f0d636d-3836-4dda-aeea-4beadcdd7803"
      },
      "outputs": [
        {
          "output_type": "stream",
          "name": "stdout",
          "text": [
            "Downloading data from https://storage.googleapis.com/tensorflow/tf-keras-datasets/mnist.npz\n",
            "\u001b[1m11490434/11490434\u001b[0m \u001b[32m━━━━━━━━━━━━━━━━━━━━\u001b[0m\u001b[37m\u001b[0m \u001b[1m0s\u001b[0m 0us/step\n"
          ]
        }
      ],
      "source": [
        "# Cogemos las imágenes de los dígitos asi como el conjunto de train y test\n",
        "(X_train, y_train), (X_test, y_test) = keras.datasets.mnist.load_data()"
      ]
    },
    {
      "cell_type": "markdown",
      "metadata": {
        "id": "uDNXQclQ_syM"
      },
      "source": [
        "Vemos dimensiones del dataset"
      ]
    },
    {
      "cell_type": "code",
      "execution_count": 4,
      "metadata": {
        "colab": {
          "base_uri": "https://localhost:8080/"
        },
        "id": "J0C9-Qsv_syM",
        "outputId": "d03ed387-6aba-4564-e352-f90424cece60"
      },
      "outputs": [
        {
          "output_type": "stream",
          "name": "stdout",
          "text": [
            "(60000, 28, 28)\n",
            "(60000,)\n",
            "(10000, 28, 28)\n",
            "(10000,)\n"
          ]
        }
      ],
      "source": [
        "'''\n",
        "60.000 imagenes de 28x28 pixeles\n",
        "'''\n",
        "print(X_train.shape)\n",
        "print(y_train.shape)\n",
        "print(X_test.shape)\n",
        "print(y_test.shape)"
      ]
    },
    {
      "cell_type": "code",
      "execution_count": 5,
      "metadata": {
        "colab": {
          "base_uri": "https://localhost:8080/"
        },
        "id": "PAQrtMdu_syM",
        "outputId": "e58c321d-a7c8-44d5-fc90-fda516672487"
      },
      "outputs": [
        {
          "output_type": "execute_result",
          "data": {
            "text/plain": [
              "47040000"
            ]
          },
          "metadata": {},
          "execution_count": 5
        }
      ],
      "source": [
        "X_train.size"
      ]
    },
    {
      "cell_type": "code",
      "execution_count": 6,
      "metadata": {
        "colab": {
          "base_uri": "https://localhost:8080/",
          "height": 69
        },
        "id": "fR9tBP2g_syN",
        "outputId": "587e023e-09b5-49b1-dcdf-806e85e034d8"
      },
      "outputs": [
        {
          "output_type": "execute_result",
          "data": {
            "text/plain": [
              "array([[  0,   0,   0,   0,   0,   0,   0,   0,   0,   0,   0,   0,   0,\n",
              "          0,   0,   0,   0,   0,   0,   0,   0,   0,   0,   0,   0,   0,\n",
              "          0,   0],\n",
              "       [  0,   0,   0,   0,   0,   0,   0,   0,   0,   0,   0,   0,   0,\n",
              "          0,   0,   0,   0,   0,   0,   0,   0,   0,   0,   0,   0,   0,\n",
              "          0,   0],\n",
              "       [  0,   0,   0,   0,   0,   0,   0,   0,   0,   0,   0,   0,   0,\n",
              "          0,   0,   0,   0,   0,   0,   0,   0,   0,   0,   0,   0,   0,\n",
              "          0,   0],\n",
              "       [  0,   0,   0,   0,   0,   0,   0,   0,   0,   0,   0,   0,   0,\n",
              "          0,   0,   0,   0,   0,   0,   0,   0,   0,   0,   0,   0,   0,\n",
              "          0,   0],\n",
              "       [  0,   0,   0,   0,   0,   0,   0,   0,   0,   0,   0,   0,   0,\n",
              "          0,   0,   0,   0,   0,   0,   0,   0,   0,   0,   0,   0,   0,\n",
              "          0,   0],\n",
              "       [  0,   0,   0,   0,   0,   0,   0,   0,   0,   0,   0,   0,   3,\n",
              "         18,  18,  18, 126, 136, 175,  26, 166, 255, 247, 127,   0,   0,\n",
              "          0,   0],\n",
              "       [  0,   0,   0,   0,   0,   0,   0,   0,  30,  36,  94, 154, 170,\n",
              "        253, 253, 253, 253, 253, 225, 172, 253, 242, 195,  64,   0,   0,\n",
              "          0,   0],\n",
              "       [  0,   0,   0,   0,   0,   0,   0,  49, 238, 253, 253, 253, 253,\n",
              "        253, 253, 253, 253, 251,  93,  82,  82,  56,  39,   0,   0,   0,\n",
              "          0,   0],\n",
              "       [  0,   0,   0,   0,   0,   0,   0,  18, 219, 253, 253, 253, 253,\n",
              "        253, 198, 182, 247, 241,   0,   0,   0,   0,   0,   0,   0,   0,\n",
              "          0,   0],\n",
              "       [  0,   0,   0,   0,   0,   0,   0,   0,  80, 156, 107, 253, 253,\n",
              "        205,  11,   0,  43, 154,   0,   0,   0,   0,   0,   0,   0,   0,\n",
              "          0,   0],\n",
              "       [  0,   0,   0,   0,   0,   0,   0,   0,   0,  14,   1, 154, 253,\n",
              "         90,   0,   0,   0,   0,   0,   0,   0,   0,   0,   0,   0,   0,\n",
              "          0,   0],\n",
              "       [  0,   0,   0,   0,   0,   0,   0,   0,   0,   0,   0, 139, 253,\n",
              "        190,   2,   0,   0,   0,   0,   0,   0,   0,   0,   0,   0,   0,\n",
              "          0,   0],\n",
              "       [  0,   0,   0,   0,   0,   0,   0,   0,   0,   0,   0,  11, 190,\n",
              "        253,  70,   0,   0,   0,   0,   0,   0,   0,   0,   0,   0,   0,\n",
              "          0,   0],\n",
              "       [  0,   0,   0,   0,   0,   0,   0,   0,   0,   0,   0,   0,  35,\n",
              "        241, 225, 160, 108,   1,   0,   0,   0,   0,   0,   0,   0,   0,\n",
              "          0,   0],\n",
              "       [  0,   0,   0,   0,   0,   0,   0,   0,   0,   0,   0,   0,   0,\n",
              "         81, 240, 253, 253, 119,  25,   0,   0,   0,   0,   0,   0,   0,\n",
              "          0,   0],\n",
              "       [  0,   0,   0,   0,   0,   0,   0,   0,   0,   0,   0,   0,   0,\n",
              "          0,  45, 186, 253, 253, 150,  27,   0,   0,   0,   0,   0,   0,\n",
              "          0,   0],\n",
              "       [  0,   0,   0,   0,   0,   0,   0,   0,   0,   0,   0,   0,   0,\n",
              "          0,   0,  16,  93, 252, 253, 187,   0,   0,   0,   0,   0,   0,\n",
              "          0,   0],\n",
              "       [  0,   0,   0,   0,   0,   0,   0,   0,   0,   0,   0,   0,   0,\n",
              "          0,   0,   0,   0, 249, 253, 249,  64,   0,   0,   0,   0,   0,\n",
              "          0,   0],\n",
              "       [  0,   0,   0,   0,   0,   0,   0,   0,   0,   0,   0,   0,   0,\n",
              "          0,  46, 130, 183, 253, 253, 207,   2,   0,   0,   0,   0,   0,\n",
              "          0,   0],\n",
              "       [  0,   0,   0,   0,   0,   0,   0,   0,   0,   0,   0,   0,  39,\n",
              "        148, 229, 253, 253, 253, 250, 182,   0,   0,   0,   0,   0,   0,\n",
              "          0,   0],\n",
              "       [  0,   0,   0,   0,   0,   0,   0,   0,   0,   0,  24, 114, 221,\n",
              "        253, 253, 253, 253, 201,  78,   0,   0,   0,   0,   0,   0,   0,\n",
              "          0,   0],\n",
              "       [  0,   0,   0,   0,   0,   0,   0,   0,  23,  66, 213, 253, 253,\n",
              "        253, 253, 198,  81,   2,   0,   0,   0,   0,   0,   0,   0,   0,\n",
              "          0,   0],\n",
              "       [  0,   0,   0,   0,   0,   0,  18, 171, 219, 253, 253, 253, 253,\n",
              "        195,  80,   9,   0,   0,   0,   0,   0,   0,   0,   0,   0,   0,\n",
              "          0,   0],\n",
              "       [  0,   0,   0,   0,  55, 172, 226, 253, 253, 253, 253, 244, 133,\n",
              "         11,   0,   0,   0,   0,   0,   0,   0,   0,   0,   0,   0,   0,\n",
              "          0,   0],\n",
              "       [  0,   0,   0,   0, 136, 253, 253, 253, 212, 135, 132,  16,   0,\n",
              "          0,   0,   0,   0,   0,   0,   0,   0,   0,   0,   0,   0,   0,\n",
              "          0,   0],\n",
              "       [  0,   0,   0,   0,   0,   0,   0,   0,   0,   0,   0,   0,   0,\n",
              "          0,   0,   0,   0,   0,   0,   0,   0,   0,   0,   0,   0,   0,\n",
              "          0,   0],\n",
              "       [  0,   0,   0,   0,   0,   0,   0,   0,   0,   0,   0,   0,   0,\n",
              "          0,   0,   0,   0,   0,   0,   0,   0,   0,   0,   0,   0,   0,\n",
              "          0,   0],\n",
              "       [  0,   0,   0,   0,   0,   0,   0,   0,   0,   0,   0,   0,   0,\n",
              "          0,   0,   0,   0,   0,   0,   0,   0,   0,   0,   0,   0,   0,\n",
              "          0,   0]], dtype=uint8)"
            ],
            "text/html": [
              "<style>\n",
              "      .ndarray_repr .ndarray_raw_data {\n",
              "        display: none;\n",
              "      }\n",
              "      .ndarray_repr.show_array .ndarray_raw_data {\n",
              "        display: block;\n",
              "      }\n",
              "      .ndarray_repr.show_array .ndarray_image_preview {\n",
              "        display: none;\n",
              "      }\n",
              "      </style>\n",
              "      <div id=\"id-923d2a9f-b20f-484b-a52a-d375b6d281b0\" class=\"ndarray_repr\"><pre>ndarray (28, 28) <button style=\"padding: 0 2px;\">show data</button></pre><img src=\"data:image/png;base64,iVBORw0KGgoAAAANSUhEUgAAABwAAAAcCAAAAABXZoBIAAABAElEQVR4nGNgGMyAWUhIqK5jvdSy/9/rGRgYGFhgEnJsVjYCwQwMDAxPJgV+vniQgYGBgREqZ7iXH8r6l/SV4dn7m8gmCt3++/fv37/Htn3/iMW+gDnZf/+e5WbQnoXNNXyMs/5GoQoxwVmf/n9kSGFiwAW49/11wynJoPzx4YIcRlyygR/+/i2XxCWru+vv32nSuGQFYv/83Y3b4p9/fzpAmSyoMnohpiwM1w5h06Q+5enfv39/bcMiJVF09+/fv39P+mFKiTtd/fv3799jgZiBJLT69t+/f/8eDuDEkDJf8+jv379/v7Ryo4qzMDAwMAQGMjBc3/y35wM2V1IfAABFF16Aa0wAOwAAAABJRU5ErkJggg==\" class=\"ndarray_image_preview\" /><pre class=\"ndarray_raw_data\">array([[  0,   0,   0,   0,   0,   0,   0,   0,   0,   0,   0,   0,   0,\n",
              "          0,   0,   0,   0,   0,   0,   0,   0,   0,   0,   0,   0,   0,\n",
              "          0,   0],\n",
              "       [  0,   0,   0,   0,   0,   0,   0,   0,   0,   0,   0,   0,   0,\n",
              "          0,   0,   0,   0,   0,   0,   0,   0,   0,   0,   0,   0,   0,\n",
              "          0,   0],\n",
              "       [  0,   0,   0,   0,   0,   0,   0,   0,   0,   0,   0,   0,   0,\n",
              "          0,   0,   0,   0,   0,   0,   0,   0,   0,   0,   0,   0,   0,\n",
              "          0,   0],\n",
              "       [  0,   0,   0,   0,   0,   0,   0,   0,   0,   0,   0,   0,   0,\n",
              "          0,   0,   0,   0,   0,   0,   0,   0,   0,   0,   0,   0,   0,\n",
              "          0,   0],\n",
              "       [  0,   0,   0,   0,   0,   0,   0,   0,   0,   0,   0,   0,   0,\n",
              "          0,   0,   0,   0,   0,   0,   0,   0,   0,   0,   0,   0,   0,\n",
              "          0,   0],\n",
              "       [  0,   0,   0,   0,   0,   0,   0,   0,   0,   0,   0,   0,   3,\n",
              "         18,  18,  18, 126, 136, 175,  26, 166, 255, 247, 127,   0,   0,\n",
              "          0,   0],\n",
              "       [  0,   0,   0,   0,   0,   0,   0,   0,  30,  36,  94, 154, 170,\n",
              "        253, 253, 253, 253, 253, 225, 172, 253, 242, 195,  64,   0,   0,\n",
              "          0,   0],\n",
              "       [  0,   0,   0,   0,   0,   0,   0,  49, 238, 253, 253, 253, 253,\n",
              "        253, 253, 253, 253, 251,  93,  82,  82,  56,  39,   0,   0,   0,\n",
              "          0,   0],\n",
              "       [  0,   0,   0,   0,   0,   0,   0,  18, 219, 253, 253, 253, 253,\n",
              "        253, 198, 182, 247, 241,   0,   0,   0,   0,   0,   0,   0,   0,\n",
              "          0,   0],\n",
              "       [  0,   0,   0,   0,   0,   0,   0,   0,  80, 156, 107, 253, 253,\n",
              "        205,  11,   0,  43, 154,   0,   0,   0,   0,   0,   0,   0,   0,\n",
              "          0,   0],\n",
              "       [  0,   0,   0,   0,   0,   0,   0,   0,   0,  14,   1, 154, 253,\n",
              "         90,   0,   0,   0,   0,   0,   0,   0,   0,   0,   0,   0,   0,\n",
              "          0,   0],\n",
              "       [  0,   0,   0,   0,   0,   0,   0,   0,   0,   0,   0, 139, 253,\n",
              "        190,   2,   0,   0,   0,   0,   0,   0,   0,   0,   0,   0,   0,\n",
              "          0,   0],\n",
              "       [  0,   0,   0,   0,   0,   0,   0,   0,   0,   0,   0,  11, 190,\n",
              "        253,  70,   0,   0,   0,   0,   0,   0,   0,   0,   0,   0,   0,\n",
              "          0,   0],\n",
              "       [  0,   0,   0,   0,   0,   0,   0,   0,   0,   0,   0,   0,  35,\n",
              "        241, 225, 160, 108,   1,   0,   0,   0,   0,   0,   0,   0,   0,\n",
              "          0,   0],\n",
              "       [  0,   0,   0,   0,   0,   0,   0,   0,   0,   0,   0,   0,   0,\n",
              "         81, 240, 253, 253, 119,  25,   0,   0,   0,   0,   0,   0,   0,\n",
              "          0,   0],\n",
              "       [  0,   0,   0,   0,   0,   0,   0,   0,   0,   0,   0,   0,   0,\n",
              "          0,  45, 186, 253, 253, 150,  27,   0,   0,   0,   0,   0,   0,\n",
              "          0,   0],\n",
              "       [  0,   0,   0,   0,   0,   0,   0,   0,   0,   0,   0,   0,   0,\n",
              "          0,   0,  16,  93, 252, 253, 187,   0,   0,   0,   0,   0,   0,\n",
              "          0,   0],\n",
              "       [  0,   0,   0,   0,   0,   0,   0,   0,   0,   0,   0,   0,   0,\n",
              "          0,   0,   0,   0, 249, 253, 249,  64,   0,   0,   0,   0,   0,\n",
              "          0,   0],\n",
              "       [  0,   0,   0,   0,   0,   0,   0,   0,   0,   0,   0,   0,   0,\n",
              "          0,  46, 130, 183, 253, 253, 207,   2,   0,   0,   0,   0,   0,\n",
              "          0,   0],\n",
              "       [  0,   0,   0,   0,   0,   0,   0,   0,   0,   0,   0,   0,  39,\n",
              "        148, 229, 253, 253, 253, 250, 182,   0,   0,   0,   0,   0,   0,\n",
              "          0,   0],\n",
              "       [  0,   0,   0,   0,   0,   0,   0,   0,   0,   0,  24, 114, 221,\n",
              "        253, 253, 253, 253, 201,  78,   0,   0,   0,   0,   0,   0,   0,\n",
              "          0,   0],\n",
              "       [  0,   0,   0,   0,   0,   0,   0,   0,  23,  66, 213, 253, 253,\n",
              "        253, 253, 198,  81,   2,   0,   0,   0,   0,   0,   0,   0,   0,\n",
              "          0,   0],\n",
              "       [  0,   0,   0,   0,   0,   0,  18, 171, 219, 253, 253, 253, 253,\n",
              "        195,  80,   9,   0,   0,   0,   0,   0,   0,   0,   0,   0,   0,\n",
              "          0,   0],\n",
              "       [  0,   0,   0,   0,  55, 172, 226, 253, 253, 253, 253, 244, 133,\n",
              "         11,   0,   0,   0,   0,   0,   0,   0,   0,   0,   0,   0,   0,\n",
              "          0,   0],\n",
              "       [  0,   0,   0,   0, 136, 253, 253, 253, 212, 135, 132,  16,   0,\n",
              "          0,   0,   0,   0,   0,   0,   0,   0,   0,   0,   0,   0,   0,\n",
              "          0,   0],\n",
              "       [  0,   0,   0,   0,   0,   0,   0,   0,   0,   0,   0,   0,   0,\n",
              "          0,   0,   0,   0,   0,   0,   0,   0,   0,   0,   0,   0,   0,\n",
              "          0,   0],\n",
              "       [  0,   0,   0,   0,   0,   0,   0,   0,   0,   0,   0,   0,   0,\n",
              "          0,   0,   0,   0,   0,   0,   0,   0,   0,   0,   0,   0,   0,\n",
              "          0,   0],\n",
              "       [  0,   0,   0,   0,   0,   0,   0,   0,   0,   0,   0,   0,   0,\n",
              "          0,   0,   0,   0,   0,   0,   0,   0,   0,   0,   0,   0,   0,\n",
              "          0,   0]], dtype=uint8)</pre></div><script>\n",
              "      (() => {\n",
              "      const titles = ['show data', 'hide data'];\n",
              "      let index = 0\n",
              "      document.querySelector('#id-923d2a9f-b20f-484b-a52a-d375b6d281b0 button').onclick = (e) => {\n",
              "        document.querySelector('#id-923d2a9f-b20f-484b-a52a-d375b6d281b0').classList.toggle('show_array');\n",
              "        index = (++index) % 2;\n",
              "        document.querySelector('#id-923d2a9f-b20f-484b-a52a-d375b6d281b0 button').textContent = titles[index];\n",
              "        e.preventDefault();\n",
              "        e.stopPropagation();\n",
              "      }\n",
              "      })();\n",
              "    </script>"
            ]
          },
          "metadata": {},
          "execution_count": 6
        }
      ],
      "source": [
        "X_train[0]"
      ]
    },
    {
      "cell_type": "markdown",
      "metadata": {
        "id": "HeHnZmR9_syN"
      },
      "source": [
        "60.000 imágenes de 28x28 pixeles. Vamos a representar una de ellas"
      ]
    },
    {
      "cell_type": "code",
      "execution_count": 7,
      "metadata": {
        "colab": {
          "base_uri": "https://localhost:8080/",
          "height": 430
        },
        "id": "TPsvPO4L_syN",
        "outputId": "a9344399-516f-48b8-cba4-21ab4ad6317d"
      },
      "outputs": [
        {
          "output_type": "display_data",
          "data": {
            "text/plain": [
              "<Figure size 640x480 with 1 Axes>"
            ],
            "image/png": "[encoded data removed]"
          },
          "metadata": {}
        }
      ],
      "source": [
        "plt.imshow(X_train[0], cmap='Greys');"
      ]
    },
    {
      "cell_type": "code",
      "execution_count": 8,
      "metadata": {
        "colab": {
          "base_uri": "https://localhost:8080/"
        },
        "id": "HStKoSiM_syN",
        "outputId": "fa3b56a3-9e91-4a1b-8663-b8a5793dec66"
      },
      "outputs": [
        {
          "output_type": "execute_result",
          "data": {
            "text/plain": [
              "5"
            ]
          },
          "metadata": {},
          "execution_count": 8
        }
      ],
      "source": [
        "y_train[0]"
      ]
    },
    {
      "cell_type": "code",
      "execution_count": 9,
      "metadata": {
        "colab": {
          "base_uri": "https://localhost:8080/"
        },
        "id": "DoVXCc3T_syN",
        "outputId": "56d711ed-f4a5-4e83-a489-0a0e9983fe8e"
      },
      "outputs": [
        {
          "output_type": "execute_result",
          "data": {
            "text/plain": [
              "246"
            ]
          },
          "metadata": {},
          "execution_count": 9
        }
      ],
      "source": [
        "X_train[25000,12,18]"
      ]
    },
    {
      "cell_type": "code",
      "execution_count": 10,
      "metadata": {
        "colab": {
          "base_uri": "https://localhost:8080/"
        },
        "id": "knrbt2t0_syN",
        "outputId": "1c8ae1c1-c6ee-42ed-9f73-6197b4f349d3"
      },
      "outputs": [
        {
          "output_type": "execute_result",
          "data": {
            "text/plain": [
              "(60000, 28, 28)"
            ]
          },
          "metadata": {},
          "execution_count": 10
        }
      ],
      "source": [
        "X_train.shape"
      ]
    },
    {
      "cell_type": "markdown",
      "metadata": {
        "id": "wswh1eoj_syN"
      },
      "source": [
        "### MiniEDA/Tratamiento de features"
      ]
    },
    {
      "cell_type": "markdown",
      "metadata": {
        "id": "kSvjgfmj_syO"
      },
      "source": [
        "Como \"buen\" miniEDA DL solo vamos a ver el target y a normalizar las features (¿recuerdas cómo nos fue con los pingüinos?)"
      ]
    },
    {
      "cell_type": "code",
      "execution_count": 11,
      "metadata": {
        "colab": {
          "base_uri": "https://localhost:8080/",
          "height": 397
        },
        "id": "dtXFkJkc_syO",
        "outputId": "b29c3a99-22ec-49f5-b0dc-6ec311738cee"
      },
      "outputs": [
        {
          "output_type": "execute_result",
          "data": {
            "text/plain": [
              "1    0.112367\n",
              "7    0.104417\n",
              "3    0.102183\n",
              "2    0.099300\n",
              "9    0.099150\n",
              "0    0.098717\n",
              "6    0.098633\n",
              "8    0.097517\n",
              "4    0.097367\n",
              "5    0.090350\n",
              "Name: proportion, dtype: float64"
            ],
            "text/html": [
              "<div>\n",
              "<style scoped>\n",
              "    .dataframe tbody tr th:only-of-type {\n",
              "        vertical-align: middle;\n",
              "    }\n",
              "\n",
              "    .dataframe tbody tr th {\n",
              "        vertical-align: top;\n",
              "    }\n",
              "\n",
              "    .dataframe thead th {\n",
              "        text-align: right;\n",
              "    }\n",
              "</style>\n",
              "<table border=\"1\" class=\"dataframe\">\n",
              "  <thead>\n",
              "    <tr style=\"text-align: right;\">\n",
              "      <th></th>\n",
              "      <th>proportion</th>\n",
              "    </tr>\n",
              "  </thead>\n",
              "  <tbody>\n",
              "    <tr>\n",
              "      <th>1</th>\n",
              "      <td>0.112367</td>\n",
              "    </tr>\n",
              "    <tr>\n",
              "      <th>7</th>\n",
              "      <td>0.104417</td>\n",
              "    </tr>\n",
              "    <tr>\n",
              "      <th>3</th>\n",
              "      <td>0.102183</td>\n",
              "    </tr>\n",
              "    <tr>\n",
              "      <th>2</th>\n",
              "      <td>0.099300</td>\n",
              "    </tr>\n",
              "    <tr>\n",
              "      <th>9</th>\n",
              "      <td>0.099150</td>\n",
              "    </tr>\n",
              "    <tr>\n",
              "      <th>0</th>\n",
              "      <td>0.098717</td>\n",
              "    </tr>\n",
              "    <tr>\n",
              "      <th>6</th>\n",
              "      <td>0.098633</td>\n",
              "    </tr>\n",
              "    <tr>\n",
              "      <th>8</th>\n",
              "      <td>0.097517</td>\n",
              "    </tr>\n",
              "    <tr>\n",
              "      <th>4</th>\n",
              "      <td>0.097367</td>\n",
              "    </tr>\n",
              "    <tr>\n",
              "      <th>5</th>\n",
              "      <td>0.090350</td>\n",
              "    </tr>\n",
              "  </tbody>\n",
              "</table>\n",
              "</div><br><label><b>dtype:</b> float64</label>"
            ]
          },
          "metadata": {},
          "execution_count": 11
        }
      ],
      "source": [
        "pd.Series(y_train).value_counts(normalize = True) # Un detalle interesante en DL es bastante normal tratar directamente con arrays de numpy y no con dataframes, mas si son imágenes"
      ]
    },
    {
      "cell_type": "markdown",
      "metadata": {
        "id": "3d93aq-A_syO"
      },
      "source": [
        "El dataset está bastante equilibrado (los modelos de DL admiten también el equivalente a class_weight para balancear), con una ligera deriva hacia el 1, el 7 y el 3"
      ]
    },
    {
      "cell_type": "markdown",
      "metadata": {
        "id": "FXuxmagX_syO"
      },
      "source": [
        "#### Escalado"
      ]
    },
    {
      "cell_type": "markdown",
      "metadata": {
        "id": "l_M6g1nP_syO"
      },
      "source": [
        "Podemos usar un MinMaxScaler o un StandardScaler, pero en este caso hay una forma muy directa, ya que los valores de escala de grises de las imágenes van entre 0 y 255, con lo que hacer un equivalente al MinMaxScaler es muy directa"
      ]
    },
    {
      "cell_type": "code",
      "execution_count": 12,
      "metadata": {
        "id": "2Js0Roj1_syO"
      },
      "outputs": [],
      "source": [
        "# Preprocess the data (these are NumPy arrays). Aplano a una dimension cada imagen.\n",
        "# Escalamos ya que vamos a usar gradient descent, y le afecta mucho la escala de las features.\n",
        "# Ejecutar esta celda solo una vez. Sino reescalará\n",
        "\n",
        "X_train = X_train.astype(\"float32\") / 255\n",
        "X_test = X_test.astype(\"float32\") / 255\n",
        "\n",
        "y_train = y_train.astype(\"float32\")\n",
        "y_test = y_test.astype(\"float32\")"
      ]
    },
    {
      "cell_type": "code",
      "execution_count": 13,
      "metadata": {
        "colab": {
          "base_uri": "https://localhost:8080/"
        },
        "id": "fx4Og_H0_syO",
        "outputId": "487a3fa5-5245-4e8a-dc2a-3ea673f05080"
      },
      "outputs": [
        {
          "output_type": "execute_result",
          "data": {
            "text/plain": [
              "array([[0.        , 0.        , 0.        , 0.        , 0.        ,\n",
              "        0.        , 0.        , 0.        , 0.        , 0.        ,\n",
              "        0.        , 0.        , 0.        , 0.        , 0.        ,\n",
              "        0.        , 0.        , 0.        , 0.        , 0.        ,\n",
              "        0.        , 0.        , 0.        , 0.        , 0.        ,\n",
              "        0.        , 0.        , 0.        ],\n",
              "       [0.        , 0.        , 0.        , 0.        , 0.        ,\n",
              "        0.        , 0.        , 0.        , 0.        , 0.        ,\n",
              "        0.        , 0.        , 0.        , 0.        , 0.        ,\n",
              "        0.        , 0.        , 0.        , 0.        , 0.        ,\n",
              "        0.        , 0.        , 0.        , 0.        , 0.        ,\n",
              "        0.        , 0.        , 0.        ],\n",
              "       [0.        , 0.        , 0.        , 0.        , 0.        ,\n",
              "        0.        , 0.        , 0.        , 0.        , 0.        ,\n",
              "        0.        , 0.        , 0.        , 0.        , 0.        ,\n",
              "        0.        , 0.        , 0.        , 0.        , 0.        ,\n",
              "        0.        , 0.        , 0.        , 0.        , 0.        ,\n",
              "        0.        , 0.        , 0.        ],\n",
              "       [0.        , 0.        , 0.        , 0.        , 0.        ,\n",
              "        0.        , 0.        , 0.        , 0.        , 0.        ,\n",
              "        0.        , 0.        , 0.        , 0.        , 0.        ,\n",
              "        0.        , 0.        , 0.        , 0.        , 0.        ,\n",
              "        0.        , 0.        , 0.        , 0.        , 0.        ,\n",
              "        0.        , 0.        , 0.        ],\n",
              "       [0.        , 0.        , 0.        , 0.        , 0.        ,\n",
              "        0.        , 0.        , 0.        , 0.        , 0.        ,\n",
              "        0.        , 0.        , 0.        , 0.        , 0.        ,\n",
              "        0.        , 0.        , 0.        , 0.        , 0.        ,\n",
              "        0.        , 0.        , 0.        , 0.        , 0.        ,\n",
              "        0.        , 0.        , 0.        ],\n",
              "       [0.        , 0.        , 0.        , 0.        , 0.        ,\n",
              "        0.        , 0.        , 0.        , 0.        , 0.        ,\n",
              "        0.        , 0.        , 0.01176471, 0.07058824, 0.07058824,\n",
              "        0.07058824, 0.49411765, 0.53333336, 0.6862745 , 0.10196079,\n",
              "        0.6509804 , 1.        , 0.96862745, 0.49803922, 0.        ,\n",
              "        0.        , 0.        , 0.        ],\n",
              "       [0.        , 0.        , 0.        , 0.        , 0.        ,\n",
              "        0.        , 0.        , 0.        , 0.11764706, 0.14117648,\n",
              "        0.36862746, 0.6039216 , 0.6666667 , 0.99215686, 0.99215686,\n",
              "        0.99215686, 0.99215686, 0.99215686, 0.88235295, 0.6745098 ,\n",
              "        0.99215686, 0.9490196 , 0.7647059 , 0.2509804 , 0.        ,\n",
              "        0.        , 0.        , 0.        ],\n",
              "       [0.        , 0.        , 0.        , 0.        , 0.        ,\n",
              "        0.        , 0.        , 0.19215687, 0.93333334, 0.99215686,\n",
              "        0.99215686, 0.99215686, 0.99215686, 0.99215686, 0.99215686,\n",
              "        0.99215686, 0.99215686, 0.9843137 , 0.3647059 , 0.32156864,\n",
              "        0.32156864, 0.21960784, 0.15294118, 0.        , 0.        ,\n",
              "        0.        , 0.        , 0.        ],\n",
              "       [0.        , 0.        , 0.        , 0.        , 0.        ,\n",
              "        0.        , 0.        , 0.07058824, 0.85882354, 0.99215686,\n",
              "        0.99215686, 0.99215686, 0.99215686, 0.99215686, 0.7764706 ,\n",
              "        0.7137255 , 0.96862745, 0.94509804, 0.        , 0.        ,\n",
              "        0.        , 0.        , 0.        , 0.        , 0.        ,\n",
              "        0.        , 0.        , 0.        ],\n",
              "       [0.        , 0.        , 0.        , 0.        , 0.        ,\n",
              "        0.        , 0.        , 0.        , 0.3137255 , 0.6117647 ,\n",
              "        0.41960785, 0.99215686, 0.99215686, 0.8039216 , 0.04313726,\n",
              "        0.        , 0.16862746, 0.6039216 , 0.        , 0.        ,\n",
              "        0.        , 0.        , 0.        , 0.        , 0.        ,\n",
              "        0.        , 0.        , 0.        ],\n",
              "       [0.        , 0.        , 0.        , 0.        , 0.        ,\n",
              "        0.        , 0.        , 0.        , 0.        , 0.05490196,\n",
              "        0.00392157, 0.6039216 , 0.99215686, 0.3529412 , 0.        ,\n",
              "        0.        , 0.        , 0.        , 0.        , 0.        ,\n",
              "        0.        , 0.        , 0.        , 0.        , 0.        ,\n",
              "        0.        , 0.        , 0.        ],\n",
              "       [0.        , 0.        , 0.        , 0.        , 0.        ,\n",
              "        0.        , 0.        , 0.        , 0.        , 0.        ,\n",
              "        0.        , 0.54509807, 0.99215686, 0.74509805, 0.00784314,\n",
              "        0.        , 0.        , 0.        , 0.        , 0.        ,\n",
              "        0.        , 0.        , 0.        , 0.        , 0.        ,\n",
              "        0.        , 0.        , 0.        ],\n",
              "       [0.        , 0.        , 0.        , 0.        , 0.        ,\n",
              "        0.        , 0.        , 0.        , 0.        , 0.        ,\n",
              "        0.        , 0.04313726, 0.74509805, 0.99215686, 0.27450982,\n",
              "        0.        , 0.        , 0.        , 0.        , 0.        ,\n",
              "        0.        , 0.        , 0.        , 0.        , 0.        ,\n",
              "        0.        , 0.        , 0.        ],\n",
              "       [0.        , 0.        , 0.        , 0.        , 0.        ,\n",
              "        0.        , 0.        , 0.        , 0.        , 0.        ,\n",
              "        0.        , 0.        , 0.13725491, 0.94509804, 0.88235295,\n",
              "        0.627451  , 0.42352942, 0.00392157, 0.        , 0.        ,\n",
              "        0.        , 0.        , 0.        , 0.        , 0.        ,\n",
              "        0.        , 0.        , 0.        ],\n",
              "       [0.        , 0.        , 0.        , 0.        , 0.        ,\n",
              "        0.        , 0.        , 0.        , 0.        , 0.        ,\n",
              "        0.        , 0.        , 0.        , 0.31764707, 0.9411765 ,\n",
              "        0.99215686, 0.99215686, 0.46666667, 0.09803922, 0.        ,\n",
              "        0.        , 0.        , 0.        , 0.        , 0.        ,\n",
              "        0.        , 0.        , 0.        ],\n",
              "       [0.        , 0.        , 0.        , 0.        , 0.        ,\n",
              "        0.        , 0.        , 0.        , 0.        , 0.        ,\n",
              "        0.        , 0.        , 0.        , 0.        , 0.1764706 ,\n",
              "        0.7294118 , 0.99215686, 0.99215686, 0.5882353 , 0.10588235,\n",
              "        0.        , 0.        , 0.        , 0.        , 0.        ,\n",
              "        0.        , 0.        , 0.        ],\n",
              "       [0.        , 0.        , 0.        , 0.        , 0.        ,\n",
              "        0.        , 0.        , 0.        , 0.        , 0.        ,\n",
              "        0.        , 0.        , 0.        , 0.        , 0.        ,\n",
              "        0.0627451 , 0.3647059 , 0.9882353 , 0.99215686, 0.73333335,\n",
              "        0.        , 0.        , 0.        , 0.        , 0.        ,\n",
              "        0.        , 0.        , 0.        ],\n",
              "       [0.        , 0.        , 0.        , 0.        , 0.        ,\n",
              "        0.        , 0.        , 0.        , 0.        , 0.        ,\n",
              "        0.        , 0.        , 0.        , 0.        , 0.        ,\n",
              "        0.        , 0.        , 0.9764706 , 0.99215686, 0.9764706 ,\n",
              "        0.2509804 , 0.        , 0.        , 0.        , 0.        ,\n",
              "        0.        , 0.        , 0.        ],\n",
              "       [0.        , 0.        , 0.        , 0.        , 0.        ,\n",
              "        0.        , 0.        , 0.        , 0.        , 0.        ,\n",
              "        0.        , 0.        , 0.        , 0.        , 0.18039216,\n",
              "        0.50980395, 0.7176471 , 0.99215686, 0.99215686, 0.8117647 ,\n",
              "        0.00784314, 0.        , 0.        , 0.        , 0.        ,\n",
              "        0.        , 0.        , 0.        ],\n",
              "       [0.        , 0.        , 0.        , 0.        , 0.        ,\n",
              "        0.        , 0.        , 0.        , 0.        , 0.        ,\n",
              "        0.        , 0.        , 0.15294118, 0.5803922 , 0.8980392 ,\n",
              "        0.99215686, 0.99215686, 0.99215686, 0.98039216, 0.7137255 ,\n",
              "        0.        , 0.        , 0.        , 0.        , 0.        ,\n",
              "        0.        , 0.        , 0.        ],\n",
              "       [0.        , 0.        , 0.        , 0.        , 0.        ,\n",
              "        0.        , 0.        , 0.        , 0.        , 0.        ,\n",
              "        0.09411765, 0.44705883, 0.8666667 , 0.99215686, 0.99215686,\n",
              "        0.99215686, 0.99215686, 0.7882353 , 0.30588236, 0.        ,\n",
              "        0.        , 0.        , 0.        , 0.        , 0.        ,\n",
              "        0.        , 0.        , 0.        ],\n",
              "       [0.        , 0.        , 0.        , 0.        , 0.        ,\n",
              "        0.        , 0.        , 0.        , 0.09019608, 0.25882354,\n",
              "        0.8352941 , 0.99215686, 0.99215686, 0.99215686, 0.99215686,\n",
              "        0.7764706 , 0.31764707, 0.00784314, 0.        , 0.        ,\n",
              "        0.        , 0.        , 0.        , 0.        , 0.        ,\n",
              "        0.        , 0.        , 0.        ],\n",
              "       [0.        , 0.        , 0.        , 0.        , 0.        ,\n",
              "        0.        , 0.07058824, 0.67058825, 0.85882354, 0.99215686,\n",
              "        0.99215686, 0.99215686, 0.99215686, 0.7647059 , 0.3137255 ,\n",
              "        0.03529412, 0.        , 0.        , 0.        , 0.        ,\n",
              "        0.        , 0.        , 0.        , 0.        , 0.        ,\n",
              "        0.        , 0.        , 0.        ],\n",
              "       [0.        , 0.        , 0.        , 0.        , 0.21568628,\n",
              "        0.6745098 , 0.8862745 , 0.99215686, 0.99215686, 0.99215686,\n",
              "        0.99215686, 0.95686275, 0.52156866, 0.04313726, 0.        ,\n",
              "        0.        , 0.        , 0.        , 0.        , 0.        ,\n",
              "        0.        , 0.        , 0.        , 0.        , 0.        ,\n",
              "        0.        , 0.        , 0.        ],\n",
              "       [0.        , 0.        , 0.        , 0.        , 0.53333336,\n",
              "        0.99215686, 0.99215686, 0.99215686, 0.83137256, 0.5294118 ,\n",
              "        0.5176471 , 0.0627451 , 0.        , 0.        , 0.        ,\n",
              "        0.        , 0.        , 0.        , 0.        , 0.        ,\n",
              "        0.        , 0.        , 0.        , 0.        , 0.        ,\n",
              "        0.        , 0.        , 0.        ],\n",
              "       [0.        , 0.        , 0.        , 0.        , 0.        ,\n",
              "        0.        , 0.        , 0.        , 0.        , 0.        ,\n",
              "        0.        , 0.        , 0.        , 0.        , 0.        ,\n",
              "        0.        , 0.        , 0.        , 0.        , 0.        ,\n",
              "        0.        , 0.        , 0.        , 0.        , 0.        ,\n",
              "        0.        , 0.        , 0.        ],\n",
              "       [0.        , 0.        , 0.        , 0.        , 0.        ,\n",
              "        0.        , 0.        , 0.        , 0.        , 0.        ,\n",
              "        0.        , 0.        , 0.        , 0.        , 0.        ,\n",
              "        0.        , 0.        , 0.        , 0.        , 0.        ,\n",
              "        0.        , 0.        , 0.        , 0.        , 0.        ,\n",
              "        0.        , 0.        , 0.        ],\n",
              "       [0.        , 0.        , 0.        , 0.        , 0.        ,\n",
              "        0.        , 0.        , 0.        , 0.        , 0.        ,\n",
              "        0.        , 0.        , 0.        , 0.        , 0.        ,\n",
              "        0.        , 0.        , 0.        , 0.        , 0.        ,\n",
              "        0.        , 0.        , 0.        , 0.        , 0.        ,\n",
              "        0.        , 0.        , 0.        ]], dtype=float32)"
            ]
          },
          "metadata": {},
          "execution_count": 13
        }
      ],
      "source": [
        "'''\n",
        "Comprobamos la normalización\n",
        "'''\n",
        "X_train[0]"
      ]
    },
    {
      "cell_type": "markdown",
      "metadata": {
        "id": "CDSnzQcC_syO"
      },
      "source": [
        "### ¿Y el Validation_set?"
      ]
    },
    {
      "cell_type": "markdown",
      "metadata": {
        "id": "RdnKn-Lo_syP"
      },
      "source": [
        "En el tratamiento de modelos de DL lo normal es no usar validación cruzada (en general porque no tendremos modelos \"alternativos\" al que estemos construyendo y también porque lo pesado de los entrenamientos hace costoso en tiempo poder usar esta forma de comparación). Lo que se suele hacer es tener un dataset de Validación. Para ello, ya que nos han dado los datasets separados, podemos \"cortar un trozo\" del train."
      ]
    },
    {
      "cell_type": "markdown",
      "metadata": {
        "id": "wAgZWfEz_syP"
      },
      "source": [
        "Guardamos datos para validación. Estos datos se usarán durante el entrenamiento. Otra opción es decirle a Keras en la etapa de entrenamiento que reserve un X % de los datos para validar (como argumento del método `fit`)."
      ]
    },
    {
      "cell_type": "code",
      "execution_count": 14,
      "metadata": {
        "colab": {
          "base_uri": "https://localhost:8080/"
        },
        "id": "Vo1sai_r_syP",
        "outputId": "e91c5286-6904-4219-a2e9-d3b9a020d0ad"
      },
      "outputs": [
        {
          "output_type": "stream",
          "name": "stdout",
          "text": [
            "[[[0. 0. 0. ... 0. 0. 0.]\n",
            "  [0. 0. 0. ... 0. 0. 0.]\n",
            "  [0. 0. 0. ... 0. 0. 0.]\n",
            "  ...\n",
            "  [0. 0. 0. ... 0. 0. 0.]\n",
            "  [0. 0. 0. ... 0. 0. 0.]\n",
            "  [0. 0. 0. ... 0. 0. 0.]]\n",
            "\n",
            " [[0. 0. 0. ... 0. 0. 0.]\n",
            "  [0. 0. 0. ... 0. 0. 0.]\n",
            "  [0. 0. 0. ... 0. 0. 0.]\n",
            "  ...\n",
            "  [0. 0. 0. ... 0. 0. 0.]\n",
            "  [0. 0. 0. ... 0. 0. 0.]\n",
            "  [0. 0. 0. ... 0. 0. 0.]]\n",
            "\n",
            " [[0. 0. 0. ... 0. 0. 0.]\n",
            "  [0. 0. 0. ... 0. 0. 0.]\n",
            "  [0. 0. 0. ... 0. 0. 0.]\n",
            "  ...\n",
            "  [0. 0. 0. ... 0. 0. 0.]\n",
            "  [0. 0. 0. ... 0. 0. 0.]\n",
            "  [0. 0. 0. ... 0. 0. 0.]]\n",
            "\n",
            " ...\n",
            "\n",
            " [[0. 0. 0. ... 0. 0. 0.]\n",
            "  [0. 0. 0. ... 0. 0. 0.]\n",
            "  [0. 0. 0. ... 0. 0. 0.]\n",
            "  ...\n",
            "  [0. 0. 0. ... 0. 0. 0.]\n",
            "  [0. 0. 0. ... 0. 0. 0.]\n",
            "  [0. 0. 0. ... 0. 0. 0.]]\n",
            "\n",
            " [[0. 0. 0. ... 0. 0. 0.]\n",
            "  [0. 0. 0. ... 0. 0. 0.]\n",
            "  [0. 0. 0. ... 0. 0. 0.]\n",
            "  ...\n",
            "  [0. 0. 0. ... 0. 0. 0.]\n",
            "  [0. 0. 0. ... 0. 0. 0.]\n",
            "  [0. 0. 0. ... 0. 0. 0.]]\n",
            "\n",
            " [[0. 0. 0. ... 0. 0. 0.]\n",
            "  [0. 0. 0. ... 0. 0. 0.]\n",
            "  [0. 0. 0. ... 0. 0. 0.]\n",
            "  ...\n",
            "  [0. 0. 0. ... 0. 0. 0.]\n",
            "  [0. 0. 0. ... 0. 0. 0.]\n",
            "  [0. 0. 0. ... 0. 0. 0.]]]\n"
          ]
        }
      ],
      "source": [
        "# Reserve 10,000 samples for validation. Entraran dentro del modelo para validar. No es validacion cruzada\n",
        "X_val = X_train[-10000:]\n",
        "y_val = y_train[-10000:]\n",
        "\n",
        "X_train = X_train[:-10000]\n",
        "y_train = y_train[:-10000]\n",
        "\n",
        "print(X_val)"
      ]
    },
    {
      "cell_type": "code",
      "execution_count": 15,
      "metadata": {
        "scrolled": true,
        "colab": {
          "base_uri": "https://localhost:8080/",
          "height": 397
        },
        "id": "TFCG6wmS_syP",
        "outputId": "ffb20704-f660-48d1-a5d7-154d1e6a9908"
      },
      "outputs": [
        {
          "output_type": "execute_result",
          "data": {
            "text/plain": [
              "7.0    0.1090\n",
              "1.0    0.1064\n",
              "3.0    0.1030\n",
              "8.0    0.1009\n",
              "0.0    0.0991\n",
              "2.0    0.0990\n",
              "4.0    0.0983\n",
              "6.0    0.0967\n",
              "9.0    0.0961\n",
              "5.0    0.0915\n",
              "Name: proportion, dtype: float64"
            ],
            "text/html": [
              "<div>\n",
              "<style scoped>\n",
              "    .dataframe tbody tr th:only-of-type {\n",
              "        vertical-align: middle;\n",
              "    }\n",
              "\n",
              "    .dataframe tbody tr th {\n",
              "        vertical-align: top;\n",
              "    }\n",
              "\n",
              "    .dataframe thead th {\n",
              "        text-align: right;\n",
              "    }\n",
              "</style>\n",
              "<table border=\"1\" class=\"dataframe\">\n",
              "  <thead>\n",
              "    <tr style=\"text-align: right;\">\n",
              "      <th></th>\n",
              "      <th>proportion</th>\n",
              "    </tr>\n",
              "  </thead>\n",
              "  <tbody>\n",
              "    <tr>\n",
              "      <th>7.0</th>\n",
              "      <td>0.1090</td>\n",
              "    </tr>\n",
              "    <tr>\n",
              "      <th>1.0</th>\n",
              "      <td>0.1064</td>\n",
              "    </tr>\n",
              "    <tr>\n",
              "      <th>3.0</th>\n",
              "      <td>0.1030</td>\n",
              "    </tr>\n",
              "    <tr>\n",
              "      <th>8.0</th>\n",
              "      <td>0.1009</td>\n",
              "    </tr>\n",
              "    <tr>\n",
              "      <th>0.0</th>\n",
              "      <td>0.0991</td>\n",
              "    </tr>\n",
              "    <tr>\n",
              "      <th>2.0</th>\n",
              "      <td>0.0990</td>\n",
              "    </tr>\n",
              "    <tr>\n",
              "      <th>4.0</th>\n",
              "      <td>0.0983</td>\n",
              "    </tr>\n",
              "    <tr>\n",
              "      <th>6.0</th>\n",
              "      <td>0.0967</td>\n",
              "    </tr>\n",
              "    <tr>\n",
              "      <th>9.0</th>\n",
              "      <td>0.0961</td>\n",
              "    </tr>\n",
              "    <tr>\n",
              "      <th>5.0</th>\n",
              "      <td>0.0915</td>\n",
              "    </tr>\n",
              "  </tbody>\n",
              "</table>\n",
              "</div><br><label><b>dtype:</b> float64</label>"
            ]
          },
          "metadata": {},
          "execution_count": 15
        }
      ],
      "source": [
        "pd.Series(y_val).value_counts(True)"
      ]
    },
    {
      "cell_type": "markdown",
      "metadata": {
        "id": "BU0lN1IX_syP"
      },
      "source": [
        "Además nos ha mantenido bastante bien la estratificación."
      ]
    },
    {
      "cell_type": "code",
      "execution_count": 16,
      "metadata": {
        "scrolled": true,
        "colab": {
          "base_uri": "https://localhost:8080/",
          "height": 447
        },
        "id": "NrdR1ER2_syP",
        "outputId": "59f618ca-7f9a-4b99-9bf9-ec4df128b95a"
      },
      "outputs": [
        {
          "output_type": "execute_result",
          "data": {
            "text/plain": [
              "<matplotlib.image.AxesImage at 0x7f0ab1ca64a0>"
            ]
          },
          "metadata": {},
          "execution_count": 16
        },
        {
          "output_type": "display_data",
          "data": {
            "text/plain": [
              "<Figure size 640x480 with 1 Axes>"
            ],
            "image/png": "[encoded data removed]"
          },
          "metadata": {}
        }
      ],
      "source": [
        "plt.imshow(X_val[1234], cmap='Greys')"
      ]
    },
    {
      "cell_type": "code",
      "execution_count": 17,
      "metadata": {
        "colab": {
          "base_uri": "https://localhost:8080/"
        },
        "id": "PDelmdDI_syP",
        "outputId": "29c84f6e-0f8f-455e-aa25-0e476affff54"
      },
      "outputs": [
        {
          "output_type": "execute_result",
          "data": {
            "text/plain": [
              "5.0"
            ]
          },
          "metadata": {},
          "execution_count": 17
        }
      ],
      "source": [
        "y_val[1234]"
      ]
    },
    {
      "cell_type": "markdown",
      "metadata": {
        "id": "GpGlToFT_syP"
      },
      "source": [
        "***"
      ]
    },
    {
      "cell_type": "markdown",
      "metadata": {
        "id": "qbU9O8hq_syQ"
      },
      "source": [
        "## DEFINICION/CONSTRUCCION"
      ]
    },
    {
      "cell_type": "markdown",
      "metadata": {
        "id": "gMbjxUhi_syQ"
      },
      "source": [
        "Para este problema vamos a construir una topología \"sencilla\" multicapa completamente conectada. O sea un MLP (aunque no tendrán el step como fuciones de activación) o una red densa. Recordando lo que vimos en la sesión de WrapUp de la unidad anterior. Vamos a montar la siguiente red:"
      ]
    },
    {
      "cell_type": "markdown",
      "metadata": {
        "id": "phVBvcVS_syQ"
      },
      "source": [
        "<img src=\"./img/mlp_clasification.png\" alt=\"drawing\" width=\"300\"/>"
      ]
    },
    {
      "cell_type": "markdown",
      "metadata": {
        "id": "FULcsk_b_syQ"
      },
      "source": [
        "#### Capas de Keras"
      ]
    },
    {
      "cell_type": "markdown",
      "metadata": {
        "id": "JkAEpbeN_syQ"
      },
      "source": [
        "¿Cómo construimos con Keras? Vamos a utilizar \"layers\" diferentes tipos de capas que podemos ajustar entre si como bloques de lego. Evidentemente tendremos una layer \"densa\" con sus neuronas y unidades pero también capas que hacen otro tipo de funciones y no se entrenan, y capas más complejas que sí se entrenan y que iremos viendo en sucesivos sprints."
      ]
    },
    {
      "cell_type": "markdown",
      "metadata": {
        "id": "hla-c09k_syU"
      },
      "source": [
        "En nuestro caso para implementar una topología sencilla como la anterior aplicada a nuestro problema específico de clasificación de MNIST usaremos las siguientes capas (layers) de Keras:\n",
        "\n",
        "* **Sequential**: API para iniciar la red neuronal. No cuenta como capa.\n",
        "* **Flatten**: capa de entrada especial. Necesita un vector unidimensional. Como tenemos imágenes, esta capa aplana las imagenes (2D) en 1D.\n",
        "* **Dense**: es una hidden layer. Cada hidden layer se compondrá de `n` neuronas y de una función de activación que se aplicará a todas las neuronas de la capa. La capa de salida también serás densa (porque sus unidades o neuronas estarán conectadas a todas las unidades de la capa anteriore) pero como es un problema de clasificación multiclase (10 clases), se compondrá de tantas neuronas como clases tengamos (o sea... muy bien, diez unidades o neuronas).\n",
        "\n"
      ]
    },
    {
      "cell_type": "markdown",
      "metadata": {
        "id": "bz_oJoNS_syV"
      },
      "source": [
        "#### Softmax"
      ]
    },
    {
      "cell_type": "markdown",
      "metadata": {
        "id": "0dDEjf0n_syV"
      },
      "source": [
        "Un poco más sobre la activación softmax:    \n",
        "\n",
        "Fórmula:  \n",
        "<img src=\"./img/softmax_function.png\" alt=\"drawing\" width=\"150\"/>\n",
        "\n",
        "Función de transferencia:  \n",
        "<img src=\"./img/softmax_activation.png\" alt=\"drawing\" width=\"150\"/>\n",
        "\n",
        "Ejemplo de funcionamiento:  \n",
        "<img src=\"./img/softmax_example.png\" alt=\"drawing\" width=\"400\"/>"
      ]
    },
    {
      "cell_type": "markdown",
      "metadata": {
        "id": "dk0Pjltq_syV"
      },
      "source": [
        "$$Softmax(5) = \\frac{e^5}{e^5+e^{2.5}+e^{0.5}} = \\frac{148.41}{148.41 + 12.18 + 1.65} = 0.91$$"
      ]
    },
    {
      "cell_type": "markdown",
      "metadata": {
        "id": "u-WK5WGT_syV"
      },
      "source": [
        "Es una activación un poco especial porque no afecta a una unidad por separado sino que se aplica al conjunto de unidades y da una salida para cada una."
      ]
    },
    {
      "cell_type": "markdown",
      "metadata": {
        "id": "JVLq83S3_syV"
      },
      "source": [
        "A construir..."
      ]
    },
    {
      "cell_type": "markdown",
      "metadata": {
        "id": "PP7GkzAX_syV"
      },
      "source": [
        "#### Construcción \"apilando\""
      ]
    },
    {
      "cell_type": "code",
      "execution_count": 18,
      "metadata": {
        "colab": {
          "base_uri": "https://localhost:8080/"
        },
        "id": "QPMzAcMm_syV",
        "outputId": "6df30fb7-9541-4d2a-d394-77213d9cb171"
      },
      "outputs": [
        {
          "output_type": "stream",
          "name": "stderr",
          "text": [
            "/usr/local/lib/python3.10/dist-packages/keras/src/layers/reshaping/flatten.py:37: UserWarning: Do not pass an `input_shape`/`input_dim` argument to a layer. When using Sequential models, prefer using an `Input(shape)` object as the first layer in the model instead.\n",
            "  super().__init__(**kwargs)\n"
          ]
        }
      ],
      "source": [
        "# Una manera de declarar la red neuronal\n",
        "\n",
        "# Siempre hay que declarar la capa sequential para empezar a declarar la red\n",
        "# Se trata de la API sequential\n",
        "model = keras.models.Sequential()\n",
        "\n",
        "# Flatten, aplana en un unico vector. Y especificamos el tamaño de la entrada\n",
        "# Es como si hiciese un .reshape(-1, 28*28)\n",
        "# \"kernel_initializer\" o \"bias_initializer\" No lo usamos pero seria para inicializar los pesos de otra manera\n",
        "model.add(keras.layers.Flatten(input_shape=(28,28)))\n",
        "\n",
        "# Capas de la red. Dense es la capa de neuronas. Necesitamos numero y activacion\n",
        "model.add(keras.layers.Dense(units = 300, # Numero de neuronas de la capa\n",
        "                             activation='relu'))\n",
        "\n",
        "model.add(keras.layers.Dense(100,\n",
        "                             activation='relu'))\n",
        "\n",
        "# Capa de salida, con tamaño del número de clases\n",
        "# Suele ir aqui un softmax. Para multiclase guay. Si es binaria -> sigmoide\n",
        "model.add(keras.layers.Dense(10, activation='softmax'))"
      ]
    },
    {
      "cell_type": "markdown",
      "metadata": {
        "id": "364adytf_syW"
      },
      "source": [
        "#### Construcción con listas (secuencias de capas)"
      ]
    },
    {
      "cell_type": "code",
      "execution_count": 19,
      "metadata": {
        "id": "sEpoBj9M_syW"
      },
      "outputs": [],
      "source": [
        "# Otra manera de declarar la red neuronal\n",
        "capas = [\n",
        "    keras.layers.Flatten(input_shape=(28,28)),\n",
        "    keras.layers.Dense(300, activation='relu'),\n",
        "    keras.layers.Dense(100, activation='relu'),\n",
        "    keras.layers.Dense(10, activation='softmax')\n",
        "]\n",
        "model = keras.models.Sequential(capas)"
      ]
    },
    {
      "cell_type": "markdown",
      "metadata": {
        "id": "QW2woGp1_syW"
      },
      "source": [
        "#### Usando la denominada \"Functional API\""
      ]
    },
    {
      "cell_type": "markdown",
      "metadata": {
        "id": "CWxfc2KW_syW"
      },
      "source": [
        "La functional API de Keras va encadenando capas como si fueran llamadas de funciones entre sí, es un poco más compleja pero permite topologías mucho más ricas"
      ]
    },
    {
      "cell_type": "code",
      "execution_count": 20,
      "metadata": {
        "id": "ZDuAwhBI_syW"
      },
      "outputs": [],
      "source": [
        "# Y una forma mediante encademaniento de funciones (usando lo que se denomina la Functional API)\n",
        "input_layer = keras.layers.Input(shape = (28,28))\n",
        "flatten_layer = keras.layers.Flatten()(input_layer)\n",
        "hidden_1 = keras.layers.Dense(300, activation = \"relu\")(flatten_layer)\n",
        "hidden_2 = keras.layers.Dense(100, activation = \"relu\")(hidden_1)\n",
        "output = keras.layers.Dense(10, activation = \"softmax\")(hidden_2)\n",
        "model = keras.Model(inputs = [input_layer], outputs = [output])"
      ]
    },
    {
      "cell_type": "markdown",
      "metadata": {
        "id": "48aGK0ms_syW"
      },
      "source": [
        "La functional API me va a permitir construir redes como estas:\n",
        "\n",
        "<img src=\"./img/otras_arquitecturas.png\" alt=\"drawing\" width=\"600\"/>"
      ]
    },
    {
      "cell_type": "markdown",
      "metadata": {
        "id": "hXGoxqx9_syW"
      },
      "source": [
        "Podemos ver las capas, y acceder a sus elementos"
      ]
    },
    {
      "cell_type": "code",
      "execution_count": 21,
      "metadata": {
        "colab": {
          "base_uri": "https://localhost:8080/"
        },
        "id": "JnAhsTdg_syX",
        "outputId": "024f4a53-2d23-472d-e5a3-d1b9b845bb7e"
      },
      "outputs": [
        {
          "output_type": "stream",
          "name": "stdout",
          "text": [
            "<Flatten name=flatten_2, built=True>\n"
          ]
        },
        {
          "output_type": "execute_result",
          "data": {
            "text/plain": [
              "[<InputLayer name=input_layer_2, built=True>,\n",
              " <Flatten name=flatten_2, built=True>,\n",
              " <Dense name=dense_6, built=True>,\n",
              " <Dense name=dense_7, built=True>,\n",
              " <Dense name=dense_8, built=True>]"
            ]
          },
          "metadata": {},
          "execution_count": 21
        }
      ],
      "source": [
        "print(model.layers[1])\n",
        "model.layers"
      ]
    },
    {
      "cell_type": "markdown",
      "metadata": {
        "id": "Ubnn-jXq_syX"
      },
      "source": [
        "Podemos ver los pesos de las capas sin entrenar, porque los inicializa \"aleatoriamente\". Los bias los inicializa a 0."
      ]
    },
    {
      "cell_type": "code",
      "execution_count": 22,
      "metadata": {
        "colab": {
          "base_uri": "https://localhost:8080/"
        },
        "id": "JPFleW55_syX",
        "outputId": "08006a4f-fc58-4b84-c09b-a078aee692a1"
      },
      "outputs": [
        {
          "output_type": "execute_result",
          "data": {
            "text/plain": [
              "(784, 300)"
            ]
          },
          "metadata": {},
          "execution_count": 22
        }
      ],
      "source": [
        "hidden1 = model.layers[2]\n",
        "weights, biases = hidden1.get_weights()\n",
        "\n",
        "# 784 features (pixeles de las imagenes) x 300 neuronas\n",
        "# Los pesos están inicializados aleatoriamente\n",
        "weights.shape"
      ]
    },
    {
      "cell_type": "code",
      "execution_count": 23,
      "metadata": {
        "colab": {
          "base_uri": "https://localhost:8080/"
        },
        "id": "Drp6nqil_syX",
        "outputId": "27136a21-b5d7-4570-ba48-9e467f80901d"
      },
      "outputs": [
        {
          "output_type": "execute_result",
          "data": {
            "text/plain": [
              "235200"
            ]
          },
          "metadata": {},
          "execution_count": 23
        }
      ],
      "source": [
        "weights.size"
      ]
    },
    {
      "cell_type": "code",
      "execution_count": 24,
      "metadata": {
        "colab": {
          "base_uri": "https://localhost:8080/"
        },
        "id": "ToWnD_aE_syX",
        "outputId": "077a0a0a-0dde-43e0-c5a2-300ed9684a09"
      },
      "outputs": [
        {
          "output_type": "execute_result",
          "data": {
            "text/plain": [
              "array([ 1.00124180e-02, -8.73623043e-03, -2.30312720e-02,  2.44057253e-02,\n",
              "        4.78566214e-02, -9.63576883e-03,  1.88330933e-02, -7.15443045e-02,\n",
              "        3.60324979e-03,  4.06271219e-03, -3.55519280e-02, -4.85052168e-03,\n",
              "       -4.10488509e-02, -1.50923952e-02, -2.22288072e-04, -6.86055645e-02,\n",
              "       -1.79917552e-02,  3.17573547e-03, -5.84539771e-02, -4.71759140e-02,\n",
              "       -6.50903508e-02, -3.56905162e-03, -2.11259983e-02,  5.22362739e-02,\n",
              "        1.98349506e-02, -3.89726907e-02,  5.48586994e-02,  6.34959489e-02,\n",
              "        1.30362064e-02,  4.20757830e-02, -6.25455379e-02,  4.72638980e-02,\n",
              "        5.17839789e-02, -1.84207261e-02, -2.26722248e-02,  5.45480400e-02,\n",
              "        2.39457339e-02, -5.18096462e-02, -5.22518307e-02, -7.30801672e-02,\n",
              "       -5.03949821e-03,  5.55068105e-02, -4.97811437e-02, -1.10400915e-02,\n",
              "       -3.66279073e-02,  5.03900871e-02, -2.94943079e-02,  3.43098491e-02,\n",
              "       -5.96087873e-02,  5.39412349e-02,  2.19799131e-02, -2.91861296e-02,\n",
              "       -2.00064555e-02,  1.79324523e-02,  4.85801697e-02,  5.84108084e-02,\n",
              "        1.68546140e-02,  7.13175535e-02, -6.86840564e-02,  5.77802211e-02,\n",
              "       -2.12858133e-02, -4.00416963e-02, -3.22553106e-02,  5.04586250e-02,\n",
              "       -4.91656438e-02,  4.55845445e-02, -3.78690585e-02, -4.43050787e-02,\n",
              "        3.18557844e-02, -4.64552082e-02, -7.10686073e-02, -1.75149776e-02,\n",
              "       -1.22486986e-02, -2.97646523e-02, -3.90463732e-02,  1.78039819e-02,\n",
              "       -2.46124268e-02, -6.83342293e-02, -7.26290643e-02,  3.40955630e-02,\n",
              "        2.07968205e-02, -3.76403816e-02,  3.58836055e-02,  4.81731519e-02,\n",
              "        7.33689815e-02, -1.20232850e-02, -4.78201881e-02, -2.06594020e-02,\n",
              "       -6.38148412e-02, -5.01339138e-03, -3.05379853e-02,  6.74578696e-02,\n",
              "        4.90649939e-02, -4.60982323e-03, -4.19384427e-02,  4.73737270e-02,\n",
              "        2.11046636e-03, -1.67921074e-02,  6.71783537e-02,  3.97481173e-02,\n",
              "       -3.54425907e-02, -2.86152922e-02,  5.51746786e-02, -1.06054544e-03,\n",
              "        5.24103642e-04,  6.81867599e-02, -2.41822638e-02,  4.60288823e-02,\n",
              "       -1.68351904e-02, -4.55576554e-02, -7.49585778e-03,  4.04621586e-02,\n",
              "       -9.39457119e-03,  3.47338915e-02,  7.33359754e-02, -1.67605877e-02,\n",
              "       -4.23479006e-02,  6.19469583e-02, -6.35825843e-03,  6.82629198e-02,\n",
              "        8.24242830e-04,  5.38577586e-02, -4.29426692e-02, -1.67534575e-02,\n",
              "        6.97827041e-02,  6.75200820e-02,  2.98553258e-02,  6.09851182e-02,\n",
              "        6.60075247e-03,  1.52956545e-02, -6.83682412e-03,  4.03818414e-02,\n",
              "        5.07558286e-02, -1.79389641e-02, -3.54821458e-02, -2.75893323e-02,\n",
              "        3.17327678e-04,  2.66415477e-02,  5.55767417e-02, -4.62600738e-02,\n",
              "        7.42199123e-02, -3.77754010e-02, -3.59595977e-02,  5.65809160e-02,\n",
              "       -4.99742553e-02,  6.34997040e-02, -3.49446721e-02, -5.48856556e-02,\n",
              "        6.88669980e-02,  5.38571179e-03, -4.84032854e-02, -1.39344670e-02,\n",
              "        6.07150644e-02, -4.85487543e-02,  5.11794537e-02,  2.03806311e-02,\n",
              "       -3.51260230e-02, -6.48557842e-02,  3.98618355e-02,  2.35053897e-02,\n",
              "       -5.39678484e-02,  7.59533048e-03,  1.09266266e-02,  1.86249763e-02,\n",
              "        2.33074874e-02, -6.18946441e-02, -7.36735165e-02, -9.56238806e-03,\n",
              "       -2.87862681e-02, -3.30521837e-02,  6.86600059e-03,  3.74647975e-03,\n",
              "       -5.73434122e-02, -2.34502926e-02, -1.99622884e-02, -2.67681256e-02,\n",
              "       -3.55790854e-02, -5.29837161e-02,  2.62425020e-02, -6.61172494e-02,\n",
              "       -2.52305344e-02, -4.92334366e-02, -4.47589904e-03,  8.34763050e-05,\n",
              "       -4.57047559e-02,  3.26529071e-02,  4.99648750e-02,  5.02941012e-03,\n",
              "       -7.66245276e-03, -5.26274852e-02,  7.95803219e-03,  6.05246425e-02,\n",
              "       -7.22643360e-02,  3.78038362e-02, -3.88814993e-02,  2.36731023e-03,\n",
              "       -7.18962252e-02, -2.48759389e-02, -1.77500211e-02,  3.73318642e-02,\n",
              "       -6.40730858e-02,  1.73978359e-02,  2.37325579e-02, -1.70957781e-02,\n",
              "       -2.95693055e-02, -2.08695270e-02,  5.18036634e-02,  4.03990448e-02,\n",
              "       -2.42768601e-02,  1.32833794e-02, -6.01357222e-03, -2.54064053e-02,\n",
              "        7.03191310e-02,  4.57984209e-03, -7.38920346e-02, -3.99186872e-02,\n",
              "        5.52496314e-02, -3.66192125e-02,  3.86855528e-02,  6.04870766e-02,\n",
              "        2.93761417e-02, -4.44005802e-02,  2.02277005e-02, -7.39092231e-02,\n",
              "        1.70125142e-02,  3.36641744e-02, -9.14526731e-03, -3.64739746e-02,\n",
              "        5.11395782e-02,  5.02925068e-02, -3.08893211e-02,  4.44678441e-02,\n",
              "       -7.25599378e-02, -4.70898002e-02, -3.26523185e-02, -5.64088933e-02,\n",
              "        2.84123495e-02, -1.34157762e-02, -4.30770516e-02,  7.13001788e-02,\n",
              "        4.28183079e-02,  2.42585018e-02,  2.13726610e-03, -3.34518701e-02,\n",
              "       -4.56521437e-02, -3.13097984e-03,  2.33331323e-02, -2.64845788e-03,\n",
              "        4.92142960e-02,  6.02431297e-02,  4.90487292e-02, -4.86410260e-02,\n",
              "        3.82708758e-03, -7.36483335e-02, -7.29551017e-02,  6.37716353e-02,\n",
              "        7.73276389e-03, -2.76926905e-02, -4.75783721e-02,  1.01042613e-02,\n",
              "       -3.89294997e-02,  7.28060156e-02, -1.63452029e-02,  5.88824749e-02,\n",
              "        3.21042910e-02,  3.74790058e-02,  2.60316804e-02, -3.82307172e-02,\n",
              "        5.45918047e-02,  2.92541832e-03, -3.22191603e-02, -6.37534484e-02,\n",
              "        1.80270374e-02,  3.99064645e-02,  4.70118970e-03, -2.66773589e-02,\n",
              "        2.10553259e-02, -2.77138539e-02, -4.42507304e-02,  3.98480371e-02,\n",
              "        2.49099806e-02, -3.44733410e-02,  2.44947001e-02,  6.37268275e-02,\n",
              "       -6.89745843e-02, -4.11816910e-02, -7.98359513e-04,  4.98835295e-02,\n",
              "        6.80403113e-02,  4.53035608e-02, -3.20657454e-02,  3.39971334e-02,\n",
              "       -5.25253341e-02, -7.42165670e-02, -5.45146316e-02,  5.03416806e-02,\n",
              "        3.40430439e-03, -2.80575939e-02, -4.39252406e-02,  2.95957178e-02],\n",
              "      dtype=float32)"
            ]
          },
          "metadata": {},
          "execution_count": 24
        }
      ],
      "source": [
        "weights[0]"
      ]
    },
    {
      "cell_type": "markdown",
      "metadata": {
        "id": "zh-9iL2G_syX"
      },
      "source": [
        "Sí, podríamo ya hacer una predicción"
      ]
    },
    {
      "cell_type": "code",
      "execution_count": 25,
      "metadata": {
        "colab": {
          "base_uri": "https://localhost:8080/"
        },
        "id": "KjU7rucU_syY",
        "outputId": "1ee5b3f7-a357-43e5-9f84-31cf4a7a68b3"
      },
      "outputs": [
        {
          "output_type": "stream",
          "name": "stdout",
          "text": [
            "\u001b[1m1/1\u001b[0m \u001b[32m━━━━━━━━━━━━━━━━━━━━\u001b[0m\u001b[37m\u001b[0m \u001b[1m1s\u001b[0m 536ms/step\n"
          ]
        },
        {
          "output_type": "execute_result",
          "data": {
            "text/plain": [
              "array([[0.07941519, 0.0734868 , 0.14922456, 0.12323108, 0.09948181,\n",
              "        0.12614119, 0.08874334, 0.08004355, 0.0913418 , 0.08889067]],\n",
              "      dtype=float32)"
            ]
          },
          "metadata": {},
          "execution_count": 25
        }
      ],
      "source": [
        "model.predict([X_train[1234:1235,:]]) # Espera batches o conjunto de valores por eso hay que dárselo así"
      ]
    },
    {
      "cell_type": "markdown",
      "metadata": {
        "id": "bni6E0Bi_syY"
      },
      "source": [
        "Tenemos tantas salidas como neuronas y son \"probabilidades\", tendremos que hacer nosotros la conversión:"
      ]
    },
    {
      "cell_type": "code",
      "execution_count": 26,
      "metadata": {
        "colab": {
          "base_uri": "https://localhost:8080/"
        },
        "id": "fqKb-ME0_syY",
        "outputId": "25971cf4-4802-4254-d2f5-1428c572d38c"
      },
      "outputs": [
        {
          "output_type": "stream",
          "name": "stdout",
          "text": [
            "\u001b[1m1/1\u001b[0m \u001b[32m━━━━━━━━━━━━━━━━━━━━\u001b[0m\u001b[37m\u001b[0m \u001b[1m0s\u001b[0m 38ms/step\n"
          ]
        },
        {
          "output_type": "execute_result",
          "data": {
            "text/plain": [
              "2"
            ]
          },
          "metadata": {},
          "execution_count": 26
        }
      ],
      "source": [
        "model.predict([X_train[1234:1235,:]])[0].argmax()"
      ]
    },
    {
      "cell_type": "markdown",
      "metadata": {
        "id": "bKpGi6y6_syY"
      },
      "source": [
        "Nuestra modelo no entrenado pero inicializado dice que 9... y es"
      ]
    },
    {
      "cell_type": "code",
      "execution_count": 27,
      "metadata": {
        "colab": {
          "base_uri": "https://localhost:8080/",
          "height": 447
        },
        "id": "0op56NBa_syY",
        "outputId": "1ff9ce7c-99b9-4dc5-960e-9e91fad675b5"
      },
      "outputs": [
        {
          "output_type": "execute_result",
          "data": {
            "text/plain": [
              "<matplotlib.image.AxesImage at 0x7f0ab445ba90>"
            ]
          },
          "metadata": {},
          "execution_count": 27
        },
        {
          "output_type": "display_data",
          "data": {
            "text/plain": [
              "<Figure size 640x480 with 1 Axes>"
            ],
            "image/png": "[encoded data removed]"
          },
          "metadata": {}
        }
      ],
      "source": [
        "plt.imshow(X_train[1234], cmap = \"Greys\")"
      ]
    },
    {
      "cell_type": "markdown",
      "metadata": {
        "id": "PsE4QX1l_syY"
      },
      "source": [
        "¿No esperarías otra cosa? :-)"
      ]
    },
    {
      "cell_type": "markdown",
      "metadata": {
        "id": "fwI4vtGr_syY"
      },
      "source": [
        "***"
      ]
    },
    {
      "cell_type": "markdown",
      "metadata": {
        "id": "yimCZrwa_syZ"
      },
      "source": [
        "#### Inicializadores:  \n",
        "\n",
        "Antes de seguir y al hilo de lo que vimos de los pesos al finalizar la sección anterior, hay que recordar que cuando construimos un modelo o red DL, de partida sus pesos se inicializan a valores diferentes de cero (si no, no habría gradiente que propagar ni nada que hacer). Esa inicialización afecta al comportamiento de la red, y no es un aleatorio cualquiera. Lo iremos recordando... De hecho el tipo de inicialización es un hiperparámetro. Ahora ya puedes obviar parcialmente el inciso y sigamos...\n",
        "\n",
        "O sea:\n",
        "\n",
        "- Los pesos inicializados a cero -> No aprendizaje\n",
        "- Desde siempre se inicializan \"aleatoriamente\", pero no sólo de forma uniforme (todos los valores con la misma probabilidad), sino que se emplean diferentes distribuciones de probabilidad con parámetros que dependen del número de entradas y salidas de la capa. El objetivo esintentar que las varianzas de las entradas sean similares a las de las salidas y evitar el problema del gradiente que se desvanece (\"Vanishing Gradient\" problem):  \n",
        "    *   Glorot inizialization (por defecto la de Keras, con función uniforme de distribución) -> Para cuando tienes funciones de activación (ninguna, tanh, sigmoid, softmax, aunque también se usa por defecto :-) para casi todo) [Xavier Glorot & Yoshua Bengio]\n",
        "    *   He inizialization, -> Para cuando tienes ReLU, Leaky ReLU, ELU, GELU, Swish, Mish [He Kaiming et al.]\n",
        "    *   LeCunn inizialization -> Para cuando tienes SELU [Jean LeCunn]\n",
        "- Es un hiperparámetro"
      ]
    },
    {
      "cell_type": "markdown",
      "metadata": {
        "id": "GdD8M9vp_syZ"
      },
      "source": [
        "Establecemos la configuración de ejecución... el compile."
      ]
    },
    {
      "cell_type": "code",
      "execution_count": 28,
      "metadata": {
        "id": "dYwD5JhH_syZ"
      },
      "outputs": [],
      "source": [
        "# Se especifica la configuración del entrenamiento (optimizador, pérdida, métricas):\n",
        "model.compile(\n",
        "    # Stocastic gradient descent. El algoritmo para minimizar la loss function\n",
        "    # El stocastic va haciendo muestreo en cada evaluacion, no usa todo el dataset\n",
        "    # Podemos modificar el learning rate(0.01 por defecto) mediante el parametro lr\n",
        "    optimizer=keras.optimizers.SGD(),  # Optimizer, con parámetros por defecto\n",
        "\n",
        "\n",
        "    # Loss function to minimize\n",
        "    # sparse_categorical_crossentropy cuando tenemos un label en nuna columna\n",
        "    # Si lo tuviesemos en varias tipo dummy, cogeriamos categorical_crossentropy\n",
        "    # binary_crossentropy si es una neurona, clasi binario\n",
        "    loss=keras.losses.SparseCategoricalCrossentropy(),\n",
        "\n",
        "    # List of metrics to monitor\n",
        "    metrics=[keras.metrics.SparseCategoricalAccuracy()],\n",
        ")"
      ]
    },
    {
      "cell_type": "code",
      "execution_count": 29,
      "metadata": {
        "id": "ITfP3fUK_syZ"
      },
      "outputs": [],
      "source": [
        "# Equivalente (... casi, los parámetros del optimizador serán los que tenga por defecto)\n",
        "model.compile(optimizer=\"sgd\",\n",
        "              loss=\"sparse_categorical_crossentropy\",\n",
        "              metrics=[\"accuracy\"])"
      ]
    },
    {
      "cell_type": "code",
      "execution_count": 30,
      "metadata": {
        "tags": [],
        "colab": {
          "base_uri": "https://localhost:8080/",
          "height": 289
        },
        "id": "96wgmyyp_syZ",
        "outputId": "da2a143f-9dba-4d91-f1d3-bbeec89cf73f"
      },
      "outputs": [
        {
          "output_type": "display_data",
          "data": {
            "text/plain": [
              "\u001b[1mModel: \"functional_5\"\u001b[0m\n"
            ],
            "text/html": [
              "<pre style=\"white-space:pre;overflow-x:auto;line-height:normal;font-family:Menlo,'DejaVu Sans Mono',consolas,'Courier New',monospace\"><span style=\"font-weight: bold\">Model: \"functional_5\"</span>\n",
              "</pre>\n"
            ]
          },
          "metadata": {}
        },
        {
          "output_type": "display_data",
          "data": {
            "text/plain": [
              "┏━━━━━━━━━━━━━━━━━━━━━━━━━━━━━━━━━━━━━━┳━━━━━━━━━━━━━━━━━━━━━━━━━━━━━┳━━━━━━━━━━━━━━━━━┓\n",
              "┃\u001b[1m \u001b[0m\u001b[1mLayer (type)                        \u001b[0m\u001b[1m \u001b[0m┃\u001b[1m \u001b[0m\u001b[1mOutput Shape               \u001b[0m\u001b[1m \u001b[0m┃\u001b[1m \u001b[0m\u001b[1m        Param #\u001b[0m\u001b[1m \u001b[0m┃\n",
              "┡━━━━━━━━━━━━━━━━━━━━━━━━━━━━━━━━━━━━━━╇━━━━━━━━━━━━━━━━━━━━━━━━━━━━━╇━━━━━━━━━━━━━━━━━┩\n",
              "│ input_layer_2 (\u001b[38;5;33mInputLayer\u001b[0m)           │ (\u001b[38;5;45mNone\u001b[0m, \u001b[38;5;34m28\u001b[0m, \u001b[38;5;34m28\u001b[0m)              │               \u001b[38;5;34m0\u001b[0m │\n",
              "├──────────────────────────────────────┼─────────────────────────────┼─────────────────┤\n",
              "│ flatten_2 (\u001b[38;5;33mFlatten\u001b[0m)                  │ (\u001b[38;5;45mNone\u001b[0m, \u001b[38;5;34m784\u001b[0m)                 │               \u001b[38;5;34m0\u001b[0m │\n",
              "├──────────────────────────────────────┼─────────────────────────────┼─────────────────┤\n",
              "│ dense_6 (\u001b[38;5;33mDense\u001b[0m)                      │ (\u001b[38;5;45mNone\u001b[0m, \u001b[38;5;34m300\u001b[0m)                 │         \u001b[38;5;34m235,500\u001b[0m │\n",
              "├──────────────────────────────────────┼─────────────────────────────┼─────────────────┤\n",
              "│ dense_7 (\u001b[38;5;33mDense\u001b[0m)                      │ (\u001b[38;5;45mNone\u001b[0m, \u001b[38;5;34m100\u001b[0m)                 │          \u001b[38;5;34m30,100\u001b[0m │\n",
              "├──────────────────────────────────────┼─────────────────────────────┼─────────────────┤\n",
              "│ dense_8 (\u001b[38;5;33mDense\u001b[0m)                      │ (\u001b[38;5;45mNone\u001b[0m, \u001b[38;5;34m10\u001b[0m)                  │           \u001b[38;5;34m1,010\u001b[0m │\n",
              "└──────────────────────────────────────┴─────────────────────────────┴─────────────────┘\n"
            ],
            "text/html": [
              "<pre style=\"white-space:pre;overflow-x:auto;line-height:normal;font-family:Menlo,'DejaVu Sans Mono',consolas,'Courier New',monospace\">┏━━━━━━━━━━━━━━━━━━━━━━━━━━━━━━━━━━━━━━┳━━━━━━━━━━━━━━━━━━━━━━━━━━━━━┳━━━━━━━━━━━━━━━━━┓\n",
              "┃<span style=\"font-weight: bold\"> Layer (type)                         </span>┃<span style=\"font-weight: bold\"> Output Shape                </span>┃<span style=\"font-weight: bold\">         Param # </span>┃\n",
              "┡━━━━━━━━━━━━━━━━━━━━━━━━━━━━━━━━━━━━━━╇━━━━━━━━━━━━━━━━━━━━━━━━━━━━━╇━━━━━━━━━━━━━━━━━┩\n",
              "│ input_layer_2 (<span style=\"color: #0087ff; text-decoration-color: #0087ff\">InputLayer</span>)           │ (<span style=\"color: #00d7ff; text-decoration-color: #00d7ff\">None</span>, <span style=\"color: #00af00; text-decoration-color: #00af00\">28</span>, <span style=\"color: #00af00; text-decoration-color: #00af00\">28</span>)              │               <span style=\"color: #00af00; text-decoration-color: #00af00\">0</span> │\n",
              "├──────────────────────────────────────┼─────────────────────────────┼─────────────────┤\n",
              "│ flatten_2 (<span style=\"color: #0087ff; text-decoration-color: #0087ff\">Flatten</span>)                  │ (<span style=\"color: #00d7ff; text-decoration-color: #00d7ff\">None</span>, <span style=\"color: #00af00; text-decoration-color: #00af00\">784</span>)                 │               <span style=\"color: #00af00; text-decoration-color: #00af00\">0</span> │\n",
              "├──────────────────────────────────────┼─────────────────────────────┼─────────────────┤\n",
              "│ dense_6 (<span style=\"color: #0087ff; text-decoration-color: #0087ff\">Dense</span>)                      │ (<span style=\"color: #00d7ff; text-decoration-color: #00d7ff\">None</span>, <span style=\"color: #00af00; text-decoration-color: #00af00\">300</span>)                 │         <span style=\"color: #00af00; text-decoration-color: #00af00\">235,500</span> │\n",
              "├──────────────────────────────────────┼─────────────────────────────┼─────────────────┤\n",
              "│ dense_7 (<span style=\"color: #0087ff; text-decoration-color: #0087ff\">Dense</span>)                      │ (<span style=\"color: #00d7ff; text-decoration-color: #00d7ff\">None</span>, <span style=\"color: #00af00; text-decoration-color: #00af00\">100</span>)                 │          <span style=\"color: #00af00; text-decoration-color: #00af00\">30,100</span> │\n",
              "├──────────────────────────────────────┼─────────────────────────────┼─────────────────┤\n",
              "│ dense_8 (<span style=\"color: #0087ff; text-decoration-color: #0087ff\">Dense</span>)                      │ (<span style=\"color: #00d7ff; text-decoration-color: #00d7ff\">None</span>, <span style=\"color: #00af00; text-decoration-color: #00af00\">10</span>)                  │           <span style=\"color: #00af00; text-decoration-color: #00af00\">1,010</span> │\n",
              "└──────────────────────────────────────┴─────────────────────────────┴─────────────────┘\n",
              "</pre>\n"
            ]
          },
          "metadata": {}
        },
        {
          "output_type": "display_data",
          "data": {
            "text/plain": [
              "\u001b[1m Total params: \u001b[0m\u001b[38;5;34m266,610\u001b[0m (1.02 MB)\n"
            ],
            "text/html": [
              "<pre style=\"white-space:pre;overflow-x:auto;line-height:normal;font-family:Menlo,'DejaVu Sans Mono',consolas,'Courier New',monospace\"><span style=\"font-weight: bold\"> Total params: </span><span style=\"color: #00af00; text-decoration-color: #00af00\">266,610</span> (1.02 MB)\n",
              "</pre>\n"
            ]
          },
          "metadata": {}
        },
        {
          "output_type": "display_data",
          "data": {
            "text/plain": [
              "\u001b[1m Trainable params: \u001b[0m\u001b[38;5;34m266,610\u001b[0m (1.02 MB)\n"
            ],
            "text/html": [
              "<pre style=\"white-space:pre;overflow-x:auto;line-height:normal;font-family:Menlo,'DejaVu Sans Mono',consolas,'Courier New',monospace\"><span style=\"font-weight: bold\"> Trainable params: </span><span style=\"color: #00af00; text-decoration-color: #00af00\">266,610</span> (1.02 MB)\n",
              "</pre>\n"
            ]
          },
          "metadata": {}
        },
        {
          "output_type": "display_data",
          "data": {
            "text/plain": [
              "\u001b[1m Non-trainable params: \u001b[0m\u001b[38;5;34m0\u001b[0m (0.00 B)\n"
            ],
            "text/html": [
              "<pre style=\"white-space:pre;overflow-x:auto;line-height:normal;font-family:Menlo,'DejaVu Sans Mono',consolas,'Courier New',monospace\"><span style=\"font-weight: bold\"> Non-trainable params: </span><span style=\"color: #00af00; text-decoration-color: #00af00\">0</span> (0.00 B)\n",
              "</pre>\n"
            ]
          },
          "metadata": {}
        }
      ],
      "source": [
        "# Summary\n",
        "# La primera hidden layer tiene 784 entradas x 300 salidas\n",
        "# Son los 235500 params = 784x300 + 300 (bias)\n",
        "model.summary()"
      ]
    },
    {
      "cell_type": "markdown",
      "metadata": {
        "id": "_Po_6xFN_sya"
      },
      "source": [
        "#### CAPAS"
      ]
    },
    {
      "cell_type": "markdown",
      "metadata": {
        "id": "EpX8ZPev_sya"
      },
      "source": [
        "Vayamos construyendo nuestra __lista de capas__:\n",
        "\n",
        "__Entrenables__:  \n",
        "__* Dense__ -> Capa completamente conectada a las neuronas de la capa anterior y a la posterior  \n",
        "    Hiperparámetros asociados:     \n",
        "        * units: Number of neurons, dimensionality of the output space  \n",
        "        * activation: Activation function to use. If you don't specify anything, no activation is applied  \n",
        "        * kernel_initializer: Initializer for the kernel weights matrix.  \n",
        "        * bias_initializer: Initializer for the bias vector. (Suelen inicializarse a cero)\n",
        "        * Kernel_regularizar: Los clásicos (L1,L2,...)\n",
        "\n",
        "__Funcionales__:       \n",
        "__* Input__ -> Capa para definir la forma de la entrada (shape), que se puede pasar como input_shape  \n",
        "__* Flatten__ -> Capa que aplana (convierte su entrada en un vector)"
      ]
    },
    {
      "cell_type": "markdown",
      "metadata": {
        "id": "00rZgyjm_sya"
      },
      "source": [
        "***"
      ]
    },
    {
      "cell_type": "markdown",
      "metadata": {
        "id": "09akq_gB_sya"
      },
      "source": [
        "### Funciones Activacion"
      ]
    },
    {
      "cell_type": "markdown",
      "metadata": {
        "id": "21h5NBdP_sya"
      },
      "source": [
        "Otras funciones de activación interesantes: SELU (1.67*ELU) y Swish (también SiLU, o Sigmoid linear unit)... No entrar en pánico, vais a usar ReLU, Softmax y no-activation, y en algunos casos (quizás): sigmoid, tanh y las (x)LU (SELU, Siwsh,etc)\n",
        "\n",
        "<img src=\"./img/activation_functions.png\" alt=\"drawing\" width=\"600\"/>\n",
        "\n"
      ]
    },
    {
      "cell_type": "markdown",
      "metadata": {
        "id": "QUDEtx9t_sya"
      },
      "source": [
        "#### OPTIMIZADORES"
      ]
    },
    {
      "cell_type": "markdown",
      "metadata": {
        "id": "Y59VEV6V_sya"
      },
      "source": [
        "Y también vamos completando lista de hiperparámetros, estos asociados al \"Optimizador\"/\"Modelo\":  \n",
        "Tipo de optimizador:  \n",
        "* __SGD__, Gradient descent \"genérico\" (puedes añadirle \"momento\", es decir que a la hora de descontar el gradiente tenga en cuenta el vector medio de gradientes pasados)\n",
        "  \n",
        "\n",
        "* __Adagrad__, Hace gradient descent pero ajusta el gradiente para compensar las componentes de mayor valor numérico (es como evitar irse por las pendientes más inclinadas)... Es decir evita irse a mínimos locales al precio de enlentecer el entrenamiento.    \n",
        "\n",
        "* __RMSprop__, Versión de AdaGrad, pero considera principalmente los últimos valores del gradiente. Es decir, busca lo bueno de Adagrad reduciendo sus peligros.    \n",
        "\n",
        "* __Adam__, _Adaptative Moment Estimation_, combina RMSProp y el uso de momento. Es el rey actual (junto con sus versiones) para grandes cantidades de datos.    \n",
        "\n",
        "* __AdamW, Nadam, AdaMax__, variantes del anterior.\n",
        "\n",
        "Comparativa, donde * es malo y *** bueno (extraído del \"Hands-on Machine Learning with....\" de Aurelien Geron, 3a Edicion)\n",
        "\n",
        "<img src=\"./img/Comparativa-optimizadores.png\" alt=\"drawing\" width=\"800\"/>\n",
        "\n",
        "Keras también permite:\n",
        "__Adadelta__ _(variante de Adagrad)_, __Adafactor__ y __Ftrl__\n",
        "\n",
        "      \n",
        "Hiperparámetros Genéricos:\n",
        "Learning Rate: Coeficiente aplicado al descenso de gradiente, como en otros modelos que ya hemos visto  \n",
        "Asociados al Gradient Clipping: clipnorm, clipvalue, global_clipnorm\n",
        "\n",
        "Cada optimizador además puede tener sus propios hiperparámetros (ver: https://keras.io/api/optimizers/)\n",
        "\n",
        "\n",
        "\n",
        "\n"
      ]
    },
    {
      "cell_type": "markdown",
      "metadata": {
        "id": "Xe1otoh0_sya"
      },
      "source": [
        "### Fuciones de pérdida y métricas\n",
        "__Función de perdida__: La función a minimizar durante el entrenamiento (son las mismas que en otros modelos no Deep)  \n",
        "- Clasificación: En clases Keras -> __BinaryCrossEntropy, CategoricalCrossEntropy, SparseCategoricalCrossEntropy__  \n",
        "- Regresión: En clases Keras -> __MeanSquaredError, MeanAbsoluteError, MeanAbsolutePercentageError, CosineSimilarity__   \n",
        "\n",
        "__Métricas__:  \n",
        "- Regresión: __MAE, MSE, MAPE__ :-)  \n",
        "- Clasificación: __Accuracy, Precision, Recall, f1, AuRoC__  \n",
        "\n",
        "¿Cuál es la diferencia entre Categorical y Sparse? ¿Por qué las funciones de pérdida son diferentes a las métricas en Clasificación?"
      ]
    },
    {
      "cell_type": "markdown",
      "metadata": {
        "id": "YV1bZTAR_syb"
      },
      "source": [
        "***"
      ]
    },
    {
      "cell_type": "markdown",
      "metadata": {
        "id": "BMB6OEbB_syb"
      },
      "source": [
        "## ENTRENAMIENTO"
      ]
    },
    {
      "cell_type": "markdown",
      "metadata": {
        "id": "C5iuiiji_syb"
      },
      "source": [
        "Entrenamos el modelo. Usamos los datos de entrenamiento. El __batch_size__ es la cantidad de muestras que utiliza el SGD, y las __epochs__ son las iteraciones que realiza en el entrenamiento. (Son hiperparámetros de entrenamiento)    \n",
        "\n",
        "En una epoch se entrenan tantos batches como sea necesario para recorrer todo el dataset."
      ]
    },
    {
      "cell_type": "code",
      "execution_count": 31,
      "metadata": {
        "colab": {
          "base_uri": "https://localhost:8080/"
        },
        "id": "BxxmIPhD_syb",
        "outputId": "9002aba1-e077-445e-8c29-8ee62639ff95"
      },
      "outputs": [
        {
          "output_type": "execute_result",
          "data": {
            "text/plain": [
              "781.25"
            ]
          },
          "metadata": {},
          "execution_count": 31
        }
      ],
      "source": [
        "50000/64"
      ]
    },
    {
      "cell_type": "code",
      "execution_count": 32,
      "metadata": {
        "tags": [],
        "colab": {
          "base_uri": "https://localhost:8080/",
          "height": 608
        },
        "id": "UVwwQ0vr_syb",
        "outputId": "5362ecf8-d201-49dd-836c-3246c566d254"
      },
      "outputs": [
        {
          "output_type": "stream",
          "name": "stdout",
          "text": [
            "Fit model on training data\n",
            "Epoch 1/15\n",
            "\u001b[1m782/782\u001b[0m \u001b[32m━━━━━━━━━━━━━━━━━━━━\u001b[0m\u001b[37m\u001b[0m \u001b[1m6s\u001b[0m 7ms/step - accuracy: 0.6479 - loss: 1.3448 - val_accuracy: 0.8997 - val_loss: 0.3888\n",
            "Epoch 2/15\n",
            "\u001b[1m782/782\u001b[0m \u001b[32m━━━━━━━━━━━━━━━━━━━━\u001b[0m\u001b[37m\u001b[0m \u001b[1m9s\u001b[0m 6ms/step - accuracy: 0.8926 - loss: 0.3932 - val_accuracy: 0.9164 - val_loss: 0.3027\n",
            "Epoch 3/15\n",
            "\u001b[1m782/782\u001b[0m \u001b[32m━━━━━━━━━━━━━━━━━━━━\u001b[0m\u001b[37m\u001b[0m \u001b[1m4s\u001b[0m 4ms/step - accuracy: 0.9094 - loss: 0.3200 - val_accuracy: 0.9257 - val_loss: 0.2647\n",
            "Epoch 4/15\n",
            "\u001b[1m782/782\u001b[0m \u001b[32m━━━━━━━━━━━━━━━━━━━━\u001b[0m\u001b[37m\u001b[0m \u001b[1m6s\u001b[0m 6ms/step - accuracy: 0.9212 - loss: 0.2765 - val_accuracy: 0.9322 - val_loss: 0.2408\n",
            "Epoch 5/15\n",
            "\u001b[1m782/782\u001b[0m \u001b[32m━━━━━━━━━━━━━━━━━━━━\u001b[0m\u001b[37m\u001b[0m \u001b[1m4s\u001b[0m 5ms/step - accuracy: 0.9260 - loss: 0.2597 - val_accuracy: 0.9377 - val_loss: 0.2223\n",
            "Epoch 6/15\n",
            "\u001b[1m782/782\u001b[0m \u001b[32m━━━━━━━━━━━━━━━━━━━━\u001b[0m\u001b[37m\u001b[0m \u001b[1m4s\u001b[0m 5ms/step - accuracy: 0.9336 - loss: 0.2271 - val_accuracy: 0.9381 - val_loss: 0.2149\n",
            "Epoch 7/15\n",
            "\u001b[1m782/782\u001b[0m \u001b[32m━━━━━━━━━━━━━━━━━━━━\u001b[0m\u001b[37m\u001b[0m \u001b[1m3s\u001b[0m 4ms/step - accuracy: 0.9369 - loss: 0.2160 - val_accuracy: 0.9451 - val_loss: 0.1978\n",
            "Epoch 8/15\n",
            "\u001b[1m782/782\u001b[0m \u001b[32m━━━━━━━━━━━━━━━━━━━━\u001b[0m\u001b[37m\u001b[0m \u001b[1m5s\u001b[0m 5ms/step - accuracy: 0.9426 - loss: 0.2008 - val_accuracy: 0.9494 - val_loss: 0.1864\n",
            "Epoch 9/15\n",
            "\u001b[1m782/782\u001b[0m \u001b[32m━━━━━━━━━━━━━━━━━━━━\u001b[0m\u001b[37m\u001b[0m \u001b[1m4s\u001b[0m 5ms/step - accuracy: 0.9441 - loss: 0.1888 - val_accuracy: 0.9520 - val_loss: 0.1774\n",
            "Epoch 10/15\n",
            "\u001b[1m782/782\u001b[0m \u001b[32m━━━━━━━━━━━━━━━━━━━━\u001b[0m\u001b[37m\u001b[0m \u001b[1m4s\u001b[0m 5ms/step - accuracy: 0.9488 - loss: 0.1819 - val_accuracy: 0.9528 - val_loss: 0.1698\n",
            "Epoch 11/15\n",
            "\u001b[1m782/782\u001b[0m \u001b[32m━━━━━━━━━━━━━━━━━━━━\u001b[0m\u001b[37m\u001b[0m \u001b[1m5s\u001b[0m 5ms/step - accuracy: 0.9520 - loss: 0.1683 - val_accuracy: 0.9556 - val_loss: 0.1612\n",
            "Epoch 12/15\n",
            "\u001b[1m782/782\u001b[0m \u001b[32m━━━━━━━━━━━━━━━━━━━━\u001b[0m\u001b[37m\u001b[0m \u001b[1m10s\u001b[0m 11ms/step - accuracy: 0.9542 - loss: 0.1599 - val_accuracy: 0.9574 - val_loss: 0.1540\n",
            "Epoch 13/15\n",
            "\u001b[1m782/782\u001b[0m \u001b[32m━━━━━━━━━━━━━━━━━━━━\u001b[0m\u001b[37m\u001b[0m \u001b[1m6s\u001b[0m 7ms/step - accuracy: 0.9565 - loss: 0.1517 - val_accuracy: 0.9557 - val_loss: 0.1570\n",
            "Epoch 14/15\n",
            "\u001b[1m782/782\u001b[0m \u001b[32m━━━━━━━━━━━━━━━━━━━━\u001b[0m\u001b[37m\u001b[0m \u001b[1m5s\u001b[0m 6ms/step - accuracy: 0.9591 - loss: 0.1412 - val_accuracy: 0.9598 - val_loss: 0.1444\n",
            "Epoch 15/15\n",
            "\u001b[1m782/782\u001b[0m \u001b[32m━━━━━━━━━━━━━━━━━━━━\u001b[0m\u001b[37m\u001b[0m \u001b[1m5s\u001b[0m 6ms/step - accuracy: 0.9600 - loss: 0.1372 - val_accuracy: 0.9615 - val_loss: 0.1382\n"
          ]
        },
        {
          "output_type": "execute_result",
          "data": {
            "text/plain": [
              "'\\nEn el entreanamiento solo hay que fijarse que el loss va para abajo, es bueno.\\nSi vemos que ya no baja mas, no serán necesarias tantas epochs.\\nImprimera tantas lineas como epochs hayamos puesto\\n\\nTampoco usamos el class_weight, que le da más peso a las clases con pocas muestras\\nUtil para datasets desbalanceados.\\n\\nEl loss que muestra es el categoricalcrossentropy\\n'"
            ],
            "application/vnd.google.colaboratory.intrinsic+json": {
              "type": "string"
            }
          },
          "metadata": {},
          "execution_count": 32
        }
      ],
      "source": [
        "# Entrenamos el modelo con un batch_size de 64 imágenes por cada iteración, 15 epochs y especificando cuál es el conjunto de validación.\n",
        "print(\"Fit model on training data\")\n",
        "history = model.fit(\n",
        "    X_train,\n",
        "    y_train,\n",
        "    batch_size=64, # numero de muestras empleadas en el entrenamiento de SGD\n",
        "    epochs=15, # 1 por defecto. Insuficiente. Numero de vueltas del backpropagation\n",
        "    # We pass some validation for\n",
        "    # monitoring validation loss and metrics\n",
        "    # at the end of each epoch\n",
        "    # En vez de validation data podemos usar el argumento validation_split=0.1\n",
        "    validation_data=(X_val, y_val)\n",
        ")\n",
        "'''\n",
        "En el entreanamiento solo hay que fijarse que el loss va para abajo, es bueno.\n",
        "Si vemos que ya no baja mas, no serán necesarias tantas epochs.\n",
        "Imprimera tantas lineas como epochs hayamos puesto\n",
        "\n",
        "Tampoco usamos el class_weight, que le da más peso a las clases con pocas muestras\n",
        "Util para datasets desbalanceados.\n",
        "\n",
        "El loss que muestra es el categoricalcrossentropy\n",
        "'''\n"
      ]
    },
    {
      "cell_type": "markdown",
      "metadata": {
        "id": "jAoNrMvF_syb"
      },
      "source": [
        "**Podemos reentrenar el modelo. No empieza de nuevo, sino que retoma el entrenamiento anterior.**"
      ]
    },
    {
      "cell_type": "code",
      "execution_count": 33,
      "metadata": {
        "colab": {
          "base_uri": "https://localhost:8080/"
        },
        "id": "Ff_OkRGS_syb",
        "outputId": "fbe342c2-c2c4-4661-bd74-bce755d9be8c"
      },
      "outputs": [
        {
          "output_type": "stream",
          "name": "stdout",
          "text": [
            "Epoch 1/15\n",
            "\u001b[1m782/782\u001b[0m \u001b[32m━━━━━━━━━━━━━━━━━━━━\u001b[0m\u001b[37m\u001b[0m \u001b[1m5s\u001b[0m 6ms/step - accuracy: 0.9613 - loss: 0.1331 - val_accuracy: 0.9619 - val_loss: 0.1346\n",
            "Epoch 2/15\n",
            "\u001b[1m782/782\u001b[0m \u001b[32m━━━━━━━━━━━━━━━━━━━━\u001b[0m\u001b[37m\u001b[0m \u001b[1m4s\u001b[0m 6ms/step - accuracy: 0.9645 - loss: 0.1259 - val_accuracy: 0.9632 - val_loss: 0.1324\n",
            "Epoch 3/15\n",
            "\u001b[1m782/782\u001b[0m \u001b[32m━━━━━━━━━━━━━━━━━━━━\u001b[0m\u001b[37m\u001b[0m \u001b[1m4s\u001b[0m 4ms/step - accuracy: 0.9660 - loss: 0.1190 - val_accuracy: 0.9642 - val_loss: 0.1288\n",
            "Epoch 4/15\n",
            "\u001b[1m782/782\u001b[0m \u001b[32m━━━━━━━━━━━━━━━━━━━━\u001b[0m\u001b[37m\u001b[0m \u001b[1m3s\u001b[0m 4ms/step - accuracy: 0.9666 - loss: 0.1173 - val_accuracy: 0.9656 - val_loss: 0.1250\n",
            "Epoch 5/15\n",
            "\u001b[1m782/782\u001b[0m \u001b[32m━━━━━━━━━━━━━━━━━━━━\u001b[0m\u001b[37m\u001b[0m \u001b[1m3s\u001b[0m 4ms/step - accuracy: 0.9696 - loss: 0.1092 - val_accuracy: 0.9663 - val_loss: 0.1237\n",
            "Epoch 6/15\n",
            "\u001b[1m782/782\u001b[0m \u001b[32m━━━━━━━━━━━━━━━━━━━━\u001b[0m\u001b[37m\u001b[0m \u001b[1m5s\u001b[0m 6ms/step - accuracy: 0.9698 - loss: 0.1067 - val_accuracy: 0.9672 - val_loss: 0.1185\n",
            "Epoch 7/15\n",
            "\u001b[1m782/782\u001b[0m \u001b[32m━━━━━━━━━━━━━━━━━━━━\u001b[0m\u001b[37m\u001b[0m \u001b[1m4s\u001b[0m 5ms/step - accuracy: 0.9724 - loss: 0.1008 - val_accuracy: 0.9690 - val_loss: 0.1158\n",
            "Epoch 8/15\n",
            "\u001b[1m782/782\u001b[0m \u001b[32m━━━━━━━━━━━━━━━━━━━━\u001b[0m\u001b[37m\u001b[0m \u001b[1m6s\u001b[0m 6ms/step - accuracy: 0.9737 - loss: 0.0944 - val_accuracy: 0.9686 - val_loss: 0.1130\n",
            "Epoch 9/15\n",
            "\u001b[1m782/782\u001b[0m \u001b[32m━━━━━━━━━━━━━━━━━━━━\u001b[0m\u001b[37m\u001b[0m \u001b[1m4s\u001b[0m 5ms/step - accuracy: 0.9752 - loss: 0.0926 - val_accuracy: 0.9688 - val_loss: 0.1125\n",
            "Epoch 10/15\n",
            "\u001b[1m782/782\u001b[0m \u001b[32m━━━━━━━━━━━━━━━━━━━━\u001b[0m\u001b[37m\u001b[0m \u001b[1m3s\u001b[0m 4ms/step - accuracy: 0.9759 - loss: 0.0896 - val_accuracy: 0.9706 - val_loss: 0.1089\n",
            "Epoch 11/15\n",
            "\u001b[1m782/782\u001b[0m \u001b[32m━━━━━━━━━━━━━━━━━━━━\u001b[0m\u001b[37m\u001b[0m \u001b[1m3s\u001b[0m 4ms/step - accuracy: 0.9782 - loss: 0.0829 - val_accuracy: 0.9710 - val_loss: 0.1058\n",
            "Epoch 12/15\n",
            "\u001b[1m782/782\u001b[0m \u001b[32m━━━━━━━━━━━━━━━━━━━━\u001b[0m\u001b[37m\u001b[0m \u001b[1m7s\u001b[0m 6ms/step - accuracy: 0.9779 - loss: 0.0819 - val_accuracy: 0.9709 - val_loss: 0.1057\n",
            "Epoch 13/15\n",
            "\u001b[1m782/782\u001b[0m \u001b[32m━━━━━━━━━━━━━━━━━━━━\u001b[0m\u001b[37m\u001b[0m \u001b[1m4s\u001b[0m 5ms/step - accuracy: 0.9777 - loss: 0.0821 - val_accuracy: 0.9714 - val_loss: 0.1050\n",
            "Epoch 14/15\n",
            "\u001b[1m782/782\u001b[0m \u001b[32m━━━━━━━━━━━━━━━━━━━━\u001b[0m\u001b[37m\u001b[0m \u001b[1m4s\u001b[0m 5ms/step - accuracy: 0.9797 - loss: 0.0755 - val_accuracy: 0.9721 - val_loss: 0.1021\n",
            "Epoch 15/15\n",
            "\u001b[1m782/782\u001b[0m \u001b[32m━━━━━━━━━━━━━━━━━━━━\u001b[0m\u001b[37m\u001b[0m \u001b[1m5s\u001b[0m 5ms/step - accuracy: 0.9798 - loss: 0.0739 - val_accuracy: 0.9720 - val_loss: 0.1024\n"
          ]
        },
        {
          "output_type": "execute_result",
          "data": {
            "text/plain": [
              "<keras.src.callbacks.history.History at 0x7f0ab40f9240>"
            ]
          },
          "metadata": {},
          "execution_count": 33
        }
      ],
      "source": [
        "model.fit(\n",
        "    X_train,\n",
        "    y_train,\n",
        "    batch_size=64,\n",
        "    epochs=15,\n",
        "    validation_data=(X_val, y_val)\n",
        ")"
      ]
    },
    {
      "cell_type": "markdown",
      "metadata": {
        "id": "aziw9oNx_syc"
      },
      "source": [
        "Veamos el histórico del entrenamiento, para poder representarlo posteriormente."
      ]
    },
    {
      "cell_type": "code",
      "execution_count": 34,
      "metadata": {
        "colab": {
          "base_uri": "https://localhost:8080/"
        },
        "id": "VHzbSoD4_syc",
        "outputId": "8c161596-2b4b-44ff-f7fe-00b1f09738dc"
      },
      "outputs": [
        {
          "output_type": "stream",
          "name": "stdout",
          "text": [
            "{'verbose': 'auto', 'epochs': 15, 'steps': 782}\n",
            "[0, 1, 2, 3, 4, 5, 6, 7, 8, 9, 10, 11, 12, 13, 14]\n"
          ]
        },
        {
          "output_type": "execute_result",
          "data": {
            "text/plain": [
              "{'accuracy': [0.7897400259971619,\n",
              "  0.8971400260925293,\n",
              "  0.9118800163269043,\n",
              "  0.9212999939918518,\n",
              "  0.9281399846076965,\n",
              "  0.9341400265693665,\n",
              "  0.9386199712753296,\n",
              "  0.9429000020027161,\n",
              "  0.9460200071334839,\n",
              "  0.9494799971580505,\n",
              "  0.9522200226783752,\n",
              "  0.9546200037002563,\n",
              "  0.9568799734115601,\n",
              "  0.9590399861335754,\n",
              "  0.9609400033950806],\n",
              " 'loss': [0.8611473441123962,\n",
              "  0.37157973647117615,\n",
              "  0.3098384439945221,\n",
              "  0.27571606636047363,\n",
              "  0.25133562088012695,\n",
              "  0.23127640783786774,\n",
              "  0.21517691016197205,\n",
              "  0.20113147795200348,\n",
              "  0.18860308825969696,\n",
              "  0.1775672882795334,\n",
              "  0.16776365041732788,\n",
              "  0.15859219431877136,\n",
              "  0.15065336227416992,\n",
              "  0.14296767115592957,\n",
              "  0.13629072904586792],\n",
              " 'val_accuracy': [0.8996999859809875,\n",
              "  0.9164000153541565,\n",
              "  0.9257000088691711,\n",
              "  0.932200014591217,\n",
              "  0.9376999735832214,\n",
              "  0.9380999803543091,\n",
              "  0.9451000094413757,\n",
              "  0.949400007724762,\n",
              "  0.9520000219345093,\n",
              "  0.9527999758720398,\n",
              "  0.9556000232696533,\n",
              "  0.9574000239372253,\n",
              "  0.9556999802589417,\n",
              "  0.9598000049591064,\n",
              "  0.9614999890327454],\n",
              " 'val_loss': [0.3887881934642792,\n",
              "  0.302658349275589,\n",
              "  0.264741986989975,\n",
              "  0.24081864953041077,\n",
              "  0.22226744890213013,\n",
              "  0.21493840217590332,\n",
              "  0.1978357434272766,\n",
              "  0.1863960176706314,\n",
              "  0.17744311690330505,\n",
              "  0.1697816550731659,\n",
              "  0.16119398176670074,\n",
              "  0.15397998690605164,\n",
              "  0.15697915852069855,\n",
              "  0.14439871907234192,\n",
              "  0.13816581666469574]}"
            ]
          },
          "metadata": {},
          "execution_count": 34
        }
      ],
      "source": [
        "print(history.params)\n",
        "print(history.epoch)\n",
        "history.history"
      ]
    },
    {
      "cell_type": "code",
      "execution_count": 35,
      "metadata": {
        "colab": {
          "base_uri": "https://localhost:8080/",
          "height": 451
        },
        "id": "2v3CaLig_syc",
        "outputId": "95ac1f5c-7f3b-442a-a758-8ab6e6183610"
      },
      "outputs": [
        {
          "output_type": "display_data",
          "data": {
            "text/plain": [
              "<Figure size 800x500 with 1 Axes>"
            ],
            "image/png": "[encoded data removed]"
          },
          "metadata": {}
        }
      ],
      "source": [
        "import pandas as pd\n",
        "import matplotlib.pyplot as plt\n",
        "\n",
        "# Podemos ver como evoluciona el entrenamiento, en funcion de los epochs\n",
        "# Validacion y training estan muy cerca, no hay overfitting!\n",
        "# Todavia no ha acabado de coverger ya que el loss en validacion sigue bajando,\n",
        "pd.DataFrame(history.history).plot(figsize=(8, 5))\n",
        "plt.grid(True)\n",
        "plt.gca().set_ylim(0, 1) # set the vertical range to [0-1]\n",
        "plt.show()"
      ]
    },
    {
      "cell_type": "markdown",
      "metadata": {
        "id": "dlWNeIsO_syc"
      },
      "source": [
        "Si el modelo no ha ido bien, prueba a cambiar el learning rate, cambia de optimizador y después prueba a cambiar capas, neuronas y funciones de activación.\n",
        "\n",
        "\n",
        "***\n"
      ]
    },
    {
      "cell_type": "markdown",
      "metadata": {
        "id": "HlPmwc3Z_syc"
      },
      "source": [
        "### Evaluación con test"
      ]
    },
    {
      "cell_type": "markdown",
      "metadata": {
        "id": "q1dvQlIi_syc"
      },
      "source": [
        "\n",
        "Ya tenemos el modelo entrenado. Probémoslo con test"
      ]
    },
    {
      "cell_type": "code",
      "execution_count": 36,
      "metadata": {
        "tags": [],
        "colab": {
          "base_uri": "https://localhost:8080/"
        },
        "id": "LMnJ0dIU_syc",
        "outputId": "013bf425-1a2f-4a4f-ba46-0b06562d12d6"
      },
      "outputs": [
        {
          "output_type": "stream",
          "name": "stdout",
          "text": [
            "Evaluate on test data\n",
            "\u001b[1m313/313\u001b[0m \u001b[32m━━━━━━━━━━━━━━━━━━━━\u001b[0m\u001b[37m\u001b[0m \u001b[1m1s\u001b[0m 2ms/step - accuracy: 0.9643 - loss: 0.1172\n",
            "test loss, test acc: [0.10094601660966873, 0.9697999954223633]\n"
          ]
        }
      ],
      "source": [
        "# Obtenemos el \"score\" a partir del conjunto de test\n",
        "# Evaluate the model on the test data using `evaluate`\n",
        "print(\"Evaluate on test data\")\n",
        "\n",
        "# Metodo evaluate para que nos de el error vs las metricas elegidas en la funcion compile\n",
        "results = model.evaluate(X_test, y_test)\n",
        "print(\"test loss, test acc:\", results)"
      ]
    },
    {
      "cell_type": "code",
      "execution_count": 37,
      "metadata": {
        "colab": {
          "base_uri": "https://localhost:8080/",
          "height": 485
        },
        "id": "2r0T5J7a_syc",
        "outputId": "cc2e5fa2-d7ec-4cf2-8096-4cef7ad6aec6"
      },
      "outputs": [
        {
          "output_type": "stream",
          "name": "stderr",
          "text": [
            "<ipython-input-37-093933c06858>:2: MatplotlibDeprecationWarning: The get_cmap function was deprecated in Matplotlib 3.7 and will be removed two minor releases later. Use ``matplotlib.colormaps[name]`` or ``matplotlib.colormaps.get_cmap(obj)`` instead.\n",
            "  plt.imshow(X_test[0].reshape(28,28), cmap=plt.cm.get_cmap('Greys'));\n"
          ]
        },
        {
          "output_type": "display_data",
          "data": {
            "text/plain": [
              "<Figure size 640x480 with 1 Axes>"
            ],
            "image/png": "[encoded data removed]"
          },
          "metadata": {}
        }
      ],
      "source": [
        "# Cogemos el primero\n",
        "plt.imshow(X_test[0].reshape(28,28), cmap=plt.cm.get_cmap('Greys'));"
      ]
    },
    {
      "cell_type": "code",
      "execution_count": 38,
      "metadata": {
        "scrolled": true,
        "tags": [],
        "colab": {
          "base_uri": "https://localhost:8080/"
        },
        "id": "xzcIgONZ_syd",
        "outputId": "a75082c2-a9db-4ffc-d167-bdfdb0f9ee22"
      },
      "outputs": [
        {
          "output_type": "stream",
          "name": "stdout",
          "text": [
            "\u001b[1m1/1\u001b[0m \u001b[32m━━━━━━━━━━━━━━━━━━━━\u001b[0m\u001b[37m\u001b[0m \u001b[1m0s\u001b[0m 77ms/step\n",
            "predictions shape: (1, 10)\n",
            "[0.    0.    0.    0.001 0.    0.    0.    0.998 0.    0.   ]\n",
            "7\n"
          ]
        }
      ],
      "source": [
        "'''\n",
        "Ojo aqui viene slicing xq presupone que le entran varios inputs\n",
        "Nos da las probabilidades de pertenecer a una clase u otra.\n",
        "'''\n",
        "predictions = model.predict(X_test[:1]).round(3)\n",
        "print(\"predictions shape:\", predictions.shape)\n",
        "print(predictions[0])\n",
        "print(np.argmax(predictions[0]))"
      ]
    },
    {
      "cell_type": "code",
      "execution_count": 39,
      "metadata": {
        "colab": {
          "base_uri": "https://localhost:8080/"
        },
        "id": "FmVFBXXx_syd",
        "outputId": "e67ea9b1-5b4c-4153-cf73-78da598fd8e3"
      },
      "outputs": [
        {
          "output_type": "execute_result",
          "data": {
            "text/plain": [
              "0.998"
            ]
          },
          "metadata": {},
          "execution_count": 39
        }
      ],
      "source": [
        "predictions.max()"
      ]
    },
    {
      "cell_type": "code",
      "execution_count": 40,
      "metadata": {
        "colab": {
          "base_uri": "https://localhost:8080/"
        },
        "id": "5o6i2tMK_syd",
        "outputId": "95be1d95-ad16-45fa-d91d-9ae5000c090c"
      },
      "outputs": [
        {
          "output_type": "execute_result",
          "data": {
            "text/plain": [
              "7"
            ]
          },
          "metadata": {},
          "execution_count": 40
        }
      ],
      "source": [
        "predictions.argmax()"
      ]
    },
    {
      "cell_type": "code",
      "execution_count": 41,
      "metadata": {
        "colab": {
          "base_uri": "https://localhost:8080/"
        },
        "id": "7IyCBaR__syd",
        "outputId": "2849a877-6fe7-4a65-fcad-1bb581243687"
      },
      "outputs": [
        {
          "output_type": "stream",
          "name": "stdout",
          "text": [
            "\u001b[1m313/313\u001b[0m \u001b[32m━━━━━━━━━━━━━━━━━━━━\u001b[0m\u001b[37m\u001b[0m \u001b[1m1s\u001b[0m 2ms/step\n"
          ]
        },
        {
          "output_type": "execute_result",
          "data": {
            "text/plain": [
              "[7, 2, 1, 0, 4]"
            ]
          },
          "metadata": {},
          "execution_count": 41
        }
      ],
      "source": [
        "y_pred = [np.argmax(predictions) for predictions in model.predict(X_test)]\n",
        "y_pred[0:5]"
      ]
    },
    {
      "cell_type": "code",
      "execution_count": 42,
      "metadata": {
        "colab": {
          "base_uri": "https://localhost:8080/"
        },
        "id": "vVAqXHX3_syd",
        "outputId": "e3516366-c014-4b6d-ef86-dc2bce4fa74c"
      },
      "outputs": [
        {
          "output_type": "stream",
          "name": "stdout",
          "text": [
            "              precision    recall  f1-score   support\n",
            "\n",
            "         0.0       0.97      0.99      0.98       980\n",
            "         1.0       0.99      0.99      0.99      1135\n",
            "         2.0       0.98      0.97      0.97      1032\n",
            "         3.0       0.96      0.98      0.97      1010\n",
            "         4.0       0.98      0.96      0.97       982\n",
            "         5.0       0.97      0.97      0.97       892\n",
            "         6.0       0.97      0.97      0.97       958\n",
            "         7.0       0.97      0.97      0.97      1028\n",
            "         8.0       0.97      0.95      0.96       974\n",
            "         9.0       0.95      0.96      0.95      1009\n",
            "\n",
            "    accuracy                           0.97     10000\n",
            "   macro avg       0.97      0.97      0.97     10000\n",
            "weighted avg       0.97      0.97      0.97     10000\n",
            "\n"
          ]
        }
      ],
      "source": [
        "from sklearn.metrics import classification_report\n",
        "print(classification_report(y_test, y_pred))"
      ]
    },
    {
      "cell_type": "markdown",
      "metadata": {
        "id": "pcRbf2e__syd"
      },
      "source": [
        "***"
      ]
    },
    {
      "cell_type": "markdown",
      "metadata": {
        "id": "P4jEYUp9_syd"
      },
      "source": [
        "### Problema de regresión\n",
        "Veamos un ejemplo de cómo aplicar una red neuronal de TensorFlow a un problema de regresión."
      ]
    },
    {
      "cell_type": "code",
      "execution_count": 43,
      "metadata": {
        "colab": {
          "base_uri": "https://localhost:8080/",
          "height": 206
        },
        "id": "wH5tCZwj_syd",
        "outputId": "189353db-b4b5-476e-c0af-708a359d7424"
      },
      "outputs": [
        {
          "output_type": "execute_result",
          "data": {
            "text/plain": [
              "   MedInc  HouseAge  AveRooms  AveBedrms  Population  AveOccup  Latitude  \\\n",
              "0  8.3252      41.0  6.984127   1.023810       322.0  2.555556     37.88   \n",
              "1  8.3014      21.0  6.238137   0.971880      2401.0  2.109842     37.86   \n",
              "2  7.2574      52.0  8.288136   1.073446       496.0  2.802260     37.85   \n",
              "3  5.6431      52.0  5.817352   1.073059       558.0  2.547945     37.85   \n",
              "4  3.8462      52.0  6.281853   1.081081       565.0  2.181467     37.85   \n",
              "\n",
              "   Longitude  target  \n",
              "0    -122.23   4.526  \n",
              "1    -122.22   3.585  \n",
              "2    -122.24   3.521  \n",
              "3    -122.25   3.413  \n",
              "4    -122.25   3.422  "
            ],
            "text/html": [
              "\n",
              "  <div id=\"df-cbbf2df9-3120-4d45-a73a-13e7b927f936\" class=\"colab-df-container\">\n",
              "    <div>\n",
              "<style scoped>\n",
              "    .dataframe tbody tr th:only-of-type {\n",
              "        vertical-align: middle;\n",
              "    }\n",
              "\n",
              "    .dataframe tbody tr th {\n",
              "        vertical-align: top;\n",
              "    }\n",
              "\n",
              "    .dataframe thead th {\n",
              "        text-align: right;\n",
              "    }\n",
              "</style>\n",
              "<table border=\"1\" class=\"dataframe\">\n",
              "  <thead>\n",
              "    <tr style=\"text-align: right;\">\n",
              "      <th></th>\n",
              "      <th>MedInc</th>\n",
              "      <th>HouseAge</th>\n",
              "      <th>AveRooms</th>\n",
              "      <th>AveBedrms</th>\n",
              "      <th>Population</th>\n",
              "      <th>AveOccup</th>\n",
              "      <th>Latitude</th>\n",
              "      <th>Longitude</th>\n",
              "      <th>target</th>\n",
              "    </tr>\n",
              "  </thead>\n",
              "  <tbody>\n",
              "    <tr>\n",
              "      <th>0</th>\n",
              "      <td>8.3252</td>\n",
              "      <td>41.0</td>\n",
              "      <td>6.984127</td>\n",
              "      <td>1.023810</td>\n",
              "      <td>322.0</td>\n",
              "      <td>2.555556</td>\n",
              "      <td>37.88</td>\n",
              "      <td>-122.23</td>\n",
              "      <td>4.526</td>\n",
              "    </tr>\n",
              "    <tr>\n",
              "      <th>1</th>\n",
              "      <td>8.3014</td>\n",
              "      <td>21.0</td>\n",
              "      <td>6.238137</td>\n",
              "      <td>0.971880</td>\n",
              "      <td>2401.0</td>\n",
              "      <td>2.109842</td>\n",
              "      <td>37.86</td>\n",
              "      <td>-122.22</td>\n",
              "      <td>3.585</td>\n",
              "    </tr>\n",
              "    <tr>\n",
              "      <th>2</th>\n",
              "      <td>7.2574</td>\n",
              "      <td>52.0</td>\n",
              "      <td>8.288136</td>\n",
              "      <td>1.073446</td>\n",
              "      <td>496.0</td>\n",
              "      <td>2.802260</td>\n",
              "      <td>37.85</td>\n",
              "      <td>-122.24</td>\n",
              "      <td>3.521</td>\n",
              "    </tr>\n",
              "    <tr>\n",
              "      <th>3</th>\n",
              "      <td>5.6431</td>\n",
              "      <td>52.0</td>\n",
              "      <td>5.817352</td>\n",
              "      <td>1.073059</td>\n",
              "      <td>558.0</td>\n",
              "      <td>2.547945</td>\n",
              "      <td>37.85</td>\n",
              "      <td>-122.25</td>\n",
              "      <td>3.413</td>\n",
              "    </tr>\n",
              "    <tr>\n",
              "      <th>4</th>\n",
              "      <td>3.8462</td>\n",
              "      <td>52.0</td>\n",
              "      <td>6.281853</td>\n",
              "      <td>1.081081</td>\n",
              "      <td>565.0</td>\n",
              "      <td>2.181467</td>\n",
              "      <td>37.85</td>\n",
              "      <td>-122.25</td>\n",
              "      <td>3.422</td>\n",
              "    </tr>\n",
              "  </tbody>\n",
              "</table>\n",
              "</div>\n",
              "    <div class=\"colab-df-buttons\">\n",
              "\n",
              "  <div class=\"colab-df-container\">\n",
              "    <button class=\"colab-df-convert\" onclick=\"convertToInteractive('df-cbbf2df9-3120-4d45-a73a-13e7b927f936')\"\n",
              "            title=\"Convert this dataframe to an interactive table.\"\n",
              "            style=\"display:none;\">\n",
              "\n",
              "  <svg xmlns=\"http://www.w3.org/2000/svg\" height=\"24px\" viewBox=\"0 -960 960 960\">\n",
              "    <path d=\"M120-120v-720h720v720H120Zm60-500h600v-160H180v160Zm220 220h160v-160H400v160Zm0 220h160v-160H400v160ZM180-400h160v-160H180v160Zm440 0h160v-160H620v160ZM180-180h160v-160H180v160Zm440 0h160v-160H620v160Z\"/>\n",
              "  </svg>\n",
              "    </button>\n",
              "\n",
              "  <style>\n",
              "    .colab-df-container {\n",
              "      display:flex;\n",
              "      gap: 12px;\n",
              "    }\n",
              "\n",
              "    .colab-df-convert {\n",
              "      background-color: #E8F0FE;\n",
              "      border: none;\n",
              "      border-radius: 50%;\n",
              "      cursor: pointer;\n",
              "      display: none;\n",
              "      fill: #1967D2;\n",
              "      height: 32px;\n",
              "      padding: 0 0 0 0;\n",
              "      width: 32px;\n",
              "    }\n",
              "\n",
              "    .colab-df-convert:hover {\n",
              "      background-color: #E2EBFA;\n",
              "      box-shadow: 0px 1px 2px rgba(60, 64, 67, 0.3), 0px 1px 3px 1px rgba(60, 64, 67, 0.15);\n",
              "      fill: #174EA6;\n",
              "    }\n",
              "\n",
              "    .colab-df-buttons div {\n",
              "      margin-bottom: 4px;\n",
              "    }\n",
              "\n",
              "    [theme=dark] .colab-df-convert {\n",
              "      background-color: #3B4455;\n",
              "      fill: #D2E3FC;\n",
              "    }\n",
              "\n",
              "    [theme=dark] .colab-df-convert:hover {\n",
              "      background-color: #434B5C;\n",
              "      box-shadow: 0px 1px 3px 1px rgba(0, 0, 0, 0.15);\n",
              "      filter: drop-shadow(0px 1px 2px rgba(0, 0, 0, 0.3));\n",
              "      fill: #FFFFFF;\n",
              "    }\n",
              "  </style>\n",
              "\n",
              "    <script>\n",
              "      const buttonEl =\n",
              "        document.querySelector('#df-cbbf2df9-3120-4d45-a73a-13e7b927f936 button.colab-df-convert');\n",
              "      buttonEl.style.display =\n",
              "        google.colab.kernel.accessAllowed ? 'block' : 'none';\n",
              "\n",
              "      async function convertToInteractive(key) {\n",
              "        const element = document.querySelector('#df-cbbf2df9-3120-4d45-a73a-13e7b927f936');\n",
              "        const dataTable =\n",
              "          await google.colab.kernel.invokeFunction('convertToInteractive',\n",
              "                                                    [key], {});\n",
              "        if (!dataTable) return;\n",
              "\n",
              "        const docLinkHtml = 'Like what you see? Visit the ' +\n",
              "          '<a target=\"_blank\" href=https://colab.research.google.com/notebooks/data_table.ipynb>data table notebook</a>'\n",
              "          + ' to learn more about interactive tables.';\n",
              "        element.innerHTML = '';\n",
              "        dataTable['output_type'] = 'display_data';\n",
              "        await google.colab.output.renderOutput(dataTable, element);\n",
              "        const docLink = document.createElement('div');\n",
              "        docLink.innerHTML = docLinkHtml;\n",
              "        element.appendChild(docLink);\n",
              "      }\n",
              "    </script>\n",
              "  </div>\n",
              "\n",
              "\n",
              "<div id=\"df-161fe926-f341-4f69-b1ca-d796277d47fa\">\n",
              "  <button class=\"colab-df-quickchart\" onclick=\"quickchart('df-161fe926-f341-4f69-b1ca-d796277d47fa')\"\n",
              "            title=\"Suggest charts\"\n",
              "            style=\"display:none;\">\n",
              "\n",
              "<svg xmlns=\"http://www.w3.org/2000/svg\" height=\"24px\"viewBox=\"0 0 24 24\"\n",
              "     width=\"24px\">\n",
              "    <g>\n",
              "        <path d=\"M19 3H5c-1.1 0-2 .9-2 2v14c0 1.1.9 2 2 2h14c1.1 0 2-.9 2-2V5c0-1.1-.9-2-2-2zM9 17H7v-7h2v7zm4 0h-2V7h2v10zm4 0h-2v-4h2v4z\"/>\n",
              "    </g>\n",
              "</svg>\n",
              "  </button>\n",
              "\n",
              "<style>\n",
              "  .colab-df-quickchart {\n",
              "      --bg-color: #E8F0FE;\n",
              "      --fill-color: #1967D2;\n",
              "      --hover-bg-color: #E2EBFA;\n",
              "      --hover-fill-color: #174EA6;\n",
              "      --disabled-fill-color: #AAA;\n",
              "      --disabled-bg-color: #DDD;\n",
              "  }\n",
              "\n",
              "  [theme=dark] .colab-df-quickchart {\n",
              "      --bg-color: #3B4455;\n",
              "      --fill-color: #D2E3FC;\n",
              "      --hover-bg-color: #434B5C;\n",
              "      --hover-fill-color: #FFFFFF;\n",
              "      --disabled-bg-color: #3B4455;\n",
              "      --disabled-fill-color: #666;\n",
              "  }\n",
              "\n",
              "  .colab-df-quickchart {\n",
              "    background-color: var(--bg-color);\n",
              "    border: none;\n",
              "    border-radius: 50%;\n",
              "    cursor: pointer;\n",
              "    display: none;\n",
              "    fill: var(--fill-color);\n",
              "    height: 32px;\n",
              "    padding: 0;\n",
              "    width: 32px;\n",
              "  }\n",
              "\n",
              "  .colab-df-quickchart:hover {\n",
              "    background-color: var(--hover-bg-color);\n",
              "    box-shadow: 0 1px 2px rgba(60, 64, 67, 0.3), 0 1px 3px 1px rgba(60, 64, 67, 0.15);\n",
              "    fill: var(--button-hover-fill-color);\n",
              "  }\n",
              "\n",
              "  .colab-df-quickchart-complete:disabled,\n",
              "  .colab-df-quickchart-complete:disabled:hover {\n",
              "    background-color: var(--disabled-bg-color);\n",
              "    fill: var(--disabled-fill-color);\n",
              "    box-shadow: none;\n",
              "  }\n",
              "\n",
              "  .colab-df-spinner {\n",
              "    border: 2px solid var(--fill-color);\n",
              "    border-color: transparent;\n",
              "    border-bottom-color: var(--fill-color);\n",
              "    animation:\n",
              "      spin 1s steps(1) infinite;\n",
              "  }\n",
              "\n",
              "  @keyframes spin {\n",
              "    0% {\n",
              "      border-color: transparent;\n",
              "      border-bottom-color: var(--fill-color);\n",
              "      border-left-color: var(--fill-color);\n",
              "    }\n",
              "    20% {\n",
              "      border-color: transparent;\n",
              "      border-left-color: var(--fill-color);\n",
              "      border-top-color: var(--fill-color);\n",
              "    }\n",
              "    30% {\n",
              "      border-color: transparent;\n",
              "      border-left-color: var(--fill-color);\n",
              "      border-top-color: var(--fill-color);\n",
              "      border-right-color: var(--fill-color);\n",
              "    }\n",
              "    40% {\n",
              "      border-color: transparent;\n",
              "      border-right-color: var(--fill-color);\n",
              "      border-top-color: var(--fill-color);\n",
              "    }\n",
              "    60% {\n",
              "      border-color: transparent;\n",
              "      border-right-color: var(--fill-color);\n",
              "    }\n",
              "    80% {\n",
              "      border-color: transparent;\n",
              "      border-right-color: var(--fill-color);\n",
              "      border-bottom-color: var(--fill-color);\n",
              "    }\n",
              "    90% {\n",
              "      border-color: transparent;\n",
              "      border-bottom-color: var(--fill-color);\n",
              "    }\n",
              "  }\n",
              "</style>\n",
              "\n",
              "  <script>\n",
              "    async function quickchart(key) {\n",
              "      const quickchartButtonEl =\n",
              "        document.querySelector('#' + key + ' button');\n",
              "      quickchartButtonEl.disabled = true;  // To prevent multiple clicks.\n",
              "      quickchartButtonEl.classList.add('colab-df-spinner');\n",
              "      try {\n",
              "        const charts = await google.colab.kernel.invokeFunction(\n",
              "            'suggestCharts', [key], {});\n",
              "      } catch (error) {\n",
              "        console.error('Error during call to suggestCharts:', error);\n",
              "      }\n",
              "      quickchartButtonEl.classList.remove('colab-df-spinner');\n",
              "      quickchartButtonEl.classList.add('colab-df-quickchart-complete');\n",
              "    }\n",
              "    (() => {\n",
              "      let quickchartButtonEl =\n",
              "        document.querySelector('#df-161fe926-f341-4f69-b1ca-d796277d47fa button');\n",
              "      quickchartButtonEl.style.display =\n",
              "        google.colab.kernel.accessAllowed ? 'block' : 'none';\n",
              "    })();\n",
              "  </script>\n",
              "</div>\n",
              "\n",
              "    </div>\n",
              "  </div>\n"
            ],
            "application/vnd.google.colaboratory.intrinsic+json": {
              "type": "dataframe",
              "variable_name": "df",
              "summary": "{\n  \"name\": \"df\",\n  \"rows\": 20640,\n  \"fields\": [\n    {\n      \"column\": \"MedInc\",\n      \"properties\": {\n        \"dtype\": \"number\",\n        \"std\": 1.8998217179452688,\n        \"min\": 0.4999,\n        \"max\": 15.0001,\n        \"num_unique_values\": 12928,\n        \"samples\": [\n          5.0286,\n          2.0433,\n          6.1228\n        ],\n        \"semantic_type\": \"\",\n        \"description\": \"\"\n      }\n    },\n    {\n      \"column\": \"HouseAge\",\n      \"properties\": {\n        \"dtype\": \"number\",\n        \"std\": 12.58555761211165,\n        \"min\": 1.0,\n        \"max\": 52.0,\n        \"num_unique_values\": 52,\n        \"samples\": [\n          35.0,\n          25.0,\n          7.0\n        ],\n        \"semantic_type\": \"\",\n        \"description\": \"\"\n      }\n    },\n    {\n      \"column\": \"AveRooms\",\n      \"properties\": {\n        \"dtype\": \"number\",\n        \"std\": 2.4741731394243187,\n        \"min\": 0.8461538461538461,\n        \"max\": 141.9090909090909,\n        \"num_unique_values\": 19392,\n        \"samples\": [\n          6.111269614835948,\n          5.912820512820513,\n          5.7924528301886795\n        ],\n        \"semantic_type\": \"\",\n        \"description\": \"\"\n      }\n    },\n    {\n      \"column\": \"AveBedrms\",\n      \"properties\": {\n        \"dtype\": \"number\",\n        \"std\": 0.473910856795466,\n        \"min\": 0.3333333333333333,\n        \"max\": 34.06666666666667,\n        \"num_unique_values\": 14233,\n        \"samples\": [\n          0.9906542056074766,\n          1.112099644128114,\n          1.0398230088495575\n        ],\n        \"semantic_type\": \"\",\n        \"description\": \"\"\n      }\n    },\n    {\n      \"column\": \"Population\",\n      \"properties\": {\n        \"dtype\": \"number\",\n        \"std\": 1132.462121765341,\n        \"min\": 3.0,\n        \"max\": 35682.0,\n        \"num_unique_values\": 3888,\n        \"samples\": [\n          4169.0,\n          636.0,\n          3367.0\n        ],\n        \"semantic_type\": \"\",\n        \"description\": \"\"\n      }\n    },\n    {\n      \"column\": \"AveOccup\",\n      \"properties\": {\n        \"dtype\": \"number\",\n        \"std\": 10.386049562213618,\n        \"min\": 0.6923076923076923,\n        \"max\": 1243.3333333333333,\n        \"num_unique_values\": 18841,\n        \"samples\": [\n          2.6939799331103678,\n          3.559375,\n          3.297082228116711\n        ],\n        \"semantic_type\": \"\",\n        \"description\": \"\"\n      }\n    },\n    {\n      \"column\": \"Latitude\",\n      \"properties\": {\n        \"dtype\": \"number\",\n        \"std\": 2.1359523974571153,\n        \"min\": 32.54,\n        \"max\": 41.95,\n        \"num_unique_values\": 862,\n        \"samples\": [\n          33.7,\n          34.41,\n          38.24\n        ],\n        \"semantic_type\": \"\",\n        \"description\": \"\"\n      }\n    },\n    {\n      \"column\": \"Longitude\",\n      \"properties\": {\n        \"dtype\": \"number\",\n        \"std\": 2.0035317235025882,\n        \"min\": -124.35,\n        \"max\": -114.31,\n        \"num_unique_values\": 844,\n        \"samples\": [\n          -118.63,\n          -119.86,\n          -121.26\n        ],\n        \"semantic_type\": \"\",\n        \"description\": \"\"\n      }\n    },\n    {\n      \"column\": \"target\",\n      \"properties\": {\n        \"dtype\": \"number\",\n        \"std\": 1.1539561587441387,\n        \"min\": 0.14999,\n        \"max\": 5.00001,\n        \"num_unique_values\": 3842,\n        \"samples\": [\n          1.943,\n          3.79,\n          2.301\n        ],\n        \"semantic_type\": \"\",\n        \"description\": \"\"\n      }\n    }\n  ]\n}"
            }
          },
          "metadata": {},
          "execution_count": 43
        }
      ],
      "source": [
        "# Cargamos datos\n",
        "from sklearn.datasets import fetch_california_housing\n",
        "from sklearn.model_selection import train_test_split\n",
        "from sklearn.preprocessing import StandardScaler\n",
        "\n",
        "housing = fetch_california_housing()\n",
        "df = pd.DataFrame(housing.data, columns = housing.feature_names)\n",
        "df['target'] = housing['target']\n",
        "df.head()"
      ]
    },
    {
      "cell_type": "markdown",
      "metadata": {
        "id": "lsqJHkTY_sye"
      },
      "source": [
        "Divimos en train, test y validation"
      ]
    },
    {
      "cell_type": "code",
      "execution_count": 44,
      "metadata": {
        "id": "ZrhAPX3b_sye"
      },
      "outputs": [],
      "source": [
        "X_train_full, X_test, y_train_full, y_test = train_test_split(housing.data,\n",
        "                                                              housing.target)\n",
        "\n",
        "X_train, X_valid, y_train, y_valid = train_test_split(X_train_full,\n",
        "                                                      y_train_full)\n",
        "\n",
        "scaler = StandardScaler()\n",
        "X_train = scaler.fit_transform(X_train)\n",
        "X_valid = scaler.transform(X_valid)\n",
        "X_test = scaler.transform(X_test)"
      ]
    },
    {
      "cell_type": "code",
      "execution_count": 45,
      "metadata": {
        "colab": {
          "base_uri": "https://localhost:8080/"
        },
        "id": "oPNca_NF_sye",
        "outputId": "c694dee6-757c-4ea9-ca07-d5dd95afd1de"
      },
      "outputs": [
        {
          "output_type": "execute_result",
          "data": {
            "text/plain": [
              "(11610, 8)"
            ]
          },
          "metadata": {},
          "execution_count": 45
        }
      ],
      "source": [
        "X_train.shape"
      ]
    },
    {
      "cell_type": "markdown",
      "metadata": {
        "id": "YMFjzrfu_sye"
      },
      "source": [
        "Montamos el modelo. Simplemente se compondrá de una hidden layer, a la que le configuramos una capa previa de entrada de 8 neuronas (las features).\n",
        "\n",
        "Se trata de un modelo de regresión, por lo que la capa de salida es una única neurona.\n",
        "     \n",
        "Vamos a configurar una red como esta:  \n",
        "<img src=\"./img/mlp_regresion.png\" alt=\"drawing\" width=\"300\"/>"
      ]
    },
    {
      "cell_type": "code",
      "execution_count": 46,
      "metadata": {
        "colab": {
          "base_uri": "https://localhost:8080/"
        },
        "id": "1LMNWYWU_sye",
        "outputId": "318f2c25-7bf2-4152-9a64-bad371840be5"
      },
      "outputs": [
        {
          "output_type": "stream",
          "name": "stdout",
          "text": [
            "Epoch 1/20\n"
          ]
        },
        {
          "output_type": "stream",
          "name": "stderr",
          "text": [
            "/usr/local/lib/python3.10/dist-packages/keras/src/layers/core/dense.py:87: UserWarning: Do not pass an `input_shape`/`input_dim` argument to a layer. When using Sequential models, prefer using an `Input(shape)` object as the first layer in the model instead.\n",
            "  super().__init__(activity_regularizer=activity_regularizer, **kwargs)\n"
          ]
        },
        {
          "output_type": "stream",
          "name": "stdout",
          "text": [
            "\u001b[1m363/363\u001b[0m \u001b[32m━━━━━━━━━━━━━━━━━━━━\u001b[0m\u001b[37m\u001b[0m \u001b[1m2s\u001b[0m 3ms/step - RootMeanSquaredError: 1.0576 - loss: 1.1604 - val_RootMeanSquaredError: 0.7820 - val_loss: 0.6115\n",
            "Epoch 2/20\n",
            "\u001b[1m363/363\u001b[0m \u001b[32m━━━━━━━━━━━━━━━━━━━━\u001b[0m\u001b[37m\u001b[0m \u001b[1m1s\u001b[0m 3ms/step - RootMeanSquaredError: 0.7647 - loss: 0.5853 - val_RootMeanSquaredError: 0.6978 - val_loss: 0.4869\n",
            "Epoch 3/20\n",
            "\u001b[1m363/363\u001b[0m \u001b[32m━━━━━━━━━━━━━━━━━━━━\u001b[0m\u001b[37m\u001b[0m \u001b[1m1s\u001b[0m 3ms/step - RootMeanSquaredError: 0.6997 - loss: 0.4898 - val_RootMeanSquaredError: 0.6767 - val_loss: 0.4579\n",
            "Epoch 4/20\n",
            "\u001b[1m363/363\u001b[0m \u001b[32m━━━━━━━━━━━━━━━━━━━━\u001b[0m\u001b[37m\u001b[0m \u001b[1m1s\u001b[0m 2ms/step - RootMeanSquaredError: 0.6906 - loss: 0.4770 - val_RootMeanSquaredError: 0.6666 - val_loss: 0.4443\n",
            "Epoch 5/20\n",
            "\u001b[1m363/363\u001b[0m \u001b[32m━━━━━━━━━━━━━━━━━━━━\u001b[0m\u001b[37m\u001b[0m \u001b[1m1s\u001b[0m 1ms/step - RootMeanSquaredError: 0.6726 - loss: 0.4526 - val_RootMeanSquaredError: 0.6599 - val_loss: 0.4355\n",
            "Epoch 6/20\n",
            "\u001b[1m363/363\u001b[0m \u001b[32m━━━━━━━━━━━━━━━━━━━━\u001b[0m\u001b[37m\u001b[0m \u001b[1m1s\u001b[0m 2ms/step - RootMeanSquaredError: 0.6765 - loss: 0.4579 - val_RootMeanSquaredError: 0.6563 - val_loss: 0.4307\n",
            "Epoch 7/20\n",
            "\u001b[1m363/363\u001b[0m \u001b[32m━━━━━━━━━━━━━━━━━━━━\u001b[0m\u001b[37m\u001b[0m \u001b[1m1s\u001b[0m 2ms/step - RootMeanSquaredError: 0.6740 - loss: 0.4545 - val_RootMeanSquaredError: 0.6471 - val_loss: 0.4188\n",
            "Epoch 8/20\n",
            "\u001b[1m363/363\u001b[0m \u001b[32m━━━━━━━━━━━━━━━━━━━━\u001b[0m\u001b[37m\u001b[0m \u001b[1m1s\u001b[0m 2ms/step - RootMeanSquaredError: 0.6716 - loss: 0.4514 - val_RootMeanSquaredError: 0.6442 - val_loss: 0.4150\n",
            "Epoch 9/20\n",
            "\u001b[1m363/363\u001b[0m \u001b[32m━━━━━━━━━━━━━━━━━━━━\u001b[0m\u001b[37m\u001b[0m \u001b[1m1s\u001b[0m 2ms/step - RootMeanSquaredError: 0.6535 - loss: 0.4273 - val_RootMeanSquaredError: 0.6453 - val_loss: 0.4165\n",
            "Epoch 10/20\n",
            "\u001b[1m363/363\u001b[0m \u001b[32m━━━━━━━━━━━━━━━━━━━━\u001b[0m\u001b[37m\u001b[0m \u001b[1m1s\u001b[0m 2ms/step - RootMeanSquaredError: 0.6428 - loss: 0.4133 - val_RootMeanSquaredError: 0.6435 - val_loss: 0.4141\n",
            "Epoch 11/20\n",
            "\u001b[1m363/363\u001b[0m \u001b[32m━━━━━━━━━━━━━━━━━━━━\u001b[0m\u001b[37m\u001b[0m \u001b[1m1s\u001b[0m 2ms/step - RootMeanSquaredError: 0.6452 - loss: 0.4163 - val_RootMeanSquaredError: 0.6394 - val_loss: 0.4089\n",
            "Epoch 12/20\n",
            "\u001b[1m363/363\u001b[0m \u001b[32m━━━━━━━━━━━━━━━━━━━━\u001b[0m\u001b[37m\u001b[0m \u001b[1m1s\u001b[0m 2ms/step - RootMeanSquaredError: 0.6396 - loss: 0.4092 - val_RootMeanSquaredError: 0.6278 - val_loss: 0.3942\n",
            "Epoch 13/20\n",
            "\u001b[1m363/363\u001b[0m \u001b[32m━━━━━━━━━━━━━━━━━━━━\u001b[0m\u001b[37m\u001b[0m \u001b[1m1s\u001b[0m 2ms/step - RootMeanSquaredError: 0.6413 - loss: 0.4114 - val_RootMeanSquaredError: 0.6465 - val_loss: 0.4180\n",
            "Epoch 14/20\n",
            "\u001b[1m363/363\u001b[0m \u001b[32m━━━━━━━━━━━━━━━━━━━━\u001b[0m\u001b[37m\u001b[0m \u001b[1m1s\u001b[0m 2ms/step - RootMeanSquaredError: 0.6319 - loss: 0.3993 - val_RootMeanSquaredError: 0.6285 - val_loss: 0.3950\n",
            "Epoch 15/20\n",
            "\u001b[1m363/363\u001b[0m \u001b[32m━━━━━━━━━━━━━━━━━━━━\u001b[0m\u001b[37m\u001b[0m \u001b[1m1s\u001b[0m 1ms/step - RootMeanSquaredError: 0.6373 - loss: 0.4069 - val_RootMeanSquaredError: 0.6255 - val_loss: 0.3913\n",
            "Epoch 16/20\n",
            "\u001b[1m363/363\u001b[0m \u001b[32m━━━━━━━━━━━━━━━━━━━━\u001b[0m\u001b[37m\u001b[0m \u001b[1m1s\u001b[0m 2ms/step - RootMeanSquaredError: 0.6320 - loss: 0.3996 - val_RootMeanSquaredError: 0.6201 - val_loss: 0.3846\n",
            "Epoch 17/20\n",
            "\u001b[1m363/363\u001b[0m \u001b[32m━━━━━━━━━━━━━━━━━━━━\u001b[0m\u001b[37m\u001b[0m \u001b[1m1s\u001b[0m 2ms/step - RootMeanSquaredError: 0.6389 - loss: 0.4083 - val_RootMeanSquaredError: 0.6186 - val_loss: 0.3826\n",
            "Epoch 18/20\n",
            "\u001b[1m363/363\u001b[0m \u001b[32m━━━━━━━━━━━━━━━━━━━━\u001b[0m\u001b[37m\u001b[0m \u001b[1m1s\u001b[0m 2ms/step - RootMeanSquaredError: 0.6289 - loss: 0.3956 - val_RootMeanSquaredError: 0.6159 - val_loss: 0.3793\n",
            "Epoch 19/20\n",
            "\u001b[1m363/363\u001b[0m \u001b[32m━━━━━━━━━━━━━━━━━━━━\u001b[0m\u001b[37m\u001b[0m \u001b[1m1s\u001b[0m 2ms/step - RootMeanSquaredError: 0.6158 - loss: 0.3793 - val_RootMeanSquaredError: 0.6224 - val_loss: 0.3874\n",
            "Epoch 20/20\n",
            "\u001b[1m363/363\u001b[0m \u001b[32m━━━━━━━━━━━━━━━━━━━━\u001b[0m\u001b[37m\u001b[0m \u001b[1m1s\u001b[0m 2ms/step - RootMeanSquaredError: 0.6074 - loss: 0.3691 - val_RootMeanSquaredError: 0.6226 - val_loss: 0.3876\n",
            "\u001b[1m162/162\u001b[0m \u001b[32m━━━━━━━━━━━━━━━━━━━━\u001b[0m\u001b[37m\u001b[0m \u001b[1m0s\u001b[0m 1ms/step - RootMeanSquaredError: 0.6221 - loss: 0.3878\n",
            "\u001b[1m1/1\u001b[0m \u001b[32m━━━━━━━━━━━━━━━━━━━━\u001b[0m\u001b[37m\u001b[0m \u001b[1m0s\u001b[0m 43ms/step\n"
          ]
        }
      ],
      "source": [
        "model = keras.models.Sequential([\n",
        "\n",
        "    # No hace falta capa de flatten. No hay que aplanar ninguna imagen\n",
        "    keras.layers.Dense(30, activation=\"relu\",\n",
        "                       input_shape=X_train.shape[1:]),\n",
        "    keras.layers.Dense(1) # una unica neurona de salida\n",
        "    # Sin fun de activa. ReLu no iria mal si el output es positivo. Sigmoide si esta acotado.\n",
        "])\n",
        "\n",
        "model.compile(loss=\"mean_squared_error\",\n",
        "              optimizer=\"sgd\",\n",
        "              metrics = [\"RootMeanSquaredError\"])\n",
        "\n",
        "history = model.fit(X_train, y_train, epochs=20,\n",
        "                    validation_data=(X_valid, y_valid))\n",
        "\n",
        "mse_test = model.evaluate(X_test, y_test)\n",
        "X_new = X_test[:3] # pretend these are new instances\n",
        "y_pred = model.predict(X_new)\n"
      ]
    },
    {
      "cell_type": "code",
      "execution_count": 47,
      "metadata": {
        "scrolled": true,
        "colab": {
          "base_uri": "https://localhost:8080/"
        },
        "id": "JkzsxFCy_sye",
        "outputId": "b26bb412-fcf0-46e1-b859-018815004410"
      },
      "outputs": [
        {
          "output_type": "stream",
          "name": "stdout",
          "text": [
            "MSE: [0.40088874101638794, 0.6331577301025391]\n"
          ]
        }
      ],
      "source": [
        "print(\"MSE:\",mse_test)"
      ]
    },
    {
      "cell_type": "code",
      "execution_count": 48,
      "metadata": {
        "scrolled": true,
        "colab": {
          "base_uri": "https://localhost:8080/"
        },
        "id": "ACf-FYNM_sye",
        "outputId": "bd4176e0-30ae-439f-c018-679e88f10846"
      },
      "outputs": [
        {
          "output_type": "execute_result",
          "data": {
            "text/plain": [
              "{'RootMeanSquaredError': [0.9985095262527466,\n",
              "  0.7435294985771179,\n",
              "  0.7046353220939636,\n",
              "  0.6893112659454346,\n",
              "  0.6783370971679688,\n",
              "  0.6731781363487244,\n",
              "  0.6651172041893005,\n",
              "  0.6626834869384766,\n",
              "  0.654972493648529,\n",
              "  0.6490321159362793,\n",
              "  0.6451603174209595,\n",
              "  0.6411260366439819,\n",
              "  0.6382514238357544,\n",
              "  0.6365015506744385,\n",
              "  0.630321204662323,\n",
              "  0.6287522912025452,\n",
              "  0.6305904984474182,\n",
              "  0.622865617275238,\n",
              "  0.6192506551742554,\n",
              "  0.6171187162399292],\n",
              " 'loss': [0.9970212578773499,\n",
              "  0.5528361201286316,\n",
              "  0.49651095271110535,\n",
              "  0.4751499891281128,\n",
              "  0.46014124155044556,\n",
              "  0.4531688094139099,\n",
              "  0.4423809051513672,\n",
              "  0.4391493797302246,\n",
              "  0.4289889633655548,\n",
              "  0.42124268412590027,\n",
              "  0.41623184084892273,\n",
              "  0.41104263067245483,\n",
              "  0.4073648750782013,\n",
              "  0.4051342010498047,\n",
              "  0.39730483293533325,\n",
              "  0.39532941579818726,\n",
              "  0.3976443409919739,\n",
              "  0.38796156644821167,\n",
              "  0.38347139954566956,\n",
              "  0.38083547353744507],\n",
              " 'val_RootMeanSquaredError': [0.781968891620636,\n",
              "  0.6977918148040771,\n",
              "  0.67671799659729,\n",
              "  0.6665913462638855,\n",
              "  0.6599078178405762,\n",
              "  0.656305193901062,\n",
              "  0.6471424102783203,\n",
              "  0.6441952586174011,\n",
              "  0.6453408002853394,\n",
              "  0.6434881091117859,\n",
              "  0.6394493579864502,\n",
              "  0.6278263926506042,\n",
              "  0.6465005874633789,\n",
              "  0.6285120844841003,\n",
              "  0.6255057454109192,\n",
              "  0.6201276183128357,\n",
              "  0.6185831427574158,\n",
              "  0.6158611178398132,\n",
              "  0.62239009141922,\n",
              "  0.6225705742835999],\n",
              " 'val_loss': [0.6114753484725952,\n",
              "  0.48691344261169434,\n",
              "  0.4579472243785858,\n",
              "  0.44434404373168945,\n",
              "  0.4354783594608307,\n",
              "  0.4307364821434021,\n",
              "  0.41879332065582275,\n",
              "  0.41498756408691406,\n",
              "  0.41646477580070496,\n",
              "  0.4140769839286804,\n",
              "  0.40889549255371094,\n",
              "  0.394165962934494,\n",
              "  0.4179629981517792,\n",
              "  0.39502742886543274,\n",
              "  0.3912574052810669,\n",
              "  0.3845582604408264,\n",
              "  0.3826451301574707,\n",
              "  0.37928488850593567,\n",
              "  0.38736939430236816,\n",
              "  0.3875941336154938]}"
            ]
          },
          "metadata": {},
          "execution_count": 48
        }
      ],
      "source": [
        "history.history"
      ]
    },
    {
      "cell_type": "code",
      "execution_count": 49,
      "metadata": {
        "colab": {
          "base_uri": "https://localhost:8080/",
          "height": 451
        },
        "id": "mkIAwZhf_syf",
        "outputId": "b29c81e8-3fa7-4834-8238-c02c1da0cd15"
      },
      "outputs": [
        {
          "output_type": "display_data",
          "data": {
            "text/plain": [
              "<Figure size 800x500 with 1 Axes>"
            ],
            "image/png": "[encoded data removed]"
          },
          "metadata": {}
        }
      ],
      "source": [
        "pd.DataFrame(history.history).plot(figsize=(8, 5))\n",
        "plt.grid(True)\n",
        "plt.gca().set_ylim(0, 1) # set the vertical range to [0-1]\n",
        "plt.show()"
      ]
    },
    {
      "cell_type": "markdown",
      "metadata": {
        "id": "BGeSZYG__syf"
      },
      "source": [
        "***"
      ]
    },
    {
      "cell_type": "code",
      "execution_count": 50,
      "metadata": {
        "colab": {
          "base_uri": "https://localhost:8080/"
        },
        "id": "pOKdy61u_syf",
        "outputId": "34bce4c2-1d8c-461d-8e94-1b20f8c08899"
      },
      "outputs": [
        {
          "output_type": "stream",
          "name": "stdout",
          "text": [
            "Epoch 1/20\n"
          ]
        },
        {
          "output_type": "stream",
          "name": "stderr",
          "text": [
            "/usr/local/lib/python3.10/dist-packages/keras/src/layers/preprocessing/tf_data_layer.py:19: UserWarning: Do not pass an `input_shape`/`input_dim` argument to a layer. When using Sequential models, prefer using an `Input(shape)` object as the first layer in the model instead.\n",
            "  super().__init__(**kwargs)\n"
          ]
        },
        {
          "output_type": "stream",
          "name": "stdout",
          "text": [
            "\u001b[1m363/363\u001b[0m \u001b[32m━━━━━━━━━━━━━━━━━━━━\u001b[0m\u001b[37m\u001b[0m \u001b[1m2s\u001b[0m 2ms/step - MeanAbsoluteError: 0.7801 - RootMeanSquaredError: 1.0992 - loss: 1.2760 - val_MeanAbsoluteError: 0.5656 - val_RootMeanSquaredError: 0.7920 - val_loss: 0.6273\n",
            "Epoch 2/20\n",
            "\u001b[1m363/363\u001b[0m \u001b[32m━━━━━━━━━━━━━━━━━━━━\u001b[0m\u001b[37m\u001b[0m \u001b[1m1s\u001b[0m 2ms/step - MeanAbsoluteError: 0.6072 - RootMeanSquaredError: 1.2986 - loss: 1.8313 - val_MeanAbsoluteError: 0.4847 - val_RootMeanSquaredError: 0.6779 - val_loss: 0.4596\n",
            "Epoch 3/20\n",
            "\u001b[1m363/363\u001b[0m \u001b[32m━━━━━━━━━━━━━━━━━━━━\u001b[0m\u001b[37m\u001b[0m \u001b[1m1s\u001b[0m 2ms/step - MeanAbsoluteError: 0.4801 - RootMeanSquaredError: 0.6743 - loss: 0.4551 - val_MeanAbsoluteError: 0.4719 - val_RootMeanSquaredError: 0.6532 - val_loss: 0.4266\n",
            "Epoch 4/20\n",
            "\u001b[1m363/363\u001b[0m \u001b[32m━━━━━━━━━━━━━━━━━━━━\u001b[0m\u001b[37m\u001b[0m \u001b[1m1s\u001b[0m 2ms/step - MeanAbsoluteError: 0.4630 - RootMeanSquaredError: 0.6513 - loss: 0.4242 - val_MeanAbsoluteError: 0.4561 - val_RootMeanSquaredError: 0.6397 - val_loss: 0.4092\n",
            "Epoch 5/20\n",
            "\u001b[1m363/363\u001b[0m \u001b[32m━━━━━━━━━━━━━━━━━━━━\u001b[0m\u001b[37m\u001b[0m \u001b[1m1s\u001b[0m 2ms/step - MeanAbsoluteError: 0.4518 - RootMeanSquaredError: 0.6323 - loss: 0.4000 - val_MeanAbsoluteError: 0.4706 - val_RootMeanSquaredError: 0.6428 - val_loss: 0.4132\n",
            "Epoch 6/20\n",
            "\u001b[1m363/363\u001b[0m \u001b[32m━━━━━━━━━━━━━━━━━━━━\u001b[0m\u001b[37m\u001b[0m \u001b[1m1s\u001b[0m 2ms/step - MeanAbsoluteError: 0.4428 - RootMeanSquaredError: 0.6196 - loss: 0.3842 - val_MeanAbsoluteError: 0.4440 - val_RootMeanSquaredError: 0.6249 - val_loss: 0.3905\n",
            "Epoch 7/20\n",
            "\u001b[1m363/363\u001b[0m \u001b[32m━━━━━━━━━━━━━━━━━━━━\u001b[0m\u001b[37m\u001b[0m \u001b[1m1s\u001b[0m 2ms/step - MeanAbsoluteError: 0.4420 - RootMeanSquaredError: 0.6180 - loss: 0.3820 - val_MeanAbsoluteError: 0.4392 - val_RootMeanSquaredError: 0.6234 - val_loss: 0.3886\n",
            "Epoch 8/20\n",
            "\u001b[1m363/363\u001b[0m \u001b[32m━━━━━━━━━━━━━━━━━━━━\u001b[0m\u001b[37m\u001b[0m \u001b[1m1s\u001b[0m 3ms/step - MeanAbsoluteError: 0.4383 - RootMeanSquaredError: 0.6211 - loss: 0.3859 - val_MeanAbsoluteError: 0.4332 - val_RootMeanSquaredError: 0.6170 - val_loss: 0.3806\n",
            "Epoch 9/20\n",
            "\u001b[1m363/363\u001b[0m \u001b[32m━━━━━━━━━━━━━━━━━━━━\u001b[0m\u001b[37m\u001b[0m \u001b[1m1s\u001b[0m 3ms/step - MeanAbsoluteError: 0.4371 - RootMeanSquaredError: 0.6180 - loss: 0.3822 - val_MeanAbsoluteError: 0.4326 - val_RootMeanSquaredError: 0.6090 - val_loss: 0.3709\n",
            "Epoch 10/20\n",
            "\u001b[1m363/363\u001b[0m \u001b[32m━━━━━━━━━━━━━━━━━━━━\u001b[0m\u001b[37m\u001b[0m \u001b[1m1s\u001b[0m 3ms/step - MeanAbsoluteError: 0.4369 - RootMeanSquaredError: 0.6185 - loss: 0.3830 - val_MeanAbsoluteError: 0.4275 - val_RootMeanSquaredError: 0.6053 - val_loss: 0.3663\n",
            "Epoch 11/20\n",
            "\u001b[1m363/363\u001b[0m \u001b[32m━━━━━━━━━━━━━━━━━━━━\u001b[0m\u001b[37m\u001b[0m \u001b[1m1s\u001b[0m 2ms/step - MeanAbsoluteError: 0.4206 - RootMeanSquaredError: 0.5970 - loss: 0.3564 - val_MeanAbsoluteError: 0.4337 - val_RootMeanSquaredError: 0.6098 - val_loss: 0.3718\n",
            "Epoch 12/20\n",
            "\u001b[1m363/363\u001b[0m \u001b[32m━━━━━━━━━━━━━━━━━━━━\u001b[0m\u001b[37m\u001b[0m \u001b[1m1s\u001b[0m 2ms/step - MeanAbsoluteError: 0.4469 - RootMeanSquaredError: 0.6455 - loss: 0.4173 - val_MeanAbsoluteError: 0.4295 - val_RootMeanSquaredError: 0.6050 - val_loss: 0.3661\n",
            "Epoch 13/20\n",
            "\u001b[1m363/363\u001b[0m \u001b[32m━━━━━━━━━━━━━━━━━━━━\u001b[0m\u001b[37m\u001b[0m \u001b[1m1s\u001b[0m 2ms/step - MeanAbsoluteError: 0.4232 - RootMeanSquaredError: 0.5980 - loss: 0.3580 - val_MeanAbsoluteError: 0.4261 - val_RootMeanSquaredError: 0.6032 - val_loss: 0.3639\n",
            "Epoch 14/20\n",
            "\u001b[1m363/363\u001b[0m \u001b[32m━━━━━━━━━━━━━━━━━━━━\u001b[0m\u001b[37m\u001b[0m \u001b[1m1s\u001b[0m 2ms/step - MeanAbsoluteError: 0.4282 - RootMeanSquaredError: 0.6074 - loss: 0.3692 - val_MeanAbsoluteError: 0.4244 - val_RootMeanSquaredError: 0.5962 - val_loss: 0.3554\n",
            "Epoch 15/20\n",
            "\u001b[1m363/363\u001b[0m \u001b[32m━━━━━━━━━━━━━━━━━━━━\u001b[0m\u001b[37m\u001b[0m \u001b[1m1s\u001b[0m 2ms/step - MeanAbsoluteError: 0.4312 - RootMeanSquaredError: 0.6102 - loss: 0.3725 - val_MeanAbsoluteError: 0.4247 - val_RootMeanSquaredError: 0.5971 - val_loss: 0.3565\n",
            "Epoch 16/20\n",
            "\u001b[1m363/363\u001b[0m \u001b[32m━━━━━━━━━━━━━━━━━━━━\u001b[0m\u001b[37m\u001b[0m \u001b[1m1s\u001b[0m 2ms/step - MeanAbsoluteError: 0.4226 - RootMeanSquaredError: 0.6054 - loss: 0.3669 - val_MeanAbsoluteError: 0.4162 - val_RootMeanSquaredError: 0.6034 - val_loss: 0.3641\n",
            "Epoch 17/20\n",
            "\u001b[1m363/363\u001b[0m \u001b[32m━━━━━━━━━━━━━━━━━━━━\u001b[0m\u001b[37m\u001b[0m \u001b[1m1s\u001b[0m 2ms/step - MeanAbsoluteError: 0.4149 - RootMeanSquaredError: 0.5927 - loss: 0.3516 - val_MeanAbsoluteError: 0.4170 - val_RootMeanSquaredError: 0.5925 - val_loss: 0.3511\n",
            "Epoch 18/20\n",
            "\u001b[1m363/363\u001b[0m \u001b[32m━━━━━━━━━━━━━━━━━━━━\u001b[0m\u001b[37m\u001b[0m \u001b[1m1s\u001b[0m 2ms/step - MeanAbsoluteError: 0.4204 - RootMeanSquaredError: 0.5995 - loss: 0.3598 - val_MeanAbsoluteError: 0.4128 - val_RootMeanSquaredError: 0.5909 - val_loss: 0.3491\n",
            "Epoch 19/20\n",
            "\u001b[1m363/363\u001b[0m \u001b[32m━━━━━━━━━━━━━━━━━━━━\u001b[0m\u001b[37m\u001b[0m \u001b[1m1s\u001b[0m 2ms/step - MeanAbsoluteError: 0.4147 - RootMeanSquaredError: 0.5893 - loss: 0.3479 - val_MeanAbsoluteError: 0.4126 - val_RootMeanSquaredError: 0.5940 - val_loss: 0.3529\n",
            "Epoch 20/20\n",
            "\u001b[1m363/363\u001b[0m \u001b[32m━━━━━━━━━━━━━━━━━━━━\u001b[0m\u001b[37m\u001b[0m \u001b[1m1s\u001b[0m 2ms/step - MeanAbsoluteError: 0.4128 - RootMeanSquaredError: 0.5874 - loss: 0.3453 - val_MeanAbsoluteError: 0.4088 - val_RootMeanSquaredError: 0.5898 - val_loss: 0.3479\n",
            "\u001b[1m162/162\u001b[0m \u001b[32m━━━━━━━━━━━━━━━━━━━━\u001b[0m\u001b[37m\u001b[0m \u001b[1m0s\u001b[0m 1ms/step - MeanAbsoluteError: 0.4002 - RootMeanSquaredError: 0.5901 - loss: 0.3486\n",
            "\u001b[1m1/1\u001b[0m \u001b[32m━━━━━━━━━━━━━━━━━━━━\u001b[0m\u001b[37m\u001b[0m \u001b[1m0s\u001b[0m 55ms/step\n"
          ]
        }
      ],
      "source": [
        "#Otra forma pure-Keras:\n",
        "X_train_full, X_test, y_train_full, y_test = train_test_split(housing.data,\n",
        "                                                              housing.target)\n",
        "\n",
        "X_train, X_valid, y_train, y_valid = train_test_split(X_train_full,\n",
        "                                                      y_train_full)\n",
        "\n",
        "\n",
        "norm_layer = keras.layers.Normalization(input_shape = X_train.shape[1:]) # Es una Standardization\n",
        "model = keras.models.Sequential([\n",
        "\n",
        "    # No hace falta capa de flatten. No hay que aplanar ninguna imagen\n",
        "    norm_layer,\n",
        "    keras.layers.Dense(30, activation=\"relu\"),\n",
        "    keras.layers.Dense(1) # una unica neurona de salida\n",
        "    # Sin fun de activa. ReLu no iria mal si el output es positivo. Sigmoide si esta acotado.\n",
        "])\n",
        "optimizer = keras.optimizers.SGD()\n",
        "model.compile(loss=\"mean_squared_error\",\n",
        "              optimizer=optimizer, metrics = [\"RootMeanSquaredError\",\"MeanAbsoluteError\"])\n",
        "norm_layer.adapt(X_train)\n",
        "history = model.fit(X_train, y_train, epochs=20,\n",
        "                    validation_data=(X_valid, y_valid))\n",
        "\n",
        "mse_test = model.evaluate(X_test, y_test)\n",
        "X_new = X_test[:3] # pretend these are new instances\n",
        "y_pred = model.predict(X_new)"
      ]
    },
    {
      "cell_type": "code",
      "execution_count": 51,
      "metadata": {
        "colab": {
          "base_uri": "https://localhost:8080/"
        },
        "id": "9cr6v66k_syf",
        "outputId": "2084f3b6-5880-48f3-c563-78d3eaa9f177"
      },
      "outputs": [
        {
          "output_type": "stream",
          "name": "stdout",
          "text": [
            "MSE: [0.3355432450771332, 0.5792609453201294, 0.3982608914375305]\n"
          ]
        }
      ],
      "source": [
        "print(\"MSE:\",mse_test)"
      ]
    },
    {
      "cell_type": "markdown",
      "metadata": {
        "id": "-yA-WPkn_syf"
      },
      "source": [
        "Nueva capa al toolbox:\n",
        "\n",
        "Funcionales:  \n",
        "__Normalize__: keras.layers.Normalization -> Nos hace la standardizacion de la entrada\n",
        "Hay que ejecutar el metodo Adapt antes de llamar al fit del modelo que incluya la capa"
      ]
    },
    {
      "cell_type": "markdown",
      "metadata": {
        "id": "EMnKdmd9_syf"
      },
      "source": [
        "***"
      ]
    },
    {
      "cell_type": "markdown",
      "metadata": {
        "id": "5axNac0V_syf"
      },
      "source": [
        "### Guardar modelo\n",
        "Para guardar el modelo, en el formato de Keras."
      ]
    },
    {
      "cell_type": "code",
      "execution_count": 53,
      "metadata": {
        "id": "KEc5VjtS_syf"
      },
      "outputs": [],
      "source": [
        "model.save(\"my_keras_model.keras\")"
      ]
    },
    {
      "cell_type": "code",
      "execution_count": 54,
      "metadata": {
        "id": "ybksm3ak_syg"
      },
      "outputs": [],
      "source": [
        "# Lo volvemos a cargar\n",
        "model = keras.models.load_model(\"my_keras_model.keras\")"
      ]
    },
    {
      "cell_type": "markdown",
      "metadata": {
        "id": "Hz1C4K0r_syg"
      },
      "source": [
        "Otra forma es emplear el formato TensorFlow. En este caso crea un directorio con varios ficheros que facilita el despliegue en algunas aplicaciones (ojo, que habría que llevar a producción todo el directorio)"
      ]
    },
    {
      "cell_type": "code",
      "execution_count": 56,
      "metadata": {
        "id": "6ce9kdBK_syg"
      },
      "outputs": [],
      "source": [
        "#model.save(\"my_model_tf_format\", save_format= \"tf\")"
      ]
    },
    {
      "cell_type": "code",
      "execution_count": null,
      "metadata": {
        "id": "sxS0X3gQ_syg"
      },
      "outputs": [],
      "source": [
        "# Lo volvemos a cargar\n",
        "#model_k= keras.models.load_model(\"my_model_tf_format\")"
      ]
    },
    {
      "cell_type": "markdown",
      "metadata": {
        "id": "0kofhdl3_syg"
      },
      "source": [
        "### Callbacks\n",
        "Son funciones predefinidas de Keras a aplicar durante el entrenamiento\n",
        "Por ejemplo, `ModelCheckpoint` sirve para que el modelo se vaya guardando tras cada epoch. Así no perdemos el progreso en caso de que decidamos interrumpir el entrenamiento. El callback recibe como argumento el nombre del objeto donde queremos que se guarde el modelo entrenado."
      ]
    },
    {
      "cell_type": "code",
      "execution_count": 58,
      "metadata": {
        "colab": {
          "base_uri": "https://localhost:8080/"
        },
        "id": "GVPubFmc_syg",
        "outputId": "ec6dba8c-93da-4591-c74e-9d7c98bb3cdf"
      },
      "outputs": [
        {
          "output_type": "stream",
          "name": "stdout",
          "text": [
            "Epoch 1/10\n",
            "\u001b[1m363/363\u001b[0m \u001b[32m━━━━━━━━━━━━━━━━━━━━\u001b[0m\u001b[37m\u001b[0m \u001b[1m2s\u001b[0m 3ms/step - MeanAbsoluteError: 0.4062 - RootMeanSquaredError: 0.5751 - loss: 0.3312\n",
            "Epoch 2/10\n",
            "\u001b[1m363/363\u001b[0m \u001b[32m━━━━━━━━━━━━━━━━━━━━\u001b[0m\u001b[37m\u001b[0m \u001b[1m1s\u001b[0m 3ms/step - MeanAbsoluteError: 0.4142 - RootMeanSquaredError: 0.5897 - loss: 0.3479\n",
            "Epoch 3/10\n",
            "\u001b[1m363/363\u001b[0m \u001b[32m━━━━━━━━━━━━━━━━━━━━\u001b[0m\u001b[37m\u001b[0m \u001b[1m1s\u001b[0m 2ms/step - MeanAbsoluteError: 0.4108 - RootMeanSquaredError: 0.5825 - loss: 0.3393\n",
            "Epoch 4/10\n",
            "\u001b[1m363/363\u001b[0m \u001b[32m━━━━━━━━━━━━━━━━━━━━\u001b[0m\u001b[37m\u001b[0m \u001b[1m1s\u001b[0m 2ms/step - MeanAbsoluteError: 0.4132 - RootMeanSquaredError: 0.5870 - loss: 0.3454\n",
            "Epoch 5/10\n",
            "\u001b[1m363/363\u001b[0m \u001b[32m━━━━━━━━━━━━━━━━━━━━\u001b[0m\u001b[37m\u001b[0m \u001b[1m1s\u001b[0m 2ms/step - MeanAbsoluteError: 0.4009 - RootMeanSquaredError: 0.5718 - loss: 0.3270\n",
            "Epoch 6/10\n",
            "\u001b[1m363/363\u001b[0m \u001b[32m━━━━━━━━━━━━━━━━━━━━\u001b[0m\u001b[37m\u001b[0m \u001b[1m1s\u001b[0m 2ms/step - MeanAbsoluteError: 0.4073 - RootMeanSquaredError: 0.5792 - loss: 0.3356\n",
            "Epoch 7/10\n",
            "\u001b[1m363/363\u001b[0m \u001b[32m━━━━━━━━━━━━━━━━━━━━\u001b[0m\u001b[37m\u001b[0m \u001b[1m2s\u001b[0m 4ms/step - MeanAbsoluteError: 0.4092 - RootMeanSquaredError: 0.5836 - loss: 0.3406\n",
            "Epoch 8/10\n",
            "\u001b[1m363/363\u001b[0m \u001b[32m━━━━━━━━━━━━━━━━━━━━\u001b[0m\u001b[37m\u001b[0m \u001b[1m1s\u001b[0m 1ms/step - MeanAbsoluteError: 0.4017 - RootMeanSquaredError: 0.5771 - loss: 0.3334\n",
            "Epoch 9/10\n",
            "\u001b[1m363/363\u001b[0m \u001b[32m━━━━━━━━━━━━━━━━━━━━\u001b[0m\u001b[37m\u001b[0m \u001b[1m1s\u001b[0m 2ms/step - MeanAbsoluteError: 0.4047 - RootMeanSquaredError: 0.5751 - loss: 0.3308\n",
            "Epoch 10/10\n",
            "\u001b[1m363/363\u001b[0m \u001b[32m━━━━━━━━━━━━━━━━━━━━\u001b[0m\u001b[37m\u001b[0m \u001b[1m1s\u001b[0m 2ms/step - MeanAbsoluteError: 0.4057 - RootMeanSquaredError: 0.5791 - loss: 0.3355\n"
          ]
        }
      ],
      "source": [
        "checkpoint_cb = keras.callbacks.ModelCheckpoint(\"callback_model.keras\")\n",
        "history = model.fit(X_train, y_train, epochs=10, callbacks=[checkpoint_cb])\n"
      ]
    },
    {
      "cell_type": "markdown",
      "metadata": {
        "id": "HBACjjeI_syg"
      },
      "source": [
        "### Early Stopping\n",
        "Interrumpe el entrenamiento cuando no ve progreso en el set de validación. Para ello tiene en cuenta un numero de epochs llamado `patience`. Se puede combinar con el callback"
      ]
    },
    {
      "cell_type": "code",
      "execution_count": 59,
      "metadata": {
        "colab": {
          "base_uri": "https://localhost:8080/"
        },
        "id": "biahsX59_syh",
        "outputId": "6e19d1bc-3765-4205-f855-cc8e4bef6d5b"
      },
      "outputs": [
        {
          "output_type": "stream",
          "name": "stdout",
          "text": [
            "Epoch 1/100\n",
            "\u001b[1m363/363\u001b[0m \u001b[32m━━━━━━━━━━━━━━━━━━━━\u001b[0m\u001b[37m\u001b[0m \u001b[1m1s\u001b[0m 2ms/step - MeanAbsoluteError: 0.4007 - RootMeanSquaredError: 0.5698 - loss: 0.3248 - val_MeanAbsoluteError: 0.3974 - val_RootMeanSquaredError: 0.5849 - val_loss: 0.3421\n",
            "Epoch 2/100\n",
            "\u001b[1m363/363\u001b[0m \u001b[32m━━━━━━━━━━━━━━━━━━━━\u001b[0m\u001b[37m\u001b[0m \u001b[1m1s\u001b[0m 2ms/step - MeanAbsoluteError: 0.3959 - RootMeanSquaredError: 0.5649 - loss: 0.3195 - val_MeanAbsoluteError: 0.4029 - val_RootMeanSquaredError: 0.5790 - val_loss: 0.3352\n",
            "Epoch 3/100\n",
            "\u001b[1m363/363\u001b[0m \u001b[32m━━━━━━━━━━━━━━━━━━━━\u001b[0m\u001b[37m\u001b[0m \u001b[1m1s\u001b[0m 2ms/step - MeanAbsoluteError: 0.4009 - RootMeanSquaredError: 0.5720 - loss: 0.3275 - val_MeanAbsoluteError: 0.4046 - val_RootMeanSquaredError: 0.5749 - val_loss: 0.3305\n",
            "Epoch 4/100\n",
            "\u001b[1m363/363\u001b[0m \u001b[32m━━━━━━━━━━━━━━━━━━━━\u001b[0m\u001b[37m\u001b[0m \u001b[1m1s\u001b[0m 2ms/step - MeanAbsoluteError: 0.4019 - RootMeanSquaredError: 0.5732 - loss: 0.3286 - val_MeanAbsoluteError: 0.3998 - val_RootMeanSquaredError: 0.5777 - val_loss: 0.3337\n",
            "Epoch 5/100\n",
            "\u001b[1m363/363\u001b[0m \u001b[32m━━━━━━━━━━━━━━━━━━━━\u001b[0m\u001b[37m\u001b[0m \u001b[1m2s\u001b[0m 3ms/step - MeanAbsoluteError: 0.4303 - RootMeanSquaredError: 0.6343 - loss: 0.4055 - val_MeanAbsoluteError: 0.4151 - val_RootMeanSquaredError: 0.5825 - val_loss: 0.3393\n",
            "Epoch 6/100\n",
            "\u001b[1m363/363\u001b[0m \u001b[32m━━━━━━━━━━━━━━━━━━━━\u001b[0m\u001b[37m\u001b[0m \u001b[1m1s\u001b[0m 3ms/step - MeanAbsoluteError: 0.4041 - RootMeanSquaredError: 0.5715 - loss: 0.3270 - val_MeanAbsoluteError: 0.4111 - val_RootMeanSquaredError: 0.5822 - val_loss: 0.3390\n",
            "Epoch 7/100\n",
            "\u001b[1m363/363\u001b[0m \u001b[32m━━━━━━━━━━━━━━━━━━━━\u001b[0m\u001b[37m\u001b[0m \u001b[1m2s\u001b[0m 2ms/step - MeanAbsoluteError: 0.4058 - RootMeanSquaredError: 0.5733 - loss: 0.3290 - val_MeanAbsoluteError: 0.4035 - val_RootMeanSquaredError: 0.5827 - val_loss: 0.3395\n",
            "Epoch 8/100\n",
            "\u001b[1m363/363\u001b[0m \u001b[32m━━━━━━━━━━━━━━━━━━━━\u001b[0m\u001b[37m\u001b[0m \u001b[1m1s\u001b[0m 2ms/step - MeanAbsoluteError: 0.4037 - RootMeanSquaredError: 0.5750 - loss: 0.3307 - val_MeanAbsoluteError: 0.4030 - val_RootMeanSquaredError: 0.5795 - val_loss: 0.3358\n"
          ]
        }
      ],
      "source": [
        "'''\n",
        "10 esta bien. Lo pondemos a 5 para el ejercicio\n",
        "¿Qué considera como dejar de mejorar? parametros min_delta y baseline\n",
        "'''\n",
        "early_stopping_cb = keras.callbacks.EarlyStopping(patience=5,\n",
        "                                                  restore_best_weights=True)\n",
        "history = model.fit(X_train, y_train, epochs=100,\n",
        "                    validation_data=(X_valid, y_valid),\n",
        "                    callbacks=[checkpoint_cb, early_stopping_cb])"
      ]
    },
    {
      "cell_type": "markdown",
      "metadata": {
        "id": "_ytNKm-L_syh"
      },
      "source": [
        "***"
      ]
    },
    {
      "cell_type": "markdown",
      "metadata": {
        "id": "pkNeX5O-_syh"
      },
      "source": [
        "## Hiperparámetros y tuning"
      ]
    },
    {
      "cell_type": "markdown",
      "metadata": {
        "id": "t1H7A9vr_syh"
      },
      "source": [
        "Guía \"casera\":\n",
        "\n",
        "1- Recetas (adaptada de \"Hands-on...\")  PARA MLPs!!!!    \n",
        "    * Capas:   \n",
        "        - Empezar con una capa oculta e ir añadiendo  \n",
        "        - Si pocas features -> más neuronas  (aumentar la combinación de features) (num_features < 100) [Orientativo]  \n",
        "        - Si muchas features  -> menos neuronas (proyección tipo PCA) (num_features > 1000) [Orientativo] e ir aumentando en capas sucesivas\n",
        "        - O empezar con muchas (doble de tus features e ir \"estrechando los pantalones\")  \n",
        "        - Construcción en prisma o pirámide (para empezar)  \n",
        "        - Inicialización: Empezar con Glorot, cambiar a He  \n",
        "        - Activación: ReLU salvo la última, si muchas capas probar -> SELU o Swish (con el inicializador a LeCunn)   \n",
        "    * Optimizadores:   \n",
        "        - Si muchos datos*features -> Adam o AdamW con sus valores por defecto  \n",
        "        - Si no, SGD con Nesterov activado, y momento a 0.9  \n",
        "        - Learning rate -> 0.001-0.0001 para empezar e ir creciendo (learning-rate warm-up) (Si te atreves, buscar adaptative learning rate y optimizar con esto)  \n",
        "    * Entrenamiento:  \n",
        "        - Epoch, probar con pocas para ver duración -> Epochs altas y Callback de Early Stop activado  \n",
        "        - Batch_Size -> 32, si tienes muchos datos y una GPU a mano puedes subir mucho 64,128,256...\n",
        "    * Regularización (lo veremos):  \n",
        "        - Dropout al 0.25-0.5 (sin SELU)\n",
        "\n",
        "\n",
        "\n",
        "2- Pasos  \n",
        "    - Si overfitting -> Regularizar: Earlystopping, Dropout (lo veremos en los siguientes sprints)  \n",
        "    - Comprobar underfitting -> Aumentar epochs, aumentar batch_size  \n",
        "    - Jugar con optimizador: learning rate (de pequeño a grande), tipo de optimizador   \n",
        "    - Jugar con número de capas (ojo al overfitting) y las funciones de activación y la inicialización de pesos  \n",
        "    - Jugar con el número de neuronas por capa (suele ser piramide o prisma, pero puedes jugar a expandir dimensiones)  \n",
        "    - Combinar los dos anteriores  \n",
        "\n",
        "3- Keras Tuner:\n",
        "    https://keras.io/guides/keras_tuner/"
      ]
    },
    {
      "cell_type": "code",
      "execution_count": null,
      "metadata": {
        "id": "r-C_l4_I_syh"
      },
      "outputs": [],
      "source": []
    }
  ],
  "metadata": {
    "kernelspec": {
      "display_name": "Python 3 (ipykernel)",
      "language": "python",
      "name": "python3"
    },
    "language_info": {
      "codemirror_mode": {
        "name": "ipython",
        "version": 3
      },
      "file_extension": ".py",
      "mimetype": "text/x-python",
      "name": "python",
      "nbconvert_exporter": "python",
      "pygments_lexer": "ipython3",
      "version": "3.12.3"
    },
    "vscode": {
      "interpreter": {
        "hash": "167a7833a0358ac30a26ad970c5914014f41a5348f3dc652232a762d6e3283fa"
      }
    },
    "colab": {
      "provenance": []
    }
  },
  "nbformat": 4,
  "nbformat_minor": 0
}